{
 "cells": [
  {
   "cell_type": "code",
   "execution_count": 1,
   "metadata": {},
   "outputs": [],
   "source": [
    "# Data processing\n",
    "import pandas as pd\n",
    "import numpy as np\n",
    "import datetime as dt\n",
    "\n",
    "# Distance Calculation\n",
    "from math import sin, cos, sqrt, atan2, radians\n",
    "\n",
    "# Geographic data\n",
    "# from mpl_toolkits.basemap import Basemap\n",
    "import shapefile\n",
    "from shapely.geometry import shape, mapping, Point, Polygon, MultiPolygon\n",
    "import geopy\n",
    "from geopy.geocoders import Nominatim\n",
    "from geopy.distance import geodesic as geodesic\n",
    "\n",
    "# Visualization\n",
    "import seaborn as sb\n",
    "import matplotlib.pyplot as plt\n",
    "\n",
    "# Machine learning\n",
    "from sklearn.model_selection import train_test_split\n",
    "from sklearn import linear_model\n",
    "from sklearn.metrics import mean_squared_error, r2_score"
   ]
  },
  {
   "cell_type": "markdown",
   "metadata": {},
   "source": [
    "## Control Variables"
   ]
  },
  {
   "cell_type": "code",
   "execution_count": 2,
   "metadata": {},
   "outputs": [],
   "source": [
    "PATH = \"./all/basic_filter-\"\n",
    "# PATH = \"./all/basic_filter_drop_datetime\"\n",
    "\n",
    "# read whole file use None\n",
    "# ROWS = None \n",
    "ROWS = 500_000\n",
    "\n",
    "HEADERS = ['fare_amount', 'passenger_count', 'new_york_time', 'year', 'weekday', 'hour', 'dist']\n",
    "\n",
    "LEFT_BOTTOM_CITY = 'Tennessee'\n",
    "RIGHT_TOP_CITY = 'Maine'\n",
    "\n",
    "NYC_LONGITUDE = (-74.256436, -73.699733)\n",
    "NYC_LATITUDE = (40.495029, 40.915592)\n",
    "\n",
    "JFK_LONGITUDE = (-73.789185, -73.775291)\n",
    "JFK_LATITUDE = (40.641960, 40.649562)\n",
    "\n",
    "# Taxicab Rate of Fare\n",
    "MILEAGE = 0.4 * 5"
   ]
  },
  {
   "cell_type": "markdown",
   "metadata": {},
   "source": [
    "* location shape"
   ]
  },
  {
   "cell_type": "code",
   "execution_count": 3,
   "metadata": {},
   "outputs": [],
   "source": [
    "nyc_pts = [Point(-73.908981, 40.913639), \\\n",
    "           Point(-73.783747, 40.878814), \\\n",
    "           Point(-73.773364, 40.797500), \\\n",
    "           Point(-73.702160, 40.751333), \\\n",
    "           Point(-73.737836, 40.595225), \\\n",
    "           Point(-73.948097, 40.539782), \\\n",
    "           Point(-74.052133, 40.585874), \\\n",
    "           Point(-74.246933, 40.486105), \\\n",
    "           Point(-74.259249, 40.516316), \\\n",
    "           Point(-74.187834, 40.646473), \\\n",
    "           Point(-74.078001, 40.651541)]\n",
    "manual_nyc = Polygon([[p.x, p.y] for p in nyc_pts])\n",
    "\n",
    "mht_pts = [Point(-73.924685, 40.878953), \\\n",
    "           Point(-74.008196, 40.754634), \\\n",
    "           Point(-74.017773, 40.704438), \\\n",
    "           Point(-73.978666, 40.711991), \\\n",
    "           Point(-73.938492, 40.783763), \\\n",
    "           Point(-73.926129, 40.780638), \\\n",
    "           Point(-73.913754, 40.793896), \\\n",
    "           Point(-73.931268, 40.802745), \\\n",
    "           Point(-73.935373, 40.834736), \\\n",
    "           Point(-73.909554, 40.873484)]\n",
    "manual_manhattan = Polygon([[p.x, p.y] for p in mht_pts])\n",
    "\n",
    "jfk_pts = [Point(-73.796421, 40.649549), \\\n",
    "           Point(-73.794189, 40.641083), \\\n",
    "           Point(-73.780287, 40.634830), \\\n",
    "           Point(-73.771487, 40.645737), \\\n",
    "           Point(-73.784447, 40.651828), \\\n",
    "           Point(-73.791872, 40.651210)]\n",
    "manual_jfk = Polygon([[p.x, p.y] for p in jfk_pts])\n",
    "\n",
    "nwk_pts = [Point(-74.179868, 40.700166), \\\n",
    "           Point(-74.169654, 40.694894), \\\n",
    "           Point(-74.179785, 40.684124), \\\n",
    "           Point(-74.187337, 40.687085)]\n",
    "manual_newark = Polygon([[p.x, p.y] for p in nwk_pts])\n",
    "\n",
    "# city_polys = [manhattan, bronx, staten_island, brooklyn, queens]\n",
    "manual_city_polys = [manual_manhattan, manual_jfk, manual_newark]"
   ]
  },
  {
   "cell_type": "code",
   "execution_count": 4,
   "metadata": {},
   "outputs": [],
   "source": [
    "geolocator = Nominatim(user_agent='city')\n",
    "LEFT_BOTTOM_BOUNDARY = geolocator.geocode(LEFT_BOTTOM_CITY)\n",
    "RIGHT_TOP_BOUNDARY = geolocator.geocode(RIGHT_TOP_CITY)"
   ]
  },
  {
   "cell_type": "markdown",
   "metadata": {},
   "source": [
    "## Auxiliary Functions\n",
    "\n",
    "---\n",
    "\n",
    "### Func for filtering"
   ]
  },
  {
   "cell_type": "code",
   "execution_count": 5,
   "metadata": {},
   "outputs": [],
   "source": [
    "def basic_pearson_corr_result(df, title):\n",
    "    print('{title}, Pearson correlation coef. of:'.format(title=title))\n",
    "    format_rule = '    {0:30}'\n",
    "    # Euclidean distance of the ride and the taxi fare\n",
    "    print(format_rule.format('dist and fare: '), \\\n",
    "          df['dist'].corr(df['fare_amount']))\n",
    "    # time of day and distance traveled\n",
    "    print(format_rule.format('time of day and dist: '), \\\n",
    "          df['hour'].corr(df['dist']))\n",
    "    # time of day and the taxi fare\n",
    "    print(format_rule.format('time of day and fare: '), \\\n",
    "          df['hour'].corr(df['fare_amount']))\n",
    "    \n",
    "def basic_visualization_result(df):\n",
    "    df.plot(kind='scatter', x='dist', y='fare_amount')\n",
    "    df.plot(kind='scatter', x='dist', y='hour')\n",
    "    df.plot(kind='scatter', x='hour', y='fare_amount')\n",
    "    \n",
    "def compare_two_df(df1, title1, df2, title2):\n",
    "    title_rule = '    {}'\n",
    "    data_rule = '        {0:30}'\n",
    "\n",
    "    # Euclidean distance of the ride and the taxi fare\n",
    "    print('Pearson correlation coef. of:')\n",
    "    print(title_rule.format('* dist and fare: '))\n",
    "    print(data_rule.format(title1), \\\n",
    "          df1['dist'].corr(df1['fare_amount']))\n",
    "    print(data_rule.format(title2), \\\n",
    "          df2['dist'].corr(df2['fare_amount']))\n",
    "\n",
    "    print(title_rule.format('* time of day and dist: '))\n",
    "    print(data_rule.format(title1), \\\n",
    "          df1['hour'].corr(df1['dist']))\n",
    "    print(data_rule.format(title2), \\\n",
    "          df2['hour'].corr(df2['dist']))\n",
    "\n",
    "    print(title_rule.format('* time of day and fare: '))\n",
    "    print(data_rule.format(title1), \\\n",
    "          df1['hour'].corr(df1['fare_amount']))\n",
    "    print(data_rule.format(title2), \\\n",
    "          df2['hour'].corr(df2['fare_amount']))\n",
    "\n",
    "#     fig = plt.figure(figsize=(32,32))\n",
    "#     ax1_1 = fig.add_subplot(321)\n",
    "#     ax2_1 = fig.add_subplot(322)\n",
    "#     ax1_2 = fig.add_subplot(323)\n",
    "#     ax2_2 = fig.add_subplot(324)\n",
    "#     ax1_3 = fig.add_subplot(325)\n",
    "#     ax2_3 = fig.add_subplot(326)\n",
    "\n",
    "#     df1.plot(ax=ax1_1, kind='scatter', x='dist', y='fare_amount', title = title1)\n",
    "#     df1.plot(ax=ax1_2, kind='scatter', x='dist', y='hour', title = title1)\n",
    "#     df1.plot(ax=ax1_3, kind='scatter', x='hour', y='fare_amount', title = title1)\n",
    "#     df2.plot(ax=ax2_1, kind='scatter', x='dist', y='fare_amount', title = title2)\n",
    "#     df2.plot(ax=ax2_2, kind='scatter', x='dist', y='hour', title = title2)\n",
    "#     df2.plot(ax=ax2_3, kind='scatter', x='hour', y='fare_amount', title = title2)"
   ]
  },
  {
   "cell_type": "markdown",
   "metadata": {},
   "source": [
    "### Basic Filter"
   ]
  },
  {
   "cell_type": "code",
   "execution_count": 6,
   "metadata": {},
   "outputs": [],
   "source": [
    "def valid_fare(row_data):\n",
    "    \"\"\"\n",
    "    this is a soft cut based on initial chare $2.50 and the improvement surcharge 30-cent\n",
    "    \"\"\"\n",
    "    return row_data['fare_amount'] > 2.8\n",
    "\n",
    "def valid_transportation_region(row_data, left_bottom = LEFT_BOTTOM_BOUNDARY, right_top = RIGHT_TOP_BOUNDARY):\n",
    "    \"\"\"\n",
    "    default region based on the rectangle formed by Tennessee and Maine, \n",
    "    since it takes more than 12 hrs to drive from the boundary to NYC or\n",
    "    from NYC to the boundary\n",
    "    \"\"\"\n",
    "    return (row_data['pickup_longitude'] > left_bottom.longitude) & \\\n",
    "           (row_data['pickup_longitude'] < right_top.longitude) & \\\n",
    "           (row_data['dropoff_longitude'] > left_bottom.longitude) & \\\n",
    "           (row_data['dropoff_longitude'] < right_top.longitude) & \\\n",
    "            (row_data['pickup_latitude'] > left_bottom.latitude) & \\\n",
    "            (row_data['pickup_latitude'] < right_top.latitude) & \\\n",
    "            (row_data['dropoff_latitude'] > left_bottom.latitude) & \\\n",
    "            (row_data['dropoff_latitude'] < right_top.latitude)\n",
    "\n",
    "def dest_in_nyc_helper(row_data, city_poly = manual_nyc):    \n",
    "    return shape(Point(row_data['dropoff_longitude'], row_data['dropoff_latitude'])).within(city_poly)\n",
    "\n",
    "\n",
    "def orig_in_nyc_helper(row_data, city_poly = manual_nyc):\n",
    "    return shape(Point(row_data['pickup_longitude'], row_data['pickup_latitude'])).within(city_poly)\n",
    "\n",
    "def valid_transportation_region_by_shape(row_data, city_poly = manual_nyc):\n",
    "    return orig_in_nyc_helper(row_data, city_poly = city_poly) | \\\n",
    "           dest_in_nyc_helper(row_data, city_poly = city_poly)\n",
    "\n",
    "def valid_travel_location(row_data):\n",
    "    \"\"\"\n",
    "    pickup and dropoff should not be exactly the same or\n",
    "    both outside the NYC \n",
    "    \"\"\"\n",
    "    return (row_data['pickup_longitude'] != row_data['dropoff_longitude']) | \\\n",
    "           (row_data['pickup_latitude'] != row_data['dropoff_latitude']) | \\\n",
    "           (\\\n",
    "            (row_data['pickup_longitude'] >= NYC_LONGITUDE[0]) & \\\n",
    "            (row_data['pickup_longitude'] <= NYC_LONGITUDE[1]) & \\\n",
    "            (row_data['pickup_latitude'] >= NYC_LATITUDE[0]) & \\\n",
    "            (row_data['pickup_latitude'] <= NYC_LATITUDE[1]) \\\n",
    "           ) | (\\\n",
    "            (row_data['dropoff_longitude'] >= NYC_LONGITUDE[0]) & \\\n",
    "            (row_data['dropoff_longitude'] <= NYC_LONGITUDE[1]) & \\\n",
    "            (row_data['dropoff_latitude'] >= NYC_LATITUDE[0]) & \\\n",
    "            (row_data['dropoff_latitude'] <= NYC_LATITUDE[1]) \\\n",
    "           )\n",
    "\n",
    "def valid_passenger_count(row_data):\n",
    "    \"\"\"\n",
    "    by Taxi rule, the maximum capacity is 6\n",
    "    \"\"\"\n",
    "    return (row_data['passenger_count'] > 0) & (row_data['passenger_count'] <= 6)"
   ]
  },
  {
   "cell_type": "markdown",
   "metadata": {},
   "source": [
    "### Advanced Filter"
   ]
  },
  {
   "cell_type": "code",
   "execution_count": 7,
   "metadata": {},
   "outputs": [],
   "source": [
    "def valid_fare_amount_judge_by_travel_distance(row_data):\n",
    "    return valid_fare_amount_with_long_distance(row_data) & \\\n",
    "           valid_fare_amount_with_short_distance(row_data)\n",
    "\n",
    "def valid_fare_amount_with_long_distance(row_data):\n",
    "    return row_data['fare_amount'] >= (row_data['dist'] * MILEAGE + 2.8)\n",
    "\n",
    "def valid_fare_amount_with_short_distance(row_data):\n",
    "    return (row_data['dist'] >= 0.2) | (row_data['fare_amount'] <= 10)\n",
    "\n",
    "def valid_fare_with_upperbound(row_data, amount = 500):\n",
    "    return row_data['fare_amount'] < amount\n",
    "\n",
    "def filter_by_locations(df, orig_dest1, orig_dest2 = None):\n",
    "    if orig_dest2:\n",
    "        return df.loc[((df['orig_loc'] == orig_dest1[0]) & \\\n",
    "                       (df['dest_loc'] == orig_dest1[1])) | \\\n",
    "                      ((df['orig_loc'] == orig_dest2[0]) & \\\n",
    "                       (df['dest_loc'] == orig_dest2[1]))]\n",
    "    else:\n",
    "        return df.loc[(df['orig_loc'] == orig_dest1[0]) & \\\n",
    "                      (df['dest_loc'] == orig_dest1[1])]\n",
    "\n",
    "def filter_traffic_rush_hour(row_data):\n",
    "    return (row_data['weekday'] < 5) & \\\n",
    "           (((row_data['hour'] >= 7) & \\\n",
    "            (row_data['hour'] <= 10)) | \\\n",
    "           ((row_data['hour'] >= 15) & \\\n",
    "            (row_data['hour'] <= 19)))\n",
    "# # flat\n",
    "# manhattan_jfk = filter_by_locations(train_df, (0, 1), (1, 0))\n",
    "\n",
    "# # metered + flat\n",
    "# anywhere_newark = filter_by_locations(train_df, ())\n",
    "# anywhere_newark = basic_filter_df.loc[(basic_filter_df['orig_loc'] != 2) & \\\n",
    "#                                       (basic_filter_df['dest_loc'] == 2)]\n",
    "# # except to airport\n",
    "# anywhere = basic_filter_df.loc[((basic_filter_df['orig_loc'] != 1) & \\\n",
    "#                                 (basic_filter_df['orig_loc'] != 2)) | \\\n",
    "#                                ((basic_filter_df['orig_loc'] != 2) & \\\n",
    "#                                 (basic_filter_df['orig_loc'] != 1))]\n",
    "\n",
    "# # travel in manhattan\n",
    "# manhattan_manhattan = filter_by_locations(train_df, (0, 0))\n",
    "\n",
    "# # weird cases\n",
    "# jfk_jfl = filter_by_locations(train_df, (1, 1))\n",
    "# newark_newark = filter_by_locations(train_df, (2, 2))\n",
    "\n",
    "# format_rule = '{:65}'\n",
    "# print(format_rule.format('Orignal data size:'), basic_filter_df.shape[0])\n",
    "# print(format_rule.format('From anywhere except airports to anywhere except airports:'), anywhere.shape[0])\n",
    "# print(format_rule.format('From manhattan to manhattan:'), manhattan_manhattan.shape[0])\n",
    "# print(format_rule.format('From manhattan to jfk or from jfk to manhattan:'), manhattan_jfk.shape[0])\n",
    "# print(format_rule.format('From anywhere to newark:'), anywhere_newark.shape[0])\n",
    "# print(format_rule.format('From jfk to jfk (weird case):'), jfk_jfk.shape[0])\n",
    "# print(format_rule.format('From newark to newark (weird case):'), newark_newark.shape[0])"
   ]
  },
  {
   "cell_type": "markdown",
   "metadata": {},
   "source": [
    "### Func for insertion"
   ]
  },
  {
   "cell_type": "code",
   "execution_count": 8,
   "metadata": {},
   "outputs": [],
   "source": [
    "def dist(row_data):\n",
    "    R = 6373.0\n",
    "    s_lon = radians(row_data['pickup_longitude'])\n",
    "    s_lat = radians(row_data['pickup_latitude'])\n",
    "    e_lon = radians(row_data['dropoff_longitude'])\n",
    "    e_lat = radians(row_data['dropoff_latitude'])\n",
    "    diff_lon = e_lon - s_lon\n",
    "    diff_lat = e_lat - s_lat\n",
    "\n",
    "    a = sin(diff_lat / 2)**2 + cos(s_lat) * cos(e_lat) * sin(diff_lon / 2)**2\n",
    "    c = 2 * atan2(sqrt(a), sqrt(1 - a))\n",
    "\n",
    "    return R * c * 0.621371\n",
    "\n",
    "def dist_by_geopy(row_data):\n",
    "    s_lon = row_data['pickup_longitude']\n",
    "    s_lat = row_data['pickup_latitude']\n",
    "    e_lon = row_data['dropoff_longitude']\n",
    "    e_lat = row_data['dropoff_latitude']\n",
    "    return geodesic((s_lon, s_lat), (e_lon, e_lat)).miles\n",
    "\n",
    "# clean_data['dist'] = np.vectorize(dist)(clean_data['pickup_longitude'], clean_data['pickup_latitude'], clean_data['dropoff_longitude'], clean_data['dropoff_latitude'])\n",
    "# https://stackoverflow.com/questions/19412462/getting-distance-between-two-points-based-on-latitude-longitude/19412565\n",
    "\n",
    "\n",
    "# def to_jfk(row_data):\n",
    "#     if ((row_data['dropoff_longitude'] >= JFK_LONGITUDE[0]) & \\\n",
    "#        (row_data['dropoff_longitude'] <= JFK_LONGITUDE[1]) & \\\n",
    "#        (row_data['dropoff_latitude'] >= JFK_LATITUDE[0]) & \\\n",
    "#        (row_data['dropoff_latitude'] <= JFK_LATITUDE[1])):\n",
    "#         return 1\n",
    "#     else:\n",
    "#         return 0\n",
    "    \n",
    "# def from_jfk(row_data):\n",
    "#     if ((row_data['pickup_longitude'] >= JFK_LONGITUDE[0]) & \\\n",
    "#         (row_data['pickup_longitude'] <= JFK_LONGITUDE[1]) & \\\n",
    "#         (row_data['pickup_latitude'] >= JFK_LATITUDE[0]) & \\\n",
    "#         (row_data['pickup_latitude'] <= JFK_LATITUDE[1])):\n",
    "#         return 1\n",
    "#     else:\n",
    "#         return 0\n",
    "\n",
    "def airport_jfk_rule(row_data):\n",
    "    if ((row_data['orig_loc'] == 0) & \\\n",
    "        (row_data['dest_loc'] == 1)) | \\\n",
    "       ((row_data['orig_loc'] == 1) & \\\n",
    "        (row_data['dest_loc'] == 0)):\n",
    "        return 1\n",
    "    else:\n",
    "        return 0\n",
    "    \n",
    "def airport_newark_rule(row_data):\n",
    "    if (row_data['orig_loc'] != 2) & \\\n",
    "       (row_data['dest_loc'] == 2):\n",
    "        return 1\n",
    "    else:\n",
    "        return 0\n",
    "\n",
    "def metered_rule(row_data):\n",
    "    if (row_data['jfk'] == 0) & \\\n",
    "       (row_data['newark'] == 0):\n",
    "        return 1\n",
    "    else:\n",
    "        return 0\n",
    "    \n",
    "def is_weekend(row_data):\n",
    "    if row_data['weekday'] > 4:\n",
    "        return 1\n",
    "    else:\n",
    "        return 0\n",
    "\n",
    "def is_night_time(row_data):\n",
    "    if (row_data['hour'] >= 20) | \\\n",
    "       (row_data['hour'] <= 6):\n",
    "        return 1\n",
    "    else:\n",
    "        return 0\n",
    "\n",
    "def weekday_rush_hour(row_data):\n",
    "    if (is_weekend(row_data) == 0) & \\\n",
    "       (row_data['hour'] >= 16) & \\\n",
    "       (row_data['hour'] <= 20):\n",
    "        return 1\n",
    "    else:\n",
    "        return 0    \n",
    "    \n",
    "def remove_outliers_Tukey(usefulData, attr):\n",
    "    thirdQuartile = usefulData.quantile(.75)[attr]\n",
    "    firstQuartile = usefulData.quantile(.25)[attr]\n",
    "    IQR = thirdQuartile - firstQuartile\n",
    "    return usefulData[usefulData[attr].between(firstQuartile - (IQR * 1.5), thirdQuartile + (IQR * 1.5))]"
   ]
  },
  {
   "cell_type": "markdown",
   "metadata": {},
   "source": [
    "### Func for visualization"
   ]
  },
  {
   "cell_type": "code",
   "execution_count": 9,
   "metadata": {},
   "outputs": [],
   "source": [
    "def plot_hist(df, headers, log = False):\n",
    "    ax = []\n",
    "    fig = plt.figure(figsize=(8,8))\n",
    "    for idx, header in enumerate(headers):\n",
    "        loc = 331 + idx\n",
    "        ax = fig.add_subplot(loc)\n",
    "        df[header].hist(ax = ax, bottom = 0)\n",
    "        if log:\n",
    "            header += ' (log)'\n",
    "            ax.set_yscale('log')\n",
    "        ax.set_title(header)\n",
    "    fig.tight_layout()\n",
    "    plt.show()"
   ]
  },
  {
   "cell_type": "markdown",
   "metadata": {},
   "source": [
    "## Adjust or Create Feature"
   ]
  },
  {
   "cell_type": "code",
   "execution_count": 10,
   "metadata": {},
   "outputs": [],
   "source": [
    "def insert_est_or_edt_time(df):\n",
    "    df.insert(df.shape[1],'new_york_time',\n",
    "              df.pickup_datetime.dt.tz_localize('utc').\\\n",
    "              dt.tz_convert('America/New_York'))\n",
    "    \n",
    "def insert_year(df):\n",
    "    df.insert(df.shape[1], 'year', df.new_york_time.dt.year)\n",
    "\n",
    "def insert_weekday(df):\n",
    "    df.insert(df.shape[1], 'weekday', df.new_york_time.dt.weekday)\n",
    "\n",
    "def insert_time_of_day(df):\n",
    "    df.insert(df.shape[1], 'hour', df.new_york_time.dt.hour + df.new_york_time.dt.minute/60)\n",
    "\n",
    "# def insert_dist(df, func = dist):\n",
    "#     euclidean_dist = df.apply(func, axis = 1)\n",
    "#     df.insert(df.shape[1], 'dist', euclidean_dist)\n",
    "    \n",
    "def insert_feature(df, func = None, feature_name = None):\n",
    "    new_data = df.apply(func, axis = 1)\n",
    "    df.insert(df.shape[1], feature_name, new_data)"
   ]
  },
  {
   "cell_type": "markdown",
   "metadata": {},
   "source": [
    "# Deal with Extra Dataset\n",
    "* Borough Boundaries - https://data.cityofnewyork.us/City-Government/Borough-Boundaries/tqmj-j8zm\n",
    "* Airport Polygons - https://data.cityofnewyork.us/City-Government/Airport-Polygon/xfhz-rhsk\n",
    "* Newark GIS: http://data.ci.newark.nj.us/dataset/newark-airport\n",
    "* New York City Hourly Traffic Estimates (2010-2013) - https://databank.illinois.edu/datasets/IDB-4900670"
   ]
  },
  {
   "cell_type": "code",
   "execution_count": 11,
   "metadata": {},
   "outputs": [],
   "source": [
    "city_poly = shapefile.Reader(\"./datasets/BoroughBoundaries/geo_export_da72d38f-f1ec-4fa6-977d-5cf707cef1dd.shp\")\n",
    "airport_poly = shapefile.Reader(\"./datasets/AirportPolygon/geo_export_76666281-a938-4489-b8b4-9871d60cffcd.shp\")\n",
    "newark_airport = shapefile.Reader(\"./datasets/AirportPolygon/NewarkAirport.shp\")"
   ]
  },
  {
   "cell_type": "code",
   "execution_count": 12,
   "metadata": {},
   "outputs": [
    {
     "name": "stdout",
     "output_type": "stream",
     "text": [
      "['Manhattan', 361649.881587, 1.0, 636600558.138]\n",
      "['Bronx', 463464.521828, 2.0, 1186615448.62]\n",
      "['Staten Island', 330432.867999, 5.0, 1623920681.95]\n",
      "['Brooklyn', 739945.437431, 3.0, 1937566944.36]\n",
      "['Queens', 895228.96036, 4.0, 3044771591.17]\n",
      "[0.0, 'La Guardia Airport', 0.0, 'http://www.panynj.gov/CommutingTravel/airports/html/laguardia.html', 17879876.6217]\n",
      "[0.0, 'John F. Kennedy International Airport', 0.0, 'http://www.panynj.gov/CommutingTravel/airports/html/kennedy.html', 97393969.0286]\n"
     ]
    }
   ],
   "source": [
    "def print_poly_name(shapefile):\n",
    "    for shareRecord in shapefile.iterShapeRecords():\n",
    "        print(shareRecord.record)\n",
    "\n",
    "print_poly_name(city_poly)\n",
    "print_poly_name(airport_poly)\n",
    "\n",
    "# a = Point(base_df['pickup_longitude'].iloc[0], base_df['pickup_latitude'].iloc[0])\n",
    "# b = shape(a)"
   ]
  },
  {
   "cell_type": "code",
   "execution_count": 13,
   "metadata": {},
   "outputs": [],
   "source": [
    "manhattan = shape(city_poly.shapeRecords()[0].shape.__geo_interface__)\n",
    "bronx = shape(city_poly.shapeRecords()[1].shape.__geo_interface__)\n",
    "staten_island = shape(city_poly.shapeRecords()[2].shape.__geo_interface__)\n",
    "brooklyn = shape(city_poly.shapeRecords()[3].shape.__geo_interface__)\n",
    "queens = shape(city_poly.shapeRecords()[4].shape.__geo_interface__)\n",
    "laguadia = shape(airport_poly.shapeRecords()[0].shape.__geo_interface__)\n",
    "jfk = shape(airport_poly.shapeRecords()[1].shape.__geo_interface__)"
   ]
  },
  {
   "cell_type": "code",
   "execution_count": 14,
   "metadata": {},
   "outputs": [
    {
     "data": {
      "image/svg+xml": [
       "<svg xmlns=\"http://www.w3.org/2000/svg\" xmlns:xlink=\"http://www.w3.org/1999/xlink\" width=\"100.0\" height=\"100.0\" viewBox=\"-74.28153256 40.463821440000004 0.6016561200000012 0.4721011199999978\" preserveAspectRatio=\"xMinYMin meet\"><g transform=\"matrix(1,0,0,-1,0,81.399744)\"><path fill-rule=\"evenodd\" fill=\"#66cc99\" stroke=\"#555555\" stroke-width=\"0.012033122400000025\" opacity=\"0.6\" d=\"M -73.908981,40.913639 L -73.783747,40.878814 L -73.773364,40.7975 L -73.70216,40.751333 L -73.737836,40.595225 L -73.948097,40.539782 L -74.052133,40.585874 L -74.246933,40.486105 L -74.259249,40.516316 L -74.187834,40.646473 L -74.078001,40.651541 L -73.908981,40.913639 z\" /></g></svg>"
      ],
      "text/plain": [
       "<shapely.geometry.polygon.Polygon at 0x1a12768748>"
      ]
     },
     "execution_count": 14,
     "metadata": {},
     "output_type": "execute_result"
    }
   ],
   "source": [
    "manual_nyc"
   ]
  },
  {
   "cell_type": "code",
   "execution_count": 15,
   "metadata": {},
   "outputs": [
    {
     "data": {
      "image/svg+xml": [
       "<svg xmlns=\"http://www.w3.org/2000/svg\" xmlns:xlink=\"http://www.w3.org/1999/xlink\" width=\"100.0\" height=\"100.0\" viewBox=\"-74.05557447104486 40.67507210137064 0.15676831972456284 0.2118107900110644\" preserveAspectRatio=\"xMinYMin meet\"><g transform=\"matrix(1,0,0,-1,0,81.56195499275233)\"><g><path fill-rule=\"evenodd\" fill=\"#66cc99\" stroke=\"#555555\" stroke-width=\"0.004236215800221288\" opacity=\"0.6\" d=\"M -74.01092841268031,40.68449147254294 L -74.0119325991106,40.68388774915496 L -74.01217596614636,40.684095185628465 L -74.0087859013092,40.68614660229886 L -74.00869559889547,40.68619331801264 L -74.00859803329713,40.686252564084974 L -74.00835446532174,40.68640020025069 L -74.0081641459391,40.686174717161464 L -74.00842516151928,40.68601553244514 L -74.00851294257347,40.685962549086234 L -74.00860072436832,40.6859095646548 L -74.01092841268031,40.68449147254294 z\" /><path fill-rule=\"evenodd\" fill=\"#66cc99\" stroke=\"#555555\" stroke-width=\"0.004236215800221288\" opacity=\"0.6\" d=\"M -74.00500373315074,40.687605985400836 L -74.005629863304,40.686784206043626 L -74.00783293766683,40.68738505516271 L -74.00742012154097,40.6882062904359 L -74.00500373315074,40.687605985400836 z\" /><path fill-rule=\"evenodd\" fill=\"#66cc99\" stroke=\"#555555\" stroke-width=\"0.004236215800221288\" opacity=\"0.6\" d=\"M -74.00382038919733,40.688929644699286 L -74.00459270521772,40.68821522298657 L -74.0067843843981,40.688826879958285 L -74.00636461225267,40.689669668636974 L -74.00382038919733,40.688929644699286 z\" /><path fill-rule=\"evenodd\" fill=\"#66cc99\" stroke=\"#555555\" stroke-width=\"0.004236215800221288\" opacity=\"0.6\" d=\"M -74.00297565436566,40.69042657592068 L -74.0034092162452,40.68961326116011 L -74.00575900670344,40.69023640001618 L -74.00534209624915,40.691091602977856 L -74.00297565436566,40.69042657592068 z\" /><path fill-rule=\"evenodd\" fill=\"#66cc99\" stroke=\"#555555\" stroke-width=\"0.004236215800221288\" opacity=\"0.6\" d=\"M -74.0438776157395,40.69018767637665 L -74.0435059601254,40.68968735963635 L -74.04273533893009,40.6900501914202 L -74.04278433313979,40.690120976691404 L -74.04270428426766,40.690155204644306 L -74.04255372037308,40.6899627592896 L -74.04263929305132,40.689928175911014 L -74.0426938081918,40.689997259107216 L -74.04346752310265,40.68963699010347 L -74.04351637245855,40.68919103374234 L -74.04364078627412,40.68876655957014 L -74.04397458556184,40.68858240705591 L -74.04438521711256,40.68851617840294 L -74.04478399106388,40.6885956601156 L -74.04627538937642,40.68932742589699 L -74.04680284898575,40.68995325626601 L -74.04747651462345,40.68961136999828 L -74.04772962697038,40.6899153184663 L -74.04758571924786,40.68998250682616 L -74.04743126057485,40.68980389047117 L -74.04689205500591,40.69005909832262 L -74.04720029366251,40.69042481562375 L -74.04711050632582,40.690470412850345 L -74.04711581976335,40.690655806118464 L -74.04718321412064,40.69074735504909 L -74.04719492447708,40.69076326384846 L -74.04721324519817,40.69079048733749 L -74.04722568393224,40.69081957248324 L -74.04723192808555,40.69084978837473 L -74.04723182073359,40.69088037568425 L -74.04722536456546,40.69091056574934 L -74.04721272181716,40.690939599889305 L -74.04719421019539,40.69096674847105 L -74.04717029489426,40.690991329245065 L -74.04714091043213,40.69101051667442 L -74.04710814040003,40.69102620865699 L -74.04707269644432,40.691038064418805 L -74.0470353482809,40.6910458264947 L -74.04699690697936,40.69104932631987 L -74.04617166999421,40.6910979814866 L -74.04614707208665,40.69112264603317 L -74.04609551063218,40.691120063384545 L -74.04604442453585,40.69111415232836 L -74.04599418395532,40.69110495569473 L -74.04592592766836,40.6910826035843 L -74.04586027427413,40.69105611658336 L -74.04460616482923,40.69057348495081 L -74.0438776157395,40.69018767637665 z\" /><path fill-rule=\"evenodd\" fill=\"#66cc99\" stroke=\"#555555\" stroke-width=\"0.004236215800221288\" opacity=\"0.6\" d=\"M -74.00132562399813,40.69146310033205 L -74.00069905841879,40.69061185841905 L -74.00479415294552,40.69176162037439 L -74.00440941259976,40.69252880038931 L -74.00196938526081,40.6918432083175 L -74.00132562399813,40.69146310033205 z\" /><path fill-rule=\"evenodd\" fill=\"#66cc99\" stroke=\"#555555\" stroke-width=\"0.004236215800221288\" opacity=\"0.6\" d=\"M -74.0167475609607,40.693343368217604 L -74.01540359141647,40.69306649730911 L -74.01535466389981,40.69322485341719 L -74.01540916665948,40.69323867317309 L -74.01538919768244,40.693298134665504 L -74.01517482202624,40.69325668033544 L -74.01518934209341,40.693198603542974 L -74.01525474322263,40.693206891183905 L -74.01530915985035,40.69304704289156 L -74.01525951035647,40.69303681423187 L -74.01512637564146,40.69317743151594 L -74.01516538149541,40.69319728809479 L -74.01512878294328,40.6932437958344 L -74.01504789862958,40.69319974589793 L -74.01494315033483,40.6931410219308 L -74.01498417980069,40.69310651818308 L -74.01503973872529,40.693138299760825 L -74.01515612159491,40.69301551489164 L -74.01422123084906,40.692822906344055 L -74.01347809785598,40.69213847009175 L -74.0134718371012,40.69213185303025 L -74.01346424244922,40.69212610169859 L -74.01345551724054,40.692121370083655 L -74.01344589508521,40.69211778487031 L -74.0134356336081,40.6921154420495 L -74.0134250075512,40.69211440434818 L -74.01341430141785,40.69211469954985 L -74.01340380185523,40.69211631975078 L -74.01250258675188,40.69230358096552 L -74.01252289827046,40.69233903241471 L -74.01240888894324,40.69249352748012 L -74.01240098903898,40.692505358245086 L -74.01239161593858,40.6925165486116 L -74.01237260144906,40.69253377236951 L -74.0123501258611,40.692548382678716 L -74.0123248006758,40.692559982030154 L -74.01229731492555,40.69256825483509 L -74.0121181561438,40.6926063657175 L -74.01211726765075,40.69260655461443 L -74.01210359185659,40.692609464999336 L -74.0120436917983,40.692601816621526 L -74.0118492003856,40.69251819825303 L -74.01184889307429,40.6925178732815 L -74.01181185647236,40.69247933506435 L -74.0117988123054,40.69244459473697 L -74.01178374501724,40.69240476697536 L -74.01175097032225,40.69231811359292 L -74.01175033086638,40.69231641141222 L -74.01175034252037,40.692316348755774 L -74.01175749051254,40.69226373956153 L -74.01183446726395,40.69215905602311 L -74.01183833471082,40.692153797275 L -74.01183900825667,40.69215287764775 L -74.01186468706692,40.69211796262591 L -74.01190309722561,40.69209058350786 L -74.01191118868006,40.692088844071215 L -74.0119689325871,40.692076474557204 L -74.01213630770874,40.692040643855556 L -74.01213732516261,40.69204041808883 L -74.01214293316178,40.692039219676246 L -74.01214885984388,40.69203794936049 L -74.0122011411637,40.69204490509608 L -74.01232430689473,40.69209118800497 L -74.01235951844643,40.692107770280145 L -74.01239001029667,40.69212308503778 L -74.01240858613579,40.69213424052948 L -74.01242927059356,40.69215423889232 L -74.01246140165127,40.69221262441586 L -74.01253982481629,40.692196973863176 L -74.01255899015494,40.69219315382361 L -74.01282826026981,40.6921394359441 L -74.01322338051702,40.692059190656785 L -74.01324195439302,40.692055416138835 L -74.01324784563474,40.692054217639814 L -74.01328515792896,40.692047369006104 L -74.01330314021662,40.69204264868677 L -74.01331123156663,40.69203949572289 L -74.01331804474167,40.692035902476796 L -74.01332367657388,40.69203182253241 L -74.01332606546663,40.692029579231274 L -74.01332818317647,40.69202720143699 L -74.01333064247271,40.69202372579595 L -74.01333264149608,40.69201997010234 L -74.01333505303282,40.69201209955258 L -74.01333539494105,40.69200820902383 L -74.0133351582511,40.692004462970765 L -74.01333432977003,40.69200092455272 L -74.01333293283658,40.69199763698908 L -74.01332546520501,40.69198520246158 L -74.01331621036003,40.69197249741609 L -74.01327481959483,40.69193534679518 L -74.01326620460148,40.69192718049203 L -74.0132647611729,40.69192580274543 L -74.01325528699358,40.691916817498964 L -74.01318656537065,40.691957929417796 L -74.01291228751684,40.6916907308338 L -74.01292800393824,40.69167610442813 L -74.01285987108902,40.691602990865604 L -74.01289688430353,40.69157689550027 L -74.01289518355665,40.69157528340694 L -74.0128751983543,40.69155633025172 L -74.01286547266726,40.69154710124849 L -74.0128159518588,40.69150012672344 L -74.01275436836775,40.691476467635944 L -74.01265071760992,40.69139945918043 L -74.01262511694804,40.69140873714777 L -74.01260856859405,40.69136410462975 L -74.01258434696003,40.691370649729556 L -74.01258434935939,40.69138336238055 L -74.0125450515152,40.69139159327292 L -74.01255488211353,40.69142300124786 L -74.01253228594769,40.691428986617716 L -74.01251950752713,40.691396831454185 L -74.01203417616576,40.69150307668568 L -74.01201746659373,40.69145820805393 L -74.01259753152567,40.6913343355445 L -74.01252783209975,40.69114633733795 L -74.01218355071057,40.691136215940624 L -74.01218682075256,40.691078024270645 L -74.01182575354973,40.691064816216155 L -74.01182847957557,40.69101135776438 L -74.01219500090085,40.691028847568795 L -74.01219552958612,40.691020573667856 L -74.01221017410677,40.690791696801256 L -74.01208414396388,40.69078062230053 L -74.01208232424358,40.69075988192449 L -74.01205325498766,40.690739143903045 L -74.01199875966581,40.690750212104774 L -74.0119878628144,40.69077233607643 L -74.01197151318823,40.690770955509485 L -74.01198603276984,40.6906976681143 L -74.01199329167372,40.69065065379708 L -74.01198056761248,40.69060640727178 L -74.01204959850618,40.69061054854665 L -74.01205685428488,40.69055385448953 L -74.01209863431934,40.69054693658215 L -74.01210771369429,40.690528959597444 L -74.01212769712372,40.69052895749323 L -74.01214221600917,40.69045428780721 L -74.012231311469,40.69046133077511 L -74.01230688304491,40.68928018293757 L -74.0127032092405,40.68879053981697 L -74.01275451203065,40.68872055623788 L -74.01316926402762,40.688154771203166 L -74.0132648670562,40.688122430096655 L -74.01333019977949,40.68809316604797 L -74.01341858951315,40.68805219831782 L -74.01347243916628,40.68801205796612 L -74.0148809797501,40.687254570488534 L -74.01604730539523,40.68733800629772 L -74.01609789228397,40.68731459228815 L -74.01651927578648,40.68711955114744 L -74.01698146864119,40.68690738448148 L -74.0170498660923,40.686875987918995 L -74.0167158267198,40.686445593709585 L -74.01664664084757,40.68641634723333 L -74.0151516167432,40.68652480204175 L -74.01514831189695,40.686487167249815 L -74.01514714644111,40.686473891516584 L -74.01514391021995,40.68643703404299 L -74.01661971233223,40.68631980484094 L -74.01667351529993,40.68630516855349 L -74.01727291238652,40.685690697681146 L -74.01753032434097,40.68536298793244 L -74.0176225750659,40.685409783720694 L -74.01736132076934,40.685746272026975 L -74.01678113957146,40.686349037919165 L -74.01677346463232,40.686398775449724 L -74.01712099101073,40.68684333763654 L -74.02015656652381,40.68544978729504 L -74.02054367293081,40.68527206792596 L -74.02020686710532,40.684833833077064 L -74.02016278941753,40.684833017410845 L -74.01945957389425,40.68515495792241 L -74.01939842391928,40.685087404047195 L -74.02095255010296,40.684384431647196 L -74.021008778993,40.684453539084316 L -74.02028899992278,40.68478444841855 L -74.02027819846491,40.68480913517446 L -74.02061267235811,40.68524039019801 L -74.02106226329637,40.68504102470039 L -74.02183909525702,40.684696540546895 L -74.02224078898536,40.684518408101894 L -74.02233552903563,40.68447639360419 L -74.02239732580516,40.6844489893264 L -74.02259359581042,40.684359695949944 L -74.02213250186881,40.68376767238523 L -74.02305574749595,40.68291694544512 L -74.02319462834663,40.68300049806215 L -74.0223682355767,40.68377991679397 L -74.0227589902996,40.68428444833225 L -74.02301704456366,40.68416704426909 L -74.02313509710332,40.6841241566527 L -74.0232567831563,40.68408541432082 L -74.02339776854572,40.68404096982166 L -74.02341479373861,40.68403560313049 L -74.02354160370125,40.684002983592535 L -74.02378267336752,40.68396891586903 L -74.0239473535509,40.68394921598662 L -74.02421537269676,40.68394424346433 L -74.02443173023707,40.68395403059447 L -74.02464809241233,40.68397856661304 L -74.02484185637276,40.684012941142406 L -74.02499306057527,40.6840521125356 L -74.02521646935898,40.68409398087133 L -74.02546836768583,40.68415292257828 L -74.02567183758212,40.68423645620504 L -74.02588501823529,40.68437652684004 L -74.02604653184775,40.68451415115493 L -74.02612578192957,40.68459351143976 L -74.02623238290333,40.68470026105379 L -74.02633404242411,40.68480169772416 L -74.0264406662461,40.68495162451993 L -74.02651822912097,40.68510893314847 L -74.02657640943092,40.68524166303809 L -74.02660875559283,40.685376858009896 L -74.02662819083865,40.68552680474964 L -74.0266217834019,40.6856546341114 L -74.02660890959801,40.68576279806949 L -74.02657021545328,40.68590538468134 L -74.02649600144055,40.68605535251641 L -74.02642577243203,40.6861753398296 L -74.02637621613823,40.686231318800054 L -74.02631270370256,40.68629511626804 L -74.02622025384308,40.68638456809351 L -74.02617488097594,40.686429072229025 L -74.02606584987552,40.68653056622786 L -74.0257838705966,40.68679470641727 L -74.02557971866322,40.686997456599926 L -74.02538699246998,40.68716690428223 L -74.02518794246524,40.68735622748172 L -74.0251542677043,40.6873874944769 L -74.02498452676967,40.687545099961 L -74.02495996488949,40.6875682036494 L -74.02474903514573,40.687787029412206 L -74.02456390211564,40.68796465845378 L -74.02445685221294,40.68806055942191 L -74.02433922808906,40.688165810058095 L -74.0243230857736,40.68818025702196 L -74.02419511436455,40.6882947655899 L -74.02411997621054,40.68836824351022 L -74.02397192277753,40.688513025404326 L -74.023969248803,40.688515550098025 L -74.02381144169387,40.688664515802714 L -74.02367436482537,40.68879230975993 L -74.02353644452158,40.68891577045839 L -74.02339034096943,40.68904924761339 L -74.02313394750364,40.68929545426461 L -74.02268465939613,40.689717470853836 L -74.02256537904927,40.68982575842603 L -74.02243973951957,40.68993981943941 L -74.02225114057582,40.690122218578125 L -74.02189942193758,40.69044347236058 L -74.02149639768453,40.69082705033478 L -74.02147636060462,40.690846622621194 L -74.02121292061632,40.69110396565088 L -74.02097996202463,40.69132439086214 L -74.02071969701758,40.69158098499546 L -74.02071619151157,40.69158423214052 L -74.02046388462902,40.691817991104024 L -74.02020527434277,40.692033923854225 L -74.01985623976927,40.692906232798876 L -74.01979706616885,40.69304156274447 L -74.01979424538106,40.69304594507619 L -74.01976764190428,40.693080557290294 L -74.01973308197167,40.69311410749337 L -74.01969271829377,40.69314366580538 L -74.01964733810604,40.69316865572879 L -74.01959782648782,40.69318858986612 L -74.01954514909961,40.69320307942633 L -74.01952625786079,40.693206790851896 L -74.0194356527521,40.69322117749475 L -74.01934366784617,40.69322898888296 L -74.01925112489695,40.69323015523292 L -74.01915885064417,40.69322466612493 L -74.01901238427722,40.693219829042164 L -74.01886580645925,40.69321771373425 L -74.0188507475579,40.69321765036357 L -74.01879710616208,40.6932176591374 L -74.01819162214262,40.693254800933346 L -74.0179603944228,40.693268983766615 L -74.01735898628607,40.693305870259444 L -74.0167475609607,40.693343368217604 z\" /><path fill-rule=\"evenodd\" fill=\"#66cc99\" stroke=\"#555555\" stroke-width=\"0.004236215800221288\" opacity=\"0.6\" d=\"M -74.00154172920259,40.69278596325271 L -74.00174362045013,40.69240674970547 L -74.00400795971098,40.69320819963236 L -74.00374561906433,40.69361620298108 L -74.00345348490625,40.69405163067133 L -74.00127014902641,40.693296061673735 L -74.00154172920259,40.69278596325271 z\" /><path fill-rule=\"evenodd\" fill=\"#66cc99\" stroke=\"#555555\" stroke-width=\"0.004236215800221288\" opacity=\"0.6\" d=\"M -74.00078295275675,40.6942865156646 L -74.00095868416989,40.6940690835822 L -74.00301393829082,40.69477784447914 L -74.00263556890172,40.69536203703756 L -74.00239802583795,40.69571165486448 L -74.00026872377788,40.694965802577904 L -74.00070104745139,40.694387856342225 L -74.00078295275675,40.6942865156646 z\" /><path fill-rule=\"evenodd\" fill=\"#66cc99\" stroke=\"#555555\" stroke-width=\"0.004236215800221288\" opacity=\"0.6\" d=\"M -74.00043147340433,40.69705246617852 L -73.9995933351521,40.696782261474375 L -73.99953135202674,40.696876612619384 L -73.99958770006693,40.696898057168134 L -73.99955389083671,40.69694523239681 L -73.99940738376925,40.69688518944602 L -73.99950317795836,40.69672650719374 L -73.99947406820606,40.696704134461974 L -73.99952373903514,40.69657482604084 L -74.00048933405957,40.696926195088054 L -74.00043147340433,40.69705246617852 z\" /><path fill-rule=\"evenodd\" fill=\"#66cc99\" stroke=\"#555555\" stroke-width=\"0.004236215800221288\" opacity=\"0.6\" d=\"M -73.99837760685772,40.69806329614608 L -73.99887117097656,40.69715757729581 L -74.00104903057525,40.69790823669739 L -74.00048768562517,40.69875777763452 L -73.99837760685772,40.69806329614608 z\" /><path fill-rule=\"evenodd\" fill=\"#66cc99\" stroke=\"#555555\" stroke-width=\"0.004236215800221288\" opacity=\"0.6\" d=\"M -73.99799957540132,40.69879768554428 L -73.99802102725111,40.69876173657377 L -74.0000184043362,40.69946604807362 L -73.99947463838926,40.70032277801832 L -73.9974989831,40.699638869321234 L -73.99799957540132,40.69879768554428 z\" /><path fill-rule=\"evenodd\" fill=\"#66cc99\" stroke=\"#555555\" stroke-width=\"0.004236215800221288\" opacity=\"0.6\" d=\"M -74.03995040788514,40.70089063064273 L -74.03945262913307,40.70053315982373 L -74.03938278118848,40.70057769456128 L -74.03771124796636,40.699344040347725 L -74.03809786214774,40.6990395052442 L -74.03822954445391,40.6983685916977 L -74.03900043878028,40.69836989039101 L -74.0393403767015,40.69811551483597 L -74.03993272132956,40.69854442229107 L -74.0402555501724,40.69880482330755 L -74.04124261832222,40.699536741434855 L -74.04174768868015,40.699147863566644 L -74.03991248872623,40.6977020403984 L -74.04166051914841,40.69645297163976 L -74.04367371230778,40.69802040433007 L -74.04363686211164,40.69804823219569 L -74.04365651062231,40.69806409108789 L -74.04270395810723,40.69880060058667 L -74.04296505227546,40.69899936232474 L -74.0410986123707,40.700492943389634 L -74.04080080646241,40.70026854992651 L -74.04031250907492,40.70062574919245 L -74.0403910438396,40.70068737620885 L -74.04041179161338,40.70067848411861 L -74.04053637732214,40.70078209477503 L -74.04048062485343,40.70082061467004 L -74.04034955330646,40.70071601865461 L -74.04036511101013,40.700704166845554 L -74.04028808737911,40.70064361346736 L -74.03995040788514,40.70089063064273 z\" /><path fill-rule=\"evenodd\" fill=\"#66cc99\" stroke=\"#555555\" stroke-width=\"0.004236215800221288\" opacity=\"0.6\" d=\"M -73.99538448382651,40.702643010065835 L -73.99669768997464,40.70087697691705 L -73.9968218908586,40.70099078282786 L -73.99752763273973,40.701228816958704 L -73.9977601103362,40.701359414876706 L -73.99780162786313,40.70131939476623 L -73.99813879899455,40.701518788248364 L -73.99619227228733,40.70337714086413 L -73.99588611884144,40.70326007708496 L -73.99513826840686,40.70297411472284 L -73.99526015117384,40.70281020903615 L -73.99538448382651,40.702643010065835 z\" /><path fill-rule=\"evenodd\" fill=\"#66cc99\" stroke=\"#555555\" stroke-width=\"0.004236215800221288\" opacity=\"0.6\" d=\"M -73.99502134649177,40.703147869246735 L -73.99504592748325,40.70313183979956 L -73.99544564312069,40.70327530547177 L -73.99529346700933,40.703554065897976 L -73.99498203312825,40.70338171553518 L -73.99480038274869,40.70329195814199 L -73.99502134649177,40.703147869246735 z\" /><path fill-rule=\"evenodd\" fill=\"#66cc99\" stroke=\"#555555\" stroke-width=\"0.004236215800221288\" opacity=\"0.6\" d=\"M -73.99476934191567,40.703952894953545 L -73.99488239902435,40.703788025837405 L -73.99491043069519,40.703797315958745 L -73.99492964609252,40.70377131508378 L -73.99502925916447,40.703808200868004 L -73.99488204726408,40.70400865389516 L -73.99483637435264,40.703986339081 L -73.99476934191567,40.703952894953545 z\" /><path fill-rule=\"evenodd\" fill=\"#66cc99\" stroke=\"#555555\" stroke-width=\"0.004236215800221288\" opacity=\"0.6\" d=\"M -73.98237340505965,40.70554335043752 L -73.98245898641551,40.70554241497239 L -73.98242287179863,40.70582205595455 L -73.9810239061828,40.705898913893535 L -73.98101733900947,40.70579750646775 L -73.98230205183879,40.70573697939965 L -73.98232944150563,40.705552033663906 L -73.98237340505965,40.70554335043752 z\" /><path fill-rule=\"evenodd\" fill=\"#66cc99\" stroke=\"#555555\" stroke-width=\"0.004236215800221288\" opacity=\"0.6\" d=\"M -73.96715101172607,40.718316125932425 L -73.96656241897496,40.71801586680623 L -73.96659690332694,40.71796798088764 L -73.96718343223795,40.71827592102756 L -73.96719282626931,40.7182651445246 L -73.96730741474416,40.718313066681574 L -73.9672301330496,40.718414668843025 L -73.96718243631241,40.71848305630157 L -73.96706867689133,40.71843903629386 L -73.96709096267308,40.71840576680828 L -73.96715101172607,40.718316125932425 z\" /><path fill-rule=\"evenodd\" fill=\"#66cc99\" stroke=\"#555555\" stroke-width=\"0.004236215800221288\" opacity=\"0.6\" d=\"M -73.96636503305282,40.719056330784156 L -73.96585847175177,40.718773228346464 L -73.96587893532671,40.7187550776864 L -73.96634259840091,40.71901874243014 L -73.96637067848117,40.718989708350875 L -73.96662993360907,40.71913242786089 L -73.96654344630548,40.71922294246947 L -73.96631897740721,40.719108420008304 L -73.96636503305282,40.719056330784156 z\" /><path fill-rule=\"evenodd\" fill=\"#66cc99\" stroke=\"#555555\" stroke-width=\"0.004236215800221288\" opacity=\"0.6\" d=\"M -73.9643509064015,40.72040403237191 L -73.96439765915947,40.7202967350292 L -73.96468283641279,40.72047045735994 L -73.96459313964766,40.72054484421153 L -73.9643509064015,40.72040403237191 z\" /><path fill-rule=\"evenodd\" fill=\"#66cc99\" stroke=\"#555555\" stroke-width=\"0.004236215800221288\" opacity=\"0.6\" d=\"M -73.96399793724463,40.720938438072736 L -73.96408769147868,40.72075552952225 L -73.96504914549368,40.72135734425177 L -73.9648942203191,40.72147512088203 L -73.96399793724463,40.720938438072736 z\" /><path fill-rule=\"evenodd\" fill=\"#66cc99\" stroke=\"#555555\" stroke-width=\"0.004236215800221288\" opacity=\"0.6\" d=\"M -73.96236596889439,40.72420906161423 L -73.96200744799015,40.723991901607775 L -73.96207271943885,40.72388030040294 L -73.96246790011057,40.72413157960126 L -73.96247195112905,40.72417498927349 L -73.96244340911427,40.724199785481346 L -73.96239043044633,40.72419356718676 L -73.96236596889439,40.72420906161423 z\" /><path fill-rule=\"evenodd\" fill=\"#66cc99\" stroke=\"#555555\" stroke-width=\"0.004236215800221288\" opacity=\"0.6\" d=\"M -73.96134684718106,40.73015247271535 L -73.96132854988036,40.73006423249597 L -73.96140472395216,40.73006105276658 L -73.96140171917759,40.730111026113384 L -73.96168670659041,40.73008186930368 L -73.96191028747243,40.72996258061538 L -73.96188586360671,40.72995256566791 L -73.96195920452797,40.729859668448015 L -73.96202496266523,40.72988542223775 L -73.96197794944985,40.72994401874976 L -73.96221474459279,40.729916935776714 L -73.96241964278757,40.72980120811407 L -73.96248546579243,40.729711167615015 L -73.96254933952301,40.729744068349106 L -73.9624778771383,40.72983696605559 L -73.96245157418112,40.72982838012003 L -73.96226735368352,40.72993124823946 L -73.96225228876577,40.72998556698192 L -73.9621946350352,40.729975973755586 L -73.96220156915895,40.7299540992371 L -73.96194409928032,40.72998689437473 L -73.9617072421664,40.730121195294785 L -73.96134684718106,40.73015247271535 z\" /><path fill-rule=\"evenodd\" fill=\"#66cc99\" stroke=\"#555555\" stroke-width=\"0.004236215800221288\" opacity=\"0.6\" d=\"M -73.96197039369788,40.73157711168541 L -73.96197040783916,40.731552333172594 L -73.9617128941469,40.73156611384487 L -73.96169848245741,40.73153234139478 L -73.96167446772442,40.73148125405532 L -73.96199050226586,40.731466566211 L -73.96199800352301,40.731493253154184 L -73.96290006803072,40.73144780217998 L -73.96290258567535,40.73142874114947 L -73.96320076537545,40.731417401127274 L -73.96319829672976,40.73135068741031 L -73.96328098663882,40.731343088836425 L -73.96328097403453,40.73136596257351 L -73.96355911991348,40.73133555339157 L -73.96355164152945,40.73126312024704 L -73.9636593923288,40.731249811482066 L -73.96369938139036,40.731436620059796 L -73.96358410965732,40.73145755028224 L -73.96356661657303,40.731371771152276 L -73.96328095722922,40.73139646010772 L -73.96329343161838,40.73149557932848 L -73.9629075478491,40.731516423466445 L -73.96291505478271,40.73153358060342 L -73.96197039369788,40.73157711168541 z\" /><path fill-rule=\"evenodd\" fill=\"#66cc99\" stroke=\"#555555\" stroke-width=\"0.004236215800221288\" opacity=\"0.6\" d=\"M -73.96230391870556,40.7331136609822 L -73.96226340423296,40.7329155516235 L -73.96236043096485,40.73291330082977 L -73.96285045581645,40.73287557416924 L -73.96332992178779,40.73283805163724 L -73.96334075230226,40.73284587656393 L -73.96352590820298,40.73283580335502 L -73.9635354646893,40.73285896993881 L -73.96356164299127,40.732857926996445 L -73.96356976262945,40.73290341284864 L -73.96357846233342,40.73290422810417 L -73.96358173415437,40.7329213761485 L -73.96359229359368,40.7329211692417 L -73.96359022934655,40.73293091461192 L -73.9636811054038,40.73293004419454 L -73.9636665073152,40.73280802868323 L -73.96403778642195,40.73276995353883 L -73.96405605413275,40.73277369106315 L -73.9640717037467,40.73279135408015 L -73.9640932101716,40.73293196144234 L -73.964083712379,40.73294579633849 L -73.96406507805823,40.73295776213767 L -73.96372429971946,40.73299052365903 L -73.96365485419992,40.732997266984995 L -73.96365611652263,40.73300217121968 L -73.96357983122218,40.73300707675342 L -73.96357714332609,40.73300424922834 L -73.96354131486406,40.73300586004971 L -73.96353984846807,40.733009680865315 L -73.9627548646985,40.73307663827325 L -73.96235726653528,40.73311009772151 L -73.9623563368034,40.7331080102047 L -73.96230391870556,40.7331136609822 z\" /><path fill-rule=\"evenodd\" fill=\"#66cc99\" stroke=\"#555555\" stroke-width=\"0.004236215800221288\" opacity=\"0.6\" d=\"M -73.96124698011518,40.740423597115345 L -73.96126287410718,40.740320507417486 L -73.96145013844342,40.74033783468039 L -73.96164163979047,40.74035611292442 L -73.9616298256384,40.74045892945751 L -73.96129339923257,40.740432799367966 L -73.9612468228547,40.740424731718385 L -73.96124698011518,40.740423597115345 z\" /><path fill-rule=\"evenodd\" fill=\"#66cc99\" stroke=\"#555555\" stroke-width=\"0.004236215800221288\" opacity=\"0.6\" d=\"M -73.96421230395677,40.74660431847666 L -73.96427364752437,40.746541845055006 L -73.96433729322393,40.74654572659317 L -73.96437765404313,40.746495088038856 L -73.96444522752624,40.746410425763166 L -73.96458318426947,40.746454400673315 L -73.96458702399427,40.746515898544594 L -73.96454518192589,40.74656415047295 L -73.96447543657699,40.74664083319782 L -73.96437443772187,40.74670453064303 L -73.96433758671752,40.746734848181354 L -73.9642725620221,40.74675130808405 L -73.96421616682368,40.74683700083099 L -73.9641598028843,40.74686554735954 L -73.96412514486175,40.74684576060534 L -73.96413382933497,40.74681279616542 L -73.96421192462765,40.74666667680298 L -73.96421230395677,40.74660431847666 z\" /><path fill-rule=\"evenodd\" fill=\"#66cc99\" stroke=\"#555555\" stroke-width=\"0.004236215800221288\" opacity=\"0.6\" d=\"M -73.94180032729426,40.76904692662469 L -73.94256806142144,40.768505905731516 L -73.94285528620705,40.76830349440931 L -73.94321923520107,40.76789264385317 L -73.94381427322762,40.76722091204987 L -73.94422343089225,40.7666649778898 L -73.9448402665221,40.76582362839081 L -73.94623787959827,40.764285014549735 L -73.94657165080055,40.76391755826089 L -73.94662141408685,40.76386277208094 L -73.9468246022838,40.76361763323444 L -73.94708876929523,40.76329892108676 L -73.94788268389203,40.76236569759199 L -73.94792979664216,40.76231031625978 L -73.94832459591146,40.761846230001474 L -73.9487778940647,40.76131457086512 L -73.94914738541928,40.760881215989116 L -73.94943175563205,40.76054861736145 L -73.94971226700021,40.760328917384776 L -73.95033358814476,40.75985675555357 L -73.95126005908772,40.758810116371734 L -73.95148626283029,40.758666455854495 L -73.95171190411023,40.75846249420136 L -73.95177822025997,40.758402549876976 L -73.9520923302263,40.75799314034483 L -73.95217663423699,40.75783133643996 L -73.9522114634206,40.75758363983291 L -73.95254079336877,40.75709531453726 L -73.95312156546173,40.7565238048271 L -73.95322009963134,40.75642684232026 L -73.95326888610992,40.7563810441033 L -73.95330696035853,40.7563443271275 L -73.95334556462879,40.75631137566739 L -73.95340583051988,40.756258531877215 L -73.95409527736307,40.75565492894537 L -73.95507326928161,40.75479868255479 L -73.95519503183567,40.75477452347619 L -73.9557941523772,40.75416154740866 L -73.95692404304644,40.75296115989116 L -73.95721003531293,40.75271535683162 L -73.95791452493187,40.752109854525315 L -73.95860755756425,40.75161332398692 L -73.95868495443514,40.75157377742171 L -73.95903248609429,40.751386423273765 L -73.95902757442488,40.751297369850946 L -73.95955875930795,40.75081459776195 L -73.95990187081871,40.75055851535358 L -73.96039170572536,40.75025618611728 L -73.96081286928421,40.74990061693885 L -73.96083011464601,40.749887678411994 L -73.96084436010638,40.74987277733059 L -73.9608552255558,40.7498563113002 L -73.96087762113753,40.749827570992416 L -73.96090586327023,40.749801982336955 L -73.960939200341,40.74978022632368 L -73.96095994781767,40.74976641349016 L -73.96098341639029,40.74975540401195 L -73.9610089581123,40.74974750185047 L -73.96103586780032,40.749742925176974 L -73.96106340250327,40.74974180034903 L -73.96109080201438,40.74974415842206 L -73.96111730985926,40.74974993429192 L -73.9611421941812,40.74975896849236 L -73.96116476794676,40.749771011597545 L -73.96132845481047,40.74960095762449 L -73.96153855464473,40.749723119840475 L -73.96138656171422,40.749880502835886 L -73.96140909883448,40.7498997456262 L -73.96142702674481,40.74992161238382 L -73.96143982782635,40.749945471772286 L -73.96144713248066,40.749970634923336 L -73.96144427030971,40.749988532887365 L -73.96143797784663,40.75000591607069 L -73.96142839195069,40.750022406386755 L -73.96141572111424,40.750037645168774 L -73.96140024092799,40.75005130097072 L -73.9613804474517,40.750063516278026 L -73.9613634013117,40.75007792978758 L -73.96134951969928,40.75009418874126 L -73.96111060141877,40.750600469900704 L -73.96068557958185,40.75120193696792 L -73.96001132395902,40.75183151733506 L -73.95989061758658,40.752097478125236 L -73.95957156605824,40.75280471590012 L -73.95950079995097,40.75295638219572 L -73.9590161662748,40.753595059957384 L -73.95892671120951,40.753562492361404 L -73.95845836805675,40.753949236504866 L -73.95768072860075,40.75482196116563 L -73.95689476960013,40.75570399532386 L -73.95646348773006,40.756187982545654 L -73.9559856341003,40.75672422580767 L -73.95565513164131,40.7570951057258 L -73.95559286273466,40.75722280017357 L -73.95556724766547,40.757257666686236 L -73.95553464377036,40.75729603446833 L -73.95550425524475,40.757333456072544 L -73.95546455380817,40.75737736821185 L -73.95544589014962,40.75739925144279 L -73.95534193818192,40.75752113607086 L -73.95499406068451,40.75792901965744 L -73.95390795119141,40.75920087485075 L -73.95384294876413,40.75923894589033 L -73.95378145676383,40.75932308222838 L -73.95374760585439,40.759363938428486 L -73.95366241810677,40.75947973461607 L -73.95361272256534,40.75950214901414 L -73.95332321617923,40.75974596468739 L -73.95339140733955,40.7597967623577 L -73.95312451504947,40.76005275842953 L -73.95297788216074,40.75996210787687 L -73.9523125704512,40.76063375539466 L -73.9520863226655,40.76086215440482 L -73.95187667298384,40.76124558279803 L -73.9516250497398,40.76167886360575 L -73.95097191594412,40.762494507507526 L -73.95093734928088,40.76257049523781 L -73.95073068782703,40.762758225433764 L -73.95037548074407,40.76317384558043 L -73.94997191750257,40.76364603031704 L -73.94920376022777,40.76426964383275 L -73.94908628791565,40.76426402727494 L -73.94881315316405,40.764610754468684 L -73.94770109012802,40.76602239732514 L -73.94655273893079,40.767368205566605 L -73.94591458905606,40.76821393901867 L -73.94585112333094,40.768247750235524 L -73.9458445142382,40.768321228251395 L -73.94575361333564,40.76830167142705 L -73.94570357268658,40.76832793431147 L -73.94559658535877,40.76847086500509 L -73.94548114289289,40.7686247794378 L -73.9456272109345,40.76869295317886 L -73.94556302048748,40.7688017760271 L -73.94540491850024,40.768732173038565 L -73.9453820817897,40.76876320304781 L -73.94524510341354,40.768773268310376 L -73.94515704221519,40.76911831775166 L -73.94509065794128,40.76921372131797 L -73.94472353220667,40.769734058884 L -73.94472478497455,40.76978627153483 L -73.9446729328337,40.769819968053376 L -73.94456161517566,40.769886395927365 L -73.94427007063513,40.77014053575726 L -73.94400423956336,40.77029398215081 L -73.94320414114229,40.77099239974862 L -73.94281710960279,40.77141086070227 L -73.94257830301011,40.771701856718465 L -73.94212674646828,40.772034700509415 L -73.94136990742406,40.772309150827695 L -73.9408870721167,40.77237251577601 L -73.94056957420625,40.772614758964124 L -73.94027460921178,40.77294743789811 L -73.94017959804104,40.77295931559439 L -73.94007665751654,40.77292618635794 L -73.94001157258354,40.77284236055257 L -73.94018451224514,40.772564906804156 L -73.94028207924197,40.77230140699121 L -73.94027766722355,40.77171314173949 L -73.94020021779653,40.77112830566273 L -73.94022870389077,40.77085226166436 L -73.94027985829325,40.77067071100978 L -73.9403553347751,40.77049657437103 L -73.94082605300254,40.769912157268145 L -73.94111778718026,40.76941440857463 L -73.94121934173002,40.7693343431223 L -73.94125975382602,40.76930887939264 L -73.94180032729426,40.76904692662469 z\" /><path fill-rule=\"evenodd\" fill=\"#66cc99\" stroke=\"#555555\" stroke-width=\"0.004236215800221288\" opacity=\"0.6\" d=\"M -73.93804640603439,40.780829544275505 L -73.9379013362394,40.78074999617256 L -73.93779448726416,40.78078125875544 L -73.93779944179563,40.78103133979666 L -73.93764631821483,40.781001215892864 L -73.93765365963812,40.78079000755279 L -73.93759894622623,40.78046784086145 L -73.93779269036342,40.78035790421233 L -73.93823773509402,40.780259079465345 L -73.9383962259169,40.78026243389376 L -73.93861200821945,40.78033895586895 L -73.93923746178234,40.77973339405837 L -73.939318219876,40.77971800182687 L -73.93953015793254,40.779527620260474 L -73.93958378972476,40.77957647400715 L -73.93943238100775,40.7798122002746 L -73.93949329752056,40.779873691315416 L -73.93937515379676,40.77997877184921 L -73.9393052849678,40.7799512245521 L -73.9392178962528,40.78001352022144 L -73.93872802926595,40.78051074370461 L -73.93883951845037,40.78059924979985 L -73.93882863410155,40.78076345072761 L -73.93874423089275,40.78104387604225 L -73.93830097951646,40.781362084365 L -73.93808213268714,40.78141843777721 L -73.93796757721645,40.781289334060254 L -73.93804948921756,40.78105580604247 L -73.93806723089885,40.78094470320065 L -73.93804640603439,40.780829544275505 z\" /><path fill-rule=\"evenodd\" fill=\"#66cc99\" stroke=\"#555555\" stroke-width=\"0.004236215800221288\" opacity=\"0.6\" d=\"M -73.9213375241928,40.800852107502166 L -73.92113594709092,40.80047546009657 L -73.92103317645142,40.800265281858046 L -73.92083898713115,40.80001259800666 L -73.92057878116655,40.79966814846027 L -73.92035479893738,40.79942285236057 L -73.9203146552123,40.79937545928999 L -73.91923785764357,40.79888106768282 L -73.91914573748248,40.79883898734595 L -73.91906560282138,40.79880279731935 L -73.91899496843428,40.79877184320446 L -73.91898724457856,40.798769712219844 L -73.9189107610057,40.79874013836828 L -73.9179799205819,40.79838020192745 L -73.91790279810945,40.798362653231486 L -73.91662985247802,40.797858139437096 L -73.91639852914038,40.79768484203898 L -73.91545470966419,40.79706346603097 L -73.91443827233314,40.79566551786385 L -73.91380428276814,40.79451184645589 L -73.91378385370594,40.793836285482065 L -73.9145920846777,40.7927766019591 L -73.91514134426109,40.79201248299488 L -73.91535698910364,40.79184304950771 L -73.91552117846285,40.79178325024936 L -73.91630574681612,40.79111748083683 L -73.9161708792398,40.79101429337375 L -73.9168654058489,40.790362063464165 L -73.91707923528296,40.790456674725 L -73.9171062231295,40.790468616736774 L -73.91784071922048,40.79017131993743 L -73.91812330871126,40.79004023993423 L -73.91843338465667,40.7898039643367 L -73.91856299774986,40.78969533382591 L -73.91859001366792,40.78947410390863 L -73.91850876959093,40.789425089769395 L -73.92189248128902,40.78570326964315 L -73.92199539273022,40.7857560783125 L -73.92219098057298,40.7855106715738 L -73.92243512114932,40.78478283756499 L -73.92285203280153,40.78355569341766 L -73.92306473139385,40.78334288477429 L -73.92401145782648,40.78266068982501 L -73.92401364738764,40.78265764398257 L -73.92406208829178,40.782590278452034 L -73.92412113996792,40.78252307401083 L -73.92423621875825,40.78249691558929 L -73.92424754901673,40.78249433912652 L -73.92431077958697,40.78245595655426 L -73.92448052280425,40.782320490645816 L -73.92467329671872,40.782244860001015 L -73.92488394771706,40.78222258277358 L -73.92506087908825,40.78221629397282 L -73.92514021519158,40.78224376759567 L -73.92515351840345,40.78224837480781 L -73.92524195308096,40.78227404884858 L -73.92538939088001,40.782274144398855 L -73.92571808678534,40.78217655794456 L -73.92713754068623,40.78119426862356 L -73.92732422574863,40.781090629324254 L -73.9275441076852,40.781050635401634 L -73.92760395474535,40.78103974834899 L -73.92769650616518,40.78101478553295 L -73.92778746495141,40.780989858835184 L -73.92810118987339,40.780920320042135 L -73.92849269561364,40.78100835348084 L -73.92917352790664,40.78141057854217 L -73.93030988129446,40.78207733579063 L -73.9306381969117,40.78226141304896 L -73.93105352807888,40.78239659356657 L -73.93267080610443,40.782693639624796 L -73.93502345134512,40.783006382028816 L -73.93540566284273,40.78339449926807 L -73.93581299798616,40.783710081537535 L -73.93598226006591,40.78394236810638 L -73.93607064617002,40.78421721562025 L -73.93605332741521,40.78451236815351 L -73.93600271240744,40.784675370807484 L -73.93591823840065,40.784806879963405 L -73.93579345348833,40.78525478130401 L -73.93576384812955,40.78544603929267 L -73.93571265997697,40.785680489492535 L -73.93312843469003,40.788710179485484 L -73.93269606086271,40.78917822416744 L -73.93240145513691,40.78972029017014 L -73.9322407328486,40.789694849737494 L -73.93210528957358,40.78983395210776 L -73.93147595329808,40.79047915925791 L -73.93084178739281,40.790991430001554 L -73.9307294050381,40.790955114430815 L -73.92978443008305,40.79134147572913 L -73.92972400781915,40.79136617834302 L -73.92966610542626,40.79135578645297 L -73.9287194892678,40.79094353251242 L -73.9285945984799,40.790966924303866 L -73.9280727357566,40.79082339128302 L -73.92737326898224,40.7908108253346 L -73.92692258257136,40.79078869300408 L -73.92680823694626,40.79076444037093 L -73.92666714346059,40.79073451378723 L -73.92641834042986,40.79069337638712 L -73.92625431448674,40.79069453301698 L -73.92610410186641,40.790731607619904 L -73.9260623804895,40.790827848514674 L -73.92606557868457,40.79093651775726 L -73.92608587705843,40.79100380853584 L -73.92608911503012,40.791091780405246 L -73.92604469896472,40.791177110826425 L -73.92604793689041,40.79126508269461 L -73.9260866061662,40.791353676693745 L -73.92611233766557,40.79141262752603 L -73.92615293373655,40.79154720955432 L -73.92615960449811,40.79161966107121 L -73.9261594224972,40.79171538949724 L -73.92627168524825,40.79175690841835 L -73.92644182323612,40.791795904564445 L -73.92654729742374,40.79182706516163 L -73.92656766339974,40.79185813478178 L -73.92651312185698,40.79189688476326 L -73.92627826425162,40.791878519106184 L -73.92614555696494,40.791847325906176 L -73.92592763081379,40.79187554738943 L -73.92576426220221,40.7918572572634 L -73.92563556907494,40.79182215770038 L -73.9255872987962,40.79182083090694 L -73.92558041174094,40.79185446650828 L -73.92560756026246,40.79189590746636 L -73.92616939779452,40.7918992232049 L -73.92642805950204,40.79195649054446 L -73.92662898423103,40.79194639775022 L -73.92666662369295,40.79194019060826 L -73.92673798846978,40.791928422791784 L -73.92670074590066,40.79183262165673 L -73.9266395461271,40.791791134996686 L -73.92657824809356,40.791793644189184 L -73.92650678778527,40.79177285015723 L -73.92636742573431,40.79166138934012 L -73.92633032267321,40.79150347605386 L -73.92634451567677,40.79124728911949 L -73.92642654337885,40.7911102344215 L -73.92648803030961,40.7910223243008 L -73.92656584815985,40.79097950171319 L -73.92670272262282,40.790968158767605 L -73.92673885588233,40.7909741206745 L -73.92682874565233,40.790988952153434 L -73.92694456117866,40.79099938202543 L -73.92701950679624,40.79099942950559 L -73.92711487726518,40.79101502446055 L -73.92716599667894,40.790996933907 L -73.92724094273477,40.79099698124344 L -73.92731587858732,40.79100738392327 L -73.92738061590187,40.79099706933192 L -73.9274385682008,40.790960857245636 L -73.92751010805004,40.79096090226258 L -73.92756120565971,40.79096352432748 L -73.92765319078313,40.79095840272918 L -73.92778409928505,40.79094160365416 L -73.92786889241084,40.79095483863441 L -73.92789328730942,40.79097884668097 L -73.9279020271943,40.791009819336665 L -73.92791053566314,40.79103914658249 L -73.92789374498597,40.791091111420904 L -73.92765982806196,40.79134833453059 L -73.92757830229547,40.79146047473911 L -73.92732065708601,40.79174316045957 L -73.92727664424197,40.79176732751187 L -73.92723286052436,40.79179136837801 L -73.9271356372808,40.79192930660312 L -73.92780141472397,40.79199747926233 L -73.9280005357249,40.792133640906876 L -73.92826720296155,40.79232852394818 L -73.92833773179346,40.79285654877209 L -73.92834291141263,40.79291805769673 L -73.92834212714125,40.79297968957652 L -73.92833538320728,40.79304111086141 L -73.9283227160924,40.7931019891402 L -73.92829531042938,40.79316116875465 L -73.92826520921278,40.79321287506621 L -73.92735332146681,40.79446189460991 L -73.92726057302956,40.79472983379359 L -73.92724376658566,40.79477917673146 L -73.92709782821456,40.79510360496097 L -73.92705122854385,40.7951784925284 L -73.92701158640948,40.79525565925803 L -73.92697909335291,40.79533473234599 L -73.92695390637914,40.79541532977721 L -73.92693614719771,40.795497062170796 L -73.9269259016342,40.795579534661336 L -73.92692321921518,40.795662348806296 L -73.92690492728316,40.79598385153601 L -73.9268906696186,40.79623452472476 L -73.92688967827914,40.796252011862755 L -73.92695192356013,40.796708432284326 L -73.9270384567166,40.79698879541497 L -73.92711806944754,40.79720386173811 L -73.9271851477837,40.79734989678024 L -73.9273548544178,40.79731658078629 L -73.92734692252733,40.79729390212043 L -73.92767122620867,40.797217014266245 L -73.92770694127069,40.797298663882124 L -73.92738263624506,40.79737706358044 L -73.92736675660669,40.797346820344806 L -73.92720299704214,40.797386747799386 L -73.92721689257203,40.79741543349771 L -73.92727720268904,40.7974074531486 L -73.92743922185319,40.79771053821601 L -73.92747588603496,40.798122899664904 L -73.92726293291275,40.798918645122015 L -73.92691995615827,40.799837590979976 L -73.92690105444292,40.799888237352135 L -73.92688261754358,40.79994076850321 L -73.92685410172666,40.79998755904608 L -73.92680607643523,40.80003590053768 L -73.92669572629558,40.80014697715245 L -73.92724770789282,40.80039295736896 L -73.92711464230642,40.80056375622953 L -73.9270669662849,40.80054301212579 L -73.92716933022487,40.80040585369613 L -73.92666565480394,40.80018271403577 L -73.9265535165366,40.80031517292142 L -73.92674263892997,40.80040349897277 L -73.92673683953092,40.80041147148188 L -73.92672526216779,40.8004073393254 L -73.92672091168971,40.800414210943536 L -73.92653846390036,40.800333898307905 L -73.92650250275526,40.800374917306925 L -73.92668470621146,40.80045475725582 L -73.92655241808481,40.800604825092265 L -73.92684528429615,40.800739646712785 L -73.92683162740748,40.80076552901468 L -73.9268690867946,40.80078367679924 L -73.92699531303133,40.800636176104284 L -73.92704640297909,40.80065174303128 L -73.92688606022001,40.8008406483689 L -73.92650954867304,40.800657031524544 L -73.92588046337772,40.80155174192611 L -73.92582494638731,40.80164248977822 L -73.92577551811746,40.80173060099629 L -73.92569826178645,40.801810871853164 L -73.9254929349305,40.80195616865067 L -73.92527521020125,40.801998522743325 L -73.92436044107566,40.80198555341893 L -73.92263378594897,40.80186873814105 L -73.9221553889881,40.80162646997481 L -73.92191092229572,40.80150266625353 L -73.9213375241928,40.800852107502166 z\" /><path fill-rule=\"evenodd\" fill=\"#66cc99\" stroke=\"#555555\" stroke-width=\"0.004236215800221288\" opacity=\"0.6\" d=\"M -73.92640556921116,40.87762147653734 L -73.92635080268255,40.87759232046264 L -73.92629680992586,40.87756502787567 L -73.92631001739214,40.877550634384654 L -73.92630253569118,40.877537431404974 L -73.92629743588128,40.877523590032176 L -73.92629456200274,40.877506090018606 L -73.9262954879545,40.877488468589185 L -73.92630018892376,40.87747119789011 L -73.92630853895062,40.87745474066977 L -73.92632031430337,40.877439537879965 L -73.92633519947327,40.877425996861255 L -73.92635279562856,40.87741448042882 L -73.92637263130061,40.8774052971513 L -73.92639417501641,40.87739869308322 L -73.92642113923336,40.87736696611379 L -73.92644105063067,40.877332367437354 L -73.92645339373496,40.877295792776586 L -73.9264578490096,40.87725818900875 L -73.92644013595422,40.8772184048347 L -73.92641433057624,40.877181257963386 L -73.92638108672396,40.877147689591716 L -73.92634124671201,40.87711855024619 L -73.92629581997876,40.87709457823346 L -73.92624595751,40.877076380934234 L -73.92619292267655,40.87706441941437 L -73.92613805922498,40.87705899674332 L -73.92608275723198,40.87706025031543 L -73.9259756560836,40.87705486748599 L -73.92586834057437,40.877056446824994 L -73.92576159481541,40.87706497679283 L -73.92565619875543,40.87708039506447 L -73.92555292248267,40.87710258898463 L -73.92545252059885,40.87713139639098 L -73.92535572670624,40.87716660679872 L -73.92526324804798,40.87720796293847 L -73.92517576034098,40.87725516263566 L -73.92516882144955,40.87728336202686 L -73.9251575024618,40.87731073231322 L -73.9251380475957,40.87734237260993 L -73.92511275426297,40.87737153750397 L -73.92508215701338,40.87739761061557 L -73.92507323779466,40.87739347790378 L -73.92502681080506,40.877371962297325 L -73.92496239614445,40.87739363723735 L -73.92489567890476,40.87741083753343 L -73.92482719737032,40.87742342441072 L -73.9247420252133,40.877432390830755 L -73.92465607179322,40.87743422760769 L -73.92457036990587,40.87742891267131 L -73.92448594932448,40.87741650988458 L -73.92440382442518,40.87739716827634 L -73.92400505009957,40.87731744315926 L -73.92386147764297,40.87727006407539 L -73.92381973555327,40.87726181172173 L -73.92377681206972,40.87725857512493 L -73.9237337467805,40.87726043267392 L -73.92369158270814,40.87726733937971 L -73.92365134104872,40.87727912796487 L -73.9236139964395,40.877295512914756 L -73.92354823367552,40.87730137973704 L -73.92329476733926,40.87726443545978 L -73.9231865833819,40.877216745848294 L -73.92315177551701,40.877201401216986 L -73.92312291445764,40.87718867791131 L -73.9230988966351,40.87716676803305 L -73.92307297768274,40.877142167138004 L -73.9229989883947,40.87710057903377 L -73.9229976135931,40.877096212474875 L -73.92296914988849,40.87705947937177 L -73.92292375203768,40.87703438615695 L -73.92290511691814,40.87702637785104 L -73.92285992854842,40.877012522173885 L -73.92283147429002,40.87700596909545 L -73.92281051453209,40.87700495764833 L -73.92280311153733,40.87701337289032 L -73.92279447112548,40.877004797653896 L -73.9228073501511,40.87699041690632 L -73.92281246559956,40.876979082558606 L -73.92279410684479,40.876976006120465 L -73.92277552540169,40.8769715972223 L -73.92275159485156,40.87695376215145 L -73.92271506279327,40.876931818016566 L -73.92267110341204,40.876919866146146 L -73.92264377370492,40.876916352301684 L -73.92262222332904,40.876932063713745 L -73.9226195590278,40.87691702709938 L -73.92260901773838,40.87691449546375 L -73.92259596880969,40.876921233689544 L -73.92258515626511,40.876913780052625 L -73.92258024072251,40.87690617725505 L -73.92258384725629,40.87689634173583 L -73.92257719528715,40.8768956768989 L -73.92258179872627,40.876878090270225 L -73.92259148720349,40.87686583293415 L -73.92256855100506,40.87685691874119 L -73.92253786207058,40.876871310460274 L -73.92249234636148,40.87684892935579 L -73.9224768908113,40.87683204457963 L -73.92242340024212,40.87680146472215 L -73.92241708393776,40.876785891417875 L -73.92239768169317,40.87678022314121 L -73.92238754641627,40.87676323220285 L -73.9223766931572,40.87675893498172 L -73.92237632196873,40.8767479373685 L -73.92237521199621,40.8765568552459 L -73.92238115447897,40.87636582450281 L -73.9223941446922,40.87617499507224 L -73.92241417237986,40.87598451672791 L -73.92244122176282,40.87579453896678 L -73.92243956683714,40.87574312164968 L -73.92244468226001,40.87569183576377 L -73.92245651691324,40.87564119365058 L -73.92247495255482,40.87559170121923 L -73.92249980500063,40.87554385289261 L -73.9225508217436,40.87543488925207 L -73.9225932861333,40.87532383207554 L -73.9226270504778,40.875211067734774 L -73.9226519973548,40.87509698853893 L -73.92266804001969,40.87498199136948 L -73.92267512270656,40.87486647629958 L -73.92267322082175,40.87475084520202 L -73.92266234102858,40.874635500351204 L -73.9226425212237,40.874520843023646 L -73.92261383040436,40.87440727210196 L -73.92257636842805,40.8742951826872 L -73.92253026566426,40.87418496472456 L -73.92247568254042,40.874077001646704 L -73.92241280898332,40.87397166904005 L -73.92234186375781,40.87386933333832 L -73.92226309370525,40.87377035054787 L -73.9221767728846,40.87367506500937 L -73.92208320161838,40.87358380820009 L -73.9219827054479,40.87349689758088 L -73.9218756340004,40.873414635492104 L -73.92176235977269,40.87333730810192 L -73.92164327683521,40.873265184411 L -73.92151879946121,40.87319851531696 L -73.92138936068558,40.87313753274177 L -73.92125541079862,40.873082448825016 L -73.92111741577973,40.873033455186224 L -73.92108868294103,40.87303639315576 L -73.92105969060032,40.87303637332693 L -73.9210309647829,40.87303339605951 L -73.9209734396513,40.87301804989405 L -73.92091406868285,40.87300750581413 L -73.9208535453854,40.87300188698425 L -73.92079257672629,40.87300125903749 L -73.92073187487483,40.873005629308835 L -73.9207298414373,40.873008314475626 L -73.92072725233673,40.873010708242376 L -73.92072417850993,40.873012745024 L -73.92072070417439,40.87301436901623 L -73.92071692452093,40.87301553572446 L -73.92071294310549,40.87301621318288 L -73.920708869012,40.873016382830336 L -73.92070481386365,40.87301604001875 L -73.92068931274704,40.87301184096057 L -73.9206835897841,40.87300439616566 L -73.92065921317116,40.873005648561566 L -73.920637876355,40.87299879024725 L -73.92060389439709,40.87299108511297 L -73.92056972286971,40.87299520544232 L -73.92055602106612,40.87299877396309 L -73.92052553083963,40.873016989839215 L -73.92049019600584,40.87303219583721 L -73.92045784203485,40.873044471391886 L -73.92042553462319,40.87305452980495 L -73.92038723144246,40.87307266671416 L -73.92035690847123,40.87307978578125 L -73.9203284953404,40.873089880359224 L -73.92030192340005,40.87310590583981 L -73.92029230572714,40.873098416622575 L -73.92027634052185,40.873105978798655 L -73.92025767981448,40.87312122639744 L -73.92022383019845,40.87314980501197 L -73.92019427081462,40.87316590077222 L -73.92016846718042,40.87316839593456 L -73.92015078813229,40.873182126940776 L -73.9201340570572,40.873192834478274 L -73.92012536070158,40.873208748823565 L -73.92010368749649,40.8732217612328 L -73.92008500471883,40.873234746057314 L -73.92006343503769,40.87325378750954 L -73.9200499671979,40.87328332920573 L -73.92001877553854,40.873323577230295 L -73.91999041526302,40.87335399345218 L -73.919981386561,40.873380848973696 L -73.9199717090996,40.87339827820554 L -73.9199579782898,40.873409713506604 L -73.91995560487736,40.87345046563898 L -73.91996685684583,40.87347149119078 L -73.91996014690889,40.87348738763535 L -73.91996152695476,40.873513021258645 L -73.9199657961229,40.873532601103264 L -73.919952008896,40.873541012242384 L -73.91994924637882,40.8735553760776 L -73.9199446246653,40.87357803854078 L -73.91992890927837,40.87359024423889 L -73.91992699169874,40.87359479249293 L -73.91991209834835,40.87359567589216 L -73.91990536325103,40.873610819133155 L -73.91987352155935,40.873608081986625 L -73.91982885231022,40.87361073199781 L -73.91979301672356,40.8736065126604 L -73.91979277649074,40.87364631105558 L -73.9198322991474,40.87365245042054 L -73.91987188079324,40.873648836802346 L -73.91989957882096,40.873648932924 L -73.91992525757078,40.87365427378224 L -73.9199419807086,40.87366934602072 L -73.91995774794785,40.87367916324076 L -73.9199536640454,40.87370092413403 L -73.91994859388574,40.87372192362184 L -73.91995447494176,40.87373020567337 L -73.91995934351047,40.8737444858466 L -73.9199622400323,40.87375575979526 L -73.91996707895035,40.87377304095112 L -73.91997384763374,40.87379784119845 L -73.91998163534993,40.873819645001326 L -73.91997464566956,40.873829381605724 L -73.91998543966982,40.873844433308435 L -73.91999878749601,40.87384560517078 L -73.92012987176471,40.87392339070101 L -73.92014481681734,40.87390542651687 L -73.92017044204992,40.87391978034507 L -73.92015549479686,40.8739377421856 L -73.92019591546112,40.873961159343565 L -73.920213821777,40.873943955909205 L -73.92024139479355,40.873962818436674 L -73.92022250884898,40.87397851650823 L -73.92029151637325,40.874016296023214 L -73.92035164809802,40.87405104424435 L -73.9204058454069,40.874084269914334 L -73.92044131562395,40.87410691011835 L -73.92047377562703,40.87413705928908 L -73.92049985349438,40.874160050328086 L -73.92054444499217,40.87414518290123 L -73.92057687274607,40.87418058319002 L -73.92060639037797,40.874206963045324 L -73.92062699165687,40.874234811128744 L -73.92076966714161,40.87417738586543 L -73.92078761461624,40.87417891108441 L -73.92080255630357,40.87419405886668 L -73.92080751306924,40.87421526009999 L -73.92066084429204,40.874278743471486 L -73.92066980301335,40.87429691178121 L -73.92068572694207,40.87432341511571 L -73.92069665918821,40.87434840144939 L -73.92071107412377,40.874387393739674 L -73.92070010598985,40.874391933609424 L -73.92071604571971,40.87440632505261 L -73.92072498444598,40.87443055482085 L -73.9207429085349,40.874451755581866 L -73.92075785117537,40.874466146501845 L -73.92075483429569,40.874489612027126 L -73.92076677770561,40.87451081688581 L -73.92078070500611,40.87453125853105 L -73.9207816924167,40.87453958877671 L -73.92079265694505,40.87454716950527 L -73.92078865109998,40.87456306014473 L -73.92080359467644,40.874576694526226 L -73.92079957959797,40.874591073434075 L -73.92080954431938,40.87460092273838 L -73.92081650482747,40.874613794604336 L -73.92081649581904,40.87462135908932 L -73.92082945415417,40.87462894101476 L -73.92084240240092,40.87464333105762 L -73.9208394026656,40.87465241443042 L -73.92084337428219,40.87466452838157 L -73.92085235584503,40.874663778679036 L -73.9208687955981,40.87467627994873 L -73.92088273221319,40.87468839252237 L -73.92088671102694,40.87470429684725 L -73.92089167392987,40.87472095067336 L -73.92090561548791,40.8747391235515 L -73.92091956358946,40.874751244337034 L -73.92092254079134,40.87476184470558 L -73.92091453517749,40.87478001075018 L -73.9209155100289,40.874798175242695 L -73.9209234915723,40.87479969361028 L -73.92092746229663,40.87481332045575 L -73.92093841813042,40.87482770845203 L -73.9209473691218,40.87484285160674 L -73.92097230770965,40.87484135578914 L -73.9209872399264,40.87486407674106 L -73.92098721924155,40.874881483515644 L -73.92100015808848,40.874895124706875 L -73.92101610565855,40.8749027006161 L -73.92103202290927,40.8749345076661 L -73.92105493692368,40.87496025919652 L -73.9210813353079,40.8749780618044 L -73.92111420160492,40.87501366259349 L -73.92114009384979,40.87504849286096 L -73.92115600330547,40.8750772747615 L -73.92116695696895,40.875094688530055 L -73.92117492688541,40.87510604933724 L -73.921174913423,40.87511740519373 L -73.92118186508976,40.87513784085063 L -73.92116988845746,40.87514389297377 L -73.92116987769627,40.87515296968483 L -73.92117284868016,40.87516811912251 L -73.92116885342614,40.87517568021374 L -73.92116984179306,40.87518325291778 L -73.92115787665247,40.87518853980348 L -73.92115986015381,40.875196114862675 L -73.92114389543804,40.87520366727267 L -73.92114588498156,40.87520670481465 L -73.92113391038936,40.875209721255395 L -73.92113190442407,40.87522183111014 L -73.92112690618701,40.87523469595512 L -73.92111094462025,40.87523846720642 L -73.92110394084422,40.87525284290736 L -73.92111290364166,40.87526723019338 L -73.92110691408513,40.87527631152832 L -73.92110491037761,40.87528539676053 L -73.92107996422345,40.87529294352369 L -73.92106199576546,40.87530883400245 L -73.92105700109654,40.8753194202021 L -73.92103602209788,40.87534362880264 L -73.9210240353177,40.875367844223476 L -73.9210110576887,40.875376920770826 L -73.92099010857673,40.87538523549415 L -73.92097812109442,40.875400364810304 L -73.9209691304401,40.87541852197353 L -73.92095515364721,40.875429110728255 L -73.92093020805643,40.87543742320581 L -73.92092920057638,40.875446499233476 L -73.92091823046646,40.875453308385055 L -73.92091322183161,40.875464660315174 L -73.92090325515426,40.875466166382544 L -73.92089428451293,40.87545783116996 L -73.92087559199669,40.875463950023224 L -73.92081002773766,40.87545382051704 L -73.92066483796152,40.875394349224244 L -73.92060056857912,40.87541126787583 L -73.92052514633625,40.87540909528916 L -73.92048049143372,40.875375138489346 L -73.92048053454302,40.87533909247949 L -73.91970122194616,40.87499425471047 L -73.9195544042211,40.87495155688794 L -73.91941080719887,40.87490295653383 L -73.91927084240236,40.87484859293021 L -73.91913491094206,40.87478862187559 L -73.9190034023665,40.87472321523815 L -73.91887669354558,40.87465256046316 L -73.91886873676603,40.87464804140583 L -73.91886187407478,40.87464258579039 L -73.91885629444903,40.874636343847776 L -73.91885215153414,40.874629487461924 L -73.91884955941275,40.8746222054365 L -73.91884858946335,40.87461469829602 L -73.91884926839481,40.874607172763845 L -73.91885157751089,40.874599836069706 L -73.91885545322522,40.8745928902433 L -73.9188607888123,40.874586526550964 L -73.91886743734638,40.874580920228816 L -73.91887521574742,40.87457622565736 L -73.91894403383256,40.8745212534524 L -73.91900697762073,40.8744623645821 L -73.9190636616017,40.87439991973659 L -73.91911373860907,40.874334301385026 L -73.91915690194634,40.8742659114329 L -73.91919288726504,40.8741951687602 L -73.91922147418343,40.8741225066557 L -73.91924248763573,40.87404837016301 L -73.91926029161118,40.87392939379859 L -73.91926972630647,40.87380986670511 L -73.91927076501067,40.87369012785215 L -73.91927006009311,40.87368347256541 L -73.91927083116308,40.87367682150665 L -73.91927305650837,40.87367036195597 L -73.91927667346746,40.873664275801005 L -73.9192815801939,40.873658734415265 L -73.91928763852418,40.873653893832675 L -73.91929467786811,40.87364989035391 L -73.91928143993447,40.87363277400059 L -73.91927373077752,40.87363712365839 L -73.91926530439957,40.873640623870756 L -73.91925632214706,40.87364320761638 L -73.91924695601028,40.87364482542221 L -73.91922348853981,40.873640709097394 L -73.91920102746391,40.87363410783723 L -73.91918002692606,40.8736251551136 L -73.91916948292405,40.87361953862619 L -73.91916029061511,40.873612689095985 L -73.91915269740747,40.8736047908764 L -73.9191469076697,40.873596056545956 L -73.91914307723033,40.87358672118676 L -73.9191413091837,40.87357703605739 L -73.91914165111538,40.87356726183028 L -73.9191408549129,40.87354636755793 L -73.91913593704578,40.873525800580225 L -73.91912700889448,40.873506026684936 L -73.9191142726613,40.87348749369818 L -73.9190980167909,40.87347062134246 L -73.91909798935485,40.873469602018794 L -73.91909773075793,40.873468601557214 L -73.91909724874829,40.87346764993395 L -73.91909655776817,40.87346677566198 L -73.91909567852099,40.873466004936596 L -73.91909463735114,40.8734653608506 L -73.9190934654546,40.873464862702356 L -73.91909219794424,40.87346452541763 L -73.91909087279775,40.87346435910227 L -73.91908952971971,40.8734643687395 L -73.91908820895202,40.87346455404054 L -73.91908695006806,40.873464909453325 L -73.91908579078707,40.87346542432885 L -73.9190847658439,40.873466083240196 L -73.91908169957105,40.87346742606741 L -73.91907839452539,40.87346838868454 L -73.91907493191249,40.87346894743996 L -73.91907139680947,40.8734690886049 L -73.9190678760745,40.873468808710925 L -73.91906445621272,40.87346811463506 L -73.9190612212508,40.873467023430905 L -73.9190582506724,40.87346556190959 L -73.91905851705712,40.873464421842584 L -73.91905852797895,40.87346326401236 L -73.91905828312895,40.873462121166696 L -73.91905778943244,40.87346102562956 L -73.919057060853,40.8734600083868 L -73.91905611799763,40.87345909820986 L -73.91905498753376,40.87345832084195 L -73.91905370143515,40.87345769826993 L -73.91905229607748,40.87345724810246 L -73.91905081120952,40.87345698307197 L -73.91904928882887,40.873456910674484 L -73.91904777199413,40.87345703295771 L -73.91904630360708,40.873457346462985 L -73.91904492519915,40.87345784232325 L -73.91904367575687,40.873458506513686 L -73.91903629227292,40.87345823690599 L -73.91902906127682,40.873457072114036 L -73.91902216989422,40.8734550422806 L -73.91901579646216,40.87345219993429 L -73.91901010591396,40.8734486186301 L -73.91900524551097,40.87344439104595 L -73.91900013001663,40.873438082768345 L -73.9189938304964,40.873432425314014 L -73.91898648831257,40.87342754563698 L -73.91897826822482,40.873423553237735 L -73.91896935469296,40.87342053770616 L -73.91895994773773,40.87341856671116 L -73.91895025845223,40.873417684482035 L -73.91894359567706,40.87341688927781 L -73.91893720487059,40.87341525284444 L -73.91893126896962,40.87341282202476 L -73.91892595788929,40.87340966640104 L -73.91892142365916,40.87340587630296 L -73.91891779607143,40.8734015602221 L -73.9189164750719,40.87339417871254 L -73.91891667312134,40.87338673092385 L -73.91891838545847,40.873379395890595 L -73.91892157092055,40.873372349936815 L -73.91892615293308,40.87336576243738 L -73.91893202135051,40.8733597917465 L -73.91893903510403,40.873354581391204 L -73.91894702559271,40.87335025662106 L -73.91894902081428,40.87334989087115 L -73.91895090563429,40.87334927395039 L -73.91895262561714,40.873348423676084 L -73.91895413108794,40.873347364605074 L -73.91895537856713,40.87334612732443 L -73.91895633202623,40.8733447475681 L -73.91895696392832,40.8733432651849 L -73.91895725602349,40.873341722987625 L -73.9189571998757,40.8733401655165 L -73.9189567971066,40.873338637752916 L -73.91895605934863,40.87333718382031 L -73.91895500790898,40.87333584570972 L -73.91895367315435,40.87333466206718 L -73.91894814489916,40.873332940931796 L -73.91894301235546,40.87333061864359 L -73.91893838819807,40.87332774618381 L -73.91893437394118,40.87332438661166 L -73.91893105770978,40.87332061367989 L -73.91892851230503,40.873316510215716 L -73.91891581319177,40.8733244137316 L -73.91889712993498,40.87332690205341 L -73.9188824798226,40.87332689175644 L -73.91887149110988,40.87332771846288 L -73.91886415724966,40.873334385740876 L -73.91886012067621,40.87334077741646 L -73.9188483962036,40.873344105054166 L -73.91883850430476,40.87334604404269 L -73.91882934850314,40.87334520384195 L -73.91882129028238,40.8733457541819 L -73.91881139726203,40.87334824934308 L -73.91879967618041,40.8733487971045 L -73.91878759190432,40.87334712040864 L -73.91877587467553,40.873344333461034 L -73.91876599252413,40.87333793081875 L -73.91875831278342,40.873328194346705 L -73.9187477018353,40.873320402928115 L -73.91873744949812,40.8733167809016 L -73.91872536896742,40.87331204607268 L -73.91871988112793,40.87330703813327 L -73.9187132918374,40.87330453086856 L -73.91871329727512,40.87330008280635 L -73.91871355980582,40.87329293965051 L -73.9187136757609,40.87328979650142 L -73.91870489267862,40.87328339513057 L -73.91869757440794,40.87327838590059 L -73.91869941400373,40.87327143650706 L -73.9187089454231,40.87326504921045 L -73.91871701111317,40.87325838145255 L -73.9187225109606,40.873253381754516 L -73.91872288218919,40.87324921170275 L -73.91872032178811,40.87324642952307 L -73.91871336287178,40.873246424621506 L -73.9187075009716,40.87324808818203 L -73.91869577494485,40.87325197197897 L -73.91867159931012,40.87325390139142 L -73.91865986974125,40.87326139982223 L -73.91865289939686,40.87327001328827 L -73.9186488600856,40.87327862932268 L -73.91864116504259,40.87328195977984 L -73.91863200450743,40.873284455944656 L -73.9186174577788,40.87328635594971 L -73.9186034886986,40.873286016747734 L -73.91858681154771,40.8732778725879 L -73.91857034760064,40.8732626926174 L -73.91856521191309,40.873251272145275 L -73.9185657132393,40.87324467863307 L -73.91856625786384,40.873237509878045 L -73.91855082542601,40.873222173161075 L -73.91853126321536,40.87321308866143 L -73.9185266692976,40.873213231498084 L -73.91851642893576,40.873213547586936 L -73.91850799095036,40.87320650533479 L -73.91850388053922,40.87319821289998 L -73.91849995662199,40.873191715603824 L -73.9184811580041,40.873195611303665 L -73.91844037849654,40.87319735119577 L -73.9184089214903,40.873197328959094 L -73.91839143131281,40.87320881468856 L -73.91839722808336,40.87323181163089 L -73.91841698758448,40.87326985328334 L -73.918447259192,40.873286679397296 L -73.91849499715504,40.873311474672334 L -73.91853226318013,40.873324766616456 L -73.91859397285,40.873356647541925 L -73.91861259668218,40.87337081066083 L -73.91862886553999,40.87340531307225 L -73.91862765894807,40.87343980265745 L -73.91861247219546,40.87347251468283 L -73.91859729866316,40.873495497325095 L -73.91857283049315,40.873496364415814 L -73.91856116377713,40.87350962181259 L -73.91852735311106,40.873528169694424 L -73.91849587276052,40.87354760457027 L -73.91846904628137,40.873571462815065 L -73.91845390521418,40.87356791470508 L -73.91843877628347,40.873553754031185 L -73.9184119825552,40.87355108219987 L -73.91840148169129,40.873562572201315 L -73.91842475554446,40.87358558317251 L -73.91842473601628,40.87360150067413 L -73.91841772076695,40.87362183667025 L -73.91841071224552,40.873636866050425 L -73.91838740472794,40.87364127183675 L -73.91837340807159,40.873654527063906 L -73.91835241610355,40.87367131575714 L -73.9183279207093,40.87369429176755 L -73.91829527254023,40.87371460961203 L -73.91824631256566,40.873736684598455 L -73.91819852325503,40.87375345427631 L -73.91817869735209,40.87376935890878 L -73.91816235897646,40.873791456313946 L -73.91814717650598,40.873821514215365 L -73.91812269078608,40.87383653117989 L -73.91810403620715,40.87384713118299 L -73.9180589342757,40.873849867984006 L -73.91805165797437,40.8738625454665 L -73.91803715672663,40.87389725829058 L -73.91794108366356,40.8739831478103 L -73.9179290291799,40.87397889320502 L -73.91775468095322,40.87424853456615 L -73.91776990325627,40.8742543038425 L -73.9175772988473,40.8745486785472 L -73.91749921000545,40.874520078540165 L -73.9176906605858,40.874225222183185 L -73.91770931109484,40.874232494079294 L -73.91789032098384,40.87396247775168 L -73.91788506630638,40.87396025014752 L -73.91787144917505,40.87390499528865 L -73.91784685200204,40.87393101283532 L -73.91781448198522,40.87394623603753 L -73.91780777752835,40.87395724404439 L -73.91779327441742,40.87395300141778 L -73.91777764915233,40.87396314669118 L -73.91778097440168,40.873980088296356 L -73.91776812456743,40.8739915145824 L -73.9177402156704,40.87400673105857 L -73.91770785270614,40.874016027949004 L -73.91764347141124,40.87402630142592 L -73.91759030095466,40.87403575514307 L -73.91755115955178,40.87406777530259 L -73.91749486066547,40.8740843493076 L -73.91742914539078,40.87411754000319 L -73.91739625419058,40.874160243657684 L -73.91726640898553,40.87420999319864 L -73.91718819114004,40.87424198521306 L -73.91711624585024,40.87425735872737 L -73.91703722692625,40.87430300216678 L -73.91698090690286,40.87432669780203 L -73.91685267654526,40.874337285731585 L -73.91671349901945,40.87435498785022 L -73.91665560146524,40.87438699433415 L -73.91658048205609,40.8744356022468 L -73.9164482871527,40.87449544308543 L -73.91634348667569,40.874523849889655 L -73.91621216322862,40.87450358336526 L -73.91609852720299,40.87450015889178 L -73.91601675124149,40.87451485046092 L -73.91589033125022,40.874519637324326 L -73.91576604987809,40.87452767756275 L -73.91568463084471,40.87452761810509 L -73.91557751037355,40.874519408904725 L -73.91540183736201,40.87450301630729 L -73.91522402146056,40.874486621868144 L -73.91506980141536,40.87444910214064 L -73.91498198606973,40.87442464213988 L -73.91463283278524,40.87432662109677 L -73.91422167905834,40.87419960364557 L -73.91419784904609,40.87418935531251 L -73.91399706226264,40.87412628596026 L -73.91390273849241,40.87409569967229 L -73.91358513705511,40.87402538028845 L -73.91349743189797,40.87398832051716 L -73.91334510510109,40.873944215917334 L -73.91329373384129,40.87393558642622 L -73.91324890693507,40.87392050248732 L -73.91319419253576,40.873885381395866 L -73.91314256425338,40.8738608527235 L -73.91309558920298,40.87384574901547 L -73.9130399794851,40.873833821548 L -73.91298019756998,40.873835355219214 L -73.91288986719734,40.87382589523728 L -73.9127315413297,40.8737950822535 L -73.91261073308618,40.873757315620495 L -73.91250279259326,40.87371941237027 L -73.91228918621248,40.8736289048214 L -73.91207818471493,40.87352463417903 L -73.9116381573252,40.873302364845216 L -73.91157791409435,40.873271587474306 L -73.9115151612332,40.87323662962527 L -73.91142596184433,40.873181766652394 L -73.91135878271294,40.87312775713531 L -73.91130503459944,40.87309198539289 L -73.911274316958,40.87306352176123 L -73.91122441407732,40.873027752434574 L -73.91119084409434,40.87298470791017 L -73.91118411250112,40.87298835154464 L -73.91117450708145,40.87298469583899 L -73.91118028522195,40.872974487423456 L -73.91116685503187,40.872956250599934 L -73.91115342819134,40.87294311015747 L -73.9111035404607,40.87288473492074 L -73.91109971709048,40.87286796411062 L -73.91110454354371,40.872851198791174 L -73.91108439239562,40.872826383350834 L -73.91105560631763,40.87280083989838 L -73.9110364351832,40.87277165671128 L -73.91103934599288,40.87274832519931 L -73.91101247147321,40.87272205364723 L -73.91099234251048,40.872689952135666 L -73.9109808474119,40.872660045296925 L -73.91096742522559,40.87264399546616 L -73.91096169269252,40.8726170101466 L -73.91094440549769,40.87260824457525 L -73.91091466885949,40.87257394694841 L -73.91083211635896,40.87251773773556 L -73.9107630311506,40.87245206361716 L -73.91069663181793,40.87236327354684 L -73.9106688625046,40.872318082527606 L -73.91064877277677,40.87229624946576 L -73.91064402620886,40.8722620528649 L -73.91060004692929,40.87218492862946 L -73.91056469338133,40.87211653582036 L -73.91054082062277,40.87205832757491 L -73.91053797212396,40.872033597817236 L -73.91055333016278,40.87201833783434 L -73.910544749547,40.871986327947276 L -73.91051802379026,40.87190629880136 L -73.91049514192565,40.871825552448634 L -73.91048468158365,40.87176153752585 L -73.91047920100611,40.87172972553631 L -73.91047284244398,40.8716956853133 L -73.91046075952909,40.87164240634011 L -73.9104532583538,40.871576831892426 L -73.91044754306458,40.87150187101394 L -73.910442654861,40.871490371296815 L -73.91042644048507,40.87148543806203 L -73.91042903752744,40.87146595381473 L -73.91044420430079,40.87146367102503 L -73.91044955631057,40.87143622822715 L -73.9104510707769,40.87140665306744 L -73.91044615186593,40.87139370693373 L -73.91043363570449,40.87138081638425 L -73.91044770536611,40.87136628313318 L -73.9104646861777,40.87135678268426 L -73.91047292046964,40.87133220207201 L -73.91049367311768,40.87132051317793 L -73.91051165045894,40.87131533357551 L -73.91052094065151,40.87129867442877 L -73.91054357762047,40.87128624754065 L -73.91055942169079,40.87126161251261 L -73.91055064917796,40.87124436291573 L -73.9105580894432,40.87123204888104 L -73.91057828495377,40.87117709323198 L -73.91058957073513,40.8711683480675 L -73.91060159516293,40.871143016696315 L -73.91061845542372,40.87112414071165 L -73.91065000065666,40.87106549342602 L -73.91065177797206,40.871055381779286 L -73.91066110163463,40.871042338460896 L -73.91068192829819,40.871036408524745 L -73.91069406395991,40.87101973615357 L -73.91070326135413,40.870995863383044 L -73.91071625722232,40.87097197160517 L -73.91072355879827,40.87094883664459 L -73.91071412003852,40.87092254281936 L -73.91069983355028,40.87090424328827 L -73.9106779365017,40.87087278982884 L -73.91067907069404,40.87084726054981 L -73.91069072329452,40.8708290690418 L -73.91069182369068,40.870808652535636 L -73.9107159481219,40.870793418409804 L -73.91071898793236,40.87076935911031 L -73.91072680697424,40.87074969009563 L -73.9107376520861,40.87070961108872 L -73.91074561095417,40.87066878939683 L -73.9107255729728,40.87064755845888 L -73.91074991771993,40.870599501730155 L -73.91075287037893,40.87058856644228 L -73.91075680633539,40.87057472689974 L -73.91075212343644,40.87055792625721 L -73.91076090304617,40.87053680656381 L -73.91076400877354,40.87050471911193 L -73.91074892704977,40.87045942767686 L -73.91075573481265,40.87044851564051 L -73.91077222692891,40.87042523148324 L -73.91075887769867,40.87040912941061 L -73.91076307682722,40.87035589219631 L -73.91076811226209,40.87032162692976 L -73.9107645322476,40.870282214727126 L -73.91074831413553,40.87026464712148 L -73.91076966625657,40.87023336147186 L -73.91077272650081,40.87020637522366 L -73.91077967561583,40.8701743028029 L -73.91078077308441,40.870152421303196 L -73.91080419957592,40.870099257582346 L -73.91080160534257,40.870054747078086 L -73.91080176628994,40.87003067616661 L -73.91080953728985,40.87001975884002 L -73.91080487714844,40.86999785697452 L -73.91081280366728,40.869962138164134 L -73.91081583350989,40.86993953294996 L -73.91080914035342,40.8699351363305 L -73.91082662573861,40.869907483262715 L -73.91083344968999,40.86989218196466 L -73.9108335617768,40.86987541032435 L -73.91085003458663,40.86985504254569 L -73.91085019100247,40.86983170454268 L -73.91084158440086,40.869825104525134 L -73.9108406897724,40.869814885939434 L -73.91085426331354,40.86979742478823 L -73.91086020406853,40.869771922333825 L -73.91087677451355,40.86973696991116 L -73.91086238292331,40.86973253384398 L -73.91087307742401,40.86971507046631 L -73.91088289148198,40.86968519379483 L -73.91088400870697,40.86966039523039 L -73.9108533419753,40.86964860774658 L -73.91087643987264,40.86964285241248 L -73.91089674542107,40.86962396312862 L -73.9109094229351,40.86959629326747 L -73.9109239562781,40.86957956676648 L -73.91091538027189,40.869568597276604 L -73.91091647993143,40.869548169371605 L -73.91092519658253,40.86953799707087 L -73.91091855656232,40.86952410663762 L -73.91094089748741,40.869489175578636 L -73.91094691671447,40.86945199565633 L -73.91092491224234,40.86943659135413 L -73.9109558266559,40.869411177355246 L -73.91098662221378,40.86940546027054 L -73.9110086359316,40.86941940058508 L -73.91103936514556,40.86942170510438 L -73.91105771592373,40.86940865229203 L -73.91113245415058,40.8694417631584 L -73.91118903577511,40.86945876238785 L -73.91125611683213,40.86948747131042 L -73.91130402042972,40.8695102726675 L -73.91134621371631,40.86952428990723 L -73.91138177390292,40.86952297335254 L -73.9114396221403,40.86949474524974 L -73.91146376612693,40.869476602110915 L -73.91147448899112,40.86945475763832 L -73.9114718867,40.86941316354527 L -73.91146347606924,40.869377382230155 L -73.91142415779031,40.86936409847747 L -73.91141653489676,40.86935458553055 L -73.91140021862081,40.86935160432964 L -73.91139354527341,40.86934428130024 L -73.91135803466575,40.86933612363575 L -73.91135530830203,40.869313497063295 L -73.91112244509756,40.86921411419695 L -73.91111690871274,40.86917907552038 L -73.911096730675,40.8691789979927 L -73.91106125751293,40.86916719094515 L -73.91103057950258,40.86915540299598 L -73.91105489313847,40.8691117190186 L -73.91107529676344,40.86907824288253 L -73.91107925214565,40.869061476379066 L -73.91107553160974,40.86904322624032 L -73.91109290713959,40.86903162291634 L -73.91109202710106,40.86901921900529 L -73.91111871768692,40.869006170932515 L -73.9111336600876,40.868972692254125 L -73.91112035244495,40.86895221036293 L -73.91113932222527,40.86893376745924 L -73.91112890881764,40.86892004366399 L -73.91114259196213,40.86889501320272 L -73.91114869895938,40.86888021524036 L -73.9111652354321,40.86887685523212 L -73.9111998585102,40.86886445284958 L -73.91125094701938,40.86886122595796 L -73.91128256771995,40.86884767337397 L -73.91130374286968,40.868824947570936 L -73.91132817758825,40.86880243953576 L -73.91133483134591,40.86878534909656 L -73.91133742099743,40.86877427396471 L -73.9113297074864,40.8687586364689 L -73.91133402644324,40.86874039636802 L -73.91132547908168,40.8687182368967 L -73.91133149891803,40.86870521125037 L -73.91132553554417,40.86867589550757 L -73.91133500160292,40.86865765936163 L -73.91135046077648,40.86864659528986 L -73.91134705123683,40.86862379245795 L -73.91135909150225,40.86860621531269 L -73.91136427055318,40.86858340919443 L -73.91139004972898,40.868563240128715 L -73.9114098549045,40.8685130894059 L -73.91141932680453,40.868491593092244 L -73.91144165907032,40.86847662530261 L -73.91148208144206,40.868408255175645 L -73.91149242138637,40.86837503525777 L -73.91149244825749,40.868354846413126 L -73.91150538755132,40.86830338506655 L -73.91151485871009,40.8682812392571 L -73.91152432337296,40.86826496612776 L -73.91153547484777,40.868264316982284 L -73.91154065941298,40.868245428719206 L -73.91158019244973,40.8682037670692 L -73.91160166210442,40.868186197122384 L -73.9116248556219,40.86817448074001 L -73.91165319817416,40.86815430536876 L -73.91166781354052,40.868135424822306 L -73.91171163037997,40.86810028506052 L -73.91172833168766,40.86807448891021 L -73.911731920643,40.868060623767015 L -73.91173006189783,40.86804016393434 L -73.91173383481922,40.86803017993699 L -73.9117256975957,40.868030173712285 L -73.91172571085144,40.868020188011634 L -73.91172510380613,40.86800353710152 L -73.9117364014255,40.867991172662656 L -73.91173516231122,40.86797738507468 L -73.91175522501952,40.867965983056855 L -73.9117527627056,40.86793505776837 L -73.91176907763847,40.867913187887574 L -73.91178038282345,40.8678956019256 L -73.91179668040857,40.86789561438441 L -73.91180859604,40.86788230457578 L -73.91179420262444,40.867868021117104 L -73.91179676558265,40.86783140003517 L -73.91180556034624,40.86781047911386 L -73.91182376049132,40.86778908877639 L -73.91184571092018,40.86777625586335 L -73.91187101089486,40.867759489718864 L -73.91188960227058,40.867747753350336 L -73.91189225260952,40.86772591741016 L -73.91191159865878,40.86770020567245 L -73.91184774646815,40.867672520472475 L -73.911992967857,40.867505834525566 L -73.91209755267185,40.86737319112113 L -73.91222962953464,40.86721546219407 L -73.91245215298926,40.86694055877054 L -73.91261754676016,40.86673955984176 L -73.9127317391952,40.866605212711306 L -73.91255219352705,40.86652862429216 L -73.91254775130282,40.86651494300431 L -73.91282859693645,40.86615711135711 L -73.9131201510073,40.86578124232253 L -73.91351997708153,40.86526747116953 L -73.91384485056732,40.86484833859206 L -73.9139186313324,40.864745584403586 L -73.91393526952015,40.86473928454499 L -73.91403866833014,40.864710500577104 L -73.91416821692907,40.864666401912785 L -73.91425257819598,40.864645725109504 L -73.91431200712508,40.86462502269582 L -73.91438922696749,40.86462417974634 L -73.91492387927869,40.864580378919136 L -73.91492863719179,40.86456956663363 L -73.9145403762602,40.864412351623365 L -73.91447397606235,40.864311285994944 L -73.91441113392617,40.864173627375536 L -73.9150440759955,40.864436721607696 L -73.91507404941315,40.86444650490859 L -73.91508583854333,40.8644481434173 L -73.9151683337163,40.86443925417632 L -73.91525511928765,40.864433626519286 L -73.9154318971828,40.86441830355366 L -73.91542869731134,40.86440772916068 L -73.91543408398833,40.8643874009978 L -73.91545872397369,40.864384168770755 L -73.91545342726475,40.86433373708637 L -73.91563236347605,40.86430947317944 L -73.91563874300478,40.86434851457925 L -73.91566444392173,40.86435015331548 L -73.91571159105631,40.86434286717415 L -73.91575872905099,40.86434209128957 L -73.91581658566602,40.86433481225365 L -73.91586052063037,40.864325902084246 L -73.9158991164586,40.86430803758248 L -73.915922708197,40.86428040140224 L -73.91593561439072,40.86424218421191 L -73.9159313804982,40.86420396508691 L -73.91592605810223,40.86417305587665 L -73.91589824230836,40.86414619304341 L -73.9158714806572,40.86412909053303 L -73.91585434906497,40.86412257697166 L -73.91583264511726,40.86411430945606 L -73.91579009737737,40.864103008127145 L -73.9157418999245,40.86409647019708 L -73.91572596025574,40.86409562529628 L -73.9156672828416,40.864086648919944 L -73.91561569079903,40.86407535683059 L -73.91558377690818,40.8640706510481 L -73.91553872984935,40.864066818565085 L -73.91549340827925,40.864066193949895 L -73.91543982630395,40.86407835707755 L -73.9154055421182,40.86408158223038 L -73.91538444080844,40.86408030145587 L -73.91537454216345,40.864079701332116 L -73.91535981963132,40.86407729015003 L -73.91534579095043,40.86407312944308 L -73.91533281432892,40.864067325450776 L -73.91532122111147,40.86406002637218 L -73.9153113073186,40.86405141858186 L -73.91530571225341,40.8640429391726 L -73.91529828268656,40.86403531492443 L -73.91528923924794,40.86402877224793 L -73.91527885049292,40.86402350543518 L -73.91526742492739,40.86401967088999 L -73.91524067177396,40.863996068174764 L -73.91521584698259,40.86397595269113 L -73.91519574800094,40.863945224735865 L -73.91518803106234,40.86389774401875 L -73.9151850595423,40.86387946104222 L -73.9151819299475,40.86386020413749 L -73.91518119486989,40.86384311506673 L -73.91517880018044,40.86378745190824 L -73.91517693846917,40.863744186521835 L -73.91517656557136,40.86373551943916 L -73.91517539779066,40.863708386201246 L -73.91517556429707,40.86368043375092 L -73.91520071079606,40.863652186226076 L -73.9152181857278,40.86364108139574 L -73.91525443919681,40.863618043780164 L -73.91529676393401,40.86359864401922 L -73.91530810246223,40.86359047369594 L -73.91534455813901,40.863564205684405 L -73.91536190015128,40.863547232567136 L -73.91537404288232,40.86352873067102 L -73.9154165736364,40.86344790631757 L -73.91542702548197,40.86342917098895 L -73.9154686342927,40.8633624976231 L -73.91547682444254,40.863346107296735 L -73.91548516464034,40.8633007183232 L -73.91547306854314,40.86328033060862 L -73.91545987478219,40.863257073924885 L -73.91545061536708,40.863232984517204 L -73.9154549655414,40.86320845729238 L -73.91542295700886,40.86319418063083 L -73.91541083335669,40.86319548646494 L -73.91534506689362,40.863164542777405 L -73.91541096127453,40.86309491906984 L -73.91538673051143,40.86308438420069 L -73.91544970533428,40.86300651049479 L -73.91549965939653,40.86293812779095 L -73.91552015328243,40.86291007496547 L -73.91556578044948,40.86293107187449 L -73.91557595266745,40.86291610425665 L -73.91556299694946,40.86290925112093 L -73.91557991520052,40.86289599834798 L -73.91558892372458,40.86290113918807 L -73.91559964505785,40.86289215924693 L -73.91559401542851,40.86288915679958 L -73.91560361016748,40.86287975337302 L -73.9156182725241,40.86287890822115 L -73.91567199779993,40.86290242787803 L -73.91568204906041,40.862893905782826 L -73.91569323361941,40.86287981889345 L -73.91571907457939,40.86285286403293 L -73.91578014796727,40.86278915736011 L -73.91581868929798,40.86275125154464 L -73.9158388384917,40.86273143418328 L -73.91585768842077,40.862714940200185 L -73.91586450572522,40.86270897548414 L -73.91586962339933,40.86270449596131 L -73.91593363168728,40.862648487694265 L -73.91595185469559,40.86263145582455 L -73.91595260030212,40.862630756958524 L -73.91610517927772,40.86248814480862 L -73.91616935439097,40.862441260343886 L -73.91620484946901,40.862421286040515 L -73.91622522141259,40.86240541779581 L -73.91627635012748,40.86236559143213 L -73.91639175003208,40.86227570227626 L -73.91640019183053,40.86226912657568 L -73.91642605482267,40.862248980549126 L -73.91649196679447,40.86219763869986 L -73.91652512043842,40.862180503962975 L -73.91653438522638,40.86217571564996 L -73.91656892746097,40.86215786390062 L -73.91659639029278,40.86214637960489 L -73.91660191778598,40.86214195529302 L -73.91661720458559,40.86212972006312 L -73.91663823024993,40.86211289046673 L -73.91664696334848,40.8621059005061 L -73.91666173979021,40.862093634747374 L -73.91672483714159,40.86204125761555 L -73.91673206785221,40.862034730435695 L -73.91674689045284,40.8620213486599 L -73.91675431445417,40.86201464538372 L -73.91676153411382,40.862008128077875 L -73.9167811300425,40.861990437862325 L -73.91678584948336,40.86198617595878 L -73.91679534822488,40.861977601267235 L -73.91685100780673,40.861963608813596 L -73.91687889367472,40.86195358002894 L -73.91692039865879,40.86193172754315 L -73.91695815503745,40.86193325556352 L -73.9169843735389,40.86192504083433 L -73.91700967075883,40.8619127869555 L -73.91701546163455,40.86190998158952 L -73.91705129801854,40.861892622976505 L -73.91706909419595,40.861878268982004 L -73.9170913596197,40.86186030823946 L -73.91715278759457,40.861810761148924 L -73.91723056919928,40.86173654373113 L -73.91727034392633,40.86169469967212 L -73.91729467741682,40.86167941823063 L -73.91734277917358,40.86161732807041 L -73.91737841920235,40.86157097798817 L -73.91740810708946,40.86153273761925 L -73.91740994469343,40.86148637270625 L -73.91746019820951,40.86142946988304 L -73.91748061393727,40.86139863458936 L -73.91750401182637,40.86136332486962 L -73.91751560442538,40.86134992426694 L -73.91753292728922,40.86133573604431 L -73.91754749618079,40.86132313129047 L -73.91756413342195,40.86130683580154 L -73.91757176600538,40.86129211697162 L -73.91759256564345,40.861276364714385 L -73.91761405307712,40.861261125565434 L -73.9176563633175,40.86122119177232 L -73.9176882562444,40.861192821693955 L -73.91772917654824,40.86114499922022 L -73.91778534143998,40.8610935042629 L -73.91780823442265,40.86106355285188 L -73.91782702380148,40.86104278280526 L -73.91782221945574,40.86102443659887 L -73.91783553765003,40.8609969359274 L -73.91782468139057,40.86098042213539 L -73.91782136420322,40.8609489017911 L -73.91784103780017,40.86093144631547 L -73.91786115746805,40.86090065580487 L -73.91786536368916,40.86088446784963 L -73.91787707054966,40.860883836076674 L -73.91788211332283,40.86087367385559 L -73.91790472454431,40.86084987200048 L -73.91790211673528,40.86083961320197 L -73.9179219058387,40.86082542617208 L -73.91792234646307,40.86081399922546 L -73.91788387387612,40.860802221270625 L -73.91792828566334,40.86074989768184 L -73.9179506177171,40.86073198472936 L -73.9180522105659,40.860621098438855 L -73.91826264968338,40.86040482431119 L -73.91843439251785,40.86022153339527 L -73.91836074527978,40.860195809044086 L -73.91837648027335,40.860170138029865 L -73.91838738720058,40.860135297397825 L -73.91839903543193,40.860096197508376 L -73.91839311217645,40.860080469421916 L -73.91841071714774,40.86004867742146 L -73.91842828384398,40.860056892617045 L -73.91843100240952,40.860045612185054 L -73.91843508111562,40.860017915606214 L -73.91845133777636,40.85999124584131 L -73.91846755096886,40.859992283211895 L -73.91849190290448,40.859970760616775 L -73.9185000296487,40.85995024476259 L -73.91852845077696,40.859918459210654 L -73.9185595395527,40.85990719830251 L -73.91858793825631,40.85989387361195 L -73.91861094928483,40.8598631103016 L -73.91860422359038,40.8598354076015 L -73.91860966058996,40.859811808084224 L -73.91862051432193,40.85978206428482 L -73.91864215241449,40.85976771710835 L -73.9186665028499,40.859739008230505 L -73.91867866057473,40.859748246660274 L -73.91869488994594,40.85973492157373 L -73.91869354554879,40.85972877034594 L -73.91870302556352,40.85971645820534 L -73.91868681416331,40.859705163924076 L -73.91873839393091,40.85964830753148 L -73.91872079932342,40.85964222493359 L -73.91880140046707,40.859558095732666 L -73.91877796600036,40.85954675131652 L -73.91888577964981,40.85943916349724 L -73.91890338201657,40.85941804164173 L -73.91900350576377,40.85931346590106 L -73.91913611131909,40.85917299234001 L -73.9192321799137,40.85907661750323 L -73.91933772085359,40.85896383360426 L -73.91940131157715,40.858899249081375 L -73.91943853541449,40.85885542134399 L -73.91948096295053,40.85881393735841 L -73.91950213660927,40.85879113379047 L -73.91952342324122,40.858783633211964 L -73.9195456419015,40.85879161594645 L -73.91954627335295,40.858798577983265 L -73.91980771609529,40.85891081244989 L -73.92008353369317,40.85902456583111 L -73.92027570855173,40.85910140332375 L -73.92026652422767,40.85911033099179 L -73.92034495747804,40.85914325674757 L -73.9203980513709,40.85916150233046 L -73.92041299163506,40.85914655080127 L -73.92043467150586,40.859120946591695 L -73.92044466588784,40.859124492077136 L -73.92046134307469,40.85910326112519 L -73.92032551794722,40.85904349210987 L -73.92026958923756,40.85901867159196 L -73.92024228428149,40.8590110614035 L -73.92020833439089,40.85899586467843 L -73.9201983463336,40.85898725863443 L -73.92009647993564,40.85894521618595 L -73.9200691729343,40.858938614947505 L -73.9199566565892,40.85888644357646 L -73.9199353497549,40.858880863670024 L -73.9199087158952,40.8588671935468 L -73.91984679689206,40.858843882069536 L -73.91977223409496,40.8588018582985 L -73.91977424610863,40.858794772291134 L -73.9198414912715,40.85882719172704 L -73.91991539174754,40.85885859854209 L -73.91996200375146,40.85887836026844 L -73.92007317233627,40.858926343959574 L -73.92047868273164,40.85910409209883 L -73.92043089498738,40.85915500079305 L -73.92044055434958,40.85916101282756 L -73.92043350742901,40.85917235515501 L -73.92050906689413,40.85920510375508 L -73.92050818037748,40.85921245071375 L -73.92061976769563,40.85925924508324 L -73.92065316209782,40.85926326599645 L -73.92067070680031,40.85928997791524 L -73.92069792257469,40.85932403533704 L -73.92069348890543,40.859351398048304 L -73.92074793277065,40.85939815249676 L -73.92081547121266,40.85952299932427 L -73.92082481039876,40.85953762397841 L -73.9209663898829,40.85975936332761 L -73.92107166676902,40.85993630055109 L -73.92120245201025,40.86009856883876 L -73.92127091296314,40.86018804281668 L -73.92132187073454,40.86021411051681 L -73.9213403221297,40.86021678989973 L -73.92134560571338,40.8602127856764 L -73.92136406183823,40.86021146544206 L -73.92139397626869,40.86019080173543 L -73.92143091729884,40.860174806652395 L -73.92145906374991,40.86016281389901 L -73.92151623522292,40.860130812815925 L -73.92151624388411,40.86012347346225 L -73.92154265042426,40.86009880067782 L -73.92155671740977,40.86009947664997 L -73.92159014848228,40.86007280002688 L -73.92163335462689,40.85996404097663 L -73.92166068449616,40.859890650861324 L -73.92168799950892,40.85983994521572 L -73.92170654327566,40.85976520860326 L -73.92171803927076,40.859711825914076 L -73.92170136023321,40.85969379563047 L -73.921710175143,40.85967244240075 L -73.92173654090283,40.85967246028849 L -73.92173832622473,40.85964710317343 L -73.92172252011011,40.85963373783406 L -73.9217040673148,40.859631060186175 L -73.92168648450196,40.85963572198345 L -73.92169705737565,40.8596116954394 L -73.92168123846965,40.859609019072806 L -73.92166455789798,40.859592321597304 L -73.92167072779482,40.85958097977288 L -73.92166897017356,40.85957230640452 L -73.92164788416537,40.859570949890795 L -73.92164878482419,40.85955093398916 L -73.92169009920312,40.85954762061971 L -73.92173052181315,40.85955566202522 L -73.92171996443375,40.85956766728357 L -73.92175425140597,40.85956902335621 L -73.92174017250262,40.859579694083365 L -73.92175862854315,40.85957903969068 L -73.9217692081425,40.85955901979745 L -73.92180348498401,40.85955904303377 L -73.92180349832373,40.85954769753197 L -73.92181669341474,40.859542365833605 L -73.92181579426183,40.8595603930693 L -73.92183337804897,40.85955506534808 L -73.92183602852774,40.85954038021452 L -73.9218395729169,40.85952169724194 L -73.92182640001633,40.859508343081615 L -73.92180092710002,40.85949497170502 L -73.92178421372903,40.85949696897946 L -73.92178423413667,40.859479616434236 L -73.92178951542857,40.859475612188575 L -73.92179128111253,40.8594669330016 L -73.92178337916724,40.85946025586462 L -73.92177813999356,40.859436892705396 L -73.9217553152327,40.859410853164086 L -73.92174475909623,40.85941151174207 L -73.92172807855678,40.859394815447835 L -73.92173862702762,40.859391481185064 L -73.92174216515193,40.859378138851504 L -73.92178084462995,40.85937616585844 L -73.92180105814842,40.85938351774828 L -73.92181422123245,40.85939487385554 L -73.92184589125206,40.85938288171891 L -73.92182743857516,40.85937152320408 L -73.92179318314092,40.859352814615036 L -73.92180638758404,40.85932879922486 L -73.9218362834467,40.859323479344056 L -73.92184158900773,40.85930012500566 L -73.92185654400586,40.85929078717133 L -73.92185568980084,40.85927076019469 L -73.92186363617589,40.85924073418788 L -73.92187159464766,40.85920002908449 L -73.92186633783652,40.85918134014976 L -73.92184878326479,40.859162642885344 L -73.92181013137603,40.859141256311325 L -73.92182860052966,40.85912859049979 L -73.92181807326544,40.85911523813002 L -73.92179523134098,40.85910387546242 L -73.92175392059856,40.85909383425401 L -73.92171348569525,40.859096472454404 L -73.92170031211967,40.85908378468562 L -73.92168362346402,40.859074434775295 L -73.92167133304652,40.85906707886239 L -73.9216563779765,40.85907574909288 L -73.9216414419969,40.859068400259076 L -73.92162299102333,40.85905570001833 L -73.92157640358266,40.859055001953564 L -73.92156323476758,40.859038306848646 L -73.92153688128283,40.859028284441166 L -73.92151667805082,40.85901158404418 L -73.9214964754598,40.85900556492635 L -73.92148241816888,40.85899687380335 L -73.92145693841896,40.85898017148002 L -73.92143674687571,40.85896481260302 L -73.92141478438384,40.85895210943493 L -73.92140688831232,40.85893942522679 L -73.92139545451538,40.858940083845056 L -73.92138491884857,40.85893207207072 L -73.9213620792983,40.85891937700612 L -73.92134098678983,40.85891268984172 L -73.92132253891837,40.85890733762698 L -73.92130672674394,40.85889931286584 L -73.92129619437267,40.85887995389813 L -73.92131378782533,40.85887529166451 L -73.92134542016225,40.85888532810859 L -73.92137001739772,40.85889669038685 L -73.92138847158147,40.85889670296219 L -73.92137003870111,40.8588786714329 L -73.92133313153477,40.858866633349265 L -73.92130940178662,40.85886394316088 L -73.92127775129012,40.85886926170828 L -73.92125580136796,40.85884655352703 L -73.92123913926534,40.85881451204279 L -73.92123916377005,40.85879381975468 L -73.92124971927124,40.85878448837608 L -73.92125502240951,40.85876313160797 L -73.92126384154847,40.85873710468039 L -73.9212568347568,40.858715082986954 L -73.92123928232209,40.85869371179081 L -73.92121027761029,40.85868901775311 L -73.92118832732737,40.85866631123322 L -73.92117253002353,40.85864561584177 L -73.92113298285794,40.858638906647386 L -73.92110400043433,40.858616194633946 L -73.92110930043289,40.85859751288116 L -73.92112073232286,40.8585881827834 L -73.92110317429258,40.85857215153366 L -73.9210891142833,40.858566801779105 L -73.92108561693331,40.85855611977908 L -73.92107155243096,40.858553444528184 L -73.92110236769079,40.858512753934214 L -73.92111383643032,40.85847271718299 L -73.92112177944222,40.85844535685077 L -73.92109189655196,40.85844132909276 L -73.92108224017778,40.85843265148383 L -73.92106819230465,40.858417288031646 L -73.92106558355208,40.85839726855676 L -73.92105857633993,40.858374571228254 L -73.92107355499476,40.8583452163224 L -73.92107885124759,40.85832986610281 L -73.92105864446825,40.85831717344759 L -73.9210788726283,40.85831184831978 L -73.9210876764655,40.85829984124802 L -73.921063950884,40.85829381914127 L -73.9209971288288,40.85830377722348 L -73.9209874801556,40.858289758969825 L -73.92094165735575,40.85828441491405 L -73.92092950082893,40.85825501412292 L -73.92091459857788,40.85821896663768 L -73.92093869016952,40.85812067446148 L -73.92081205174524,40.85808225560548 L -73.92066414958991,40.85803608476012 L -73.9206600093851,40.85802724891317 L -73.92062427494886,40.858016814772334 L -73.92060931660876,40.858018696153046 L -73.92048438547526,40.85823254806245 L -73.92035142875447,40.858195220619145 L -73.92036477249769,40.85816493709914 L -73.92047278308777,40.858195304332554 L -73.92048278543031,40.858171961497774 L -73.92042547044447,40.858147311304485 L -73.9204312940552,40.85813722087093 L -73.92049359805804,40.858165341058644 L -73.92050776371408,40.858142001090535 L -73.92050777201256,40.85813505809411 L -73.92047369719573,40.85812557088672 L -73.92047870523533,40.85811294928199 L -73.92051858770833,40.85812623254584 L -73.92055690666037,40.858058100919855 L -73.92052448982926,40.858049874644 L -73.9205311556114,40.85803978528797 L -73.92055940739421,40.85804926796666 L -73.92058272320148,40.85801141923441 L -73.9205436678215,40.85800066666611 L -73.92056616182887,40.85796439326242 L -73.92053125929233,40.85795301382892 L -73.92053626149335,40.85794544354678 L -73.92056783382267,40.857955559738315 L -73.92059865529563,40.85789878704377 L -73.92058121435343,40.85788362925942 L -73.92056957361457,40.85788866436666 L -73.92056458747457,40.85788297887909 L -73.92058288710615,40.85787415680172 L -73.92061195368194,40.8578956365385 L -73.92061194313837,40.85790446953135 L -73.92077315152538,40.85794118585793 L -73.92077568813251,40.85790332113988 L -73.92072417703403,40.85788498852893 L -73.92075084244313,40.8578319951105 L -73.92075835110646,40.857810540535226 L -73.92071431024065,40.85779473427549 L -73.9207184866392,40.85778338174711 L -73.92070601599154,40.8577783218473 L -73.92068020565321,40.85781995106413 L -73.92067272424286,40.857817424694936 L -73.92069520768334,40.8577808351413 L -73.92063119159806,40.85779593807325 L -73.9206287145369,40.85778458097081 L -73.92069356299963,40.857767893842095 L -73.92069440518277,40.85775716974774 L -73.92067862502542,40.857752747676464 L -73.9206744727128,40.8577439019374 L -73.92068280608281,40.857727500938616 L -73.92070610816093,40.857701014101934 L -73.92071524126261,40.85770985505422 L -73.92072604222558,40.85771238319908 L -73.92074102474623,40.8576997783191 L -73.92074018031839,40.857712392912646 L -73.9207118650148,40.85775592096779 L -73.92070770216488,40.857766643785254 L -73.9207176690908,40.85777233268959 L -73.92072099675325,40.85776665292144 L -73.92074591736552,40.857774872820706 L -73.92075009406689,40.85776289023629 L -73.92085894403364,40.85779577941525 L -73.92085476658929,40.85780840110435 L -73.92082485064827,40.85780143807837 L -73.92081902487516,40.85781341970117 L -73.9208580664561,40.85782607154619 L -73.92090874735558,40.857843772803285 L -73.92091792340267,40.857817277915004 L -73.92095947032021,40.85782740083621 L -73.9209553090454,40.857834971712954 L -73.92100848746325,40.857847632689 L -73.92101432159713,40.857838803180556 L -73.92100188046808,40.85781796615766 L -73.9209827823833,40.85780154635139 L -73.92098779381675,40.85777630838013 L -73.92096035984801,40.85778701426214 L -73.92095035684841,40.85781035713931 L -73.9208240798597,40.857752207481546 L -73.9208399142182,40.857721294888435 L -73.92096286020842,40.85777881319741 L -73.92097118010614,40.857773136841935 L -73.92098531723386,40.857764312351854 L -73.92098948520308,40.85774979964861 L -73.92097620645457,40.857735905051605 L -73.92096290445855,40.85774157749198 L -73.92092883675438,40.8577264083683 L -73.92093134355561,40.85772262741051 L -73.92092137657244,40.85771567858191 L -73.92091720674985,40.857721347894746 L -73.92091056810692,40.85771945284379 L -73.92091472483574,40.857714404363506 L -73.92090475572977,40.857709985133646 L -73.92090225899005,40.85771439581781 L -73.9208922874603,40.85771312803329 L -73.92089395343793,40.85770745583194 L -73.92087484340276,40.857701129947436 L -73.92087151368248,40.85770744044383 L -73.92086403145025,40.857706165652914 L -73.92086987022236,40.85769418520919 L -73.92089728099384,40.857702406783766 L -73.92090394377358,40.85769420857397 L -73.92091142601697,40.85769547347846 L -73.92090725459599,40.85770304384412 L -73.92091722324945,40.85770747178466 L -73.92092388660177,40.85769990379673 L -73.92093219665327,40.857703060940175 L -73.92092553330018,40.85771063010125 L -73.92093550328045,40.857715057538556 L -73.92095880812545,40.85768541149859 L -73.9208898545143,40.857663906180335 L -73.92091400831144,40.857619113275405 L -73.9208915753443,40.85761341584088 L -73.92088491030913,40.85762351560539 L -73.92081427830648,40.85760706042052 L -73.92078761914497,40.85765437063229 L -73.92077266841041,40.85764993976195 L -73.92079765383637,40.85760388767716 L -73.92077605235166,40.85759756056833 L -73.92078855913654,40.85757169870144 L -73.9207835691489,40.85756980360237 L -73.92071949545583,40.85763286578187 L -73.92069706927523,40.85762148676181 L -73.9207553213051,40.85755715914571 L -73.9207719579765,40.8575489666209 L -73.92078857040981,40.85756223330818 L -73.92079356302033,40.85755340323265 L -73.9209007566253,40.85758249917923 L -73.9208940840524,40.857597641557724 L -73.92091900484338,40.85760586142001 L -73.92092983808878,40.85759199222079 L -73.92098217660374,40.85761221698066 L -73.92100215706553,40.8575850987588 L -73.92094565691806,40.8575642327251 L -73.92095148909624,40.85755666349577 L -73.92101011202341,40.85757846860788 L -73.92101505160254,40.857573581482214 L -73.92101050029311,40.85757127391589 L -73.9210165717232,40.857561776989044 L -73.92102453923815,40.85756407868502 L -73.9210319869217,40.85755504439364 L -73.92090011378167,40.85749428733865 L -73.9209094307288,40.857478777383506 L -73.92093729165364,40.85748726226912 L -73.92094474783693,40.85747033747435 L -73.92099676230845,40.857484474879676 L -73.92103583613059,40.857439359462425 L -73.92101354984871,40.85742946602831 L -73.92104891513684,40.85738152111157 L -73.92106933540849,40.857394233182 L -73.92109350791367,40.857382956301315 L -73.92116405945616,40.85743662069778 L -73.92113244275014,40.85745494138227 L -73.92107291328595,40.857516980282604 L -73.92112119690329,40.857536770833164 L -73.92118439137644,40.85752410721187 L -73.92122323658648,40.857522330353795 L -73.9213047520937,40.85742065143315 L -73.92136378026808,40.857399965363875 L -73.92140169782748,40.857389597553905 L -73.92145963506647,40.85736725288175 L -73.92151967268634,40.85734890638003 L -73.9215555046349,40.857321750596235 L -73.92158397060004,40.85728979192766 L -73.92159242598987,40.85726341560263 L -73.92158614447962,40.85723223373973 L -73.921579852046,40.85721144384182 L -73.92155849622625,40.857152702522846 L -73.92155857155751,40.857088830629124 L -73.92159160704566,40.85706515423341 L -73.92161794209794,40.85705477965234 L -73.92164638409345,40.857043606572375 L -73.92166323981638,40.85703562380639 L -73.921703268055,40.85702126106146 L -73.92174434054147,40.857013294715706 L -73.92180121504491,40.8569989433622 L -73.92183702160173,40.856992571921474 L -73.92186334597855,40.85699179049922 L -73.92188651896566,40.856984611232534 L -73.92190021806313,40.85697502778721 L -73.92191814231161,40.85695425312491 L -73.92194132896716,40.856934283619374 L -73.9219697849263,40.85691111831293 L -73.9220449221591,40.856854159584174 L -73.92207464948137,40.856779491241035 L -73.92215747202285,40.8567662474764 L -73.92216865147306,40.856738446818866 L -73.92214637159866,40.85672634079115 L -73.9221097526086,40.85672027116323 L -73.92216714728863,40.85666348247119 L -73.92221972249493,40.85664175463899 L -73.92224682582719,40.85661396470769 L -73.92229299127169,40.85662729498476 L -73.92233282523728,40.85660797655005 L -73.92237695742354,40.85658356962483 L -73.92237142624975,40.85628034165375 L -73.92234465187754,40.85625312253744 L -73.92237468647139,40.856215053473136 L -73.92237580865435,40.855978349455484 L -73.92234459374129,40.85568233581486 L -73.92234217898556,40.855685461012676 L -73.9223363626243,40.85569298743926 L -73.92232971276393,40.85570159265731 L -73.92232888081013,40.85570267178517 L -73.92232785330076,40.85570400173132 L -73.92219572192126,40.85587499055045 L -73.9221787422939,40.85589696519633 L -73.92218117594757,40.85589995310893 L -73.9221829564415,40.855903194713825 L -73.92218404128785,40.85590660873356 L -73.92218440300834,40.85591010854007 L -73.92218403221781,40.85591360667985 L -73.92218293740302,40.85591701537637 L -73.92218114624356,40.855920249043876 L -73.92217870362477,40.855923225458625 L -73.92217567339671,40.85592587095341 L -73.92217212888963,40.85592811806574 L -73.92216815974797,40.85592991040068 L -73.92216386729518,40.85593120413541 L -73.92215935791673,40.85593196633962 L -73.92215474438098,40.855932177321556 L -73.92215014297047,40.8559318311289 L -73.92206335132524,40.85605391178443 L -73.92207704565459,40.85605913536592 L -73.92195201468982,40.85623699044726 L -73.92187322153121,40.85634966205607 L -73.9218876011372,40.85635513372327 L -73.9218175009566,40.856454224365635 L -73.92183549330603,40.85646214131247 L -73.92176508454413,40.85656586859014 L -73.92177019744639,40.85656789490125 L -73.92169841904696,40.85667230185494 L -73.92151894059089,40.856601170623186 L -73.92159078705228,40.856496661134166 L -73.92159696512884,40.85649911033569 L -73.92167181691566,40.85639401600257 L -73.92168970374028,40.8564006434736 L -73.92175965629761,40.85630468180847 L -73.92182325044611,40.85632912586351 L -73.92202956731796,40.856040055047735 L -73.92204171700529,40.85604505428092 L -73.922129095313,40.85592262927441 L -73.92212701759897,40.855919408911056 L -73.9221256357995,40.855915977100395 L -73.92212498555787,40.85591241896835 L -73.92212508375181,40.855908829512046 L -73.92212592520548,40.85590529500255 L -73.92212749215768,40.85590190957594 L -73.92212974214688,40.85589875797036 L -73.92213261947896,40.8558959202243 L -73.92213604839013,40.85589346932677 L -73.92213994408353,40.855891467204145 L -73.92214420566864,40.855889964882905 L -73.9221487254288,40.85588900182583 L -73.92215338838638,40.85588860040342 L -73.9221580751638,40.85588877209424 L -73.92218505751363,40.8558474155497 L -73.92221895084695,40.85579546579651 L -73.92223557106671,40.855771185948434 L -73.92225931710539,40.85572561566741 L -73.92227219913848,40.855700892373335 L -73.92228113774074,40.85568693163893 L -73.92228832283226,40.855675713420005 L -73.92228837057662,40.85567563890427 L -73.9222961101451,40.855663835229194 L -73.92227873064483,40.85565498884374 L -73.92240035875284,40.855510055974385 L -73.92266929695293,40.85517977496073 L -73.92281985673772,40.854988676511205 L -73.92290114139594,40.8548855053087 L -73.92313298516514,40.85458947031775 L -73.92341584183623,40.85422580636216 L -73.92360595220678,40.85397719803465 L -73.92400939220512,40.85343695391792 L -73.9244406513995,40.852840472704386 L -73.92467021184014,40.852506639577854 L -73.92497396914042,40.85207090936957 L -73.92502191229718,40.852021710424026 L -73.92503326859803,40.85199378494459 L -73.92507294866866,40.851942220704466 L -73.92510980271015,40.851892817511 L -73.9251466652887,40.85183695594678 L -73.92515518101455,40.85181547591898 L -73.92517217729039,40.851802592329285 L -73.92521754031061,40.85173813710848 L -73.92527707938275,40.85164791170491 L -73.92529694152749,40.85160708720739 L -73.9253479660684,40.85153834833882 L -73.92542451604866,40.851422334244376 L -73.92548973032311,40.8513267343892 L -73.92553224547362,40.85127303036418 L -73.92554359303259,40.851242951311264 L -73.92563999034684,40.85109901600742 L -73.92566267418448,40.85106893704502 L -73.92573638681272,40.85095507157285 L -73.92575544274938,40.85092631771205 L -73.92585363309088,40.85077814704246 L -73.92587970419625,40.850752743448005 L -73.9258946157337,40.850716021158725 L -73.92602877508632,40.85051412720933 L -73.92623817249398,40.850207175479845 L -73.92625607778913,40.85018092828889 L -73.92649455759482,40.84983926318869 L -73.92671439092585,40.849532892486465 L -73.92692303519834,40.84925053211063 L -73.92711679645468,40.8489681607699 L -73.92725466369208,40.848763440050874 L -73.92740369127668,40.848557312118054 L -73.92752293332548,40.848379413766985 L -73.92765334858244,40.84818740307524 L -73.92797377830446,40.84772713626876 L -73.92813798976536,40.84749163370045 L -73.92821693262093,40.84738013744654 L -73.92839151036594,40.84713222929974 L -73.92842200947668,40.84708268101525 L -73.92845501928944,40.84703147378572 L -73.92848994827723,40.846981957881525 L -73.92928544019534,40.845854221201265 L -73.92932522842061,40.84579501208145 L -73.92938078797043,40.84571308802421 L -73.92942845919366,40.84564416196216 L -73.92961778841178,40.84537197685635 L -73.92967631216543,40.845289599968176 L -73.92971850477537,40.84523177826375 L -73.92976558965162,40.845155498584745 L -73.9298142904901,40.84507738364217 L -73.92986949219903,40.84498388307107 L -73.92992306713158,40.844894073705056 L -73.92998963816937,40.84476919693722 L -73.93004648072028,40.844660929727574 L -73.9300984461563,40.84455511760722 L -73.93015203635434,40.84444930594291 L -73.9302235221325,40.84428444159572 L -73.93027389095327,40.844163491990564 L -73.93031939529575,40.8440441406138 L -73.93039902075694,40.84382880869292 L -73.93045266598449,40.8436811598807 L -73.93049978822178,40.84355565022295 L -73.93054530049933,40.84342854608865 L -73.9305696689228,40.8433719473011 L -73.93057942780864,40.84333749991762 L -73.93062818153543,40.843205840884806 L -73.9306752990735,40.84308525801463 L -73.93069805828596,40.84302311939354 L -73.9307273630006,40.842939705502864 L -73.93077282921939,40.84281025121564 L -73.93078580763273,40.842793033211535 L -73.93080204561862,40.8427659647572 L -73.93081019415838,40.842717972930494 L -73.93089465201425,40.8425383401419 L -73.93097488039668,40.842400432568006 L -73.93122229886856,40.84193119781957 L -73.93135888954943,40.84168834062202 L -73.93152929686632,40.84138537554253 L -73.93183461490898,40.84083697355192 L -73.93216201657155,40.84025506805082 L -73.93279555797109,40.839123750040685 L -73.93295973246724,40.838785781857844 L -73.93309918150788,40.838543474788565 L -73.93316806379079,40.83842168134445 L -73.93326669730261,40.83825027144845 L -73.93335684361476,40.83808787017981 L -73.93341807218596,40.837971880038886 L -73.93346654180938,40.83789132552337 L -73.93353117016918,40.83776630606937 L -73.93363830694624,40.837579421701356 L -73.93377517793459,40.83737128547616 L -73.93390952876399,40.83713285480002 L -73.93401498008389,40.83693436237366 L -73.93410258068505,40.83676616873627 L -73.93419823237814,40.83657279307637 L -73.93428447793849,40.83638384364893 L -73.93431245358917,40.836318503157095 L -73.93436132705641,40.83620077559343 L -73.93445239397371,40.83598096014986 L -73.93456051826975,40.83586608172803 L -73.9347546645061,40.83558930034183 L -73.93475368707841,40.83556982111422 L -73.9348051403926,40.83542747264596 L -73.93481898168221,40.83539825039465 L -73.93483181137556,40.83538552549233 L -73.93484813571963,40.83535143220733 L -73.93486985067806,40.835332715131045 L -73.93489460041994,40.83525404312232 L -73.9349153357865,40.83523082193877 L -73.93493620828455,40.83508021765153 L -73.93494225855345,40.835026875417256 L -73.93495859566923,40.83488277904472 L -73.93497941208626,40.834789121453554 L -73.93498833140688,40.83474865789363 L -73.93495087178461,40.83470667336768 L -73.93495775984087,40.83468276036335 L -73.93496523015561,40.83465684795366 L -73.93496624164145,40.83462912364824 L -73.93497316061179,40.83462163504161 L -73.93497219073525,40.83460814479754 L -73.9349938973666,40.83459766618305 L -73.9350306032399,40.834392365341266 L -73.93503612427713,40.83429832034332 L -73.93503124118601,40.834248862849485 L -73.93504212490856,40.83421139923446 L -73.93507644502898,40.833924043287055 L -73.93506958098244,40.833887317502196 L -73.93508341363373,40.83386559692961 L -73.93509687471908,40.833715356792226 L -73.93509690469142,40.83368463190985 L -73.9351038425559,40.833657656917836 L -73.93511245100076,40.83342573907346 L -73.93511743048042,40.83337703478394 L -73.93512041704227,40.83335380357004 L -73.93513225848744,40.83334482290501 L -73.93512636041868,40.83332608035625 L -73.93512935500891,40.83329460947995 L -73.93512443552814,40.833281118687765 L -73.93513826819031,40.833260144258226 L -73.93513729127854,40.83324141318858 L -73.9351304030063,40.83322866727349 L -73.93512154973673,40.83320169277661 L -73.93512352949861,40.833189699006276 L -73.93511565892258,40.83317620588328 L -73.9351324360264,40.83316272562033 L -73.93513935847737,40.83315149100032 L -73.93512752379407,40.8331424888091 L -73.93512465984577,40.8330510690293 L -73.93512171853354,40.83302859034758 L -73.9351158094604,40.8330218421729 L -73.93511187882302,40.833003100729215 L -73.93511979365522,40.83298362817418 L -73.9351178302057,40.83296713902449 L -73.93512376770083,40.83294541299673 L -73.93512085547364,40.83290419576848 L -73.93513170518375,40.8329026976737 L -73.93514455114399,40.832884722036496 L -73.93516725294587,40.83287499277847 L -73.9351648084094,40.83285288326425 L -73.93515659173335,40.83268240673983 L -73.93512878131628,40.8323635344769 L -73.93511398341515,40.83236577683715 L -73.93507789246172,40.83194162361134 L -73.93509565184881,40.83194238126702 L -73.93508783728589,40.83185919835002 L -73.93506824974105,40.83170406762576 L -73.93502275465517,40.83131999954985 L -73.93498505621454,40.83102735335793 L -73.93493515655047,40.83060244471324 L -73.93489353332376,40.83028656383773 L -73.9348308720848,40.82980843705177 L -73.93479881905735,40.82979230914966 L -73.93480080676933,40.82977283325498 L -73.93478996278795,40.829768324076724 L -73.93479293827903,40.82975634075214 L -73.93478111085774,40.829740593669825 L -73.93477028229691,40.829720361694214 L -73.93475944294428,40.82970012100016 L -73.93476343288322,40.82965740394857 L -73.93474372591281,40.829637168120136 L -73.93473930830946,40.82960906144653 L -73.93474919492779,40.82959708136341 L -73.9347373734992,40.829574589425214 L -73.93472260127821,40.829550600495594 L -73.93472557699927,40.829527369270835 L -73.93471476025762,40.82949514407968 L -73.93470100252416,40.82944043079998 L -73.93469412707366,40.82941645571857 L -73.93471288560674,40.82940072594463 L -73.93470504902284,40.829340774690515 L -73.93469321669619,40.829328773601276 L -73.93467597101817,40.829313402210495 L -73.93466228987833,40.829180759946 L -73.93468302702506,40.82916578733352 L -73.9347076940248,40.82915830979219 L -73.93470080780723,40.829132074133895 L -73.93468107924811,40.82913355828133 L -73.93467714880202,40.82911632854789 L -73.93467025222027,40.82911257042637 L -73.93465447618152,40.829097576961054 L -73.93464959243248,40.82904811940702 L -73.93466193198351,40.829038760294466 L -73.93466295225556,40.829014033814055 L -73.93466495971363,40.82897356682648 L -73.9346561102258,40.828942836386105 L -73.93465515536506,40.82891285858107 L -73.93463641852125,40.82890686014902 L -73.93461640343897,40.82869365579329 L -73.93461171264785,40.828689835259425 L -73.9346026032382,40.82868240123771 L -73.93460883576688,40.828661188682084 L -73.93461052506869,40.82865543619221 L -73.93460804993306,40.828653363018155 L -73.93460065845267,40.8286471827156 L -73.93459873640631,40.82860072400894 L -73.93460192118351,40.8285925492986 L -73.93461159553205,40.828567755186164 L -73.93460917445479,40.828521674968094 L -73.93461017716513,40.82850293629017 L -73.93461219001,40.82845722914902 L -73.93460433489888,40.82842800279465 L -73.93460731363092,40.82840102556371 L -73.93460043185588,40.82838228241436 L -73.93460834555331,40.82836355753898 L -73.93459750565475,40.82834482035353 L -73.93460048488119,40.82832833398507 L -73.93459360040842,40.82830135116011 L -73.93458674147797,40.828259384992435 L -73.93459562914447,40.82825114985734 L -73.93458676210544,40.82823840277646 L -73.9345917047489,40.828227167559824 L -73.9345976397154,40.82820843167848 L -73.93458877267246,40.82819569397903 L -73.93458684240751,40.82815671957138 L -73.93456513010248,40.82816270444937 L -73.93455810179866,40.82811740277773 L -73.93454586266019,40.82804816146417 L -73.93454230638145,40.828026870313025 L -73.93453258880517,40.827968558864285 L -73.93452175638055,40.827907800091346 L -73.93453898134064,40.82790347267072 L -73.93453183092765,40.827849402043405 L -73.93452076528119,40.82776568965103 L -73.93451590672417,40.82772893075846 L -73.93442396339051,40.82704289397213 L -73.93448291058759,40.82703709277875 L -73.93446426549492,40.82684220519346 L -73.93442844400516,40.82646785059143 L -73.93436717955328,40.82582759866106 L -73.93435643452149,40.825820937144336 L -73.93432574289122,40.82523259029441 L -73.93429530732777,40.82464923122277 L -73.93429371670564,40.82449638691722 L -73.93427285440853,40.824438952751315 L -73.93424642895086,40.824166883037186 L -73.93421834803297,40.82379904579012 L -73.93416594530659,40.82307858087096 L -73.9341465766699,40.823029032050414 L -73.93414604382139,40.82302061918037 L -73.9341337362534,40.822800655976785 L -73.93412126165074,40.82264725274171 L -73.93411752612663,40.82252433268844 L -73.9341023336635,40.822201216916724 L -73.93409986738219,40.822139912843674 L -73.93409843799962,40.82210422734383 L -73.93409112517372,40.821996037990104 L -73.93407944723481,40.82180557579623 L -73.93407434354855,40.82171709911025 L -73.93407734095156,40.82169456177003 L -73.93407005522698,40.821559320934185 L -73.93404447476468,40.82117670357439 L -73.93404599779083,40.821133876520214 L -73.93403560443178,40.82095254728246 L -73.93402662334587,40.82081680975286 L -73.93400389615694,40.82039784018412 L -73.93400069207455,40.82033819717464 L -73.93398295705482,40.819999920201724 L -73.93398664640615,40.81996803472514 L -73.93397241531086,40.819729574765624 L -73.93383009163675,40.819719743429644 L -73.9338307684021,40.81959665797983 L -73.93383000695961,40.819491095085105 L -73.933827774217,40.819415494918815 L -73.9338261413771,40.819356429750336 L -73.93380019473047,40.818349758873964 L -73.93379334625779,40.81777660857971 L -73.93378997399208,40.81715137370164 L -73.9338058988187,40.816512493247096 L -73.93382900884609,40.81558536018747 L -73.93394608825346,40.815587624739145 L -73.93394609933723,40.81557645756464 L -73.93394170146236,40.815565298418235 L -73.93394905857524,40.815556369558514 L -73.9339505415139,40.81554298000992 L -73.93394173470436,40.81553180845374 L -73.93394175021217,40.81551618496335 L -73.93395205657897,40.8154972187218 L -73.93395353730935,40.81548605238901 L -73.93393445709582,40.81547153450891 L -73.93394623227609,40.8154425179763 L -73.93393892276255,40.81541572428052 L -73.93394921255539,40.81540122322665 L -73.93394628434706,40.81539005487055 L -73.93395659090902,40.815372204173784 L -73.93394853112643,40.81534820251395 L -73.9339485543914,40.81532476149804 L -73.93394858430486,40.815294621684735 L -73.93395302092101,40.81526672687829 L -73.93395452158192,40.815235472026664 L -73.93394426378258,40.81520532581688 L -73.93394870283142,40.81517519791033 L -73.93394725313911,40.8151550979957 L -73.93396344530987,40.815129443023494 L -73.93396788302526,40.81510042295445 L -73.9339635051224,40.81506916406493 L -73.93396941358051,40.81503902711456 L -73.93398565957851,40.81494751042226 L -73.93398936930932,40.81491235703092 L -73.9339820368583,40.81489561278114 L -73.93398352753839,40.81487439749638 L -73.93397473519484,40.81484872821328 L -73.93398210661397,40.814825293078385 L -73.9339733264724,40.81478733186029 L -73.9339909751146,40.81477506811658 L -73.93397776416134,40.814758311119135 L -73.93398954202262,40.814738227656136 L -73.93399543936422,40.81471925787889 L -73.93398075656604,40.81470474252184 L -73.93398224834006,40.81468242057028 L -73.9339852396395,40.81462995914093 L -73.93397645065996,40.81460093082527 L -73.93396620950341,40.814565211251434 L -73.93399121978345,40.8145283864341 L -73.93401476726979,40.81448375262478 L -73.93385652638817,40.81448147441918 L -73.9338623097275,40.814249296823064 L -73.93386391449283,40.81419273728345 L -73.93386510261902,40.814153157955616 L -73.93386927846697,40.814101174816535 L -73.93387232548962,40.8140632642607 L -73.93392984600194,40.81334769063379 L -73.93398178986824,40.81281463554522 L -73.93400770204939,40.81260849869726 L -73.93403843917879,40.81234088007095 L -73.93409306691922,40.81196840253076 L -73.93413711416069,40.811712370924496 L -73.93419558749171,40.811393177692885 L -73.93428227801395,40.81082305050862 L -73.93430417398088,40.81048166561257 L -73.93431440507302,40.810322264911264 L -73.93434080971474,40.80992758274954 L -73.93433864584739,40.80956221383135 L -73.9342139101698,40.809059173792676 L -73.93419639195773,40.80903185158241 L -73.93413532624055,40.8087363905142 L -73.93412073484298,40.8086564519774 L -73.93356119311481,40.80760067738665 L -73.93332852361837,40.80731894646297 L -73.9332590953999,40.80723724520665 L -73.93318395639766,40.80715619829964 L -73.93317413539492,40.80714539094989 L -73.93308471749714,40.80702691470204 L -73.93293288329292,40.80687102213383 L -73.93263088267577,40.8065529339068 L -73.932390171191,40.806299141471094 L -73.93154417434341,40.805397783326626 L -73.93149604258623,40.805351153706624 L -73.93147549592427,40.80532809293807 L -73.93146707188347,40.805305969805595 L -73.93144891427833,40.80529764576166 L -73.9314319858802,40.80528195789052 L -73.93140904210999,40.805246913811445 L -73.93139090102056,40.805233070162664 L -73.93130511520187,40.80513160696247 L -73.93126947240583,40.805090553712446 L -73.93115949987327,40.80496694026245 L -73.93112688759328,40.8049226779973 L -73.9311140892465,40.80490435101543 L -73.9310979084433,40.804881178032055 L -73.93107375389322,40.8048470510283 L -73.93103390093928,40.80479448221434 L -73.93102787741594,40.80478249455925 L -73.93097654532366,40.80471563251201 L -73.93097535296523,40.804705499397755 L -73.93095843210732,40.804687045793635 L -73.93093429158857,40.804652918767886 L -73.93090936516808,40.804619394019994 L -73.93082801324279,40.804509966805796 L -73.93080628114457,40.804474008308794 L -73.93071630316507,40.80435549733255 L -73.93071028702624,40.80434074466802 L -73.93069577525824,40.80432598857122 L -73.93068733276408,40.8043103127254 L -73.93063902817006,40.80424575296041 L -73.93063179560949,40.804230079513516 L -73.93061004100669,40.804207015681506 L -73.93057261208959,40.80415260421607 L -73.93057263757188,40.80414339187625 L -73.93054243306723,40.80410741884302 L -73.93044280213003,40.80397415009932 L -73.93040536964523,40.8039206656574 L -73.93035345052778,40.80384780524587 L -73.93033292065563,40.803819213614375 L -73.93030876458724,40.80378601587066 L -73.93027860567483,40.803734379225666 L -73.93026171394962,40.803705794136896 L -73.93019175460354,40.80358316519038 L -73.93018329452507,40.80357394771094 L -73.93006020693797,40.80336164866306 L -73.93001261302967,40.80328749842873 L -73.92997373618591,40.80319646797409 L -73.92997862176895,40.80319024588749 L -73.93004460904999,40.8031061117707 L -73.93000931090393,40.8030401356598 L -73.92998288427718,40.802984752996785 L -73.92991008609896,40.802864550747415 L -73.92988948082969,40.80283035745904 L -73.92978668000154,40.80266074871747 L -73.92969251214595,40.80244028594793 L -73.92957693839507,40.802180025215655 L -73.9295204392848,40.802053479615516 L -73.929453663335,40.80190736883599 L -73.9294365411877,40.801861711857406 L -73.92935435998567,40.80167125043788 L -73.9293312697181,40.80159885399087 L -73.92930220396839,40.80149580134897 L -73.92927487688036,40.801373190232695 L -73.92920817595964,40.80114752061126 L -73.92911838814229,40.8011130032263 L -73.9290349024031,40.80108090385186 L -73.92902671406671,40.8009698603143 L -73.92902123584643,40.80089557256167 L -73.92901644642042,40.8008307155421 L -73.92900788120605,40.80077234912535 L -73.92899994866335,40.8007100976927 L -73.92898618762995,40.80060212311935 L -73.9289534865756,40.800309368484676 L -73.92893763668594,40.80017084377765 L -73.92890152344117,40.799855215165266 L -73.92891942515779,40.799458186491485 L -73.92894396946961,40.79891158893545 L -73.92897121002346,40.79825886057973 L -73.92903640179625,40.79676259410125 L -73.92927936741171,40.7958531395206 L -73.92930773275859,40.79581025745303 L -73.92953058056908,40.79550779834925 L -73.92968294251133,40.79529623376308 L -73.92974594691621,40.79520874823406 L -73.92987485778265,40.795035156225744 L -73.92984244753451,40.795015037855904 L -73.92985144395273,40.79500140093114 L -73.92980955349988,40.794983166296696 L -73.92983254042525,40.794949061140784 L -73.92988740651919,40.79496729260393 L -73.92990139788401,40.794946824362476 L -73.929916361206,40.79494911213701 L -73.92993735334552,40.79491878628442 L -73.92992039501047,40.79490967283265 L -73.93006881035538,40.79470082860544 L -73.93010771028146,40.7947129910637 L -73.93019664392844,40.7945932248548 L -73.9304198047997,40.79447087234857 L -73.93111408045336,40.79409650134382 L -73.93142758557963,40.793927988382826 L -73.93165821105745,40.79380174043914 L -73.93179292520253,40.79372796229359 L -73.93187500171743,40.793681921843664 L -73.93201001457187,40.793605486169845 L -73.9320788602171,40.79356650933641 L -73.93235128869082,40.793413845151235 L -73.93250920949684,40.79333190154454 L -73.93253852654895,40.793316682135384 L -73.93267239130897,40.793248232772854 L -73.93287712655092,40.793130251367856 L -73.93310683207807,40.7929953282095 L -73.93324587394645,40.79291429602913 L -73.93327132021129,40.79289946335164 L -73.93348489644649,40.792774171332496 L -73.93372790503639,40.792601477868494 L -73.93388785265701,40.79248947701708 L -73.9340699772652,40.792358294275495 L -73.93427221714605,40.792217315797856 L -73.93434032786627,40.79216796805458 L -73.93451042548634,40.79205129464642 L -73.93473881584458,40.791900768705155 L -73.93505406057963,40.79168623135845 L -73.93510764491633,40.79164888869972 L -73.93517182451616,40.79160473956748 L -73.93526809778403,40.791528025800396 L -73.93526500788937,40.791525763481175 L -73.93519039296174,40.79147116012907 L -73.93546762088405,40.7912636520575 L -73.9355389669594,40.79131869365976 L -73.93583106788908,40.79109470487022 L -73.93602391823781,40.790829128125935 L -73.93632010870607,40.79042595764855 L -73.93669302210031,40.78991304915909 L -73.93706168747065,40.78941359021348 L -73.93705304578882,40.78940641675741 L -73.93708104382303,40.789366395709955 L -73.93707246262228,40.78934584188616 L -73.93701479686742,40.78932128118485 L -73.93614073314123,40.78894907341049 L -73.93612836235297,40.788938530059625 L -73.93612689279686,40.788926867985396 L -73.93621859869954,40.78880049757427 L -73.93622751295345,40.78879561294979 L -73.93624303325052,40.78879577415203 L -73.93714965461105,40.78916844905946 L -73.93722890167295,40.788996308037106 L -73.9373978860931,40.78862171984344 L -73.93741675677393,40.78857976201887 L -73.93754989162579,40.78828374452882 L -73.93763482912287,40.78809424481476 L -73.93768669385376,40.787973560579 L -73.9376956302226,40.78795729352048 L -73.93774122176191,40.78785390435086 L -73.93777363255116,40.78778335806257 L -73.93781722692913,40.78768846868085 L -73.9379476897699,40.787477299429206 L -73.93794590851226,40.78746915925786 L -73.9379593077519,40.78745627992998 L -73.93797181801395,40.78743187338248 L -73.93811570089727,40.78718476275638 L -73.9381335619299,40.78716579039842 L -73.9381942962532,40.78709733029975 L -73.9382451995141,40.78704106810809 L -73.93853937331656,40.7867107770001 L -73.93926642644561,40.785888752564524 L -73.9398261969646,40.78525655241547 L -73.93983453997878,40.785253972861675 L -73.93984282390862,40.78525141086657 L -73.93985267603381,40.78524393165016 L -73.93988045560614,40.78523237601269 L -73.93988852061746,40.785223527347014 L -73.9399100328247,40.78521196675798 L -73.93992974399461,40.78520176553128 L -73.93995483679336,40.78518952279445 L -73.9399897801904,40.785170477290166 L -73.94001308386727,40.78515687380637 L -73.94002473252537,40.78515347642575 L -73.9400498270763,40.785138513728846 L -73.94006415729082,40.78513102962005 L -73.94011434323869,40.785103824644665 L -73.94014947276264,40.78508725537944 L -73.94018512931011,40.78506620256322 L -73.94020230181297,40.78505918714032 L -73.94022475284196,40.7850451507884 L -73.94023795768312,40.78503713468404 L -73.94026700995516,40.78502210145345 L -73.94036209351331,40.784971984082276 L -73.94045320748533,40.78492287258088 L -73.94053377198219,40.78487877160589 L -73.94055093807721,40.784866742096156 L -73.94058130200904,40.784853708709235 L -73.94059054968372,40.78484668914209 L -73.9406235705766,40.78482965041168 L -73.9406737440216,40.78480359792665 L -73.94071732676319,40.78478054106705 L -73.94072128361506,40.78478054310241 L -73.94074901720526,40.78476751820214 L -73.94076750825941,40.7847574951213 L -73.940788680061,40.784747448788615 L -73.94083088142585,40.78472742455636 L -73.94102499731886,40.78463522248635 L -73.94108573710648,40.7846091665167 L -73.94111082838818,40.78459714918305 L -73.94113723613098,40.78458311400423 L -73.94117288854783,40.78456607696247 L -73.94144612018938,40.78443147385159 L -73.94152576810184,40.784390900969875 L -73.94167454195745,40.78431383063191 L -73.94185448592205,40.78422074667741 L -73.94201431753095,40.784137584897415 L -73.94217918595561,40.78405136339483 L -73.94231388874277,40.783981166269 L -73.94239128520968,40.78394072618262 L -73.94243451137065,40.783917830322345 L -73.94246970444772,40.78389646094701 L -73.94257225524878,40.783824724155345 L -73.94260442723565,40.78380183093073 L -73.94267379818284,40.78375374314715 L -73.94278137533362,40.783678190096516 L -73.9428678379267,40.78361865580254 L -73.94293520531137,40.78357210608962 L -73.94301663136936,40.78351486545848 L -73.94311516211302,40.783446170629645 L -73.94316141910541,40.78341182999218 L -73.9432056553694,40.78336984298767 L -73.94323985739751,40.78332785169434 L -73.9432700303563,40.78328815517931 L -73.94331027382033,40.78323318094638 L -73.94334749366392,40.7831820329985 L -73.94339679077287,40.78310950284639 L -73.94344105526419,40.78304918212811 L -73.94355143839512,40.78290350798574 L -73.94354420712477,40.7828805243252 L -73.94364823539011,40.78265616133327 L -73.94388068102414,40.78153204386692 L -73.94387075988708,40.781273026571576 L -73.94371468850565,40.780629815528854 L -73.94360047475412,40.78015909946618 L -73.94321386265223,40.779317588659985 L -73.94300423950467,40.779639495474164 L -73.94278066641971,40.77950615406815 L -73.94271600545089,40.77954416947611 L -73.94262799584376,40.779323118968634 L -73.9427123747622,40.779214856939795 L -73.94253556320854,40.77909095606245 L -73.94289340818793,40.778614093246105 L -73.94265530676857,40.778124965573824 L -73.94245741056957,40.77740747334794 L -73.94229506198594,40.777331962985706 L -73.9422805004479,40.7773474382286 L -73.94231968904049,40.77745251876448 L -73.94236333715754,40.777447010924156 L -73.9424554569809,40.77774786483619 L -73.94242853953916,40.77775282756716 L -73.94242491195635,40.77774231956349 L -73.94238999173223,40.77774727878926 L -73.94235943486034,40.777753899191666 L -73.94236233471005,40.777764959164834 L -73.94233541821139,40.777768816876666 L -73.94224111393387,40.777470174115656 L -73.94228549380644,40.77746024282678 L -73.94224050534213,40.77733414682101 L -73.94225579604492,40.77731646027734 L -73.94211982454031,40.777255566411725 L -73.94218537013923,40.77716380876225 L -73.94230970713218,40.777219719880705 L -73.9422936833316,40.777242936750376 L -73.94243403895516,40.777300461988794 L -73.94242964535643,40.7772889494542 L -73.9423378939154,40.77724890117764 L -73.94238467141903,40.777171097604565 L -73.94232882916097,40.77715521668639 L -73.9422762271658,40.77713387982805 L -73.94222778303707,40.777107459236944 L -73.94218434184418,40.77707641580223 L -73.94214666138086,40.777041291054786 L -73.94211539894573,40.777002697720185 L -73.94209109987676,40.77696130902994 L -73.94207418803877,40.77691784697707 L -73.94200266722274,40.776185317382705 L -73.94208160457377,40.77595701631705 L -73.9424010094905,40.77572692752613 L -73.9425876964068,40.77521895652805 L -73.94293043781397,40.77467626803581 L -73.9433389475049,40.77421119259064 L -73.9436643181476,40.77384076467938 L -73.94396084370834,40.773530420594504 L -73.94442433595852,40.77304532251586 L -73.94487889596707,40.77256956200726 L -73.94561514012511,40.77194302658768 L -73.94640418919069,40.77126904561923 L -73.94690764133767,40.77073391172355 L -73.9474897545637,40.77011515401903 L -73.94808633406548,40.769474793218826 L -73.94866416477885,40.76885762439943 L -73.94908536768654,40.76827827079567 L -73.94937332131504,40.76788219105435 L -73.949579120714,40.767628930179555 L -73.95006979303062,40.7670250883833 L -73.9506634515425,40.76638071134937 L -73.95122497666563,40.76577119897344 L -73.95176480900405,40.76516371184316 L -73.95230963181133,40.76455428860599 L -73.95336559963583,40.763368170911676 L -73.95441826078606,40.762184104951054 L -73.95557264605313,40.76116832623031 L -73.95587222339073,40.760904712115575 L -73.95630917634158,40.76050836805681 L -73.9563331896777,40.760486585563875 L -73.9569784172763,40.75989675444593 L -73.9573173758794,40.759592212256564 L -73.9575986944528,40.75934231825778 L -73.95763772742102,40.759306739898285 L -73.95800496616825,40.758971999629296 L -73.95825660841922,40.75874926119302 L -73.9583612533256,40.75866024195484 L -73.95838528673994,40.75863979740053 L -73.95842620189605,40.75860387300684 L -73.95845501743894,40.75858090219749 L -73.9584911954165,40.75854590383047 L -73.95854329679058,40.758495622935804 L -73.95877790822699,40.758270920848744 L -73.95907003031206,40.75793909802028 L -73.95917264248838,40.757864780393994 L -73.95918103219992,40.75785611105221 L -73.95965770876657,40.75726014512322 L -73.95966400300107,40.75721141218687 L -73.96003900990617,40.756725350238845 L -73.96036455140823,40.75626941113339 L -73.96065638180474,40.75592314955019 L -73.9607970991498,40.75580477274062 L -73.96079722985934,40.755804655851975 L -73.96102790867165,40.75561058457904 L -73.96162927534917,40.755152384259105 L -73.96213559058086,40.75457323147327 L -73.96219381838414,40.75450431515325 L -73.96223125165591,40.75452213042186 L -73.96268703046536,40.75400437328663 L -73.96289729202545,40.75376551709429 L -73.96286896769232,40.7537425091569 L -73.96316074049744,40.753412207328125 L -73.96373572283169,40.75278377577701 L -73.96426352137193,40.75220690108016 L -73.96482214220784,40.75159632558229 L -73.96532405586477,40.75104771827202 L -73.96791272994395,40.74797093564214 L -73.96811893399276,40.74772582974988 L -73.96817376101073,40.74766675374175 L -73.96823574753464,40.74759121839251 L -73.96836519324148,40.747433494620104 L -73.96823171715788,40.7473684764892 L -73.96829622113238,40.74729565136707 L -73.96829811451529,40.74728339500281 L -73.96830191005877,40.74727329974717 L -73.9683161371577,40.747274024359285 L -73.968326104334,40.747252034598795 L -73.96834696591318,40.747241218310016 L -73.96836118844759,40.747218145486315 L -73.96840008314163,40.747166953964204 L -73.96843139158786,40.74712945662025 L -73.96846363690706,40.747094128485614 L -73.96847691942916,40.74707250130826 L -73.96850064035854,40.74704438450719 L -73.9685148595502,40.747032843998056 L -73.96853479000781,40.74700039777951 L -73.968544278662,40.7469881423127 L -73.9685888522455,40.74694344358074 L -73.96859169569542,40.74693334755284 L -73.96860023472244,40.74692109182235 L -73.96860971997503,40.746914603605646 L -73.96861730876921,40.746899455777815 L -73.96863912464646,40.746879274646645 L -73.96866379796619,40.74684682031493 L -73.96867043421345,40.74683600997994 L -73.9686922519053,40.74680860795763 L -73.96870458089755,40.746800682796184 L -73.96871076544427,40.74678826391711 L -73.96875271240373,40.7467427152167 L -73.96894301109302,40.7465183356965 L -73.96896670537491,40.746530500799395 L -73.9689736684947,40.74652900733647 L -73.96898899231675,40.74650579199733 L -73.96899981595465,40.74650193477237 L -73.96900302810072,40.74649080888185 L -73.96901641754052,40.746481152086254 L -73.96901961115921,40.746472438902586 L -73.96907193333249,40.74641298300633 L -73.96913096118847,40.746340715306665 L -73.96921135921276,40.74624451530383 L -73.96923432172326,40.74622228401143 L -73.9692470758419,40.746207781993604 L -73.96925028881702,40.746196171442676 L -73.96932591437388,40.74610408771041 L -73.96933228026558,40.74610167233748 L -73.9693392445918,40.746092656088365 L -73.96938290644789,40.746035949024964 L -73.96940022327871,40.74602084326546 L -73.96940086652106,40.746014027129974 L -73.96941753399555,40.74599696633198 L -73.96943292389864,40.74597698923128 L -73.96946210038307,40.7459445776336 L -73.96952046125196,40.74586904111648 L -73.96955059658644,40.745838827693575 L -73.9695974026117,40.745782784111796 L -73.96962370583407,40.74574671679442 L -73.96963204180261,40.74574330564597 L -73.9696948777757,40.74566679689092 L -73.96969678845922,40.74565700029294 L -73.9698756140306,40.74544478913761 L -73.96990575265258,40.74545820514513 L -73.9699122797576,40.74545175943621 L -73.96993139614953,40.74546300191986 L -73.96992704959052,40.745467792034994 L -73.96997377026275,40.7454957474306 L -73.97004758904896,40.7454028612993 L -73.97009123175708,40.74535112915095 L -73.97012962576954,40.74530536659431 L -73.97021602288636,40.74520057903282 L -73.97033931161249,40.74504963202245 L -73.97032571321422,40.745036949464414 L -73.97032571931103,40.74502326140015 L -73.97037811940494,40.74495230608582 L -73.97044255489001,40.74487037600953 L -73.97046063703624,40.744864743390714 L -73.97047240576438,40.74486624174764 L -73.97050560032659,40.74482376425927 L -73.9705687722909,40.74473186530609 L -73.97062381510653,40.74465642621002 L -73.9707883477664,40.74440621769032 L -73.97085704434353,40.74443263739717 L -73.97087688233857,40.74444557343096 L -73.97088963376717,40.74444772970189 L -73.97089742067709,40.7444547367797 L -73.9709094613216,40.74445635209411 L -73.97091724845437,40.744463360343325 L -73.97092858032359,40.74446336320418 L -73.97094062960419,40.74447144402538 L -73.97098222712388,40.74440763421731 L -73.97101392396074,40.74435861480509 L -73.97111438123977,40.74420436093245 L -73.97078276128684,40.74404724688683 L -73.97077757716114,40.74404662471932 L -73.97075833953659,40.74403919088488 L -73.97075084955141,40.74402980466477 L -73.97071823494039,40.744016927848136 L -73.97070578720823,40.744002561986754 L -73.97070317531664,40.743990495411325 L -73.97072277474838,40.7439695162238 L -73.97074257272034,40.743948324660025 L -73.97075061381992,40.743948634113096 L -73.97076123524693,40.743942108144225 L -73.97079209694716,40.74395600993251 L -73.97079892989305,40.74395279700377 L -73.9708358740414,40.743969672238066 L -73.97083595486517,40.743969703585954 L -73.97087357851338,40.74398767476942 L -73.97095964992808,40.744025696987066 L -73.97096300193468,40.74402367277483 L -73.97117346753143,40.7441075355108 L -73.97118193576082,40.74410323270784 L -73.97120616502984,40.744066029846614 L -73.97127362462311,40.74396474842357 L -73.97135752941868,40.74383845535943 L -73.9712342398151,40.743784646190235 L -73.97120546301967,40.7437715103013 L -73.97128101831679,40.743651942051315 L -73.97135563409154,40.74353964985202 L -73.97149421270419,40.74333467446508 L -73.97163772240417,40.74311720098464 L -73.97167921200818,40.74305446405973 L -73.97188888913044,40.7427248203555 L -73.97176261327057,40.74267267153466 L -73.97174059715847,40.74266357950892 L -73.9717750124802,40.74261591264713 L -73.97195955856255,40.742337921543665 L -73.97204926316714,40.741887753776226 L -73.97206949682797,40.74178890593476 L -73.97210163980682,40.741623202060914 L -73.97215263572176,40.7413885876012 L -73.97219804813784,40.74114466869176 L -73.97228618248475,40.74073827407892 L -73.97228992099217,40.74072103903176 L -73.97221282599375,40.740711663608245 L -73.97219567275302,40.74070957946137 L -73.972182685701,40.74070627990962 L -73.97216848387873,40.740693120300485 L -73.97216477368657,40.74067572212913 L -73.97216549760822,40.74067216504992 L -73.97221525425901,40.740426563519385 L -73.97222515614335,40.74041669693116 L -73.97223504317165,40.74041340340195 L -73.97223566211005,40.74040541522519 L -73.97219641647808,40.740402578750285 L -73.97221685422328,40.74030762506154 L -73.97226753642127,40.740313743277135 L -73.97227001334156,40.74030857434567 L -73.9722533231916,40.74030010555479 L -73.97224837803643,40.740291171858686 L -73.97229979590863,40.740034962742975 L -73.97231030439093,40.740018512674816 L -73.97233141721729,40.7400109081997 L -73.97243888981417,40.740021749973224 L -73.97265743803038,40.739222754276966 L -73.9726552896889,40.73917826848004 L -73.97265060379681,40.73905826571552 L -73.97264431062416,40.73901746233531 L -73.97264512721948,40.738958668310985 L -73.97264674830737,40.73884587151235 L -73.97263256455145,40.738789470052716 L -73.97263100998644,40.73874026500811 L -73.97262787457514,40.73870906197219 L -73.97262630543385,40.73866586408445 L -73.9726279218979,40.73859386967112 L -73.97262084766338,40.73852066599611 L -73.97261929656231,40.73846306804593 L -73.97262753952535,40.738400385484816 L -73.9726388480015,40.73839530977717 L -73.9726383333126,40.73837968597649 L -73.97262807328735,40.7383679672454 L -73.97262452608501,40.73824336345697 L -73.97263274644142,40.73823242426216 L -73.97263327107365,40.738223833298434 L -73.9726225471807,40.73821706821176 L -73.97261946865987,40.73804427874751 L -73.97261474017301,40.738029869348026 L -73.97260609997485,40.737938672288735 L -73.97261872947438,40.73791467680063 L -73.97261242656481,40.737897872069055 L -73.97260457307685,40.737822273075636 L -73.97261404225615,40.737798276835846 L -73.97260621196624,40.73766627757036 L -73.97259038224658,40.736769655344816 L -73.97258292456084,40.73674468509606 L -73.97257979798489,40.736690689579284 L -73.97257525871026,40.73664650893148 L -73.97255622610959,40.736461485527485 L -73.97256333684314,40.73644588163205 L -73.97248994174741,40.73580328010761 L -73.97251016786021,40.735787129859595 L -73.97286939178467,40.73577086128555 L -73.97441385816532,40.73641439385896 L -73.97445975070463,40.736294019718315 L -73.97441677354789,40.73627772610675 L -73.97441154346602,40.73628527904678 L -73.97439952343295,40.73628408408968 L -73.97402692104305,40.73612576724549 L -73.97404679254456,40.73609992993463 L -73.97442932366876,40.736260633491455 L -73.97442775474407,40.73626619954395 L -73.97446647047286,40.73627845682991 L -73.97450376013228,40.73606458844403 L -73.97447471755301,40.73606238071297 L -73.97444082924042,40.73605047965699 L -73.97443372879937,40.73605371686953 L -73.97414062018372,40.735955657167324 L -73.97415127634781,40.735933792668064 L -73.97444722336765,40.73603347295401 L -73.97444828612812,40.7360377928591 L -73.97447828183081,40.736044185451064 L -73.97450488285963,40.73604228053671 L -73.97451459772599,40.735894598411235 L -73.97450793938161,40.73579694577236 L -73.97448854079045,40.73587568074894 L -73.97445077717819,40.735869129966694 L -73.97446233335455,40.73583114456821 L -73.97424982468374,40.735797182019994 L -73.97424630658303,40.73578011045584 L -73.97425866775502,40.73576626816384 L -73.9744704050787,40.73579787225513 L -73.97446962023734,40.73578786807184 L -73.97447775431175,40.73578786216862 L -73.97447154941652,40.73572722426049 L -73.97446537767371,40.73566688606369 L -73.97439223918198,40.73566753456822 L -73.9743918549318,40.735671948637204 L -73.97426375884302,40.7356714742932 L -73.97426474799444,40.73567587660677 L -73.97419233708438,40.73568012679809 L -73.9741895600019,40.7356599127693 L -73.97415747430529,40.735657841982714 L -73.9741461652345,40.735671622012916 L -73.97409287937934,40.735640725531404 L -73.97409007994668,40.73564465423447 L -73.97341869582557,40.73536773730012 L -73.97343881801847,40.73534121781404 L -73.9732803029099,40.73527336542803 L -73.97305698712047,40.73517745341554 L -73.97280661710461,40.73552391852113 L -73.97293673973685,40.73559924929964 L -73.97293031926458,40.73560761439666 L -73.97276308380353,40.73550508747356 L -73.97299695202484,40.73518650689109 L -73.97296395268074,40.735169066679916 L -73.9729318560978,40.73520531236896 L -73.97288512856933,40.73518020390186 L -73.97286403116163,40.735212267015214 L -73.97283745943461,40.735199716704415 L -73.97294520758682,40.73506517007111 L -73.97296719785798,40.735078430766805 L -73.97294519031814,40.7351077005131 L -73.97299560236567,40.73512793848568 L -73.97297083635605,40.735157216971274 L -73.97300291199267,40.73517256003524 L -73.97303684713691,40.7351279481501 L -73.9732989504614,40.735242355077084 L -73.97332187458159,40.73520191866479 L -73.97331638345146,40.73519634278202 L -73.97329897672444,40.73517681588363 L -73.97327881634085,40.73514752741428 L -73.97327241144065,40.73511893385147 L -73.97327700851476,40.735079195798335 L -73.97329627362966,40.73504085664251 L -73.97332929043598,40.735010877391716 L -73.97336870942675,40.73498927476267 L -73.97341821248351,40.73497115816109 L -73.97345945915032,40.73496837685119 L -73.973522708343,40.734975360846946 L -73.97354472883961,40.73494432610145 L -73.97444065082591,40.73531677190054 L -73.97442616184144,40.73523421968612 L -73.97441126714136,40.7351782454519 L -73.97439063081423,40.73509213293308 L -73.97437417946838,40.735030636339424 L -73.97435054998002,40.73494231313639 L -73.97431559737869,40.73480367719344 L -73.97427147926832,40.73463060898139 L -73.97425543467872,40.73456688586326 L -73.9742119222655,40.734405868942865 L -73.97418317281985,40.734300956916485 L -73.97416917978917,40.73423971179249 L -73.97415110840346,40.73416396616608 L -73.97410591714225,40.73399354354752 L -73.97406016216327,40.73381107244231 L -73.97402174588258,40.73366389393438 L -73.97399237089755,40.73355457425366 L -73.97395905029711,40.73342116553846 L -73.97394321924938,40.73340308886323 L -73.97393531356985,40.733366076783966 L -73.97390702695188,40.733349716608224 L -73.9739013771137,40.73332733730498 L -73.97389120382256,40.733309261904495 L -73.97386631865598,40.73331097608678 L -73.97386292958613,40.733291182396066 L -73.97385275193642,40.73328257140103 L -73.97384483854886,40.733265361113745 L -73.97386520802412,40.73324642803961 L -73.97385730036494,40.73321630363855 L -73.97384145962661,40.73321974036562 L -73.97384937381277,40.73323265510628 L -73.97383126846691,40.733245565109115 L -73.97380976846561,40.733248999372925 L -73.97378375783401,40.73322748070547 L -73.97380298847435,40.73321198753978 L -73.97378376867152,40.733199934826935 L -73.9737645264947,40.73321284338783 L -73.97374076899372,40.73320938893706 L -73.97372718707769,40.73321971435088 L -73.9737079516958,40.7332136852049 L -73.97368984982586,40.73321885110604 L -73.9736762757606,40.73320593388803 L -73.97369438098609,40.733195609010984 L -73.97369212859826,40.73317409574745 L -73.97371588914251,40.733169796747134 L -73.97372607356357,40.73315947055946 L -73.97373739762322,40.73314311937236 L -73.97375776032726,40.733139684862834 L -73.97377813922655,40.73312419146021 L -73.9738052975529,40.733120757484336 L -73.97381887171846,40.733099247654565 L -73.97384036797052,40.7331035562959 L -73.97387206174017,40.73309495480662 L -73.97386810776207,40.733065687195605 L -73.97377030826173,40.73268844617683 L -73.97367702799234,40.732310231251354 L -73.97364735766602,40.73217549376651 L -73.9736273640125,40.73210744560781 L -73.97360833346643,40.73204268972966 L -73.97353969289706,40.73176433282343 L -73.97352137914282,40.73169016478124 L -73.97341321730858,40.73128241642864 L -73.97338181410127,40.73123602442194 L -73.97336591000702,40.73122001994833 L -73.97334064688684,40.73118304166194 L -73.97331715426381,40.73115792717309 L -73.9732832111114,40.731112675908534 L -73.97323625417937,40.731056926741 L -73.97320012915412,40.73101663239006 L -73.97314592791604,40.73096088099611 L -73.97309858148473,40.730913679890676 L -73.97305304853803,40.73086730375558 L -73.9730060597538,40.730823131910476 L -73.97291929100193,40.73075024150263 L -73.97283215562837,40.73068148130965 L -73.97274611643171,40.73060583194688 L -73.97264270492411,40.730523537807315 L -73.97255990007292,40.73045809361812 L -73.97247970053022,40.73040080736284 L -73.97245936471903,40.730386329377666 L -73.97233277439494,40.73029657297071 L -73.97224018578797,40.730230497135935 L -73.97223370120912,40.73022567784319 L -73.97208918590233,40.73011835704164 L -73.97205385214976,40.73008665043248 L -73.97201026033457,40.73004517148759 L -73.97196340301248,40.73000037721747 L -73.97190238512808,40.729930708644424 L -73.97185608949049,40.729875550267224 L -73.97182992841697,40.7298456914702 L -73.97174822357015,40.72974201454455 L -73.97174494790077,40.729734548588496 L -73.9717002903813,40.72966570245395 L -73.97162729998558,40.72955788414599 L -73.97157719441805,40.729469136637825 L -73.97151882628016,40.72935136174013 L -73.97150816031574,40.72932396649239 L -73.97147994907206,40.729249577698404 L -73.97145716122309,40.729169407557954 L -73.97143981566717,40.72909584986445 L -73.97143221814216,40.72906361904417 L -73.97142139208238,40.728995843972214 L -73.97141235109775,40.72887985602162 L -73.9714065967207,40.728794471305726 L -73.97140617908519,40.72871876425102 L -73.97141946379276,40.72856882754402 L -73.97142718443529,40.72848582638753 L -73.97145269559661,40.72834143331312 L -73.97145662182929,40.72831923851686 L -73.97147343819987,40.728209255928014 L -73.97151048447927,40.7280027639066 L -73.97155553514953,40.72770310859809 L -73.97156931647098,40.72769376719842 L -73.97157278760145,40.72764591976768 L -73.97158965149985,40.72764003369326 L -73.97161872706997,40.727650558185786 L -73.97163586152148,40.72764797412131 L -73.97165160075588,40.72764321253462 L -73.97168514866583,40.727405886636525 L -73.97158604106329,40.72739693305268 L -73.97156114365914,40.72739468824762 L -73.97153686592743,40.72739296510078 L -73.97152076789605,40.72738616623969 L -73.97151282181237,40.7273743085811 L -73.97149260058237,40.72737312335133 L -73.97149039092832,40.72735009810991 L -73.97162697271727,40.726628452996835 L -73.9716697270118,40.726392327154336 L -73.97169587451619,40.72624182930231 L -73.97171894361507,40.72612199325951 L -73.97173843379365,40.72599966755549 L -73.97176755410217,40.7258333034546 L -73.97177410965313,40.72582128133706 L -73.9717914296149,40.72581422114905 L -73.97181650587731,40.72581496675248 L -73.97185935830923,40.72558296903027 L -73.97187437695217,40.72550311607979 L -73.97188490951483,40.725424405065766 L -73.9719112073207,40.72529037069992 L -73.97193374501076,40.72517629035121 L -73.97193975456322,40.72515803861002 L -73.97196154778587,40.7250399788108 L -73.97200511841208,40.724841489708204 L -73.97203666966882,40.72468407002005 L -73.97206595867414,40.72455915832865 L -73.97207196960349,40.724536350858095 L -73.97208098151926,40.724497567930335 L -73.97208400057288,40.72446790554567 L -73.97209751290906,40.724423415234675 L -73.97215609001728,40.7241701782781 L -73.97216585996642,40.724131963273145 L -73.972216923762,40.72393005464672 L -73.97223344676965,40.723846779926305 L -73.97226499868242,40.72371445733361 L -73.97232507731586,40.723463499327295 L -73.97236115744649,40.72331206047645 L -73.97239945748277,40.723148816366596 L -73.97251011180381,40.7226968860067 L -73.97288971396699,40.7210882972193 L -73.9729963761319,40.72062289018712 L -73.97311210763185,40.720158739265536 L -73.97323688276838,40.71969594676179 L -73.97337067385133,40.719234614681554 L -73.97351345120518,40.71877484470659 L -73.97368877537072,40.71824988277153 L -73.97387175278885,40.717726435247755 L -73.97406236069766,40.717204566736044 L -73.97426057539519,40.716684341640835 L -73.97446637224243,40.71616582416224 L -73.9746797256664,40.715649078288145 L -73.97490060916351,40.71513416778634 L -73.97512899530274,40.714621156196664 L -73.9751497793714,40.7145794233609 L -73.97516360806169,40.71455190619375 L -73.97518850986306,40.71450316072391 L -73.97521387023663,40.714448498798426 L -73.97522549627958,40.71442343994192 L -73.97524666388625,40.714377806305464 L -73.97524670420714,40.71437772506357 L -73.9758031128397,40.71317812458917 L -73.97579532792415,40.71317002369419 L -73.97596844519694,40.71278957339083 L -73.97604981455508,40.71260419377787 L -73.9761236883879,40.71246032539832 L -73.9761653123832,40.7124201979108 L -73.97631127867197,40.712118647310135 L -73.97642872514528,40.71190903250366 L -73.97650540115391,40.711798789452466 L -73.9765500881422,40.711734538728294 L -73.97671221539667,40.71153576517838 L -73.97681883540065,40.71141956702117 L -73.97699076574627,40.71125666023055 L -73.97705659401734,40.71119762696939 L -73.9772221356257,40.7110687312283 L -73.97752668432639,40.71084307273315 L -73.97772119493068,40.7107100746607 L -73.97782091638246,40.710645444906966 L -73.97789949619445,40.71059986620237 L -73.97799674790384,40.710561017391605 L -73.97807974906605,40.71053225107981 L -73.97818190694284,40.71050686551763 L -73.97825557749195,40.71049790955784 L -73.97837148165257,40.71048970749154 L -73.97861560123998,40.71047378191086 L -73.97877613342084,40.71046331504722 L -73.97918894377005,40.71043492338827 L -73.97920726434594,40.71043366689569 L -73.9792901523712,40.710428144566926 L -73.98003642292834,40.71037840126665 L -73.98028344332192,40.710361815108435 L -73.98033652490459,40.710359201217265 L -73.98033090124429,40.71028693831353 L -73.98051046026364,40.71027475194566 L -73.98128647552558,40.710218347881636 L -73.98124579569945,40.70982621460123 L -73.98306019477401,40.70964791174809 L -73.98364234472635,40.709591879244726 L -73.98449647076764,40.70950966393941 L -73.98655035339972,40.709311944641996 L -73.98816491726686,40.70915678150646 L -73.98817340967875,40.709147518301265 L -73.98839064023267,40.70912694916265 L -73.98844653437385,40.709133820546974 L -73.98847967268766,40.70915584730847 L -73.98849727173871,40.709176305795744 L -73.9886365807185,40.70991206151628 L -73.98864533493676,40.709916934401114 L -73.98866750580943,40.709920034830716 L -73.98869610271332,40.70992844984454 L -73.98871771111239,40.70994709051883 L -73.98873681707525,40.70997074184507 L -73.98879717785803,40.709966607472225 L -73.98889845980884,40.709954735765 L -73.98935765696677,40.70990098670785 L -73.98946067019428,40.70988928705126 L -73.98957449608717,40.7098740816065 L -73.98974515155741,40.70984876165562 L -73.99015825373382,40.70979037266374 L -73.9905142037669,40.70973388462137 L -73.99078913018568,40.709689506086086 L -73.99106783463002,40.70965723034519 L -73.9913510923706,40.709620332703324 L -73.99170260292517,40.70956526295603 L -73.99176779580127,40.70955505602629 L -73.9919054436645,40.70952539658225 L -73.99203926968352,40.70951691916273 L -73.99209131635973,40.70950822240118 L -73.9921486897015,40.70949860910409 L -73.9923611613991,40.70946436881143 L -73.99284846748647,40.70938187763873 L -73.99374012862228,40.70924612043532 L -73.99400820164045,40.70923747991901 L -73.99414063200345,40.70923326739993 L -73.99437823543936,40.70919263919891 L -73.99457899963724,40.70913097291005 L -73.99517577369834,40.70903429381029 L -73.99580385653569,40.708946013907486 L -73.99601898395763,40.70891622384743 L -73.9966640099659,40.7088269045177 L -73.99728287195578,40.7087316198429 L -73.99808351186999,40.708509615367134 L -73.99828602320592,40.70842993146759 L -73.99852758585311,40.70833152790828 L -73.99856114620616,40.70831528323355 L -73.99872197955064,40.708237452896164 L -73.99875396570859,40.70822365152976 L -73.99880846276643,40.708200134992666 L -73.99882158420985,40.70817548117489 L -73.9988813086388,40.708136633919786 L -73.99898340963244,40.708092653316136 L -73.99905276738552,40.70803254536376 L -73.9991343491895,40.707982397448504 L -73.99919451108852,40.70794737635147 L -73.99925945470771,40.7079140213104 L -73.99932632675426,40.707879676493924 L -73.9993822517736,40.707841549321515 L -73.99942129138608,40.70781893705531 L -73.99946033075192,40.70779632645105 L -73.99952324941067,40.70776262865813 L -73.99951211364754,40.70774870660909 L -73.99949062474623,40.70772184522498 L -73.9995383965945,40.70769347002565 L -73.99955121325496,40.7076943527765 L -73.9995714951379,40.70771719818587 L -73.99960948039251,40.70775997317629 L -73.9998829708522,40.7076240860353 L -73.9999485594979,40.707591496370966 L -73.99994505655111,40.7075826269833 L -73.9999485595232,40.70755869155376 L -73.99995671262306,40.70753119885585 L -73.99997222648798,40.70750639882204 L -73.99999645016025,40.707491647898486 L -74.00013868859142,40.7074050544075 L -74.00023380525761,40.70734714248683 L -74.0004002783203,40.70726027957068 L -74.00055247932056,40.707184275922955 L -74.00077175219104,40.70708014820075 L -74.00084973367689,40.707043119139115 L -74.00088259097623,40.707025253300515 L -74.0011868526283,40.70685982577176 L -74.00113130577202,40.706799050684516 L -74.00122367538822,40.70674526164774 L -74.00123213691967,40.70674033693098 L -74.00122701299958,40.70673486990648 L -74.00116039022576,40.70666372083431 L -74.00117521610984,40.70664874526913 L -74.00116913341543,40.70663949766775 L -74.00117643567688,40.70663505879536 L -74.0011760207968,40.70662757435898 L -74.00098276691733,40.70641671299293 L -74.00140533024056,40.70618013520787 L -74.00140666691954,40.706179388020644 L -74.00140581495842,40.706178612883114 L -74.0005829704798,40.7054339336489 L -74.0005924020935,40.7054100794135 L -74.00084523503796,40.70525451884621 L -74.00143719471637,40.70487222494061 L -74.00145437418847,40.704873303432066 L -74.0014608576564,40.7048737178121 L -74.00183509983015,40.70521225882238 L -74.00205517727979,40.70541134986922 L -74.00206142563809,40.70541700564076 L -74.00206282084558,40.705416077347955 L -74.00212278686422,40.705379002672466 L -74.0021581834855,40.705357119118524 L -74.00256965059467,40.70552357952351 L -74.00268512768794,40.70544924811866 L -74.00236285311746,40.705158966692586 L -74.00241573476919,40.705129311282505 L -74.00238385458344,40.7051012702508 L -74.00197070397948,40.7047378684872 L -74.00197014837805,40.70473115920231 L -74.00203201379027,40.70469295373008 L -74.002171849419,40.70460659646368 L -74.00218562331565,40.70460701887393 L -74.00233344621164,40.70474813530699 L -74.00233393075767,40.70474260740416 L -74.00242059318668,40.70468033460376 L -74.00243071075865,40.704677858004345 L -74.00248839829258,40.7047267723512 L -74.00248790148639,40.70473376109163 L -74.00239832748953,40.70479492514084 L -74.00238670740679,40.70479566367449 L -74.00332307270787,40.70562859522006 L -74.00358262337757,40.705461128831146 L -74.00363187169326,40.705429806751745 L -74.00364446183868,40.7054216846388 L -74.00383327532258,40.705303243026385 L -74.00366217837694,40.70514975973916 L -74.00358390952114,40.705192649147996 L -74.00355259950756,40.705166440834184 L -74.00363086901315,40.70512355144647 L -74.00262896407828,40.70422295278143 L -74.002866897815,40.704075225511566 L -74.00405666439265,40.70514736343892 L -74.00426687037428,40.70501166020204 L -74.00458622952465,40.70479945067928 L -74.00484062824783,40.70463977952648 L -74.00492037826479,40.704591004973324 L -74.00518805067325,40.70442053569061 L -74.00521160900404,40.704405532235334 L -74.00526035829184,40.704374488410124 L -74.00535027224755,40.70431007996153 L -74.00566330640657,40.7041042444782 L -74.0058912988893,40.703959853441965 L -74.00602048621096,40.70387490010186 L -74.00614106753552,40.703980973435414 L -74.00634215560278,40.70384982260742 L -74.00643259271952,40.70379118995163 L -74.0065959191387,40.70368590194925 L -74.006320807539,40.70346676102887 L -74.00631484519418,40.70346132409439 L -74.00630030777441,40.703448234988265 L -74.0059114573594,40.703098111430414 L -74.00589941745793,40.70308727019193 L -74.00588747266437,40.70307651522381 L -74.00555843304463,40.70278125688987 L -74.0054838408244,40.70271432213405 L -74.00552682615239,40.70268528761711 L -74.00550531272071,40.70266684658556 L -74.00547130861277,40.70268982908348 L -74.00543599763355,40.70265955541134 L -74.00542728826248,40.70266543619403 L -74.00530412596079,40.70255986563302 L -74.00549427805105,40.70243138195556 L -74.00550166067457,40.70243086779703 L -74.00561361797627,40.70253024203234 L -74.00560163196413,40.7025380597699 L -74.00560905264517,40.7025528185537 L -74.00559479485835,40.70256802032948 L -74.00559935100478,40.70258016783928 L -74.00559022977765,40.70258581428387 L -74.00559194611431,40.702598835921144 L -74.00558509547804,40.702604050202375 L -74.00558909594902,40.70261273059684 L -74.00553546138177,40.70264552110683 L -74.00555771998816,40.702664394652025 L -74.00567522249858,40.70258407270014 L -74.00598430339494,40.70286001804111 L -74.00608976093835,40.70295112049115 L -74.00623870508532,40.70307978930158 L -74.00636372730409,40.703187792252514 L -74.00646028831753,40.70327120803406 L -74.00649425191108,40.70330054817178 L -74.00654880812654,40.703367615085874 L -74.00655720878507,40.703363148333274 L -74.00675541584032,40.703541489476805 L -74.00678502191052,40.70356812790527 L -74.00699466002457,40.7034411885666 L -74.00722046663674,40.70330197730325 L -74.007519052838,40.703121820237115 L -74.0075271497927,40.70311498141614 L -74.00760498179525,40.70299314165838 L -74.00764555161307,40.702928174778926 L -74.00765095550906,40.70291983910504 L -74.00765840854544,40.70290916746311 L -74.00770527479773,40.7028818254073 L -74.00770614970409,40.702875161620085 L -74.00796578643664,40.702718157070166 L -74.0083739580164,40.70246975865777 L -74.0091277275891,40.702008324421655 L -74.00915955533823,40.70199730765 L -74.00930907655483,40.70195460302256 L -74.00869964313567,40.70113986754221 L -74.0077554915064,40.70154800167179 L -74.0075913620422,40.7013280810481 L -74.00853611510774,40.70091969574505 L -74.008349275591,40.7006693483882 L -74.00862036163876,40.70055216421584 L -74.00960052263288,40.701865481917835 L -74.01026747279734,40.70169850845766 L -74.01083810085723,40.701553046712256 L -74.01107989699028,40.701497100259445 L -74.01116664151887,40.70147720220832 L -74.0110958860268,40.701274999348854 L -74.01111949092332,40.70126874830571 L -74.01112667396993,40.70127499637669 L -74.01128983905525,40.70124998224425 L -74.0112097577877,40.701044583273756 L -74.01112868539609,40.70106489745045 L -74.01107837974551,40.700957120315074 L -74.01106708568963,40.70091494089484 L -74.01110886351555,40.700901420606286 L -74.01109386310776,40.700866410371034 L -74.01109337389371,40.70085125657556 L -74.01107872437127,40.70085194903638 L -74.01105584312833,40.70081153127281 L -74.01105943295772,40.70080262149502 L -74.01103748928746,40.7007571312481 L -74.01101538388583,40.70074112479906 L -74.01102945843253,40.700731171496294 L -74.01101999687323,40.700712395448335 L -74.01100668082337,40.70071138770599 L -74.01099272755786,40.70069059304705 L -74.0110085466105,40.70068355723434 L -74.01100361903022,40.70066806679778 L -74.01099134410617,40.700673352282 L -74.01096997178928,40.700645536089574 L -74.01098841773411,40.70063424450253 L -74.01095827294415,40.700574591600024 L -74.01093617683645,40.70057584194702 L -74.01092482717033,40.70056679303635 L -74.01092557334937,40.70055583199386 L -74.01094712848688,40.700537743035746 L -74.01091918086533,40.70048646359446 L -74.01090496934044,40.70049178376392 L -74.01088462665342,40.70046142740956 L -74.01090366423298,40.70045138201495 L -74.01078537980491,40.70023251447074 L -74.01079959311006,40.70020721300696 L -74.01081530667376,40.700200444603745 L -74.01085157384671,40.700238511084905 L -74.01093093205078,40.70041515233439 L -74.01100364429975,40.70058110994409 L -74.01104377249544,40.70068284521962 L -74.01107427475976,40.70074833789611 L -74.01110436404355,40.70081064942935 L -74.01113362222922,40.70086787440551 L -74.01115033556839,40.70089840010094 L -74.01135836291354,40.70085195863633 L -74.0113031892116,40.70064784403631 L -74.0112981643226,40.70059888503188 L -74.01130986410949,40.70057980119107 L -74.0113340941042,40.700568353682264 L -74.01136082267432,40.700565810999244 L -74.0113817187564,40.700570257117825 L -74.01139508123386,40.700590607673746 L -74.01143269912247,40.70067454111625 L -74.01146947437395,40.70074892825803 L -74.01150291143712,40.70081505897421 L -74.01172926817476,40.70077011805966 L -74.01170009248338,40.70072153863589 L -74.01168275397707,40.70069334506205 L -74.01166539833068,40.700637560590245 L -74.01163149614044,40.70055539174732 L -74.01161019835878,40.70049300642146 L -74.01161413587113,40.70047261846256 L -74.01163147918649,40.7004582182481 L -74.01167798034295,40.70046181520745 L -74.01170321011992,40.70048100238678 L -74.0117260583568,40.70047860442187 L -74.01175129264934,40.70053078758629 L -74.01177730827746,40.700570974877515 L -74.0118261923343,40.70066634278202 L -74.01183407601519,40.70068613447613 L -74.01184827026117,40.700729925805916 L -74.01185378549589,40.70073892145015 L -74.01199159781133,40.70070483146642 L -74.01208668214693,40.70068130873918 L -74.01208509377953,40.700664514803854 L -74.01206932171665,40.70059973334407 L -74.01203856797002,40.7005289563097 L -74.01197670642495,40.7003784242992 L -74.01190488098494,40.700226930001975 L -74.01185672556994,40.70010710340839 L -74.01193096316568,40.70005120965431 L -74.01196196116918,40.70003754559545 L -74.01204027930206,40.70004809164553 L -74.01208842091683,40.70008658368945 L -74.0121275950614,40.70014308650671 L -74.01215779158518,40.700211378648135 L -74.01217247960996,40.70023311559768 L -74.01223694549938,40.700321277844274 L -74.012254902849,40.70036473434146 L -74.01231855974251,40.70048828759264 L -74.01236222440261,40.70057582996201 L -74.01239160032284,40.70062052809402 L -74.01259392327508,40.70057083347242 L -74.01259064684221,40.700511850508086 L -74.01255471870938,40.700359730657745 L -74.01252899955233,40.700252320356945 L -74.01251593564191,40.70018464848013 L -74.01251511280124,40.70015049211081 L -74.01254202780166,40.7001349741483 L -74.01261382087365,40.70010826581107 L -74.0126480885809,40.70011508828298 L -74.01268072728449,40.70014675538145 L -74.0127349915857,40.70021877320353 L -74.01279619139252,40.70030009988461 L -74.01283454933409,40.70035287473447 L -74.01286637756563,40.70040751337172 L -74.01288188403385,40.70044165988612 L -74.01290474249372,40.70049691216278 L -74.01290881793956,40.7005236116935 L -74.01300205335569,40.700516028968025 L -74.01310747847371,40.700507452180645 L -74.01311155389506,40.700472053044614 L -74.01311153191459,40.70036029060313 L -74.01309395831629,40.700223693239856 L -74.01307843485952,40.70010324258423 L -74.0130249570557,40.69988283020606 L -74.0130118926586,40.69981825663123 L -74.0130208570277,40.699793419367936 L -74.01304370092437,40.699774784735865 L -74.01311303826314,40.69977416588525 L -74.01314078965092,40.69980333792549 L -74.01315384897731,40.69984494048537 L -74.01316691626805,40.69993124433758 L -74.01317753563323,40.70001754746247 L -74.01318571684631,40.70010323034386 L -74.01320084197317,40.700239827976105 L -74.01320736787197,40.700275216518826 L -74.013222880169,40.700333586085414 L -74.01327349483086,40.70049687022777 L -74.01348560832739,40.700478222908394 L -74.01348068493701,40.7003577710684 L -74.01348311536113,40.700263388116284 L -74.01350349660866,40.700176459528265 L -74.01353285018102,40.700108161423245 L -74.01358669315087,40.70007959034501 L -74.01361029830733,40.700084298589694 L -74.01367479314794,40.700125821450825 L -74.01366274969912,40.70013665703527 L -74.01364265186702,40.70016178280938 L -74.01361182269157,40.70024517465057 L -74.01357049009951,40.70023220337395 L -74.01356130931909,40.70029512215821 L -74.01353310205637,40.700297124245715 L -74.01353047796475,40.70031110034647 L -74.01356131236537,40.70031009758511 L -74.01356034144283,40.70036653343726 L -74.01352950889165,40.7003735241241 L -74.0135314747603,40.70038201618361 L -74.01356297111606,40.70038001320642 L -74.01355970548933,40.70043893442742 L -74.01352361756736,40.700441937578304 L -74.013522959189,40.70046041540698 L -74.01358070018833,40.70045691449295 L -74.01358541798506,40.700501912756216 L -74.01355283229525,40.70050335816964 L -74.01357712822566,40.70064368147604 L -74.01351039592653,40.700650371152065 L -74.01355826959487,40.700939870830524 L -74.01395152756511,40.700990982459956 L -74.01409198385485,40.70055161832716 L -74.01410490300086,40.70051082838683 L -74.01409144949487,40.70050833672693 L -74.01412821190823,40.700393282054584 L -74.01413726388596,40.7003949552103 L -74.01414860637789,40.70032057172371 L -74.01417467279454,40.70026089129383 L -74.01422063195506,40.700111491868306 L -74.01430981311296,40.7001212960687 L -74.01430981586157,40.70013410151561 L -74.0141778793178,40.70054147355369 L -74.01416495763293,40.70053905203079 L -74.014152387873,40.70057786578352 L -74.01428920741134,40.70064414476506 L -74.01430157023242,40.70063221177271 L -74.0142965168929,40.70062918652366 L -74.01431530264759,40.70061103797418 L -74.01431796468086,40.70061249730781 L -74.01436783583223,40.70054612266752 L -74.01444813150721,40.700447372399935 L -74.01455999973693,40.700309786779634 L -74.01457513332033,40.700316916331175 L -74.01458425440427,40.70030846895508 L -74.01458234409444,40.70028387552854 L -74.01463294333469,40.700197430412395 L -74.01467119992019,40.70021040169968 L -74.01466717213708,40.70023938090731 L -74.01465386124694,40.700242641175116 L -74.01460863003739,40.70030970824581 L -74.01460825448508,40.70032365711382 L -74.01455219325999,40.70038298075156 L -74.01449342549972,40.70044516925058 L -74.01449246893424,40.700454669002845 L -74.01448492126376,40.70046115359196 L -74.01447857931358,40.70046208215573 L -74.01440947394667,40.70055133141232 L -74.01439689988952,40.70056348189313 L -74.01439480693739,40.70057047909727 L -74.01432384363015,40.70066130412711 L -74.01464323234912,40.70081730432509 L -74.01472424834412,40.700714293894286 L -74.0147714243914,40.70066365190685 L -74.01481236514054,40.70061084993614 L -74.01485926659423,40.70055544464556 L -74.0149303261123,40.70047926986344 L -74.01499883053579,40.7004061205765 L -74.01506818269304,40.70031825755493 L -74.01509832270126,40.70033426552343 L -74.01503579735079,40.70042083101057 L -74.01502271060053,40.70041953605862 L -74.01500850517257,40.70043770992608 L -74.0149931457591,40.700436847319814 L -74.01496757071698,40.700465414879595 L -74.0149749555559,40.700470177723446 L -74.01494881182721,40.70049441360121 L -74.01494255505817,40.700506103291325 L -74.01492322289359,40.700515191471446 L -74.0149175465081,40.70052557571269 L -74.01492379463954,40.70053033870711 L -74.01493687947062,40.70052297938124 L -74.0149419915596,40.700523843325755 L -74.01488598965476,40.70058011443566 L -74.0148200428468,40.700660619780194 L -74.01472681782197,40.700774015849625 L -74.01470265033885,40.70079911602567 L -74.014673656285,40.70083460953097 L -74.01481072560155,40.70090383198211 L -74.01482834225281,40.70089474286969 L -74.0150211366168,40.70099250401337 L -74.01514231812101,40.700842892354245 L -74.01567778184742,40.70125602102743 L -74.01579351711152,40.70134690580749 L -74.01591034233417,40.701460948443824 L -74.01611609060481,40.701630801625306 L -74.01613890636003,40.70164601710269 L -74.01624449060664,40.70175272143678 L -74.01639205370195,40.7018977010082 L -74.01651515260784,40.70201729867141 L -74.01653258703746,40.70203653968305 L -74.01681859599923,40.702338575080425 L -74.01689657041253,40.702421879959516 L -74.01700396789508,40.70255453562752 L -74.01713705889378,40.702711340267676 L -74.01714508062659,40.70270534997616 L -74.01725182133951,40.70283555726377 L -74.01724571591129,40.70283845773918 L -74.01725328400015,40.70284622266265 L -74.01729346221033,40.70288743870684 L -74.01731837763408,40.702918871771544 L -74.01739839332281,40.703019140804905 L -74.01744003546041,40.70307751454187 L -74.0174938116277,40.703154843460084 L -74.01754038297949,40.70323616042984 L -74.01757548561503,40.703307503056024 L -74.0175964796706,40.70336138730904 L -74.01761681217123,40.70342324846539 L -74.01762601904949,40.703422761227074 L -74.01764797506856,40.703494599879505 L -74.0176604507462,40.70354997909756 L -74.01766881307273,40.70359131346763 L -74.01767017368236,40.70359951404867 L -74.01767132020267,40.70360642738378 L -74.01768310568113,40.70371113122529 L -74.01767264581432,40.70371179104597 L -74.0176768962942,40.70377050363855 L -74.0176742874819,40.70383436757153 L -74.01766578442248,40.703899233718545 L -74.01765792483431,40.70393266178639 L -74.01764306532702,40.70398897346139 L -74.01765378898196,40.70399838081251 L -74.01765461989739,40.70400968256976 L -74.01764390293602,40.70402224590195 L -74.01763399890552,40.70402475178315 L -74.01762657963027,40.70402350082157 L -74.01757035640019,40.70418388098656 L -74.01779454520306,40.70423489810137 L -74.01785585682941,40.70407884761561 L -74.01775054986868,40.70405488289349 L -74.01779139303439,40.703950912583586 L -74.01781758697946,40.70393792249655 L -74.01783782825967,40.7039626661385 L -74.01780821746956,40.70403196447961 L -74.01791229326221,40.704054497150985 L -74.0179426936393,40.70397317657622 L -74.01795473982622,40.703975785608584 L -74.01784441106724,40.7042420399379 L -74.01844742686767,40.70416230497785 L -74.01866784676697,40.704435278054675 L -74.01865560578017,40.70444100176154 L -74.0175164637148,40.70458062465244 L -74.01748090483301,40.70466726085783 L -74.01753170409474,40.70467087238822 L -74.01754796252615,40.70466365937495 L -74.0175581267377,40.704665721926894 L -74.0175703146188,40.704662623997955 L -74.01757369902538,40.70466778365239 L -74.01756693013911,40.70467138635169 L -74.01759808539704,40.70468427263889 L -74.01763433061089,40.70467870787103 L -74.01767570940247,40.704680679349764 L -74.0176867022587,40.704673791625446 L -74.017718379389,40.70467969845154 L -74.01773325394241,40.704671333373426 L -74.017749416039,40.704675267937745 L -74.0177655688175,40.70467231546035 L -74.01776687049336,40.704664930160334 L -74.01778367349166,40.70467083758812 L -74.01779789585477,40.70466690269019 L -74.01780630901126,40.704661985472484 L -74.01782893315101,40.70466493044815 L -74.01783992611874,40.704660996045185 L -74.01790198846368,40.70465164811147 L -74.01791039104738,40.704659033578714 L -74.01794142815919,40.70465558405201 L -74.01794401937286,40.70464820843307 L -74.01796922420502,40.70464721810125 L -74.01797892738357,40.704640824085274 L -74.01798926941159,40.70464673182195 L -74.01799832152902,40.7046496854182 L -74.01800802337449,40.70463836559934 L -74.01802418707257,40.704645750346394 L -74.0180429299157,40.704628037110304 L -74.01805392410763,40.70462950493453 L -74.01806509374255,40.70463582599159 L -74.01811302905885,40.704553602333725 L -74.01886289045426,40.70471960717073 L -74.01888747947997,40.70472914280423 L -74.01892572382414,40.70477376257028 L -74.01934155704542,40.706070538204024 L -74.01934254624489,40.70609367302966 L -74.0192224228399,40.70657308872605 L -74.01912275963412,40.70697581433742 L -74.01910255488421,40.707000437641476 L -74.01909155084711,40.707004473184455 L -74.01906617140145,40.70701377062146 L -74.01903338019704,40.70701319087602 L -74.01895359463371,40.70699676946549 L -74.01894579167337,40.707017770941356 L -74.01893740557156,40.70703420689668 L -74.01892660443805,40.70704425778582 L -74.01890921570671,40.70706434245125 L -74.01888462028894,40.70708580553678 L -74.01885943006918,40.70710041568369 L -74.01882943775034,40.70711548664006 L -74.0187964493679,40.707127819847564 L -74.0187610576787,40.70713786652502 L -74.01872626987432,40.70714335568634 L -74.01868966870477,40.70714244375395 L -74.01865548075625,40.707141539125075 L -74.01863058372699,40.707139715269285 L -74.01858078403724,40.70712374810277 L -74.01854718475342,40.70710777026421 L -74.01857117399437,40.70707992238862 L -74.01860717601127,40.70709544097515 L -74.018634170231,40.7071031988087 L -74.01864437101173,40.70710547586043 L -74.01864796262211,40.70708173802998 L -74.01868695379925,40.70708400923754 L -74.01872115249107,40.707081726149816 L -74.0187505462297,40.7070798933099 L -74.01876194037433,40.70707578586688 L -74.01874993323992,40.707049762489504 L -74.01877393087639,40.70704428278754 L -74.01879432757903,40.70703241167231 L -74.01882011914353,40.70701597288297 L -74.0188387043294,40.70699496965154 L -74.01884829724433,40.7069830904102 L -74.01884889814508,40.70697031235022 L -74.01881110035019,40.70696621177411 L -74.0187985148563,40.706982188376216 L -74.0187757159848,40.70699725864645 L -74.01874212416375,40.70700776337878 L -74.01872292981705,40.707006857500396 L -74.01869473190766,40.707010967669895 L -74.01867853372204,40.70701873300241 L -74.01864794474125,40.70701781957841 L -74.01862814488062,40.70701097846493 L -74.01861254498972,40.70699728514591 L -74.01860474411275,40.706989064177236 L -74.01860294181317,40.7069749179781 L -74.01859153053346,40.70695939491835 L -74.01857952850986,40.70694981480898 L -74.01857172609171,40.70693839792387 L -74.01856933191749,40.706920595205716 L -74.01856452356978,40.706906440109236 L -74.01854892759579,40.70690827067913 L -74.0185351326967,40.70691832201406 L -74.01853033752082,40.70695073241038 L -74.01840649088626,40.70725787215848 L -74.01821726389768,40.70774220647168 L -74.01821699384479,40.707751309768256 L -74.01819029259647,40.707821626109904 L -74.01865557049648,40.70792394888326 L -74.01864689079085,40.70794681354695 L -74.01880063068425,40.70798062163742 L -74.01883195883924,40.70799916729172 L -74.01883395951488,40.70800221914011 L -74.01885347760376,40.70802201228401 L -74.01885500911968,40.708047534447395 L -74.01874689830457,40.708480580253614 L -74.01863142468964,40.70894110005416 L -74.01846882134527,40.7095895710087 L -74.01834136609801,40.71010647694358 L -74.01826409180683,40.710408996626796 L -74.01814480361773,40.71088865018895 L -74.01811057789178,40.71102962821442 L -74.01804609687574,40.71134450148706 L -74.01797853231493,40.711756319208064 L -74.01792224257028,40.71203924270072 L -74.01787333422654,40.71231514445642 L -74.01777014254505,40.71283457478911 L -74.01775292705901,40.712848327555946 L -74.01773183836701,40.71284931234666 L -74.01772021563546,40.71284473093362 L -74.01772148946128,40.71278414511305 L -74.01780037888393,40.712345124158524 L -74.01662424425291,40.71215731899531 L -74.01654463812528,40.712456037930956 L -74.01659227582778,40.71254817107682 L -74.0166181765532,40.71264976356907 L -74.01661840078305,40.71275615002967 L -74.0165914952051,40.712861563719834 L -74.01655548893456,40.712929095504386 L -74.01654112171731,40.71295556481935 L -74.01647724204145,40.713029493073954 L -74.01639169485816,40.713099997950714 L -74.01632006627581,40.71340798247826 L -74.0165411468663,40.71344105274237 L -74.0169106869548,40.71349632851284 L -74.01754443334657,40.713611222664234 L -74.01756811041483,40.71352370347799 L -74.01757889322138,40.71344274342793 L -74.01764810719088,40.71320618595165 L -74.01765509447189,40.713161062667005 L -74.01767041664053,40.71306920796509 L -74.01767270851055,40.71306599627471 L -74.01767565436703,40.713063109815586 L -74.01767917626111,40.713060624964825 L -74.01768318100177,40.71305860747276 L -74.01768756262163,40.713057110723156 L -74.01769220518094,40.71305617432074 L -74.01769698583541,40.71305582304316 L -74.01770177808669,40.71305606618535 L -74.01770610821879,40.71305681419654 L -74.01771024196849,40.71305804785401 L -74.01771408584607,40.71305973925717 L -74.01771755291763,40.71306185015287 L -74.01772056477115,40.713064332800705 L -74.01772305328991,40.7130671310526 L -74.01772496219296,40.71307018162271 L -74.01770687258349,40.71316928296863 L -74.01761833310027,40.7136543239355 L -74.01753721790733,40.71409754224777 L -74.017408713605,40.71480680040797 L -74.01738281387838,40.71494143431504 L -74.01738223187856,40.714944461279266 L -74.01732570958444,40.715254913254874 L -74.01726421509521,40.71559268236992 L -74.01712122293634,40.71637179357976 L -74.01698274294627,40.71713064366816 L -74.01686297377272,40.71778695428776 L -74.01671018605823,40.71862417605798 L -74.01669419095941,40.718648843354394 L -74.01665946969614,40.71866602122465 L -74.01662996338192,40.71866536845022 L -74.01594695204274,40.718575548906266 L -74.0159438298421,40.7185892550442 L -74.01566883666868,40.718554489265706 L -74.01567062060758,40.718537748736196 L -74.01555087754507,40.71852193318379 L -74.01500060682412,40.718449236054994 L -74.01499619731617,40.71847300131666 L -74.01498981339564,40.718507347327645 L -74.01498333230722,40.71852379143297 L -74.01497036257996,40.718535850864264 L -74.0149451554934,40.71854353507714 L -74.01470270021812,40.71851615488417 L -74.01321322719193,40.71831571989578 L -74.01306805492318,40.7189221938255 L -74.01307237769205,40.718938618670066 L -74.01303068126435,40.71913145581911 L -74.01301172799539,40.719218969116234 L -74.01295524308756,40.719489453397166 L -74.01295749567798,40.71950016380303 L -74.01290892764027,40.71973485220903 L -74.01345505633182,40.7198017074262 L -74.01341376512872,40.7200194820142 L -74.01399452219569,40.72008564996912 L -74.01399999964441,40.72006718366145 L -74.0142646199906,40.720095146583574 L -74.01426696671713,40.72008680714367 L -74.01557364096601,40.72024329446479 L -74.01557364347136,40.72025401601203 L -74.01571378469986,40.72027067476562 L -74.01571300965792,40.72030343624445 L -74.01637848291469,40.72037660832828 L -74.0163057334285,40.720727020540686 L -74.01449720312957,40.720513721263146 L -74.01351919132372,40.720395186558136 L -74.01299980679079,40.72033309075003 L -74.01289730270861,40.720868045473225 L -74.01569471973286,40.72120642487527 L -74.01562245781948,40.721543453673725 L -74.01316066673286,40.72125396319458 L -74.01311663311996,40.72147373453072 L -74.01325380075872,40.7214899200012 L -74.01326193939082,40.72147181193307 L -74.01363523640495,40.72151656113437 L -74.01361558335005,40.72158618255941 L -74.0135612803112,40.72158061384505 L -74.01356109093356,40.72157189376403 L -74.01325565118505,40.721543856036696 L -74.01325799654838,40.72152777302931 L -74.0131123731525,40.72150992079825 L -74.0131037691494,40.72155459547117 L -74.01253875807262,40.721503176576356 L -74.01249171031532,40.72177975782742 L -74.01237071715393,40.72238758057892 L -74.01223080840147,40.72305625707263 L -74.01209463829593,40.723707052481096 L -74.01196432049122,40.72432986423973 L -74.01178072408688,40.72523995904116 L -74.0116541510404,40.72586737457331 L -74.01165326569942,40.72587176185136 L -74.01195833074844,40.72597759972089 L -74.01231588417473,40.72603384328536 L -74.01411595444276,40.72621586380551 L -74.01477821548464,40.72628170647334 L -74.01516324118423,40.72631971193679 L -74.01520426531143,40.72636194937957 L -74.01518864981985,40.726451182505 L -74.01517084019788,40.72657939015507 L -74.01514325523303,40.726710526279355 L -74.01512356549462,40.72679394256454 L -74.01430671596631,40.72670812119669 L -74.01341677520723,40.726621031213405 L -74.01234454766033,40.72651943048246 L -74.01154201897604,40.726447346927074 L -74.01138323604756,40.72822927236716 L -74.01439069932388,40.72846304752011 L -74.01434461474166,40.72862218378146 L -74.0142192854302,40.7295234277555 L -74.0140774139114,40.73064040918789 L -74.01408693559918,40.730663173040305 L -74.01403796924798,40.73069421884388 L -74.01401552295431,40.73068283965607 L -74.01116195696476,40.73045067634904 L -74.01108642940422,40.73128902958223 L -74.01099350879153,40.732320417940585 L -74.01094118226757,40.7330077637719 L -74.01146083559178,40.73302841363836 L -74.01400220214607,40.73306800179544 L -74.01399957240966,40.73333227751771 L -74.01090389883285,40.733297617139556 L -74.0108984071244,40.73335120737597 L -74.01087119573022,40.73335261109422 L -74.01084459816052,40.733357202680594 L -74.01081925585297,40.73336487140261 L -74.01079577997334,40.73337543231827 L -74.0107747366766,40.73338863073618 L -74.01075663345338,40.73340414835768 L -74.01074330018108,40.73342264731271 L -74.01073424450209,40.73344258793797 L -74.0107297241316,40.73346340275275 L -74.01072986771706,40.73348449939762 L -74.01073467117659,40.73350527749216 L -74.01074399781473,40.73352514572088 L -74.01075758221207,40.73354353866127 L -74.01077503777829,40.733559932875075 L -74.01080216593554,40.73357812047102 L -74.01083296878741,40.73359252909921 L -74.01086654686934,40.73360273801681 L -74.01083284563221,40.73400709451357 L -74.01201792010474,40.734063744456314 L -74.01200124222402,40.73433840166875 L -74.01081359479109,40.73428344364758 L -74.01078798331723,40.73454829384434 L -74.0107092291038,40.73536287214015 L -74.0106429201788,40.73604869770487 L -74.01067724659342,40.736056279956806 L -74.0106698675122,40.73610193192913 L -74.01068752603769,40.73611386772276 L -74.01070404345342,40.73612918443088 L -74.0107170297583,40.736146356508826 L -74.01072613231965,40.736164917666336 L -74.01073110396318,40.736184363893734 L -74.01073180968514,40.736204167147676 L -74.01072823031856,40.73622378968972 L -74.0107204630541,40.73624269868794 L -74.0107087188013,40.73626038068568 L -74.01069377906515,40.73627594935929 L -74.01067576035119,40.73628950181187 L -74.01065512584188,40.7363006896678 L -74.01065421033896,40.73634774524588 L -74.01061910077432,40.73634539072178 L -74.01056810573441,40.736972220142476 L -74.01051581576759,40.737596064953614 L -74.0104765981442,40.73806394059505 L -74.0110870663595,40.73809275008128 L -74.01106791934328,40.73830409617404 L -74.01108874586798,40.738317524693635 L -74.01110665714008,40.73833319830235 L -74.01112123961255,40.73835075511965 L -74.01113215659461,40.73836978978422 L -74.01113915602562,40.73838986281303 L -74.01111553678652,40.738392085638054 L -74.01109173777967,40.7383921815097 L -74.01106808891201,40.73839014909901 L -74.01105426715455,40.73838794795722 L -74.01105126196637,40.7383964257506 L -74.01045432864609,40.738364506228145 L -74.01042867884634,40.73870336465874 L -74.01039303134554,40.73917429605917 L -74.01049858988299,40.739173432770414 L -74.01055473996811,40.739186239049005 L -74.01074676135302,40.739175936679615 L -74.01138798406559,40.739216056088615 L -74.01148456734629,40.73926046259409 L -74.01158045502316,40.73926453611201 L -74.01158818724917,40.7392715959002 L -74.01158715816634,40.739478870334786 L -74.01163351895192,40.739506486066105 L -74.01162792311777,40.73956247410615 L -74.01155518156285,40.7395567262273 L -74.01152745020416,40.73987377144987 L -74.01159286133141,40.739873764884074 L -74.01161258017342,40.73970760054936 L -74.01234819241692,40.739737565353636 L -74.01236917400034,40.73975164637212 L -74.01237411577738,40.73977886786772 L -74.01234943428379,40.73979389076181 L -74.01228649627012,40.73979296102123 L -74.01228897847172,40.73989904212457 L -74.01231366348769,40.73990279375329 L -74.01234328917012,40.73992062979225 L -74.01235687134124,40.7399365847175 L -74.01234947552231,40.74001637981593 L -74.01232356118135,40.740031403003684 L -74.01227049910146,40.74003422696505 L -74.01226310747168,40.74014218976764 L -74.01230877290092,40.74014781277593 L -74.0123285235642,40.74016283157749 L -74.01232975860142,40.74018348844802 L -74.0123100121277,40.740194756204055 L -74.01157686924232,40.74016009950151 L -74.01158637887602,40.73997384795245 L -74.01151491736535,40.739972863698775 L -74.0114607395534,40.7405842147525 L -74.01215741913089,40.74060599813125 L -74.01215372624051,40.7406742566207 L -74.01265742489994,40.74069665223178 L -74.0126592820849,40.74074763849743 L -74.01257372996915,40.740741731844885 L -74.01257372874744,40.74073525812521 L -74.01147486918863,40.74068706027103 L -74.01137438820489,40.740723947641285 L -74.01071840609633,40.74068559392552 L -74.00963145571754,40.74064536737425 L -74.00949685520361,40.74072701178546 L -74.00949154621281,40.74074270943978 L -74.00951627358202,40.7407735836735 L -74.00951844195933,40.74080572291691 L -74.00950137905859,40.74082922374576 L -74.00946293860208,40.7409023372403 L -74.00941140266131,40.74115409331285 L -74.0095813182218,40.74117496028479 L -74.00957692791619,40.74121065665437 L -74.01216232909218,40.74149188968263 L -74.01211745872139,40.74175851621158 L -74.00951947145009,40.741490302198585 L -74.00944784072519,40.74189159122016 L -74.00927792756075,40.74187861085614 L -74.0091660821697,40.7424165914634 L -74.009091568462,40.74288614957493 L -74.00924013575025,40.74289951840991 L -74.00924074160112,40.74291316086339 L -74.00962015348921,40.74295124889232 L -74.00956843411765,40.74325778472638 L -74.00958464345703,40.743263520483055 L -74.0121194002866,40.743516612182546 L -74.01213726936176,40.74353192705923 L -74.01214813183593,40.74355930154751 L -74.0120900828903,40.74389763764885 L -74.01206903486668,40.74392249354833 L -74.01202085006399,40.74393977020883 L -74.01197763342873,40.74393556042097 L -74.00951201767367,40.74367609376027 L -74.00948868364225,40.74369568117951 L -74.00943800870873,40.74397125597563 L -74.0093942693211,40.743968716838175 L -74.0090420750423,40.74393387125507 L -74.00890032962842,40.743917927096 L -74.00880283523887,40.744439347624194 L -74.00872780058874,40.74485823291001 L -74.00872986359421,40.74488153782964 L -74.00893975844275,40.74490921733242 L -74.00957440612908,40.74499290866279 L -74.00961227924414,40.74499790315053 L -74.00955832929749,40.745288825298694 L -74.00991660813456,40.74532725500707 L -74.00993436677696,40.74531707810183 L -74.0099379618494,40.74529670191299 L -74.00994341816717,40.745265769736356 L -74.00995048769146,40.7452256903209 L -74.00995852601345,40.74518011964658 L -74.00996759959419,40.74512868110842 L -74.0099735068339,40.7450951941157 L -74.00998135739343,40.74505068238846 L -74.0099891727315,40.745006384761986 L -74.00999822601715,40.74495505930209 L -74.00998685784818,40.74494416421518 L -74.00986948474728,40.74493391770714 L -74.0098721108548,40.74491650212574 L -74.01016790535392,40.744942329709566 L -74.0101646519737,40.74496392462975 L -74.01005375656217,40.744954234929885 L -74.01003848384612,40.74496345807816 L -74.0100236125255,40.745046345318 L -74.01001404323709,40.745099676615546 L -74.01000814033458,40.745132576765585 L -74.00999930170606,40.74518183979105 L -74.0099925052406,40.745219719064224 L -74.00998320132659,40.745271573088665 L -74.00997743638767,40.74530370360894 L -74.0099739502192,40.7453231351092 L -74.00999095380003,40.74533668667391 L -74.01046920011868,40.74538676602898 L -74.01048835594965,40.74537571509467 L -74.01049187417472,40.74535516701379 L -74.01049693441198,40.745325615430794 L -74.01050332781192,40.74528827090883 L -74.01051171655331,40.745239275258314 L -74.01052083436335,40.745186021358805 L -74.01052681665284,40.74515108070608 L -74.01052968455846,40.7451343325126 L -74.01055044755898,40.74501305771002 L -74.01053188168753,40.745002981869206 L -74.01041700660257,40.74499358270333 L -74.01041937209395,40.74497682467362 L -74.01076419780692,40.74500503202078 L -74.01076156046138,40.7450237261835 L -74.0106062154019,40.74501101647428 L -74.01058579200931,40.74502044656155 L -74.01056801091906,40.74513793282639 L -74.01056370849734,40.745166362253165 L -74.01055056928827,40.745253182077825 L -74.01053978205329,40.74532445541935 L -74.01053373534738,40.74536440745699 L -74.01053106537704,40.74538205038946 L -74.01054520392155,40.7453921350116 L -74.01110359804885,40.74544767024394 L -74.01111624163289,40.74543612462544 L -74.0111246622997,40.74537776220244 L -74.01113010029034,40.745343228325524 L -74.01113887006922,40.74528754863185 L -74.01114545795528,40.74524572071854 L -74.01115627315944,40.74517704715612 L -74.01116113418436,40.745146176460985 L -74.01117183119825,40.74507825828334 L -74.0111532870985,40.74506864357284 L -74.01104281748226,40.74506096342358 L -74.01104459150831,40.74504621240201 L -74.01138769974182,40.745073112682604 L -74.01138567845334,40.74508800864403 L -74.01123038057239,40.74507583116526 L -74.01121085294047,40.74517080368259 L -74.0112059244744,40.74519477063073 L -74.01118816871943,40.74528112609168 L -74.01118102964986,40.74531584944141 L -74.01116675082788,40.74538529798187 L -74.0111541917691,40.745446378083905 L -74.01116709976122,40.745460352539965 L -74.01173958552815,40.74551991819018 L -74.01179527645735,40.74515466698498 L -74.01178273500803,40.74513495663094 L -74.01166900853472,40.745127331191384 L -74.01167067583806,40.74511397784239 L -74.01183642872417,40.74512596367872 L -74.01177458786383,40.745524845918766 L -74.01177025765062,40.745552784540145 L -74.01176635449525,40.74557798004347 L -74.0117827582809,40.7456015722554 L -74.01171897530912,40.745939844997764 L -74.01171123496545,40.745961259151706 L -74.01167885505596,40.745979461815956 L -74.01163451251723,40.74597839430354 L -74.01055524902252,40.745871104925456 L -74.01055133475727,40.745902883999676 L -74.01012821388646,40.74585723892899 L -74.01012821162075,40.745842335463045 L -74.00994668462282,40.745819514445614 L -74.0099480791384,40.74580017091194 L -74.00946389855972,40.74575014365943 L -74.00945236676588,40.74581747389088 L -74.00944165126164,40.745880035252725 L -74.00943562211822,40.74591524271849 L -74.00942443646915,40.74598054836305 L -74.00941900727406,40.746012247277136 L -74.00940745668308,40.74607969611165 L -74.009401558017,40.74611413662903 L -74.00939067734767,40.74617765591175 L -74.00938523645611,40.746209426860574 L -74.00938042260216,40.74623753731057 L -74.00937637598555,40.74626116385924 L -74.0093636273423,40.74633560197722 L -74.01153382764763,40.746567754712274 L -74.011567829226,40.74657945216891 L -74.01159123434022,40.74660150547595 L -74.01158846879171,40.74662807440217 L -74.01153307246702,40.74696682694798 L -74.01151183018266,40.746984604103034 L -74.01148373087554,40.74699058876526 L -74.01144491250467,40.746986285028434 L -74.00924314658675,40.74676279075371 L -74.00913736259926,40.74735976280298 L -74.00956047962374,40.74740279960452 L -74.00956103476231,40.74738773359521 L -74.00956765300357,40.74738787745319 L -74.00956826626557,40.74737108340657 L -74.00955039867242,40.747370706112825 L -74.00955155415365,40.74733934176788 L -74.00996384996873,40.74737780301252 L -74.00995838445456,40.74741167208282 L -74.00990669970037,40.7474068496084 L -74.00990158912964,40.7474384843489 L -74.01135675337726,40.74759241834679 L -74.01139477623487,40.74761090210864 L -74.01140673935527,40.747630550570626 L -74.01134693158467,40.74797620549259 L -74.01133174441692,40.74800057534196 L -74.0113035299375,40.74801457190888 L -74.01126611253964,40.74801371918114 L -74.00905847901343,40.74778564533281 L -74.00894606502322,40.74841189316871 L -74.00897918405973,40.748412709626926 L -74.00897918237624,40.74840021938044 L -74.00907100927556,40.74840976720638 L -74.00907390770351,40.74839506170082 L -74.00941511636567,40.748429586917254 L -74.00941607672534,40.74843693503791 L -74.00952336741516,40.748447956808235 L -74.0095188236012,40.74847354043593 L -74.01116687561544,40.74864504676615 L -74.01119472751151,40.748656814113886 L -74.01121561813416,40.74867799224354 L -74.01121562130412,40.748696821175805 L -74.01114914281891,40.74902574726487 L -74.01113289942985,40.749041633831 L -74.01110891182995,40.74904987642216 L -74.01107797059215,40.74905164311724 L -74.0099481793803,40.74893198800567 L -74.00956004978678,40.74993504179153 L -74.00972257401416,40.749972029008546 L -74.00972771074943,40.74996378830078 L -74.01006544547259,40.75006803825169 L -74.01050182205226,40.75020981164461 L -74.01075118603512,40.750293977204855 L -74.01080815800904,40.75031931136798 L -74.01075658033929,40.7504108529575 L -74.01069531261541,40.750394514816875 L -74.01048679093358,40.750326688769135 L -74.00968282368932,40.75006275779384 L -74.0096935026082,40.750043936175594 L -74.00954248045576,40.750000949023345 L -74.00951808686516,40.75010700478141 L -74.0094700192251,40.75008116415654 L -74.00947559600833,40.75007515771959 L -74.00925340917924,40.74998520622449 L -74.0091189664493,40.75033244243163 L -74.00900098259454,40.75064818378257 L -74.00870618650585,40.75142680500331 L -74.00873137829981,40.75146589496972 L -74.0086672907182,40.751628197220754 L -74.00862089839437,40.75165257792247 L -74.00853256925024,40.75188360930431 L -74.00876004993515,40.75194801470967 L -74.00914082120002,40.752097594099034 L -74.00912661123245,40.7521168957349 L -74.00874567715042,40.751964395327015 L -74.00865115936804,40.75193951211305 L -74.0086431823763,40.75195650203193 L -74.00896912527918,40.75207679147874 L -74.00895742294804,40.75209022513094 L -74.00903895969977,40.75212515615244 L -74.00904909796247,40.75211834944301 L -74.00910757975159,40.75213971211182 L -74.00910596820009,40.752142124949444 L -74.00905774009662,40.752214351243175 L -74.00899734911651,40.75218910594712 L -74.00900762808337,40.75217684273936 L -74.00892887650475,40.75214400187017 L -74.00891472422606,40.752163628475834 L -74.00867223768388,40.75206225000071 L -74.00859053101699,40.75202810543436 L -74.00858095760466,40.7520438824116 L -74.00866456561988,40.75207286737424 L -74.0093408924528,40.75235560954554 L -74.00932795206229,40.752373503046144 L -74.008478955728,40.75201857191988 L -74.00842636447226,40.75215785023924 L -74.00881779819426,40.752324345854184 L -74.00880273703076,40.75234485403722 L -74.0088394166214,40.752358816534674 L -74.00885173565307,40.75234228177294 L -74.00986566961524,40.75276341313924 L -74.00984627922618,40.752785441959404 L -74.0098892261995,40.75280368052555 L -74.00990631519599,40.75278041119834 L -74.0099905581975,40.75281618714907 L -74.00992010631799,40.75291212601697 L -74.00997058797022,40.752933564153146 L -74.00991916275493,40.75300359145921 L -74.00978913116427,40.75294837008768 L -74.00988774868318,40.752814077653284 L -74.00983854674402,40.75279496798307 L -74.00983056913984,40.752803464244565 L -74.00882994505393,40.75238001600714 L -74.00883632714998,40.752371521109524 L -74.00879210090847,40.7523521383795 L -74.00868792219572,40.75249399862839 L -74.00835352838843,40.75235073934231 L -74.00801152240538,40.75325645261208 L -74.00790245613038,40.75354261201443 L -74.00773872468986,40.753972157818566 L -74.00761949611858,40.75428184227666 L -74.0077440483022,40.754336802434274 L -74.00759618989146,40.75453055073416 L -74.00747157990926,40.75447702042384 L -74.00729394650313,40.75472318445086 L -74.00728499944323,40.75473556820313 L -74.00741362036906,40.75478930266942 L -74.00727181174769,40.75498559453522 L -74.00714468360972,40.75493248117341 L -74.00695917416678,40.75518079484938 L -74.00680635763683,40.755391775640305 L -74.00670291840636,40.75553236749094 L -74.00657767658517,40.755706871433944 L -74.00620548925971,40.75622084397098 L -74.00610422181599,40.75636052012318 L -74.00596691029229,40.75655814293544 L -74.00592383847429,40.75662023563421 L -74.00580938168251,40.75678934198094 L -74.00541885841011,40.757323140851746 L -74.00521187705773,40.7572319985399 L -74.00480392560185,40.757809843164694 L -74.00496777078658,40.757884164447944 L -74.00527894797891,40.75802855492825 L -74.0050310513664,40.75835701647313 L -74.0069642874931,40.7591600575616 L -74.00699375268466,40.75917614764263 L -74.00701038304962,40.759203720386644 L -74.00700358904015,40.75923187034106 L -74.00652959987842,40.7598747512412 L -74.00650687640183,40.75989203231718 L -74.00647588371956,40.75989360126801 L -74.00644352901314,40.75989046096714 L -74.00631515935251,40.75984282204463 L -74.00450483093914,40.759084996552694 L -74.00420629125391,40.75950170768838 L -74.00390742032769,40.75937569218349 L -74.00380657835007,40.75951073146599 L -74.0040798895684,40.759626044742724 L -74.00424697128062,40.75969921417139 L -74.0042024743225,40.759761071881755 L -74.00414863814689,40.759835914170765 L -74.00424487588262,40.75988657316657 L -74.00425967856717,40.759875307678534 L -74.00431889425076,40.75991068576342 L -74.00426869650668,40.759959279013316 L -74.00421059345653,40.75992456661 L -74.00422266067,40.75991310304364 L -74.00413171622799,40.75986164239601 L -74.00411162007795,40.7598930073072 L -74.00366891453541,40.75970596957658 L -74.00357251040076,40.75984655897313 L -74.00392854933564,40.760003019720415 L -74.003825595952,40.76013313666682 L -74.003588009112,40.760451706951265 L -74.0033848822989,40.76072887070633 L -74.00313338991401,40.761078345096294 L -74.00278691552613,40.76092896970333 L -74.00233528130057,40.761543727001616 L -74.00454520983433,40.762492801944816 L -74.00455814361389,40.76250787607533 L -74.00455641560922,40.76252426502506 L -74.00444951527277,40.762664567199984 L -74.00442709659245,40.76267570735635 L -74.00439976203518,40.76267135909881 L -74.0022008207327,40.76172843222647 L -74.00178824022315,40.76229452064422 L -74.00153309066981,40.76264459812759 L -74.00375735037694,40.76358224164056 L -74.00361214794175,40.76377704390972 L -74.001386036986,40.76285009500188 L -74.00097308022016,40.76342027172565 L -74.00314976988992,40.76433288818462 L -74.00294809515725,40.76461683643389 L -74.00306161234066,40.76466578265342 L -74.00313458336224,40.764649598206695 L -74.00316194577044,40.76461261045461 L -74.00322275585363,40.76463803767021 L -74.00315587058185,40.76473050987994 L -74.00314652967366,40.7647362813918 L -74.00313606019988,40.76474079644628 L -74.00312475155107,40.76474393024101 L -74.00311291631387,40.76474559615357 L -74.00310088163069,40.76474574813583 L -74.0030889801569,40.764744381986766 L -74.00106364220511,40.76388820826286 L -74.00073105253733,40.7637552863614 L -73.99992712367728,40.76340652847935 L -73.99963853555371,40.76356907099079 L -73.99962263458187,40.76355908121045 L -73.99951767096823,40.763706279180276 L -73.99944642217315,40.76380619457846 L -73.99943330724619,40.763823910196976 L -73.99915098087908,40.764205259582695 L -74.00227436642373,40.765525181099555 L -74.00228802371483,40.765561544297775 L -74.00205713831564,40.76587739041861 L -74.00202454330335,40.76589326657038 L -73.99919997246741,40.764701914982496 L -73.99910832564545,40.76466249985752 L -73.99888473174988,40.764569377048495 L -73.99857638530538,40.76499860727076 L -73.99859978707626,40.76507334028592 L -73.99863487876344,40.765085794737736 L -73.9986653047344,40.76510448074717 L -73.99868637477219,40.765137394267754 L -73.998695730373,40.76517476567955 L -73.99868870694561,40.76520857044983 L -73.99866764711378,40.765237035342906 L -73.99863371556073,40.76526016874122 L -73.99858924105146,40.7652761788068 L -73.99848276468684,40.76529753698438 L -73.99843830371466,40.76531621383388 L -73.99840202518251,40.76535090908753 L -73.99835829733873,40.765418049266316 L -73.99829119846427,40.76552107326132 L -73.9982709030835,40.76555223341325 L -73.99828160709528,40.765567775437326 L -74.00154217871203,40.76694470253266 L -74.00157335385268,40.766977192210696 L -74.0015618057548,40.766996499368275 L -74.00139437159497,40.76723004773301 L -74.0013643461298,40.76724936447365 L -74.00131469636004,40.76725112004994 L -74.00129391014994,40.767241458241585 L -73.9981567843898,40.76589403537408 L -73.99814818647367,40.76590560707495 L -73.99806675905354,40.76587188113568 L -73.99772134825697,40.766349120555766 L -73.99737808447964,40.766823386379535 L -74.00062837395305,40.768203111058696 L -74.000650167862,40.768220374289214 L -74.00064950530418,40.768245236105564 L -74.00045489336716,40.76850419517743 L -74.00041765393195,40.768512479964414 L -74.00038586489076,40.768504195429294 L -73.99715588949212,40.76712869617279 L -73.99681598463503,40.767600621859145 L -73.9964571540504,40.768098815795625 L -73.999728191901,40.76947350663368 L -73.99973590247853,40.76950617733153 L -73.99955518930786,40.769750807740046 L -73.99951552161613,40.76976756583779 L -73.99947253734024,40.76976421496914 L -73.99707176039311,40.76873264357685 L -73.99702628821073,40.76879551562383 L -73.99715035477146,40.7688473877134 L -73.99701071413826,40.76902879065363 L -73.9968931131237,40.76897962881943 L -73.99657126439577,40.769424568273834 L -73.99902682832902,40.77046327298206 L -73.99876206914315,40.770825056709214 L -73.99631327022085,40.76979883633641 L -73.99588004351688,40.77040057901225 L -73.99601693196199,40.77045484888618 L -73.99590077425034,40.77061312350094 L -73.99576733283615,40.770554596456435 L -73.99542474436302,40.77103161516796 L -73.99575648212901,40.77116066846579 L -73.9957085906995,40.771225812532926 L -73.99579774020454,40.77128256276406 L -73.99581687579044,40.77125651641555 L -73.99591283603844,40.77129785562376 L -73.99592803670673,40.77127510283763 L -73.99600175749052,40.77130746533056 L -73.99589990100937,40.771450298582096 L -73.99589260894884,40.77144708752719 L -73.99585437252811,40.77149918074846 L -73.99579117748779,40.7714755188204 L -73.99582805886243,40.77142166722239 L -73.99572993314408,40.77137881879372 L -73.99575123412824,40.77135428277978 L -73.99562982240307,40.771325292628056 L -73.99562306904366,40.771336957512865 L -73.99530566365357,40.77119600490949 L -73.99512395556886,40.77145073826707 L -73.99499014482076,40.77144070980649 L -73.99495733353699,40.771449190697695 L -73.99493501659005,40.77146814657798 L -73.99492385794417,40.77148560593747 L -73.99492582120637,40.77151604240548 L -73.99500915438725,40.77160733994413 L -73.99497830771196,40.77164524947328 L -73.9949768849473,40.77165877492332 L -73.99711218538609,40.77255323669952 L -73.99690946902788,40.77283294565996 L -73.99477407930823,40.77192954753019 L -73.99444501293384,40.772377126588324 L -73.9954551499559,40.772802675029084 L -73.99554492520852,40.77267481382618 L -73.99644894667634,40.77305684199672 L -73.99635558854986,40.77317889215508 L -73.99622972001936,40.77312897504531 L -73.99614329133081,40.77324754156346 L -73.99656159477647,40.773410941951006 L -73.99668544431167,40.77350368804627 L -73.9966770578474,40.773510053942175 L -73.99434191991621,40.772524781943424 L -73.99424979228651,40.7725264851381 L -73.994163284563,40.772487191523865 L -73.99383108203092,40.772931787850645 L -73.9938875450246,40.77295574416387 L -73.99389125243704,40.772955194876715 L -73.99396258551457,40.77294465390892 L -73.99401262480508,40.7728828466319 L -73.9941220580824,40.77292405902602 L -73.99413665258861,40.77290187017425 L -73.99430134239114,40.77297002866392 L -73.99428153513443,40.772993802069315 L -73.99437655275096,40.77303955110136 L -73.99431863468713,40.77312144027021 L -73.99429402982382,40.77315624399181 L -73.99502327586075,40.77348119657617 L -73.99507108796963,40.773414138665814 L -73.99508939189286,40.77338847503913 L -73.99501396371674,40.77335803542693 L -73.99505028469918,40.77329715318985 L -73.9962406518988,40.77378979139767 L -73.99619583747098,40.77385235618407 L -73.99610846880843,40.77381631601507 L -73.99610778142996,40.77381737760107 L -73.99606316808179,40.773886886610065 L -73.99612697773726,40.773913354620824 L -73.99612850482784,40.77391398490313 L -73.99612636140223,40.773916713654195 L -73.99609880736975,40.77395180529909 L -73.99611835102779,40.773960323961354 L -73.99617945997379,40.77398695435152 L -73.99609524522621,40.77408618643762 L -73.99605125275335,40.774068895803204 L -73.99557226516114,40.773870731394275 L -73.9939369418221,40.77317951096689 L -73.99386295329136,40.77326952957484 L -73.99382334505351,40.773381766882665 L -73.99376791399207,40.77348399450776 L -73.99369930927799,40.773562152658094 L -73.99362279521324,40.77363229021237 L -73.99352782764133,40.77371444646857 L -73.99344341917192,40.77377055018086 L -73.99341175671518,40.77380261242391 L -73.99335894150748,40.77392688015463 L -73.99262266386542,40.774974056036925 L -73.9925778427661,40.77495601635938 L -73.99252774395154,40.775002110439836 L -73.99246974581534,40.77502415955178 L -73.99240383719187,40.775018140390664 L -73.99226708903541,40.77511603385854 L -73.99205908493715,40.77549759819226 L -73.99212537239492,40.77550907505336 L -73.99222686779699,40.77548221102612 L -73.9923293466088,40.77546890095852 L -73.99236175680113,40.77550189976663 L -73.99238604296028,40.775557180424634 L -73.99208768471269,40.775983970821365 L -73.99201877991071,40.776073340735394 L -73.99142953190217,40.77687956054528 L -73.99092717414969,40.77756687876296 L -73.99073041339479,40.77756055024255 L -73.99039616003651,40.777585065679055 L -73.99010126597662,40.777996457516615 L -73.9896488729282,40.77862756000899 L -73.9892009588643,40.779252398651565 L -73.98920068089922,40.77925278678181 L -73.98917577843804,40.77928752401577 L -73.9890851947859,40.779407597662015 L -73.98886861740003,40.779692922911416 L -73.98887187449976,40.77971373825301 L -73.98921902288056,40.77969789520939 L -73.98927785904425,40.77972343927106 L -73.98940905418013,40.77973770647197 L -73.98949861492703,40.779725044389764 L -73.98959649338822,40.77969814668337 L -73.9896798129025,40.77967756865803 L -73.98975270293793,40.77967124421157 L -73.9898422478065,40.779680752670664 L -73.9899443022714,40.779696593271176 L -73.99004010212047,40.77970767769822 L -73.99013797752482,40.779699769704784 L -73.99022336845648,40.779682361211215 L -73.99033584033221,40.779661794395 L -73.99043059869703,40.779664973055496 L -73.99050764615505,40.779668139123864 L -73.99062219939671,40.77967606491433 L -73.99074506950548,40.77967132818406 L -73.99087211428218,40.7796460076439 L -73.99096167222436,40.77963968375177 L -73.99105747282952,40.77965235262575 L -73.99115742949704,40.77966977560645 L -73.99124281740445,40.77967136708451 L -73.99125531828973,40.77965078251649 L -73.99129488712012,40.77963020920888 L -73.99132196764988,40.779631796041386 L -73.99135945556941,40.7795858833374 L -73.99155105922739,40.77957482143735 L -73.99141982585964,40.779755280287034 L -73.98888614411696,40.77987889853273 L -73.98893965670626,40.77995617844041 L -73.98892610353083,40.78005929201363 L -73.98891168026469,40.780096037146635 L -73.9889116606736,40.7801223667702 L -73.98891926146842,40.780226094343675 L -73.98838105020263,40.78098107404582 L -73.98823241384697,40.781233144215555 L -73.98821042083165,40.78122548254207 L -73.98814418135409,40.781365671327194 L -73.98813788174478,40.78137928127401 L -73.98812746168677,40.78140179744746 L -73.98804128806715,40.781585961353784 L -73.98810029382462,40.781602878305286 L -73.98807644914505,40.781650935001615 L -73.98801805997222,40.78163418881045 L -73.98796079284213,40.781770987031535 L -73.98791968459248,40.78183347771323 L -73.9878772872501,40.78189205133476 L -73.98647480368594,40.78391657371871 L -73.98625187003545,40.78423876424542 L -73.98611372725286,40.78443891237993 L -73.98561580396368,40.78514186259504 L -73.98546581197026,40.78536070057545 L -73.98617270496545,40.78606845225869 L -73.98645586240198,40.7859192190814 L -73.98707234561559,40.78518963882012 L -73.98711901394256,40.7852103190041 L -73.98649778102359,40.78595120288726 L -73.98616462880626,40.786121882448334 L -73.98612842248589,40.78623900133113 L -73.98607113521973,40.7862407060266 L -73.98602727478912,40.78622896423673 L -73.98609763784941,40.78605822569795 L -73.98542932126942,40.78541394218464 L -73.98508113773205,40.78592193511045 L -73.98519883325449,40.78596655219777 L -73.98517050238989,40.78601333415815 L -73.98521621867364,40.786030501816406 L -73.98525509797992,40.78597620551158 L -73.98524273937646,40.785972572653336 L -73.98524962933016,40.78596313985584 L -73.98528177918674,40.78597862095007 L -73.98524003288452,40.78603585813679 L -73.98568388524217,40.786222123919686 L -73.98571752900456,40.786175994668795 L -73.98576566029752,40.78619627485863 L -73.98568287192252,40.78630978621315 L -73.98563627093043,40.78629015064927 L -73.98567072256466,40.78624291199381 L -73.98561523764435,40.78621964571528 L -73.98520511880037,40.78604766921279 L -73.98521103560748,40.78603955488367 L -73.98516263994699,40.786020999769754 L -73.98513163631205,40.786060297019986 L -73.98501696406495,40.78601423719566 L -73.98493597820354,40.78613072065099 L -73.98465507883023,40.786534741807955 L -73.98574378790103,40.78657008285474 L -73.98589227228327,40.78642652901957 L -73.98594285499497,40.786452847880334 L -73.98594956155658,40.786487113966515 L -73.98581237352651,40.7866168653571 L -73.98513520970316,40.78658761889549 L -73.9846194285841,40.78658601634983 L -73.98369521623653,40.78791528181529 L -73.98234664147552,40.78985478127522 L -73.98188645946534,40.790516580935105 L -73.98139174468552,40.79122824600514 L -73.98128937370952,40.79137550943303 L -73.98094708354064,40.7918678937825 L -73.980537679464,40.79245681262499 L -73.98043434256005,40.79259428309674 L -73.98013222578663,40.79299376538316 L -73.98004684398002,40.793113525163925 L -73.9792882208298,40.79417763216333 L -73.97828949152739,40.795586760963445 L -73.97779475503206,40.79628462977193 L -73.97685207845194,40.79763134839319 L -73.97639951930557,40.79827321069251 L -73.97628527884254,40.79843523541007 L -73.97583055785236,40.79909228091325 L -73.97578169321191,40.7991562567803 L -73.97579140130196,40.79920962788621 L -73.97576219486481,40.79926017354929 L -73.97554385822019,40.799528250637344 L -73.97526783234454,40.799932849531714 L -73.97508668067891,40.800189533633 L -73.97496436808184,40.8003696341939 L -73.97483924436003,40.80055824326267 L -73.97466556722725,40.80081351473416 L -73.97448722520987,40.80105742889681 L -73.97414361823468,40.80151689534116 L -73.9739409836669,40.80180902586399 L -73.97389989052462,40.801889863531194 L -73.9737747724601,40.80204584594857 L -73.97372060455763,40.802167815280235 L -73.97361322463884,40.80229686038974 L -73.9735422772157,40.8023564112503 L -73.97336671067802,40.80263011334648 L -73.97320518045738,40.80283005827629 L -73.97312859120993,40.80297471550865 L -73.97307070537943,40.8030555484474 L -73.97303522902074,40.80307397374192 L -73.97292317001968,40.80324982284385 L -73.97286807262154,40.803320734176026 L -73.97287179081499,40.80335618814787 L -73.97255429829629,40.80379863465013 L -73.97217237241797,40.80431907695906 L -73.97205095521868,40.804530376010035 L -73.97195292438525,40.804619709051586 L -73.97181849483543,40.80471754320449 L -73.97179980150743,40.80478561548601 L -73.97171200727094,40.80493169127652 L -73.97162049569336,40.80504229439937 L -73.9716111339144,40.80509618747434 L -73.97144210961521,40.80533442683979 L -73.9712908330033,40.80552870753323 L -73.97110765852283,40.80579014017928 L -73.97045990226613,40.80663109398826 L -73.97021400799224,40.80693570615333 L -73.96988290614696,40.80736478848125 L -73.96977288943336,40.80752528264376 L -73.96955934797353,40.80779550099896 L -73.9691117356584,40.808406370068965 L -73.96909103244369,40.80843016507839 L -73.96891678484035,40.808630780559795 L -73.96885218645302,40.80875198661713 L -73.96866264764937,40.808963292678165 L -73.968557477712,40.80907289432357 L -73.96854420633761,40.80914511039273 L -73.96846348611663,40.809318714019945 L -73.96842473507036,40.80939406033301 L -73.96823952732144,40.809662683894395 L -73.9681533751206,40.80976588140871 L -73.96811675018665,40.80980683624051 L -73.9681318659272,40.809844489225 L -73.9679606531175,40.81010001006927 L -73.96788312497537,40.81020156518219 L -73.96788099174022,40.81024414732448 L -73.96779484834443,40.81036699737401 L -73.96772160095225,40.810434161110884 L -73.96770439052301,40.81048819988439 L -73.96766778940896,40.81055044594288 L -73.96762038824613,40.81058485039434 L -73.96762041422596,40.81063070153989 L -73.96754397270513,40.81077319972411 L -73.96740185312369,40.811022155397104 L -73.96713048758595,40.81138742007391 L -73.9670411118029,40.81152009962683 L -73.96700232144049,40.811547948029684 L -73.96692265508437,40.81169044653366 L -73.96688175014945,40.811773976428235 L -73.96674930787952,40.81198198551441 L -73.96663300760085,40.812153970787996 L -73.96652962321875,40.81228501552481 L -73.96639177720881,40.8124733731619 L -73.9662776271678,40.81263881250281 L -73.96615809223947,40.812815702791276 L -73.96610639539487,40.812863206936264 L -73.9658824094512,40.81320062634857 L -73.96579194974646,40.81332838170002 L -73.9656584016126,40.81349873149242 L -73.96548975012963,40.81374707236785 L -73.965489324249,40.813747693756206 L -73.96534706551702,40.813939651896696 L -73.96510784267431,40.814275476532295 L -73.96509511906321,40.81431957265909 L -73.9643248339137,40.81551273701066 L -73.96414082888299,40.81577165745391 L -73.9634039510228,40.81668419794027 L -73.9631270240379,40.816955095336404 L -73.96308529694105,40.81700611343311 L -73.9627191339208,40.817368490757325 L -73.96203105795962,40.818086331481744 L -73.96131833180573,40.818894523557375 L -73.96094889843974,40.81931128887271 L -73.96044728492032,40.81987715679099 L -73.95999892229345,40.82038294480229 L -73.95981462674526,40.82029787520395 L -73.95939068797934,40.82085517835582 L -73.95932566265209,40.82094627625341 L -73.95928300647289,40.82099497441366 L -73.95913061580629,40.82116895377474 L -73.95920767709246,40.82120790934949 L -73.95926255403742,40.821235655358585 L -73.95930263598677,40.82118989752305 L -73.95942624349648,40.82125238173795 L -73.95914685715192,40.82157132855097 L -73.95903294155774,40.82151374622849 L -73.95923467193995,40.82127782527041 L -73.95917712794261,40.8212494299851 L -73.9590896024009,40.821206247055926 L -73.95881892233997,40.82151852484675 L -73.9589417294171,40.821569364009555 L -73.958745236605,40.821805511973615 L -73.95896360094639,40.82237379414212 L -73.95900018289892,40.822409728374346 L -73.95911304024106,40.822454964645544 L -73.95922976213465,40.82228691013231 L -73.95990999444398,40.822571119821994 L -73.9596033246028,40.822994686783325 L -73.95892614718302,40.822711755441325 L -73.95904953331708,40.822541335368236 L -73.9589172176045,40.82248605137144 L -73.95886745433307,40.82245023922806 L -73.95883849863237,40.82240504207783 L -73.95865126011921,40.82191843657332 L -73.95864585147658,40.821904369631746 L -73.95852731524258,40.82184375665212 L -73.95820019354012,40.822283136918095 L -73.95816805363593,40.8224581009912 L -73.95813063305532,40.82253109146093 L -73.9580746794387,40.82261135846487 L -73.95793904909121,40.82277435354728 L -73.95822838183035,40.822887867100874 L -73.95820639539103,40.82292213191225 L -73.95814312769203,40.82302072227144 L -73.9591645863233,40.82345179548335 L -73.95918196037644,40.82345912294559 L -73.95943846744422,40.823562392292935 L -73.95946454189175,40.823571135671706 L -73.95948269766957,40.823578652665624 L -73.95949747410954,40.82358681628588 L -73.95950361164489,40.823591185797746 L -73.95950897939188,40.823595788902786 L -73.95953101411841,40.823619182180586 L -73.95953800225297,40.823629334087336 L -73.95954284439085,40.823639168452445 L -73.9595447255249,40.82364494182927 L -73.95954522180324,40.823647337599624 L -73.95953351105084,40.823685018397235 L -73.95955575493863,40.82369379776878 L -73.95901612941898,40.824504188499276 L -73.95899582803376,40.82449642742508 L -73.95725896977147,40.827117309873074 L -73.95694866420469,40.827000553935 L -73.9563178451031,40.827944215388555 L -73.95620054528383,40.8279012265975 L -73.95620373779566,40.827896986099844 L -73.9562239436024,40.8278700873914 L -73.95503912978396,40.82741343191187 L -73.954697366195,40.8279183855142 L -73.95454188062128,40.827861476365506 L -73.95446469977234,40.827974169698784 L -73.95446458034701,40.827974332150006 L -73.95436068010206,40.82811788301517 L -73.95427220906049,40.82823654314247 L -73.95421653625765,40.82830747085548 L -73.95416950644204,40.82836086924018 L -73.95413649135831,40.82839340956268 L -73.95406111804249,40.82846213245149 L -73.95403271717639,40.82849042349065 L -73.9540210667868,40.828502980304506 L -73.95398614911781,40.828543516251656 L -73.95395406407458,40.82858535816409 L -73.95359128626792,40.829097720648726 L -73.95297619362618,40.83009020327101 L -73.95234497932476,40.831019858645064 L -73.95219759081199,40.831220454891884 L -73.95214990407379,40.83127471725006 L -73.95169902461552,40.83191599677561 L -73.95159840386944,40.83204708164592 L -73.95140314324237,40.83232213003089 L -73.95131641119,40.83245051197062 L -73.95119348573833,40.83264713466515 L -73.95109620887548,40.83280509670186 L -73.95105949632563,40.83289766190666 L -73.95105224571313,40.83292243763382 L -73.95099727522994,40.833110277667856 L -73.95096613500127,40.833216703289786 L -73.95093576231483,40.833293997985656 L -73.95066373627962,40.833635997666356 L -73.95042306202329,40.83404708748849 L -73.95024424006594,40.8342674146756 L -73.95015520996611,40.83439675981584 L -73.94997968030412,40.83487587860564 L -73.94988915620453,40.83528472075898 L -73.94979826505224,40.835489841210304 L -73.94978471338267,40.83552043388431 L -73.94974257886045,40.835628087824865 L -73.9497389152804,40.83570565447777 L -73.94971243579302,40.83577499028427 L -73.94969313831767,40.83586258094349 L -73.94968349007466,40.83592188337068 L -73.94968950571408,40.836041139876365 L -73.9496911764021,40.83607427749749 L -73.94968634744758,40.836109863324936 L -73.94965628913987,40.836190939970784 L -73.94964541816819,40.8362202547502 L -73.94962137643168,40.836232103601 L -73.94960149708453,40.83630509930477 L -73.94958334065862,40.836483937836825 L -73.94954600729373,40.83660437150179 L -73.94950991762181,40.83666548968744 L -73.94945701919954,40.83670561947372 L -73.949388529061,40.83671562194057 L -73.94932846081286,40.836719250936476 L -73.94929034657062,40.83672929248495 L -73.94928698608659,40.83673277578559 L -73.94928446254687,40.83673664541755 L -73.94928285083026,40.83674078656085 L -73.94928219875995,40.83674507633912 L -73.94928252568434,40.83674938746573 L -73.94928382190317,40.836753592020514 L -73.94928604895503,40.83675756524552 L -73.9492891407588,40.836761189246836 L -73.94929300557425,40.83676435649271 L -73.94929752872429,40.83676697300425 L -73.94930257599755,40.83676896114408 L -73.94937713355948,40.83678033441992 L -73.94943994696526,40.83679169931688 L -73.94944230013118,40.83679215701845 L -73.94949739936226,40.83681498148947 L -73.94954210504446,40.83687963242823 L -73.94918058897862,40.837864010121635 L -73.9491523412929,40.83793355255769 L -73.94900459767892,40.83842558853353 L -73.94892891168685,40.838643426286076 L -73.94883961981105,40.83887563584403 L -73.94875763667535,40.839020237482515 L -73.948657750269,40.8393013447156 L -73.94856054520488,40.83956488566427 L -73.94849640289061,40.839667593172514 L -73.94842860791512,40.83986085465321 L -73.94833417923743,40.839997335886025 L -73.9482744989371,40.84006354116469 L -73.94823352622095,40.84011759626999 L -73.94807484255465,40.8404662594779 L -73.94796701014053,40.84065410819871 L -73.94786003452232,40.840896013090145 L -73.94776196087732,40.84112575633128 L -73.94770934809964,40.84126360686615 L -73.94760600401791,40.841409547682304 L -73.9475560981857,40.84152866737061 L -73.9474889692931,40.84169746388169 L -73.94738322154222,40.84194082630445 L -73.94727430439127,40.84205178297001 L -73.94721047555683,40.84210112669678 L -73.9471678822236,40.84215909904335 L -73.94713367972261,40.84225862411276 L -73.9471205331104,40.84228559744323 L -73.94710715174415,40.842306787578885 L -73.94696012382846,40.84253957012674 L -73.94693502862766,40.842619198509325 L -73.94686918645257,40.84270482339679 L -73.94678768212597,40.84281512747888 L -73.94675510074843,40.842888461013025 L -73.94670984756601,40.84294412465154 L -73.94661642596199,40.84302009833801 L -73.94654808278284,40.84311998115939 L -73.94645858066572,40.843254384265975 L -73.94636919991535,40.84345477995473 L -73.94631349566352,40.84355977043893 L -73.94624891918195,40.84367120457854 L -73.94619788899398,40.84375409896799 L -73.94612625578607,40.84388856876929 L -73.94612416421772,40.84389249655713 L -73.94611933577555,40.84400473749401 L -73.94609745833887,40.844055052047274 L -73.94609415172175,40.84409735524896 L -73.94611365510728,40.844196277526144 L -73.94611699818833,40.8442249656692 L -73.94609316413103,40.844291148652864 L -73.94610537772553,40.8443497221328 L -73.94608425805833,40.84446818196512 L -73.94609124077476,40.84449880134597 L -73.94607880557088,40.844597670328326 L -73.94610929980439,40.84485857499075 L -73.94612272152783,40.844879554715824 L -73.94612836835277,40.84491180766122 L -73.9461469239887,40.8449397574234 L -73.94616018722814,40.84502984491943 L -73.94616086907159,40.845125827057814 L -73.94619138728335,40.84519797277932 L -73.9462057455364,40.84523179311284 L -73.94622271166769,40.84525916634127 L -73.9462106518648,40.84533362513184 L -73.94617704845383,40.845365915213186 L -73.94617174983877,40.84539289158064 L -73.9462068240667,40.84546174573894 L -73.94623062385419,40.84557698074459 L -73.94627664957972,40.845690659918404 L -73.94630774814603,40.845740934326024 L -73.94643878255482,40.8458859229234 L -73.94646620992474,40.845881260909486 L -73.94647950512866,40.84591977807308 L -73.9464454448152,40.845921488093005 L -73.94648387687248,40.845964687313604 L -73.94651730200577,40.84599518440371 L -73.9465038958519,40.8460281997676 L -73.94645597912816,40.84605816509614 L -73.94642581953661,40.84606333862832 L -73.94634839459356,40.846156448606806 L -73.94635078049936,40.84624033128926 L -73.94640288265276,40.846361291622344 L -73.94643643817493,40.84643991999421 L -73.94647353057917,40.84652861816344 L -73.94651683205119,40.84659313985066 L -73.94664058210431,40.846684894539045 L -73.94671767879176,40.84682475824715 L -73.94678956849322,40.84699674934533 L -73.94682445342644,40.84713426206979 L -73.9468093526662,40.847288446637464 L -73.94678220543959,40.84735338919671 L -73.9467493384277,40.84740595933713 L -73.94669858704917,40.84749739387238 L -73.9466857685379,40.847728395044264 L -73.94665606434616,40.847883320483525 L -73.9466405820579,40.84793929215048 L -73.94662285734353,40.848145519491496 L -73.94662027748593,40.84821401783115 L -73.94661949998888,40.848278425911936 L -73.94664422572278,40.84839933388534 L -73.94665040763176,40.84866760421677 L -73.94667853765395,40.848837459092984 L -73.94663550012669,40.848912425059694 L -73.94665064310519,40.849005010411695 L -73.9466649962484,40.84904569410089 L -73.94670601763004,40.84909437729706 L -73.94672051176013,40.849231783919386 L -73.94673313406388,40.8492674972145 L -73.94675656427766,40.84930266769505 L -73.94681164673376,40.84935193378873 L -73.94683872036461,40.849382821350986 L -73.94685525004355,40.84942768019964 L -73.9468547984757,40.84953947126497 L -73.94688244417458,40.84959284156917 L -73.94689505793295,40.849639453080734 L -73.94690063210652,40.849674149257986 L -73.94696652237195,40.849815174032656 L -73.94695922943819,40.84984895849049 L -73.94695108849982,40.849859164465585 L -73.94695222118278,40.84989009836445 L -73.94699578658114,40.849955924292225 L -73.94695814474186,40.8499852594492 L -73.94696706524549,40.849995665920716 L -73.9469851657691,40.84999453307054 L -73.94702782494721,40.85004183181244 L -73.94702536171071,40.85006211459108 L -73.94700527357742,40.85008186727115 L -73.9469744714631,40.850089895081275 L -73.94695342915082,40.85009773522208 L -73.94696404495707,40.85011165577543 L -73.94698645041188,40.85011883088543 L -73.94701781699507,40.850126995982684 L -73.94702897203554,40.85014476043617 L -73.94701921000414,40.85019509273561 L -73.94704980259193,40.85022334922836 L -73.9470439927835,40.85025474598781 L -73.94700406576868,40.85032932870024 L -73.94700459608353,40.85034406799342 L -73.9470111027367,40.85035629265677 L -73.94700167436996,40.85038652011265 L -73.94699808302224,40.85039803084266 L -73.94696441759594,40.85046552581819 L -73.94692626404864,40.850528055668356 L -73.94686899614925,40.85058959685872 L -73.94681367391628,40.850649039178094 L -73.9468021962798,40.85066137249099 L -73.9465159021609,40.85096833958307 L -73.94650229457679,40.850975666098975 L -73.94648743448356,40.85098142102927 L -73.94647163441917,40.85098548333596 L -73.94645688375383,40.85098762124746 L -73.94644189200058,40.8509882817526 L -73.946426914691,40.85098745359321 L -73.9464121608567,40.850985140794535 L -73.94639793163267,40.850981383687966 L -73.94638447110611,40.850976246722716 L -73.94637201017785,40.85096981801796 L -73.94633875378945,40.850947826827266 L -73.94632077412027,40.85092325667692 L -73.94632888036679,40.85090437687028 L -73.94635174194286,40.85089307380802 L -73.94635218637764,40.85086996465726 L -73.94633796356045,40.85085289594617 L -73.94632729794796,40.850846033076834 L -73.94631589827777,40.850838696108596 L -73.94629717304834,40.850833135330895 L -73.94627501496664,40.85084097767555 L -73.9462437464238,40.85088454299488 L -73.94619776917537,40.850905666203516 L -73.94617304480114,40.850957954988246 L -73.94619597814525,40.850974172072476 L -73.94620078322082,40.851031488105356 L -73.94618601249205,40.85103146965691 L -73.94617210619417,40.8510521198151 L -73.94615819227633,40.85104728646894 L -73.94614699837965,40.851031290628406 L -73.94614542501228,40.851007465881956 L -73.94613392284641,40.85098393184354 L -73.94611976648,40.85096875414158 L -73.94609670195187,40.85096634175068 L -73.94608190501069,40.85098071488103 L -73.94608745879556,40.85100806249657 L -73.94609742395545,40.85103260246976 L -73.94609813224021,40.851033575609335 L -73.94614159383454,40.85109369997018 L -73.9461365365532,40.851154726064564 L -73.94611744105153,40.85117258301969 L -73.94604780286082,40.8511885509714 L -73.94596473439123,40.85117187483645 L -73.94593025783085,40.85118972170717 L -73.94589577454174,40.851187339103625 L -73.94584092799157,40.851169476644195 L -73.94576726165661,40.851169465154584 L -73.94572493994535,40.851196832318365 L -73.9457280636197,40.85122777318985 L -73.94568261912568,40.851226577127136 L -73.94565283626412,40.851211098341196 L -73.94561208079904,40.85123965310485 L -73.94555563975034,40.85132056777696 L -73.94552743024828,40.851320563841504 L -73.94551957908563,40.851362212659154 L -73.94548126448136,40.85137185814794 L -73.94544903734403,40.8514276592095 L -73.94542239540552,40.85142646640571 L -73.94539575400479,40.851415751061324 L -73.94537850253991,40.85142645819595 L -73.94538946888069,40.851452636914296 L -73.945322073382,40.851469288482036 L -73.94531266195519,40.851484763521334 L -73.94527975259126,40.85149427748653 L -73.94525311095308,40.85149188685126 L -73.945243695228,40.85151925973214 L -73.94527268032762,40.85154604423336 L -73.9452664099904,40.85157102905374 L -73.94519586853583,40.85159244593405 L -73.94515355659357,40.85158648460704 L -73.94506578300106,40.85163883160856 L -73.94504382704898,40.85167095834349 L -73.94500620234612,40.85170190075367 L -73.94497798395632,40.85173164800292 L -73.94493252678446,40.851730442257626 L -73.94487731272544,40.85175382276421 L -73.94477702280346,40.851796290235306 L -73.94476577414821,40.85180105290188 L -73.94471445485968,40.85181539412326 L -73.94469380703813,40.85182409376919 L -73.94468765455619,40.85183573436757 L -73.94469269934115,40.85186250585684 L -73.94468978310026,40.85187715404706 L -73.94468324055724,40.85191000995943 L -73.94466721178104,40.85192122650932 L -73.94463234124329,40.85190949704357 L -73.94458845635086,40.851927342345945 L -73.94457747870587,40.851942816069275 L -73.94450381945983,40.851957079452596 L -73.94448658151262,40.851923758121245 L -73.94450316357793,40.85189939814237 L -73.94450515512598,40.85188989851205 L -73.94448761915795,40.85188879882751 L -73.94446197854774,40.851899390886665 L -73.94445368133265,40.85189756775507 L -73.94442232659368,40.85190470473123 L -73.94439725279882,40.851892802673866 L -73.94440667125734,40.85185472059502 L -73.94436749784815,40.85182496228217 L -73.94432518482476,40.85182257643861 L -73.94431733342697,40.85185589339352 L -73.94429068208862,40.85188207432163 L -73.94424522499301,40.8519201493655 L -73.9442107380319,40.85192965572931 L -73.94422169651071,40.85197607339235 L -73.94419660781348,40.85201534181584 L -73.94413391031536,40.85202722958943 L -73.9440712308192,40.8520153201333 L -73.94401323950726,40.85199984366438 L -73.9439912813086,40.85204149105468 L -73.9439599164944,40.85211884132046 L -73.94388153574954,40.85217237720744 L -73.94379610595543,40.852197952964175 L -73.94360072985177,40.85223102071616 L -73.94347978545626,40.85228188294709 L -73.94305902944298,40.85260143014694 L -73.9430264437118,40.85262617787097 L -73.94279838505354,40.852851233889844 L -73.9426099668357,40.85306791474677 L -73.94247365925733,40.85317127831178 L -73.94205514258485,40.85365410745566 L -73.94186996426673,40.8538677394428 L -73.94182774425003,40.853989960632596 L -73.94173105661486,40.85410838854933 L -73.94158158800445,40.85434714380842 L -73.94153736742429,40.85443564359609 L -73.94150213189893,40.854500126748576 L -73.94149762132159,40.8545083843677 L -73.94140980642352,40.85468463098871 L -73.94131311131319,40.85479553975519 L -73.94126592051116,40.85494407878846 L -73.94123366359767,40.85500988797687 L -73.94103277003077,40.85530503914508 L -73.94099928999186,40.85535861893859 L -73.94100914313304,40.855415039634785 L -73.94095704472414,40.85552033439451 L -73.94085539855494,40.85562183077844 L -73.94076854842892,40.85580797146752 L -73.9407462171037,40.85584744692037 L -73.94069419380095,40.85585306606017 L -73.94061975134615,40.856011000742484 L -73.9404883126927,40.856204628822674 L -73.94040517776624,40.85637290578198 L -73.94035056461419,40.8565158030732 L -73.9402934749712,40.856641770657596 L -73.94014717618712,40.85683351705711 L -73.94008523452419,40.85685605129761 L -73.94001827015867,40.85695004614774 L -73.9399488067714,40.8570666142561 L -73.93978146211117,40.85723483699594 L -73.93968482410261,40.85728932103599 L -73.93961041073227,40.85739647639676 L -73.93940211514393,40.85766529797219 L -73.93936488888224,40.85774050573835 L -73.93928303850643,40.85786082279131 L -73.93922231976174,40.85789369423106 L -73.93911094164396,40.85804091122572 L -73.93904122641774,40.85820201636385 L -73.93891471443509,40.85840693742321 L -73.93865680565516,40.85873403041923 L -73.938653061647,40.85876881362195 L -73.93850174725029,40.85901133500775 L -73.93843728791872,40.859073362121144 L -73.93841643396328,40.859166245464515 L -73.93830957434292,40.85938052360812 L -73.9378533658648,40.85983027123292 L -73.93773556377961,40.85993351223935 L -73.93755734318508,40.86008135632523 L -73.9375294417256,40.86009664128202 L -73.93753066305457,40.86011187884759 L -73.93755218656987,40.86012367458296 L -73.93758716318418,40.86014954032659 L -73.93758054206499,40.8602032066512 L -73.93735436134426,40.86051512129014 L -73.93713577511515,40.86078363669961 L -73.93709390407562,40.86092524299125 L -73.93704223142183,40.86105753297891 L -73.93696851748108,40.861143219025095 L -73.93681096972902,40.861258023749826 L -73.93680279963627,40.86127908212914 L -73.93681851547507,40.86131581868046 L -73.93681045449254,40.86136346605994 L -73.93647561664896,40.86192659117072 L -73.93596813006799,40.86254409289871 L -73.93559460797825,40.86296505185206 L -73.93485089173119,40.86396557693489 L -73.93475540717563,40.86409633974318 L -73.93461870076239,40.86426987104492 L -73.93443446851109,40.86450373173379 L -73.93435568513524,40.86473290706839 L -73.93423164079232,40.86481389782269 L -73.93419230301875,40.864879107531024 L -73.93408173881343,40.86497781014821 L -73.93401664426698,40.86503554829161 L -73.93401648524471,40.86519581766668 L -73.93395001711579,40.865346746209845 L -73.93386283123479,40.86541004611183 L -73.93378916436356,40.865428634268504 L -73.93363055568612,40.86570901942332 L -73.93357158007582,40.86576675094427 L -73.93357396122035,40.8658412955387 L -73.93349285424166,40.86594561482486 L -73.933436350697,40.86598658199531 L -73.9334362891443,40.86604807580751 L -73.93340182700804,40.86613564683989 L -73.93332317557568,40.86623809501417 L -73.93325688879918,40.866241784580986 L -73.93313150185674,40.86642621378956 L -73.93307500307857,40.86655741872505 L -73.93283349428317,40.86698204820543 L -73.93266332721463,40.867237066436985 L -73.93275648627251,40.86726436016792 L -73.93276260783125,40.867252297557144 L -73.93290171891769,40.86729304389968 L -73.93283958205063,40.8674152769114 L -73.93264569574568,40.86735847764235 L -73.93266035056371,40.867329661353764 L -73.93259794852806,40.867311349670395 L -73.93254830386901,40.86741383400408 L -73.9325188840444,40.86741050336583 L -73.93242538215341,40.86756824842365 L -73.9323866223573,40.867693893244734 L -73.93236431431176,40.867863301007844 L -73.93235078136821,40.867979120295345 L -73.93235431562974,40.86800719569783 L -73.93236746809548,40.86803721447596 L -73.93237341288621,40.86806348807323 L -73.9322739712806,40.86847715197787 L -73.93228124006656,40.86853253815755 L -73.93226769826255,40.86856231897237 L -73.93232284384425,40.868578111887 L -73.93231591011325,40.868604142896054 L -73.93244643748244,40.86865976546887 L -73.93249214298582,40.868677519662256 L -73.93249377280182,40.86867480942444 L -73.9325307779682,40.868613271913894 L -73.93253690662301,40.86860307837555 L -73.93256891816314,40.86854984723806 L -73.93257970501186,40.868531909823226 L -73.9326143189161,40.868474347379454 L -73.93262211514617,40.86846138498572 L -73.9326252507503,40.86845616797417 L -73.93262844350275,40.8684572743171 L -73.93265083512807,40.86846503348188 L -73.9325454652185,40.86864025923292 L -73.93255050661644,40.86864200559111 L -73.93256804264136,40.86864808335348 L -73.93252354560038,40.86872207835891 L -73.93250125163004,40.86871435273155 L -73.93250619965718,40.86870612539123 L -73.93249532884053,40.868701950391426 L -73.9323522987469,40.86864702816238 L -73.93230597278854,40.86862923954234 L -73.93229831818654,40.86864737091787 L -73.93225031754949,40.86863950937264 L -73.93225427749157,40.868683398855495 L -73.93227751053283,40.86871115697256 L -73.9322873204428,40.86887514239039 L -73.9323138544823,40.868923720343716 L -73.93236035093774,40.868949609798456 L -73.9324567080095,40.868962273178134 L -73.93253729354952,40.868968002362294 L -73.9325689548274,40.868979403716494 L -73.93256795169879,40.86904439147383 L -73.93250469803147,40.869129558665186 L -73.93239016804618,40.86918730311002 L -73.93229327689868,40.86919950194224 L -73.93218903826079,40.86936697638908 L -73.93246883069908,40.86947609938698 L -73.93235370807277,40.86975525529659 L -73.93226581636975,40.86973477164005 L -73.93235934466003,40.86950736321936 L -73.9321333660305,40.86941597544099 L -73.93210997106704,40.86947724910167 L -73.93207712619434,40.86954268415996 L -73.93205908286346,40.869582816886705 L -73.9320534384771,40.86960075074436 L -73.93205002169746,40.869641746782705 L -73.93206712211834,40.869699427786365 L -73.93209566102911,40.86975965114523 L -73.93217976024559,40.86982236640027 L -73.93219855115137,40.86984487074345 L -73.93220600531866,40.87009644510444 L -73.93212328527157,40.87037894310517 L -73.93204740481396,40.87058290396662 L -73.93203156926681,40.87075720253474 L -73.9319137713681,40.87112949372273 L -73.93178440124825,40.87133442292377 L -73.93160149587317,40.87158387547001 L -73.93146821139365,40.871797716206544 L -73.93137655898947,40.87210862736062 L -73.93122107559081,40.87233532285592 L -73.931062541996,40.87266680652871 L -73.93084511434458,40.87288717030783 L -73.93068381818169,40.87315687690047 L -73.92997686743148,40.874338962330384 L -73.92986215062565,40.87441844152513 L -73.929319188194,40.875294438560914 L -73.92917968255969,40.87555554896637 L -73.92901345809736,40.875738660592674 L -73.92859002632838,40.87609601029496 L -73.92832976968435,40.87635346958729 L -73.9281462360357,40.876522528943944 L -73.9280363857668,40.87658244300848 L -73.9279659464347,40.876617685376516 L -73.92753082127489,40.876710534812986 L -73.92689940502446,40.87721663393206 L -73.92660824434294,40.877507631211785 L -73.92653096278372,40.87758369178248 L -73.92648185718438,40.87761820301788 L -73.92641591454775,40.877610047700784 L -73.92640556921116,40.87762147653734 z\" /><path fill-rule=\"evenodd\" fill=\"#66cc99\" stroke=\"#555555\" stroke-width=\"0.004236215800221288\" opacity=\"0.6\" d=\"M -73.92359742020388,40.878898712992644 L -73.92361719191422,40.87885275853596 L -73.92362423150803,40.87885490128636 L -73.92363695289222,40.87881535593209 L -73.92367919311681,40.878826074498626 L -73.92366647926988,40.8788634965129 L -73.92367773890663,40.8788656261365 L -73.92366219321842,40.87891158339879 L -73.92365233486954,40.878911576877584 L -73.92362973950414,40.878963943243285 L -73.92359172553134,40.878952159332684 L -73.92361150251905,40.878900860405935 L -73.92359742020388,40.878898712992644 z\" /><path fill-rule=\"evenodd\" fill=\"#66cc99\" stroke=\"#555555\" stroke-width=\"0.004236215800221288\" opacity=\"0.6\" d=\"M -73.90665099539478,40.8757525041926 L -73.90691694520311,40.87505586276135 L -73.90708792618746,40.87432598340563 L -73.90746489728103,40.87354735423587 L -73.90774270784561,40.872845952111575 L -73.9084636791247,40.87262079220713 L -73.9087204639138,40.87222866558932 L -73.90893235241587,40.87215734797062 L -73.90897851320419,40.87222435383727 L -73.90901544810349,40.87228958705484 L -73.90905980328358,40.87234132878983 L -73.90908937851019,40.8723750756195 L -73.90909972110751,40.872394191760534 L -73.90909969344666,40.87241442565351 L -73.9091396159417,40.87246279497994 L -73.90917513257422,40.87248081439225 L -73.9091913763908,40.87251342595303 L -73.9092105586831,40.87256514664356 L -73.90924604689847,40.87260452584651 L -73.90926526038342,40.87263376146548 L -73.90927114033464,40.87266299598009 L -73.90935540961115,40.87277097707911 L -73.90943966198336,40.872882334524135 L -73.9095113632795,40.872977384101 L -73.90954388337907,40.873017876248824 L -73.90957936374171,40.87306286601479 L -73.90958973103638,40.87306400056117 L -73.90960006621941,40.87308761849046 L -73.90963706332191,40.87310788137878 L -73.90965332846542,40.87312475143544 L -73.90967403471006,40.873147252728465 L -73.90970952896157,40.87318212994759 L -73.90971690006448,40.87320461141706 L -73.90974797439691,40.873218124830736 L -73.90978644203236,40.87324738479731 L -73.90984559557306,40.873313761526795 L -73.90990769889419,40.87338349885833 L -73.90996168309127,40.87343132068187 L -73.91001640952275,40.87348194420777 L -73.9100755691892,40.87353595596066 L -73.91009482086632,40.87353708750034 L -73.91010961440479,40.873553965726 L -73.91010367455512,40.87356070590336 L -73.91016876229082,40.87361696401587 L -73.91017913402386,40.87361472091726 L -73.9101835541743,40.87362708871511 L -73.91018946365077,40.87364283409448 L -73.91027378161117,40.87370809437577 L -73.910355139436,40.87377785530868 L -73.91044539453686,40.8738386281176 L -73.91050606585377,40.873880268253316 L -73.9105889776575,40.87393374868104 L -73.9106543931584,40.87397594306104 L -73.91070983743502,40.87401502699882 L -73.91080913136378,40.87408502211105 L -73.91085171080147,40.8741097374882 L -73.91092118009641,40.874146396040096 L -73.91098953841518,40.8741796399131 L -73.91106909659263,40.874221412251835 L -73.91111279462217,40.87424272500049 L -73.91115761993399,40.874265740297055 L -73.91119459843246,40.87428194057344 L -73.91125288040121,40.874310071779924 L -73.91126294698118,40.87432370415087 L -73.91127192458137,40.874316047890446 L -73.91127864335748,40.87433136949878 L -73.91131058949588,40.87434481564684 L -73.91148428295614,40.87441792110014 L -73.91151006622763,40.87442304596343 L -73.91155043033561,40.87442818316997 L -73.9115717321716,40.874431612771815 L -73.91159751272933,40.874439285802836 L -73.91159974687176,40.8744452489807 L -73.91162329171338,40.874447815203446 L -73.91162776541066,40.87445633766646 L -73.91163897507178,40.87445719207261 L -73.91165017606306,40.87447337463993 L -73.91166810900087,40.87447594476561 L -73.91167146256713,40.87448786205669 L -73.91168826950901,40.87449043131739 L -73.91169275434322,40.8744895795454 L -73.91170284156836,40.874496395725544 L -73.91173423701478,40.87450152483251 L -73.91173983024689,40.874505788377576 L -73.91177009204112,40.87451602287023 L -73.91179139167221,40.87452114424253 L -73.91180933990437,40.87452201433655 L -73.91183904212818,40.874532671043475 L -73.91185921058016,40.87454120598876 L -73.91188274644513,40.87455057893801 L -73.91189619458626,40.87455399377158 L -73.91191525688392,40.87455571940095 L -73.91192086203293,40.87456082876891 L -73.91192983348738,40.87455827921795 L -73.9119331812602,40.87456594443312 L -73.91194440354018,40.874565952996605 L -73.9119466300746,40.87457702125157 L -73.91195447077254,40.8745787289304 L -73.91195784426576,40.874574472907085 L -73.91196570028333,40.87457277770626 L -73.91196907150452,40.87456256892575 L -73.91203072122815,40.874583037635894 L -73.912084528002,40.87459584739441 L -73.91215290826104,40.87461377515488 L -73.91217644642768,40.874621456233065 L -73.91221454459921,40.87463509996537 L -73.91221566293838,40.87464190877498 L -73.91222814393909,40.874650562947146 L -73.91222813340737,40.87465854121226 L -73.9122379131872,40.87465455892717 L -73.91225294376731,40.874655138091484 L -73.91227699124249,40.87465402157419 L -73.91227397256806,40.87466770656196 L -73.91228449360716,40.8746682915078 L -73.91229500761803,40.874675710707265 L -73.91230627843481,40.87467457475669 L -73.91231155217281,40.87466944670323 L -73.91232355804874,40.874678586320115 L -73.91233333481993,40.87467688384239 L -73.91234234309917,40.874683733153766 L -73.91233707729461,40.8746917168082 L -73.91234308831564,40.874694008227834 L -73.91234910109729,40.8746865933778 L -73.91235586543871,40.87469401793228 L -73.91234984181537,40.874700281725325 L -73.91235885477997,40.874702575424116 L -73.91236487474816,40.87469858206427 L -73.91236862611514,40.87470600432995 L -73.91237764736394,40.87470201274585 L -73.91238741532885,40.874707162609205 L -73.9123949248199,40.87470716831008 L -73.91240469487185,40.87471174072247 L -73.91242271759742,40.87471859854475 L -73.91243099101995,40.874715183337486 L -73.91244000183312,40.87471861166018 L -73.91245203265564,40.87471804383922 L -73.91245729299457,40.87472375734159 L -73.91247757228102,40.874728339394686 L -73.91248809241822,40.87473062434255 L -73.9124903381533,40.87473690262197 L -73.91250236327414,40.874740334398126 L -73.9125068784219,40.87473406124494 L -73.91251965493188,40.874735213771274 L -73.91252565837873,40.874743773543464 L -73.91252941069209,40.874749485396855 L -73.91255120015245,40.87475178055532 L -73.91255570248812,40.87475692473888 L -73.91259176816811,40.874764363269605 L -73.9126188080217,40.874779790818 L -73.91264284946526,40.87478379874205 L -73.91267517047426,40.874788955766995 L -73.91269621512117,40.87478954863795 L -73.91270634480851,40.874800109063855 L -73.91272287878792,40.87480240021438 L -73.91272859643514,40.87480240453839 L -73.91274316057834,40.874802415551336 L -73.91275366372638,40.87481497279205 L -73.9127686945859,40.874810996107094 L -73.9127874725648,40.874816709424856 L -73.91280023429059,40.8748252803206 L -73.91280624015883,40.87482983946813 L -73.9128212686588,40.87482985082205 L -73.91284830680806,40.87483956763081 L -73.91285656218487,40.87484755867112 L -73.91286933456314,40.87484700125048 L -73.91287909709672,40.87485499409717 L -73.91288436301944,40.874845869755696 L -73.91289487806715,40.87484987445155 L -73.91290463994213,40.87485786729555 L -73.91292117140944,40.87485787977076 L -73.91293620060918,40.874856181707734 L -73.9129437171019,40.8748493355286 L -73.91350042749794,40.875017850699926 L -73.91348928985875,40.87503601656281 L -73.91349955140342,40.875034072279355 L -73.91350895501581,40.87503472764058 L -73.91350877702227,40.87504431299321 L -73.9135341536284,40.87504713332533 L -73.91354797404273,40.875053103469874 L -73.91356872869382,40.87505206563269 L -73.91358209908856,40.87505872764023 L -73.91358762888797,40.875065736243485 L -73.9136014690175,40.8750646932227 L -73.91362222381788,40.87506541134978 L -73.91363145406044,40.87506191602685 L -73.91364482858324,40.87506472617891 L -73.91365267669951,40.87505808005676 L -73.9137706549705,40.87509603193649 L -73.91386358754939,40.87512400979547 L -73.91387368038183,40.87512401682568 L -73.91388231834311,40.87512948853503 L -73.91407467259233,40.87518270162332 L -73.91406842003408,40.875208235814846 L -73.91535105994576,40.875594528844786 L -73.91538267940174,40.875593003955444 L -73.91540205177742,40.87559920360103 L -73.91542548761971,40.87560773646292 L -73.91545504953388,40.87562092055448 L -73.91546855860082,40.87563193116747 L -73.91548683432424,40.87563657102868 L -73.91550989874584,40.875643196019695 L -73.91552904896513,40.87564552336018 L -73.91555167298117,40.87565380080002 L -73.91557560969596,40.87565811376452 L -73.91558474485004,40.87566274575036 L -73.91561693873001,40.87567763894989 L -73.91567177548482,40.87568527970818 L -73.91570789673304,40.87569290559936 L -73.91572006383204,40.87570943641756 L -73.91574225919547,40.875713086025755 L -73.91578515571896,40.875716945064326 L -73.91574314674745,40.87576089549051 L -73.91571027699659,40.87579545505263 L -73.91484624156381,40.87666671027648 L -73.91250172915477,40.87790124435411 L -73.9120583003024,40.87811932004863 L -73.91148913190445,40.87901885880953 L -73.91033193566423,40.87903804730722 L -73.90949832117468,40.87877673218171 L -73.9090623603834,40.878486782812054 L -73.90835569683911,40.87791831468924 L -73.90765281705261,40.87742802285939 L -73.90703748936642,40.87689516121065 L -73.90692586434854,40.87675454730287 L -73.90685372865197,40.876663675526935 L -73.90682822856839,40.87663155188877 L -73.90682004046072,40.876585525606764 L -73.90665099539478,40.8757525041926 z\" /></g></g></svg>"
      ],
      "text/plain": [
       "<shapely.geometry.multipolygon.MultiPolygon at 0x1a127927b8>"
      ]
     },
     "execution_count": 15,
     "metadata": {},
     "output_type": "execute_result"
    }
   ],
   "source": [
    "manhattan"
   ]
  },
  {
   "cell_type": "code",
   "execution_count": 16,
   "metadata": {
    "scrolled": true
   },
   "outputs": [
    {
     "data": {
      "image/svg+xml": [
       "<svg xmlns=\"http://www.w3.org/2000/svg\" xmlns:xlink=\"http://www.w3.org/1999/xlink\" width=\"100.0\" height=\"100.0\" viewBox=\"-74.02475360000001 40.697457400000005 0.12218020000001673 0.18847619999999665\" preserveAspectRatio=\"xMinYMin meet\"><g transform=\"matrix(1,0,0,-1,0,81.583391)\"><path fill-rule=\"evenodd\" fill=\"#66cc99\" stroke=\"#555555\" stroke-width=\"0.003769523999999933\" opacity=\"0.6\" d=\"M -73.924685,40.878953 L -74.008196,40.754634 L -74.017773,40.704438 L -73.978666,40.711991 L -73.938492,40.783763 L -73.926129,40.780638 L -73.913754,40.793896 L -73.931268,40.802745 L -73.935373,40.834736 L -73.909554,40.873484 L -73.924685,40.878953 z\" /></g></svg>"
      ],
      "text/plain": [
       "<shapely.geometry.polygon.Polygon at 0x1a12768828>"
      ]
     },
     "execution_count": 16,
     "metadata": {},
     "output_type": "execute_result"
    }
   ],
   "source": [
    "manual_manhattan"
   ]
  },
  {
   "cell_type": "code",
   "execution_count": 17,
   "metadata": {},
   "outputs": [
    {
     "data": {
      "image/svg+xml": [
       "<svg xmlns=\"http://www.w3.org/2000/svg\" xmlns:xlink=\"http://www.w3.org/1999/xlink\" width=\"100.0\" height=\"100.0\" viewBox=\"-73.82564589064899 40.61858679245552 0.07469705625888423 0.04802908075550505\" preserveAspectRatio=\"xMinYMin meet\"><g transform=\"matrix(1,0,0,-1,0,81.28520266566653)\"><g><path fill-rule=\"evenodd\" fill=\"#66cc99\" stroke=\"#555555\" stroke-width=\"0.0014939411251776846\" opacity=\"0.6\" d=\"M -73.82259729356541,40.65373566028783 L -73.82270538365027,40.65431142156081 L -73.8227493874415,40.65433350616939 L -73.82287933300977,40.655470972518486 L -73.82258472858857,40.65677940625195 L -73.82203971010027,40.65654937148486 L -73.82174710732555,40.656604673115766 L -73.82074933512341,40.6561491854135 L -73.82068718536931,40.65622464476786 L -73.82049295901518,40.65613172615872 L -73.82154940630917,40.654787500534425 L -73.81979226744905,40.65399185036033 L -73.81883962256254,40.65521071822371 L -73.8174141066262,40.65457857272903 L -73.81896197704276,40.652575195187794 L -73.81876746384924,40.65247862334985 L -73.81883293667377,40.65232539149271 L -73.81824672682244,40.6520565756535 L -73.81800402179009,40.65213941064184 L -73.81814900812472,40.6522099282024 L -73.81677248505063,40.653983203517456 L -73.81648276696792,40.65407809848471 L -73.8161090297652,40.65446126766268 L -73.81474572773467,40.65611858424605 L -73.81256120765822,40.6569220487051 L -73.81238911679745,40.65675549002899 L -73.81208710152328,40.656875671953586 L -73.8119253759317,40.656642084080225 L -73.81204268729263,40.656595340793125 L -73.81185367970686,40.65632117766833 L -73.81166350066559,40.65639759334095 L -73.81142737997561,40.6561174548539 L -73.81307227590874,40.655463920857834 L -73.81281094231898,40.65508258079723 L -73.81302136054336,40.65499898837288 L -73.81287264186552,40.65478344681231 L -73.81266075119895,40.65486480598186 L -73.81239941728423,40.65448567212426 L -73.81075640524126,40.655143189842185 L -73.81003374706776,40.65410121363604 L -73.81202344290904,40.65330031721147 L -73.81263504608671,40.65296243355374 L -73.81311764535768,40.65261150920303 L -73.81382002544048,40.65275696284307 L -73.81548386823917,40.65350162423788 L -73.8159680738912,40.65340874241689 L -73.81723524710878,40.65179488391045 L -73.81741032682635,40.651868357100376 L -73.81747844817313,40.651779566862594 L -73.8173834503497,40.65173622175693 L -73.81742310567803,40.651678743331985 L -73.81710937979113,40.65153821412762 L -73.81699462206215,40.651682700914925 L -73.81719593784199,40.65177948739576 L -73.8160348380461,40.65325768807667 L -73.8152565722605,40.65291305914392 L -73.8150632175141,40.65282115029006 L -73.81584128537182,40.6517906512948 L -73.8159555331862,40.651838840856165 L -73.81644887271415,40.65123288362267 L -73.8153826413026,40.65075713192537 L -73.81528641558863,40.65090207541828 L -73.81507914124592,40.65080792532467 L -73.81478503377822,40.65119245024121 L -73.81406632739179,40.65086435611094 L -73.81397539314304,40.650982190622734 L -73.81316099575146,40.65060577621918 L -73.8136368775972,40.64996690479407 L -73.81263821940496,40.64950720231047 L -73.81249616789279,40.64955474427343 L -73.81244039364898,40.649676023563075 L -73.81346117842352,40.65014278049201 L -73.81286798420341,40.65090873078574 L -73.81271012658824,40.6508379199313 L -73.81253357729028,40.65058207206251 L -73.81074867584121,40.65129594618459 L -73.810317982482,40.65065639551503 L -73.81010147148804,40.65073617726837 L -73.80970393757404,40.650166084738345 L -73.8096021009572,40.65020201352394 L -73.80948795742319,40.650035833520846 L -73.80960619083872,40.64999147880335 L -73.80965133971978,40.6500261758151 L -73.80958796706057,40.64993033576762 L -73.80964363189133,40.64990482704027 L -73.8093815517424,40.64950917108607 L -73.81003877022492,40.64864005295743 L -73.81103333236132,40.649081537655285 L -73.81106816963539,40.649052199225046 L -73.80990241231093,40.648566978302 L -73.8100399603072,40.648334597709294 L -73.80888911016021,40.64781644824612 L -73.80873426869836,40.64794097947756 L -73.80991510661823,40.64850436002783 L -73.80931447565214,40.64927933101032 L -73.80894599474932,40.64913613118028 L -73.80833488123797,40.64819513917967 L -73.808265553844,40.648156338188336 L -73.8074904848603,40.648447351264956 L -73.80717082669264,40.647984484338224 L -73.80571318385024,40.64856846857952 L -73.80603315564272,40.649047017218074 L -73.80565870618196,40.64920548892599 L -73.80515350031317,40.64843500391609 L -73.80425363794275,40.64748932297171 L -73.80362136611721,40.64720307828678 L -73.80452181598427,40.64604521791491 L -73.804633395853,40.64609317831328 L -73.80475891200969,40.6460083526504 L -73.80202726899986,40.64477033281167 L -73.80206384718785,40.64470707838773 L -73.79869540764908,40.64319007513684 L -73.79801573250606,40.642823317911635 L -73.7975309304514,40.64242846686869 L -73.79679658938356,40.642045052748806 L -73.79662301458906,40.64208946396304 L -73.79657343236704,40.642186361446974 L -73.7964140140427,40.644139761564055 L -73.79612048123072,40.644307494802675 L -73.79612859706788,40.64436172592976 L -73.79570297283922,40.64435288392559 L -73.79567129412852,40.64422457820949 L -73.79543440774239,40.64400105580313 L -73.79535115143784,40.64400039347648 L -73.7951481459943,40.64437061786427 L -73.79477861215524,40.644405065808435 L -73.79475900777402,40.644345679313105 L -73.79455307798445,40.64436223779058 L -73.79442320118595,40.64370038780331 L -73.79429519050368,40.643712567169345 L -73.7943788979498,40.64217758030005 L -73.79394270852679,40.641603655852855 L -73.79376795670899,40.641468288771044 L -73.79355989286498,40.64134938167895 L -73.79341928669707,40.64132915472174 L -73.79297575183638,40.64100678286566 L -73.79259518905367,40.64094887080459 L -73.79233150029876,40.64115409821059 L -73.79179627621211,40.640963748146255 L -73.79163035111759,40.641135991930334 L -73.79157693507233,40.641083193940055 L -73.79027197010971,40.642115429857085 L -73.7895971090457,40.642122504385185 L -73.78946283283965,40.64203566183558 L -73.78941803564581,40.64186871238192 L -73.78930145456567,40.64172328263065 L -73.78934891517912,40.64165345943574 L -73.78915206304053,40.6415402597897 L -73.78920790896998,40.64153028984429 L -73.78973825569909,40.640737082290975 L -73.78977643642372,40.64075315345493 L -73.79009176241475,40.64031648418 L -73.79007464672337,40.6402707523914 L -73.78950167032431,40.64002775115659 L -73.78944538843457,40.64003917658829 L -73.78891302437246,40.6408324619931 L -73.78887466134637,40.64081726731513 L -73.78856588921093,40.64124101741802 L -73.78839206284574,40.64118511572355 L -73.78782959640483,40.64122881991149 L -73.78770327480007,40.64120316956684 L -73.78727857067597,40.64096092530194 L -73.78733451384576,40.64060398206332 L -73.7871840481604,40.640226478094235 L -73.78696321431165,40.64003516230151 L -73.78669426154612,40.63992502886887 L -73.78670378746769,40.63978519739584 L -73.78698524024139,40.63981742195953 L -73.7870132327966,40.63957027803445 L -73.78676196472892,40.63954178814344 L -73.78680345782381,40.63933246417224 L -73.78705879430093,40.639361620690124 L -73.78709571875387,40.63929636344816 L -73.78713009821278,40.63896718841476 L -73.78690128475274,40.63893720319788 L -73.78694364717028,40.638726371500994 L -73.78717624623219,40.638755266807046 L -73.78727150218114,40.63843131032326 L -73.78725710916972,40.638357339186875 L -73.78700499002423,40.638326157482496 L -73.78707618051399,40.63797813875995 L -73.78608530514134,40.63789425859913 L -73.785484110319,40.63809018711832 L -73.78528002055045,40.637734519877654 L -73.78511952100322,40.63778483477192 L -73.78509414667167,40.6377426807697 L -73.78481792569215,40.63783450006933 L -73.78484142695136,40.63787642909934 L -73.78472149685354,40.63791545476101 L -73.78497800742956,40.638372532384864 L -73.78521635388152,40.638294312780026 L -73.78532555827728,40.638486623132344 L -73.78509204200299,40.638564305373784 L -73.7851013020669,40.63864235735937 L -73.78530061652452,40.63893743699204 L -73.78551468909805,40.638867049206944 L -73.7856238589388,40.63905963565614 L -73.78540621500258,40.63913100575161 L -73.78555458934346,40.63944616512772 L -73.7856205951381,40.639503736055524 L -73.78585620216177,40.639426662688116 L -73.78597272437973,40.639619289498064 L -73.78573477816792,40.63969463064476 L -73.7858330982426,40.63993459919404 L -73.78609849409347,40.63984989395841 L -73.78617476084948,40.63997750457777 L -73.78592109011117,40.64019126930195 L -73.78580582964338,40.640448660459455 L -73.7858564875579,40.640857605817985 L -73.78598140201989,40.64105875723587 L -73.78615856982006,40.64121850427815 L -73.78585413281019,40.64154234596834 L -73.78590091925741,40.64161629562333 L -73.7855661446628,40.641770395777336 L -73.78528722385582,40.641386153397505 L -73.78308213712761,40.64232144765555 L -73.78219419275462,40.64110939775088 L -73.78158885784113,40.641368840646564 L -73.78223302509832,40.64225037304661 L -73.78164286551522,40.64250471017814 L -73.78166876392716,40.64254049833103 L -73.78062997714873,40.64293294244763 L -73.78042653623844,40.642650016596306 L -73.7803635771865,40.64267755587171 L -73.780570503085,40.64295831912852 L -73.78052538814391,40.64297756992371 L -73.77987894244758,40.642102995473074 L -73.77927508014663,40.6423585324587 L -73.7801632012915,40.64357120849169 L -73.77804311542967,40.64447577261472 L -73.77835131388453,40.64489851865008 L -73.77818195403307,40.64507452941214 L -73.77785040346792,40.64514772314016 L -73.7776769822488,40.64508587792928 L -73.7778362636663,40.644868675721426 L -73.77763529356706,40.64475144110911 L -73.77709784047913,40.6452742786967 L -73.77730264765357,40.645400004577446 L -73.77744029213535,40.64526757568195 L -73.77749471524734,40.64543224938521 L -73.77740031662535,40.6455227500585 L -73.77659506856773,40.6450108498752 L -73.77658795487443,40.64491449472143 L -73.77667431827072,40.644815094564755 L -73.77651987477638,40.64483913382137 L -73.77636116282609,40.644783237930056 L -73.77621287658303,40.64442300942033 L -73.77625641782656,40.644239820101724 L -73.77622093109551,40.64421363864479 L -73.77597642413062,40.6442686382964 L -73.7761546472032,40.644461293408966 L -73.77626480218582,40.644826157539185 L -73.77613124063761,40.64492660918184 L -73.7756463197028,40.644919546942745 L -73.77543017271006,40.64483023733665 L -73.77539098398258,40.645031755035404 L -73.77542771856204,40.64505463607166 L -73.77565769518733,40.64497266115008 L -73.77614295409657,40.64499327323679 L -73.77625675109904,40.64510151218209 L -73.77625793303487,40.645217597935435 L -73.77646827844097,40.64510689890632 L -73.7766262998917,40.64515459586282 L -73.77734695653766,40.64558056196113 L -73.77725769711306,40.6458115573231 L -73.77713393380333,40.64581888192175 L -73.77726251265824,40.64584939122735 L -73.77740959916504,40.64606830716068 L -73.77679170135218,40.64641795066338 L -73.77655889501563,40.64645559241082 L -73.77637925559984,40.64641021090474 L -73.7762823550851,40.64631197193591 L -73.77622686504084,40.64632685764911 L -73.77622705323364,40.64645123164795 L -73.77609006663806,40.64658804139787 L -73.7758331571072,40.64659341591298 L -73.77566135102788,40.646516191729816 L -73.77559658909786,40.646573669896526 L -73.7756993983801,40.64669324709974 L -73.77570117026518,40.64678936043931 L -73.7754338882675,40.64691754216889 L -73.7755010838281,40.64698725299901 L -73.77578208503145,40.646954091098245 L -73.77587683549177,40.647063146048154 L -73.775748372963,40.647233900917385 L -73.77581279635342,40.64730864366918 L -73.77605741161116,40.64715006307465 L -73.77616850616755,40.647178223408034 L -73.77629931515092,40.64728932842433 L -73.77639843796472,40.647219487691196 L -73.77633898607768,40.64711001104504 L -73.77641520504052,40.6469249167271 L -73.77662724873741,40.64686326037963 L -73.77678905003961,40.64689736026925 L -73.77682149021008,40.64683102513004 L -73.77672894590091,40.64676788379016 L -73.77671967095935,40.6466671902618 L -73.77719767734723,40.646353603226515 L -73.7773127047299,40.64647413919717 L -73.77751505920799,40.646520805007846 L -73.77774530621818,40.64670480605794 L -73.7781253310778,40.64679648974995 L -73.7785345355042,40.64702142079396 L -73.77849474709241,40.64727317657806 L -73.77853414801433,40.647356145386915 L -73.77870937728238,40.6474691009048 L -73.77869241338132,40.64762285287394 L -73.77800558922534,40.64768863595675 L -73.77782899608803,40.647941422292604 L -73.77787630455498,40.64812892552173 L -73.77799092982114,40.64825327641135 L -73.77818253654725,40.648290155033855 L -73.77842230366585,40.64825897563792 L -73.77944917846789,40.64888890044423 L -73.7796337474834,40.64912291048911 L -73.78001715489695,40.64914068233814 L -73.78026423880002,40.648829613327024 L -73.78025490800628,40.64875170948307 L -73.78003505046178,40.648559010055905 L -73.78008792302843,40.648404846601565 L -73.78019941319342,40.648341343404724 L -73.78039456752538,40.64838959148877 L -73.78067486629766,40.648338455408854 L -73.7807998291131,40.64836390192251 L -73.78104917255924,40.648302264391674 L -73.78118509409887,40.64831657390038 L -73.78125443321227,40.64818370432981 L -73.78134382173037,40.648222120320355 L -73.78157771571404,40.64846507764055 L -73.78153620966462,40.64852393246663 L -73.78192442263908,40.648764503955995 L -73.78188685129851,40.64888597144793 L -73.78194894753307,40.64889648660559 L -73.78191492231679,40.64901132489322 L -73.78196854975936,40.64902074875925 L -73.78192096996257,40.64917732298323 L -73.781798914311,40.6491585596677 L -73.78174722733479,40.649331906322736 L -73.78185869851153,40.64935158525741 L -73.78172522482787,40.6496645951353 L -73.78197836166296,40.649709320547046 L -73.7819478294363,40.649808373931684 L -73.7820267871844,40.6498226824852 L -73.78195159677276,40.650077397110344 L -73.78206539489472,40.650097080252195 L -73.78209126082746,40.65000332836686 L -73.78327804115521,40.650212677880354 L -73.78319583109281,40.65048330847362 L -73.78331428378156,40.65050122962869 L -73.78344702833398,40.650059922154476 L -73.78367463002003,40.65009751675299 L -73.78396473304161,40.649143260188175 L -73.78392324757831,40.649136042927985 L -73.78407289811953,40.64888586586743 L -73.78416176994818,40.64891374800462 L -73.78420673033101,40.64883060988358 L -73.78412076295172,40.6488036391561 L -73.78414995905496,40.64877437841546 L -73.78426696364474,40.64871750586174 L -73.78471522290774,40.64869983564141 L -73.7850676874055,40.6487886603301 L -73.78523835740579,40.648938248510895 L -73.78531780538458,40.64918076828343 L -73.78526566841386,40.65088682357896 L -73.78471172701825,40.652003289309434 L -73.78453574637719,40.65216412313387 L -73.7842410152499,40.65221533160469 L -73.78422891791222,40.65229627466538 L -73.78465745975684,40.65227841094941 L -73.78525540833851,40.652064385708684 L -73.78545357049721,40.65207380215486 L -73.78572091294622,40.651976174481156 L -73.78574805911242,40.65202251358288 L -73.785860416642,40.65197851900648 L -73.7860043391325,40.65226203463741 L -73.78582411933398,40.652367014089066 L -73.78586173984847,40.652444837733995 L -73.7856484803165,40.652538715916144 L -73.78583909843795,40.65282571911475 L -73.78603730453382,40.6527480615596 L -73.78607427448705,40.65281246437274 L -73.78626997987125,40.65274318920828 L -73.78644573338549,40.65302518479087 L -73.78548362049064,40.65345128179675 L -73.78538739741597,40.653552294608666 L -73.78544108314628,40.653664367209586 L -73.78641470252397,40.65444866349012 L -73.78680695509455,40.65419364811965 L -73.78752653648556,40.6547542879544 L -73.78747662481919,40.65478937544361 L -73.78789282220512,40.655115069213196 L -73.78779153442264,40.65519354817644 L -73.78778099135141,40.65540894292278 L -73.78880965540547,40.655873547542605 L -73.78907203101964,40.65550262051366 L -73.78947015125404,40.655610764786935 L -73.79084719958094,40.65623458417346 L -73.79102706680395,40.65644680242301 L -73.79128075861443,40.657213252039426 L -73.79132993510662,40.65759874551999 L -73.79134871691109,40.65828093283489 L -73.79126697974924,40.65844135431721 L -73.79097204923167,40.65854637039262 L -73.79035686295238,40.658466123983565 L -73.78990760779979,40.6588528886702 L -73.78961535561906,40.658972771031436 L -73.78928422792951,40.659025626038016 L -73.78923302360634,40.6591008507502 L -73.78865097932344,40.658840035208904 L -73.7884036016931,40.65883950476503 L -73.788302921792,40.65889028259932 L -73.78803863136007,40.65921930847738 L -73.78809250973856,40.659246025294316 L -73.78789176218783,40.65950179626896 L -73.78857934987212,40.65987022178555 L -73.7884936252742,40.659979817660854 L -73.78857739059426,40.660050387745294 L -73.78829413055996,40.66024377373726 L -73.78846342256988,40.66038746673873 L -73.78885720249026,40.660118357788264 L -73.78869103756676,40.65997705928341 L -73.78971006520703,40.6604401510051 L -73.78978043351371,40.660350412330374 L -73.78985426495561,40.66038387904909 L -73.7897983359381,40.660455017819906 L -73.79020274024448,40.66062965714165 L -73.78940558720095,40.6617083225488 L -73.78884484497152,40.662200387222875 L -73.78862730782733,40.662264956533896 L -73.78852733018891,40.66222953727679 L -73.78857690938025,40.66215765804259 L -73.78775717153636,40.661792558555774 L -73.78779516084899,40.66174307668809 L -73.78766319024926,40.6616836780669 L -73.78750922111163,40.6618796816661 L -73.78661382634064,40.66149138903775 L -73.78612833067338,40.66208344762945 L -73.78486530587173,40.66151141868359 L -73.78490842131451,40.66144756876323 L -73.78146894084327,40.65992448460984 L -73.78202174765197,40.65923397700045 L -73.78315463269284,40.65973582273872 L -73.78404253047778,40.65954589056608 L -73.78256407823514,40.658888774473645 L -73.78324573033265,40.658007252107474 L -73.78568121168901,40.6591102458771 L -73.78608491681062,40.658594315411044 L -73.78246316211178,40.6569614440588 L -73.78267482726885,40.656681043258516 L -73.78267893025698,40.65625712149061 L -73.782783753499,40.656085857852354 L -73.78317036127902,40.65624076437841 L -73.7832645683654,40.65616379441502 L -73.78158350750748,40.6553965252958 L -73.78141632327689,40.65546345311252 L -73.78105429458824,40.65539691313297 L -73.77938610556504,40.654639192564204 L -73.77928921640276,40.65464015214366 L -73.7791677608006,40.65470736435449 L -73.7781762168081,40.656018028870676 L -73.77824073060172,40.65603301725075 L -73.77859924924935,40.655560147964486 L -73.78168248210844,40.65697353216937 L -73.78118437834851,40.65761218960412 L -73.78152053121052,40.657762183362344 L -73.78094197063048,40.658465766495844 L -73.77952728673822,40.65783332760226 L -73.77945677017325,40.657858307007615 L -73.77895003606511,40.65849655548623 L -73.77880154588861,40.65846971730971 L -73.77775434776945,40.65796812649075 L -73.77827144694147,40.65727745424135 L -73.77821651027314,40.65725843651384 L -73.77760635855552,40.657994756085785 L -73.77762679442237,40.658043611862595 L -73.7775606829442,40.65801536260592 L -73.77580913887533,40.6572227375871 L -73.77636776520998,40.65650404681865 L -73.7763090079676,40.65648540436927 L -73.77546544920752,40.65757265122031 L -73.7754009926724,40.657545314374104 L -73.77530722393121,40.6576650993742 L -73.77421499953763,40.657160802851756 L -73.77422886597827,40.65610851321511 L -73.77455908565987,40.65610879891161 L -73.77460743879891,40.6560686908644 L -73.77396655462421,40.65605917184329 L -73.77396927582441,40.655532424365326 L -73.77598238643357,40.65553629887099 L -73.77673164439413,40.65486487913644 L -73.7770897634422,40.65440499830533 L -73.77674097415029,40.65424183017493 L -73.77662357684088,40.654084874831405 L -73.77639423812873,40.65406875655028 L -73.77603692046628,40.65406361366273 L -73.77603521855025,40.654151443471626 L -73.77582717178304,40.65415771822694 L -73.77575774490998,40.65423846129701 L -73.77455295139143,40.6542500830494 L -73.77454703226249,40.654190948702364 L -73.77403682057489,40.65418994747197 L -73.77403393779866,40.654133762862585 L -73.77387105332168,40.65412876093603 L -73.77386461655267,40.654230543972695 L -73.77359810595794,40.6542229785118 L -73.77362094578113,40.65365243590658 L -73.77303807512158,40.654373304435396 L -73.77207803922902,40.65395293700209 L -73.77219831062169,40.653799303392375 L -73.77225277733382,40.65382441960182 L -73.77220649698361,40.65388362360288 L -73.77233129641695,40.65394034232263 L -73.77246748786318,40.65376636297368 L -73.77233951312064,40.65370883214953 L -73.7722900422688,40.653771658965766 L -73.772228949187,40.65374349219697 L -73.77247902060873,40.65342670597017 L -73.77257012479652,40.65346813087924 L -73.77276266808485,40.65322280991249 L -73.77267107039316,40.653180538590455 L -73.77280156583407,40.653015348361606 L -73.77252206110936,40.65288743261408 L -73.77255779690091,40.652842180102276 L -73.77201101493402,40.65261005014956 L -73.77207326107771,40.6525343353027 L -73.77154993925582,40.65229219442058 L -73.77153067914487,40.652317518418066 L -73.77139937801239,40.65226804318275 L -73.77070206359083,40.65314899481822 L -73.77050235591238,40.65325750992821 L -73.76999539225876,40.65303771042605 L -73.7698785479742,40.652809274947614 L -73.76995047435177,40.65271749551954 L -73.76978639426362,40.65264237179416 L -73.7697294836474,40.65272740206746 L -73.76948054618865,40.65262743192231 L -73.76964334967023,40.65241434918698 L -73.76883132281573,40.652049886762015 L -73.76977444256441,40.6508747829163 L -73.77024242875719,40.65108410461086 L -73.77035243835321,40.65096322502595 L -73.77066390088712,40.65112474521045 L -73.7710617042128,40.650627111355924 L -73.7693284977289,40.64984624407872 L -73.769058523073,40.649870811500016 L -73.76874908204647,40.64979984284757 L -73.7681283371259,40.6501043360163 L -73.7679132735226,40.65003982117538 L -73.76701819953303,40.65052679337367 L -73.76706422563677,40.65057662235655 L -73.76584296321549,40.65122575734731 L -73.76542935099715,40.65134223614442 L -73.76493460812351,40.65136553199215 L -73.76453552667506,40.651287802179176 L -73.76412962185286,40.65113408275843 L -73.76086981700391,40.64934788422482 L -73.76077186884164,40.64938772759306 L -73.76056933043478,40.649279792021304 L -73.76045177483775,40.64939957676609 L -73.76024577289219,40.64944754330441 L -73.7599014090133,40.6493516038225 L -73.75929456214807,40.64960576450866 L -73.75920539335452,40.64948914499228 L -73.75844562089372,40.6497969446416 L -73.75790043048153,40.649473685529884 L -73.7591299211096,40.64894280025008 L -73.7589598950423,40.6487044426168 L -73.75932122355852,40.64851895988055 L -73.75854527944523,40.64810369976585 L -73.7584301449852,40.6480938007967 L -73.75832523630164,40.647991523427784 L -73.75736150390217,40.64841976681408 L -73.75734018556005,40.648306362433 L -73.75695125171747,40.64810593972488 L -73.75781355655053,40.64773249095306 L -73.75591979891205,40.646672709902276 L -73.75564560014654,40.64638945126616 L -73.7552442640033,40.64571268264628 L -73.75488692833471,40.64561493992573 L -73.75408903469103,40.64663218648857 L -73.7538573458209,40.64651863217636 L -73.75390006038397,40.64642754129268 L -73.75371539202932,40.646306129392705 L -73.75442516093794,40.645393053270574 L -73.75428415092371,40.6453257244533 L -73.75485857139279,40.644701850602814 L -73.75513051934016,40.64435021797359 L -73.7551477034971,40.64424798862635 L -73.75527928369017,40.64417158028378 L -73.75576267258496,40.64355133173942 L -73.75578099893397,40.643439368276354 L -73.75592349105658,40.64335325763387 L -73.75624020727702,40.64293474285916 L -73.75629297071453,40.642771540571545 L -73.75614680538584,40.64267311167145 L -73.75630942513152,40.64245645136264 L -73.75656912444805,40.642129026866506 L -73.75677473619429,40.64217291030825 L -73.75694228327836,40.64204072036048 L -73.75724541284617,40.6416498705143 L -73.75726480011552,40.641546690926035 L -73.7573889492121,40.64147429611338 L -73.7578833185219,40.64083238795729 L -73.75793232726232,40.640692094367814 L -73.75804871368965,40.64063127581876 L -73.75852783607282,40.640015464123096 L -73.75856267780159,40.63989000362123 L -73.75868333549647,40.63981454280476 L -73.759183617284,40.63916823064394 L -73.75919758903113,40.63906995441717 L -73.75932274081316,40.63899727324481 L -73.75981779063851,40.6383734432839 L -73.75984078296793,40.63824601970472 L -73.75997993246237,40.63815327550072 L -73.76046189141589,40.63753887089166 L -73.76049104224435,40.63741308454486 L -73.76063054272029,40.63732128042681 L -73.76082507109852,40.63707018558043 L -73.76098504272149,40.63686004726732 L -73.76092987129329,40.636812309358035 L -73.77038690490642,40.62475952082406 L -73.77105418802523,40.62507123308333 L -73.77086774725777,40.62529626527228 L -73.77091915828132,40.62531632241397 L -73.77096157151554,40.625249598914905 L -73.77200117395743,40.6252980530598 L -73.7720312957773,40.62539113231542 L -73.77315216413677,40.625176950147505 L -73.77338236731654,40.62567306008266 L -73.77391338779111,40.627369184019464 L -73.77307458850115,40.62750205427941 L -73.77326889074801,40.62805549005576 L -73.77337699854334,40.628215958417364 L -73.77424350638687,40.628694884302064 L -73.77663876802617,40.62981595474265 L -73.77830259886929,40.63053984865991 L -73.78089566330449,40.62721096106719 L -73.78097403354163,40.6272390527093 L -73.78102790942184,40.627178550163535 L -73.78310375683753,40.62451890473418 L -73.7835071645935,40.62399293670668 L -73.78354877654616,40.62388014983141 L -73.78351232874256,40.62385576258385 L -73.78544155324224,40.621353350094736 L -73.78589981686562,40.621509971536874 L -73.78780602281488,40.622387724445865 L -73.78829872479942,40.62265435728577 L -73.78827598217447,40.62278299111035 L -73.78673859905548,40.624721600919436 L -73.78635223200452,40.624550381297254 L -73.78612910279445,40.62457336831061 L -73.78595409119723,40.624692254699994 L -73.78581070016011,40.624618593241244 L -73.78530964705377,40.62525549437492 L -73.78062779014348,40.63126617081225 L -73.78097374540042,40.63141387752792 L -73.78116089045568,40.63184371000225 L -73.7873103548588,40.634635056316114 L -73.78734961272352,40.63457631225137 L -73.78869809640018,40.63517998018121 L -73.78874569822268,40.63516061818127 L -73.80253585684491,40.64141914840823 L -73.80252165726438,40.64145124109431 L -73.80807547248821,40.643965469851445 L -73.80809566663832,40.64393691653527 L -73.80856218969818,40.644147357726524 L -73.8085445170399,40.64417685366371 L -73.81286008971765,40.64613880813901 L -73.81675011287228,40.64785893357435 L -73.81791012339527,40.64843520495065 L -73.8174323003624,40.649165132630905 L -73.81686133864831,40.64895031813448 L -73.81676981208497,40.64907390644505 L -73.81679489842242,40.64915487160157 L -73.8159597307965,40.6502335906921 L -73.81631534694067,40.65042212823058 L -73.81623506142924,40.650577049616146 L -73.81742677353192,40.651115274395906 L -73.81749435151767,40.65100785153402 L -73.81792464821126,40.65114160148569 L -73.81805454793106,40.65122248368344 L -73.81797900718891,40.65129013634058 L -73.81836043057224,40.65146984274258 L -73.81834814083429,40.65152249830889 L -73.822270241134,40.6533259127081 L -73.82246586558787,40.65349069913447 L -73.82259729356541,40.65373566028783 z\" /><path fill-rule=\"evenodd\" fill=\"#66cc99\" stroke=\"#555555\" stroke-width=\"0.0014939411251776846\" opacity=\"0.6\" d=\"M -73.80491080889607,40.651995514963474 L -73.8049125755658,40.6523468196347 L -73.8050604958057,40.65234707044225 L -73.80500823750877,40.65257230084104 L -73.80530574014311,40.65257161704658 L -73.80530375344117,40.652684356020366 L -73.80537787920434,40.65268680121417 L -73.80536777019094,40.65317384535762 L -73.80503702609931,40.653177171831004 L -73.80503783510586,40.6530387102349 L -73.80490883273941,40.65303157370085 L -73.80488430489152,40.65298198911577 L -73.80489700393765,40.65322328863182 L -73.80383370031169,40.653215339376445 L -73.80382903729647,40.653702185543445 L -73.80404279747367,40.65370250670672 L -73.80404378361861,40.65380635718332 L -73.80155235594277,40.653781650019795 L -73.80154977020146,40.653622595812706 L -73.79947739128242,40.65360626359605 L -73.79946805015491,40.654323043701545 L -73.80151205599007,40.65433929917005 L -73.8016251311977,40.654245004551704 L -73.80166413222523,40.65382723620599 L -73.80456247143144,40.653848515917666 L -73.80453393254577,40.65482085268299 L -73.80181189422785,40.65479531421469 L -73.80181414589937,40.65500137402546 L -73.80170104429286,40.65500117908754 L -73.80169110900694,40.655513711422174 L -73.80179952982616,40.6555160352348 L -73.80178853449178,40.65606600390513 L -73.80451453331366,40.656094532984945 L -73.80450172681023,40.65618030187546 L -73.80456241034172,40.65618091109352 L -73.8045595422179,40.65679424257168 L -73.80249198811718,40.65677265548043 L -73.80248143162841,40.657392723085714 L -73.80223243658273,40.65738914432342 L -73.80223258650639,40.6573385723314 L -73.8021320313131,40.657337677179164 L -73.80213094369793,40.65738463467563 L -73.80144791628331,40.65737694060868 L -73.80144814636117,40.65729963774653 L -73.80125842629127,40.657296421231024 L -73.80125627662747,40.657380944740446 L -73.80099350569769,40.65737904597603 L -73.80099274946197,40.657469635986594 L -73.79879531396406,40.657454173893875 L -73.79865400118142,40.65754620911366 L -73.79835619787606,40.65795468339689 L -73.79841165310457,40.658200962703006 L -73.79926689544426,40.65820667462599 L -73.79926298437832,40.65876370994968 L -73.79953335740365,40.65876863273982 L -73.79953396542821,40.659062500151535 L -73.79989057357041,40.65906646021623 L -73.79988375572701,40.65939034159663 L -73.7983250735554,40.65940750999522 L -73.79832323036811,40.65969136473603 L -73.79927785425305,40.659720232888205 L -73.79927594203248,40.65963302510347 L -73.80025446648334,40.659620348999404 L -73.80025999246936,40.659694941368606 L -73.80053172155938,40.659700843023565 L -73.80053947782915,40.66016664623595 L -73.79926446802229,40.66014865839136 L -73.79926379258995,40.660195886724 L -73.79912692438177,40.660196053926555 L -73.79912702368833,40.660163075299124 L -73.7986862586518,40.66019316552791 L -73.79871336153194,40.66041587254356 L -73.79896346732687,40.66037790009978 L -73.79888951774275,40.66055861932474 L -73.79891502008482,40.66205829233644 L -73.79830134461162,40.66206880040912 L -73.7982975564596,40.66199581753546 L -73.79815722264802,40.66204112411665 L -73.79814933936849,40.66278807877688 L -73.7976040943536,40.6627844939145 L -73.79761251476309,40.663287093548284 L -73.79695408694106,40.66384716250185 L -73.79609264628017,40.6638493155718 L -73.79612200707287,40.66246039152096 L -73.79589123455649,40.6624571177271 L -73.79589995578878,40.66098384850229 L -73.79608177596045,40.66098636463181 L -73.79621580978026,40.66090307994175 L -73.79653650271612,40.66089803199517 L -73.79659981608175,40.66086128122843 L -73.79662433700625,40.65969959488756 L -73.79660521329295,40.65959922525226 L -73.79652438045628,40.659556729084365 L -73.79594360322956,40.65956385445642 L -73.79595329255689,40.658728461950616 L -73.79600892223276,40.65872822922924 L -73.79601106717263,40.65859252751089 L -73.79595543845741,40.658592096552276 L -73.79596006168525,40.65828445411167 L -73.79602307824513,40.65828489636885 L -73.79603782450438,40.65735799833889 L -73.79597394072738,40.65735722315886 L -73.79599829717945,40.6559705765354 L -73.79621645585902,40.65597294800187 L -73.79622818474989,40.65539141246951 L -73.79601002797166,40.65538904102512 L -73.79601511534827,40.655146775202944 L -73.7962324010692,40.655149146897 L -73.79623763166808,40.65485391185859 L -73.79607597031246,40.654852301588484 L -73.79604011860067,40.6539138912841 L -73.79625305382108,40.65391625433126 L -73.79628845488288,40.65246881908417 L -73.79655770530407,40.65247052486999 L -73.7966628768721,40.65236218652318 L -73.79632595932708,40.651855518101144 L -73.79452413420951,40.65262356874358 L -73.79458734013313,40.65272705050268 L -73.79357861331765,40.65312001346256 L -73.79351692857934,40.65301403674136 L -73.79287942224235,40.653127163733195 L -73.79212143016849,40.653114405565596 L -73.79077833979778,40.652815348916505 L -73.79072636045346,40.652923341039774 L -73.78918924829863,40.652556844597584 L -73.7888326959043,40.652520657805056 L -73.78807569851662,40.65258686749076 L -73.78744321926584,40.65280090299717 L -73.78738210781631,40.652725951436146 L -73.78703767509454,40.652881941623164 L -73.78697249153174,40.652794514606484 L -73.7868636086775,40.65284027001766 L -73.78669081093227,40.652567175887796 L -73.78710628766049,40.6523072640828 L -73.78722014641927,40.652110890375624 L -73.7871182998803,40.65200363548934 L -73.78699016873577,40.651953695857365 L -73.78666627908383,40.65207978069569 L -73.78662658890794,40.65203035587278 L -73.78642769563987,40.652083476700575 L -73.7862853953294,40.65179140786939 L -73.78638822398968,40.65174797950837 L -73.78636980775288,40.65169250658859 L -73.78672453694574,40.6515079378671 L -73.78668837593459,40.65144349983228 L -73.7862145868917,40.65164422315385 L -73.78618528733953,40.65158280004876 L -73.78647876502463,40.65145529491638 L -73.786541186556,40.65136067517533 L -73.78618985956561,40.65079510472242 L -73.78611533172455,40.65079576040732 L -73.78603378739744,40.650454056750576 L -73.78609177315207,40.65044810231091 L -73.78616996249924,40.650268839777034 L -73.78627349484847,40.64982381593548 L -73.78636296642013,40.64834098824221 L -73.78653910487695,40.648288524996595 L -73.7865752815124,40.64820372259472 L -73.78745464691454,40.64844677972171 L -73.78752890157338,40.6490322857389 L -73.78757045675891,40.64902884597045 L -73.78758216131402,40.64921872787695 L -73.7875205987322,40.64922330136408 L -73.78752642167345,40.64932762028213 L -73.78758798180635,40.64932421746357 L -73.7876460893295,40.64991263551927 L -73.78770456494546,40.64991157099627 L -73.78771647886046,40.65003582244603 L -73.78733579885312,40.6502273225855 L -73.78734777189932,40.65033282444968 L -73.78742318536138,40.65032827575495 L -73.78746764094944,40.650381096876266 L -73.78770191424925,40.65026081483557 L -73.78778338217062,40.650287920457565 L -73.78811628576355,40.650119770469836 L -73.78805188678645,40.6500481604155 L -73.7881042854826,40.65002247327423 L -73.78809076327536,40.64991931448782 L -73.78814158643716,40.649905343795844 L -73.7881357599371,40.64980219918935 L -73.78784951398949,40.649814564275175 L -73.78781223492875,40.64944063283519 L -73.78785378899049,40.64943836543931 L -73.78784545207719,40.649383818158164 L -73.78797932958419,40.64938172098686 L -73.78796173201688,40.64910861839011 L -73.78778013727332,40.64911648628427 L -73.78776539936192,40.648912535373945 L -73.78795007854765,40.64890232913667 L -73.78792323000785,40.64863506734613 L -73.78768931338134,40.648645183555246 L -73.78768175813195,40.64860180595282 L -73.78778182968651,40.64858441159665 L -73.787879955344,40.64843864529445 L -73.78810625243786,40.648405075917694 L -73.78810482474931,40.648369913371894 L -73.78830964697832,40.648315207537344 L -73.78893457967403,40.648246038105675 L -73.78894674767646,40.64829059566815 L -73.78912377991641,40.64826513671194 L -73.78934551101075,40.6484442351052 L -73.78949204182666,40.64881953677538 L -73.78940888634429,40.64884047922625 L -73.78943026520976,40.64889208666247 L -73.78958116989882,40.64885720294444 L -73.78958877446388,40.64888534370647 L -73.78953950283578,40.64889580224587 L -73.78937679750214,40.64925647341299 L -73.78959205594322,40.64930843391613 L -73.78968348277724,40.64910467744539 L -73.78985569325548,40.64914484025714 L -73.78995260364172,40.64939405074503 L -73.7900480588528,40.64937664508579 L -73.79004252081232,40.649180914118745 L -73.7900150821663,40.64909882573375 L -73.78990586632521,40.64908807848034 L -73.78986313979608,40.648974318749524 L -73.79000788935001,40.64893942322555 L -73.79015279458079,40.64898504691777 L -73.79021092444769,40.64888949430841 L -73.79011382005415,40.64885635089287 L -73.79007895187554,40.648738917950304 L -73.78997808197441,40.64877342363129 L -73.78991534232381,40.64873033171383 L -73.78983124728073,40.64874597769452 L -73.78977366063835,40.64860220434476 L -73.78960545877477,40.6486417988127 L -73.78955829667385,40.64851615568619 L -73.79033104194072,40.64796349855027 L -73.79007042305778,40.647623170349064 L -73.78996648274126,40.647689384041485 L -73.78986316202553,40.64755617583894 L -73.79012604031523,40.64743226338601 L -73.79037713737713,40.64773657581414 L -73.7906237213756,40.647615960848775 L -73.7905366106199,40.64750622510838 L -73.79059096841891,40.6474814634337 L -73.7907511606217,40.64764496351407 L -73.79102709338447,40.64749697032972 L -73.79107872417798,40.647549757181345 L -73.79098229277764,40.64763928999634 L -73.79134515500834,40.648055403945314 L -73.7913774995153,40.64803600688237 L -73.79145883222827,40.64811883746076 L -73.79151248216145,40.64809326269965 L -73.79156164398697,40.64814226086744 L -73.79179761993768,40.64800756884497 L -73.7916161827958,40.64782564581996 L -73.79152874028725,40.64787899175973 L -73.79133970207243,40.64768799978357 L -73.79142784928678,40.64763573768999 L -73.79125084595788,40.64745287387047 L -73.79119967111404,40.64748142472146 L -73.7911048987876,40.64738099588648 L -73.79131388852751,40.64719829141167 L -73.79116558167917,40.64708912407436 L -73.79136061002544,40.64688788306047 L -73.79143428155749,40.64692638876453 L -73.79149480781145,40.646857320539254 L -73.79159789822062,40.646901818403585 L -73.79165773296877,40.6468273475183 L -73.79176013346829,40.64686752509163 L -73.79197486564897,40.646584335334374 L -73.79193914224163,40.64657518806181 L -73.79200425234573,40.646434870579945 L -73.7916814035323,40.64635887754307 L -73.79171855362954,40.64627036243638 L -73.79202716205099,40.646357978751254 L -73.79380610523624,40.64729838506485 L -73.79397173870147,40.64711805104746 L -73.79227954429491,40.646221722373426 L -73.79178135999103,40.646057202305926 L -73.79183884481989,40.64550518915319 L -73.79192576782964,40.6453576619909 L -73.79205319453101,40.645367104799504 L -73.79206785070726,40.64531595201668 L -73.79310458883229,40.64532004792964 L -73.79326970760069,40.645560898206355 L -73.79443418342873,40.645687565391064 L -73.79463226998651,40.64560094793451 L -73.79466391932883,40.64567843029507 L -73.79481893447411,40.64566958559722 L -73.79477000379582,40.64509516524949 L -73.79483092482391,40.645070216068895 L -73.79484036371726,40.64493415615642 L -73.79521444893918,40.64491768330044 L -73.79542541935425,40.64515665709073 L -73.79544174850206,40.6455099080788 L -73.79571756662304,40.64539654105383 L -73.79567328075647,40.645145567476 L -73.79575499260406,40.64509740600752 L -73.79576110402326,40.64489605417966 L -73.79611427060392,40.6448902808518 L -73.79611639647435,40.64505348864675 L -73.79620878118213,40.64504984499589 L -73.7967517676358,40.645637448149714 L -73.79797636447246,40.645714893007806 L -73.79797901967804,40.64578171087871 L -73.79817240131636,40.64578808931147 L -73.7982632327624,40.64584957771957 L -73.79836957546715,40.64604061778989 L -73.7983768730727,40.64625870508167 L -73.79843669125822,40.646258244411975 L -73.798431284466,40.64671190803774 L -73.79827910499003,40.64670858484579 L -73.79825176434242,40.64680143005144 L -73.79845434534798,40.64675789029511 L -73.79847844729149,40.64642710300437 L -73.79870862600485,40.646426636213874 L -73.79866349749466,40.64989523901654 L -73.79873463179214,40.64771826182276 L -73.8013231213152,40.64774356556525 L -73.80160852367207,40.647753787471345 L -73.80161050457728,40.64780608318758 L -73.80190065798163,40.64781143264559 L -73.80189584650216,40.6482281823234 L -73.80122628597732,40.648220845860955 L -73.80122051497327,40.64850742547757 L -73.80096242637991,40.648544849574606 L -73.8009180865007,40.64995101753623 L -73.80250223823042,40.649967276394186 L -73.80249800196286,40.65038344434108 L -73.80236197685461,40.650395571206325 L -73.80234059031329,40.65108332081089 L -73.80159324519386,40.65108224201733 L -73.80159356954636,40.65102167902343 L -73.8000056906946,40.651007107698305 L -73.80000487521787,40.651268495645915 L -73.80009476563811,40.65143164329042 L -73.80042182090605,40.65151480154963 L -73.80139604313452,40.65152347869586 L -73.80159147462788,40.651413621208434 L -73.8015929786109,40.65113212584722 L -73.80486840949106,40.651181638978386 L -73.80491848411921,40.65129055712498 L -73.80491080889607,40.651995514963474 z\" /></g></g></svg>"
      ],
      "text/plain": [
       "<shapely.geometry.multipolygon.MultiPolygon at 0x1a12768438>"
      ]
     },
     "execution_count": 17,
     "metadata": {},
     "output_type": "execute_result"
    }
   ],
   "source": [
    "jfk"
   ]
  },
  {
   "cell_type": "code",
   "execution_count": 18,
   "metadata": {
    "scrolled": true
   },
   "outputs": [
    {
     "data": {
      "image/svg+xml": [
       "<svg xmlns=\"http://www.w3.org/2000/svg\" xmlns:xlink=\"http://www.w3.org/1999/xlink\" width=\"100.0\" height=\"100.0\" viewBox=\"-73.79741836 40.63383264 0.026928720000000794 0.018992719999999963\" preserveAspectRatio=\"xMinYMin meet\"><g transform=\"matrix(1,0,0,-1,0,81.286658)\"><path fill-rule=\"evenodd\" fill=\"#66cc99\" stroke=\"#555555\" stroke-width=\"0.0005385744000000159\" opacity=\"0.6\" d=\"M -73.796421,40.649549 L -73.794189,40.641083 L -73.780287,40.63483 L -73.771487,40.645737 L -73.784447,40.651828 L -73.791872,40.65121 L -73.796421,40.649549 z\" /></g></svg>"
      ],
      "text/plain": [
       "<shapely.geometry.polygon.Polygon at 0x1a12768cc0>"
      ]
     },
     "execution_count": 18,
     "metadata": {},
     "output_type": "execute_result"
    }
   ],
   "source": [
    "manual_jfk"
   ]
  },
  {
   "cell_type": "code",
   "execution_count": 19,
   "metadata": {
    "scrolled": true
   },
   "outputs": [
    {
     "data": {
      "image/svg+xml": [
       "<svg xmlns=\"http://www.w3.org/2000/svg\" xmlns:xlink=\"http://www.w3.org/1999/xlink\" width=\"100.0\" height=\"100.0\" viewBox=\"-74.18804432 40.68341667999999 0.01909764000001246 0.017456640000013124\" preserveAspectRatio=\"xMinYMin meet\"><g transform=\"matrix(1,0,0,-1,0,81.38429)\"><path fill-rule=\"evenodd\" fill=\"#66cc99\" stroke=\"#555555\" stroke-width=\"0.0003819528000002492\" opacity=\"0.6\" d=\"M -74.179868,40.700166 L -74.169654,40.694894 L -74.179785,40.684124 L -74.187337,40.687085 L -74.179868,40.700166 z\" /></g></svg>"
      ],
      "text/plain": [
       "<shapely.geometry.polygon.Polygon at 0x1a12768e48>"
      ]
     },
     "execution_count": 19,
     "metadata": {},
     "output_type": "execute_result"
    }
   ],
   "source": [
    "manual_newark"
   ]
  },
  {
   "cell_type": "code",
   "execution_count": 20,
   "metadata": {},
   "outputs": [],
   "source": [
    "def to_location(row_data, locations = manual_city_polys):\n",
    "    point = shape(Point(row_data['dropoff_longitude'], row_data['dropoff_latitude']))\n",
    "\n",
    "    for idx, location in enumerate(locations):\n",
    "        if point.within(location):\n",
    "            return idx\n",
    "    return -1\n",
    "\n",
    "def from_location(row_data, locations = manual_city_polys):\n",
    "    point = shape(Point(row_data['pickup_longitude'], row_data['pickup_latitude']))\n",
    "\n",
    "    for idx, location in enumerate(locations):\n",
    "        if point.within(location):\n",
    "            return idx\n",
    "    return -1\n"
   ]
  },
  {
   "cell_type": "markdown",
   "metadata": {},
   "source": [
    "# Linear Regression"
   ]
  },
  {
   "cell_type": "code",
   "execution_count": 21,
   "metadata": {},
   "outputs": [],
   "source": [
    "def simple_linear_regression(df, x_feature, y_feature, test_size = 0.3):\n",
    "    train, test = train_test_split(df, test_size = test_size)\n",
    "    train_x = list(map(lambda x: [x], list(train[x_feature])))\n",
    "    train_y = list(map(lambda x: [x], list(train[y_feature])))\n",
    "    test_x = list(map(lambda x: [x], list(test[x_feature])))\n",
    "    test_y = list(map(lambda x: [x], list(test[y_feature])))\n",
    "\n",
    "    regr = linear_model.LinearRegression()\n",
    "    regr.fit(train_x, train_y)\n",
    "    fare_predict = regr.predict(test_x)\n",
    "\n",
    "    # The coefficients\n",
    "    print('Coefficients: \\n', regr.coef_)\n",
    "    # The mean squared error\n",
    "    print(\"Mean squared error: %.2f\"\n",
    "          % mean_squared_error(test_y, fare_predict))\n",
    "    # Explained variance score: 1 is perfect prediction\n",
    "    print('Variance score: %.2f' % r2_score(test_y, fare_predict))\n",
    "\n",
    "    # Plot outputs\n",
    "    plt.scatter(test_x, test_y,  color='blue')\n",
    "    plt.plot(test_x, fare_predict, color='red', linewidth=3)\n",
    "\n",
    "    plt.xticks(())\n",
    "    plt.yticks(())\n",
    "\n",
    "    plt.show()\n",
    "    \n",
    "    return regr"
   ]
  },
  {
   "cell_type": "code",
   "execution_count": 22,
   "metadata": {},
   "outputs": [],
   "source": [
    "def normalize_fare(row_data, inverse = False):\n",
    "    adjust_fare = 0\n",
    "    \n",
    "    sign = 1\n",
    "\n",
    "    if inverse:\n",
    "        sign = -1\n",
    "        adjust_fare = row_data['adjusted_fare_amount']\n",
    "    else:\n",
    "        adjust_fare = row_data['fare_amount']\n",
    "        \n",
    "    if row_data['jfk'] == 1:\n",
    "        # flat fare of $52\n",
    "        if row_data['year'] < 2013:\n",
    "            adjust_fare -= (sign * 45)\n",
    "        else:\n",
    "            adjust_fare -= (sign * 52)\n",
    "\n",
    "        # MTA State Surcharge\n",
    "        adjust_fare -= (sign * 0.5)\n",
    "        # 30-cent Improvement Surcharge,\n",
    "        adjust_fare -= (sign * 0.3)\n",
    "        # toll\n",
    "        adjust_fare -= (sign * 5)\n",
    "        \n",
    "        if row_data['weekday_rush_hour'] == 1:\n",
    "            adjust_fare -= (sign * 4.5)\n",
    "    else:    \n",
    "        # metered surcharge\n",
    "        adjust_fare -= (sign * 2.8)\n",
    "        \n",
    "        if row_data['night_time'] == 1:\n",
    "            adjust_fare -= (sign * 0.5)\n",
    "        \n",
    "        if row_data['weekday_rush_hour'] == 1:\n",
    "            adjust_fare -= (sign * 1)\n",
    "        \n",
    "        # newark rule\n",
    "        if row_data['newark'] == 1:\n",
    "            # flat\n",
    "            if row_data['year'] < 2013:\n",
    "                adjust_fare -= (sign * 15)\n",
    "            else:\n",
    "                adjust_fare -= (sign * 17.5)\n",
    "            \n",
    "            # surcharge\n",
    "            adjust_fare -= (sign * 0.3)\n",
    "            # round trip toll\n",
    "            adjust_fare -= (sign * 12.5)\n",
    "\n",
    "    return adjust_fare\n",
    "\n",
    "\n",
    "def inverse_normalize_fare(row_data):\n",
    "    return normalize_fare(row_data, inverse = True)\n",
    "\n",
    "# def inverse_adjusted_fare(row_data):\n",
    "#     fare = row_data['adjusted_fare_amount']\n",
    "\n",
    "#     if row_data['jfk'] == 1:\n",
    "#         fare = 0\n",
    "#         # flat fare of $52\n",
    "#         if row_data['year'] < 2014:\n",
    "#             fare += 45\n",
    "#         else:\n",
    "#             fare += 52\n",
    "\n",
    "#         # MTA State Surcharge\n",
    "#         fare += 0.5\n",
    "#         # 30-cent Improvement Surcharge,\n",
    "#         fare += 0.3        \n",
    "#         # toll\n",
    "#         fare += 5\n",
    "        \n",
    "#         if row_data['weekday_rush_hour'] == 1:\n",
    "#             fare += 4.5\n",
    "#     else:\n",
    "#         fare += 2.8\n",
    "        \n",
    "#         if row_data['night_time'] == 1:\n",
    "#             fare += 0.5\n",
    "        \n",
    "#         if row_data['weekday_rush_hour'] == 1:\n",
    "#             fare += 1\n",
    "        \n",
    "#         if row_data['newark'] == 1:\n",
    "#             # flat\n",
    "#             fare += 17.5\n",
    "#             # surcharge\n",
    "#             fare += 0.3\n",
    "#             # round trip toll\n",
    "#             fare += 12.5\n",
    "\n",
    "#     return fare"
   ]
  },
  {
   "cell_type": "markdown",
   "metadata": {},
   "source": [
    "# Q1 Take a look at the training data ...\n",
    "\n",
    "## There may be anomalies in the data that you may need to factor in before you start on the other tasks. Clean the data first to handle these issues. Explain what you did to clean the data (in bulleted form)."
   ]
  },
  {
   "cell_type": "markdown",
   "metadata": {},
   "source": [
    "## Basic Visualization\n",
    "---"
   ]
  },
  {
   "cell_type": "code",
   "execution_count": 23,
   "metadata": {},
   "outputs": [
    {
     "name": "stderr",
     "output_type": "stream",
     "text": [
      "/anaconda3/envs/data-science/lib/python3.6/site-packages/pandas/io/feather_format.py:112: FutureWarning: `nthreads` argument is deprecated, pass `use_threads` instead\n",
      "  return feather.read_dataframe(path, nthreads=nthreads)\n"
     ]
    }
   ],
   "source": [
    "# Read feather\n",
    "\n",
    "basic_filter_df = pd.read_feather(PATH+str(ROWS))\n",
    "# basic_filter_df = pd.read_feather(PATH)\n",
    "\n"
   ]
  },
  {
   "cell_type": "code",
   "execution_count": 24,
   "metadata": {},
   "outputs": [
    {
     "name": "stdout",
     "output_type": "stream",
     "text": [
      "Pearson correlation coef. of:\n",
      "    * dist and fare: \n",
      "        Applied basic rules            0.67449629783\n",
      "        Applied travel distance rules  0.908483019109\n",
      "    * time of day and dist: \n",
      "        Applied basic rules            0.0212993969933\n",
      "        Applied travel distance rules  0.0308010718408\n",
      "    * time of day and fare: \n",
      "        Applied basic rules            -0.0036685924712\n",
      "        Applied travel distance rules  -0.00629747768977\n",
      "\n",
      "\n",
      "Pearson correlation coef. of:\n",
      "    * dist and fare: \n",
      "        Applied travel distance rules  0.908483019109\n",
      "        Applied upperbound fare rule   0.908483019109\n",
      "    * time of day and dist: \n",
      "        Applied travel distance rules  0.0308010718408\n",
      "        Applied upperbound fare rule   0.0308010718408\n",
      "    * time of day and fare: \n",
      "        Applied travel distance rules  -0.00629747768977\n",
      "        Applied upperbound fare rule   -0.00629747768977\n",
      "\n",
      "\n",
      "Pearson correlation coef. of:\n",
      "    * dist and fare: \n",
      "        Applied upper bound rule       0.908483019109\n",
      "        Applied advanced shape rule    0.911240430705\n",
      "    * time of day and dist: \n",
      "        Applied upper bound rule       0.0308010718408\n",
      "        Applied advanced shape rule    0.0308223148488\n",
      "    * time of day and fare: \n",
      "        Applied upper bound rule       -0.00629747768977\n",
      "        Applied advanced shape rule    -0.00588549277797\n"
     ]
    }
   ],
   "source": [
    "advanced_df = basic_filter_df.loc[valid_fare_amount_judge_by_travel_distance(basic_filter_df)]\n",
    "w_upperbound_df = advanced_df.loc[valid_fare_with_upperbound(advanced_df, 300)]\n",
    "w_shape_df = w_upperbound_df.loc[w_upperbound_df.apply(valid_transportation_region_by_shape, axis = 1)]\n",
    "\n",
    "compare_two_df(basic_filter_df, 'Applied basic rules', advanced_df, 'Applied travel distance rules')\n",
    "print('\\n')\n",
    "compare_two_df(advanced_df, 'Applied travel distance rules', w_upperbound_df, 'Applied upperbound fare rule')\n",
    "print('\\n')\n",
    "compare_two_df(w_upperbound_df, 'Applied upper bound rule', w_shape_df, 'Applied advanced shape rule')"
   ]
  },
  {
   "cell_type": "code",
   "execution_count": 25,
   "metadata": {},
   "outputs": [
    {
     "data": {
      "image/png": "[encoded data removed]",
      "text/plain": [
       "<Figure size 576x576 with 7 Axes>"
      ]
     },
     "metadata": {
      "needs_background": "light"
     },
     "output_type": "display_data"
    },
    {
     "name": "stdout",
     "output_type": "stream",
     "text": [
      "\n",
      " log hist\n"
     ]
    },
    {
     "data": {
      "image/png": "[encoded data removed]",
      "text/plain": [
       "<Figure size 576x576 with 7 Axes>"
      ]
     },
     "metadata": {
      "needs_background": "light"
     },
     "output_type": "display_data"
    }
   ],
   "source": [
    "# headers = list(basic_filter_df.columns.values)\n",
    "plot_hist(basic_filter_df, HEADERS)\n",
    "print('\\n log hist')\n",
    "plot_hist(basic_filter_df, HEADERS, log = True)"
   ]
  },
  {
   "cell_type": "code",
   "execution_count": 26,
   "metadata": {},
   "outputs": [
    {
     "data": {
      "text/html": [
       "<div>\n",
       "<style scoped>\n",
       "    .dataframe tbody tr th:only-of-type {\n",
       "        vertical-align: middle;\n",
       "    }\n",
       "\n",
       "    .dataframe tbody tr th {\n",
       "        vertical-align: top;\n",
       "    }\n",
       "\n",
       "    .dataframe thead th {\n",
       "        text-align: right;\n",
       "    }\n",
       "</style>\n",
       "<table border=\"1\" class=\"dataframe\">\n",
       "  <thead>\n",
       "    <tr style=\"text-align: right;\">\n",
       "      <th></th>\n",
       "      <th>index</th>\n",
       "      <th>fare_amount</th>\n",
       "      <th>pickup_longitude</th>\n",
       "      <th>pickup_latitude</th>\n",
       "      <th>dropoff_longitude</th>\n",
       "      <th>dropoff_latitude</th>\n",
       "      <th>passenger_count</th>\n",
       "      <th>year</th>\n",
       "      <th>weekday</th>\n",
       "      <th>hour</th>\n",
       "      <th>dist</th>\n",
       "    </tr>\n",
       "  </thead>\n",
       "  <tbody>\n",
       "    <tr>\n",
       "      <th>count</th>\n",
       "      <td>0.0</td>\n",
       "      <td>0.0</td>\n",
       "      <td>0.0</td>\n",
       "      <td>0.0</td>\n",
       "      <td>0.0</td>\n",
       "      <td>0.0</td>\n",
       "      <td>0.0</td>\n",
       "      <td>0.0</td>\n",
       "      <td>0.0</td>\n",
       "      <td>0.0</td>\n",
       "      <td>0.0</td>\n",
       "    </tr>\n",
       "    <tr>\n",
       "      <th>mean</th>\n",
       "      <td>NaN</td>\n",
       "      <td>NaN</td>\n",
       "      <td>NaN</td>\n",
       "      <td>NaN</td>\n",
       "      <td>NaN</td>\n",
       "      <td>NaN</td>\n",
       "      <td>NaN</td>\n",
       "      <td>NaN</td>\n",
       "      <td>NaN</td>\n",
       "      <td>NaN</td>\n",
       "      <td>NaN</td>\n",
       "    </tr>\n",
       "    <tr>\n",
       "      <th>std</th>\n",
       "      <td>NaN</td>\n",
       "      <td>NaN</td>\n",
       "      <td>NaN</td>\n",
       "      <td>NaN</td>\n",
       "      <td>NaN</td>\n",
       "      <td>NaN</td>\n",
       "      <td>NaN</td>\n",
       "      <td>NaN</td>\n",
       "      <td>NaN</td>\n",
       "      <td>NaN</td>\n",
       "      <td>NaN</td>\n",
       "    </tr>\n",
       "    <tr>\n",
       "      <th>min</th>\n",
       "      <td>NaN</td>\n",
       "      <td>NaN</td>\n",
       "      <td>NaN</td>\n",
       "      <td>NaN</td>\n",
       "      <td>NaN</td>\n",
       "      <td>NaN</td>\n",
       "      <td>NaN</td>\n",
       "      <td>NaN</td>\n",
       "      <td>NaN</td>\n",
       "      <td>NaN</td>\n",
       "      <td>NaN</td>\n",
       "    </tr>\n",
       "    <tr>\n",
       "      <th>25%</th>\n",
       "      <td>NaN</td>\n",
       "      <td>NaN</td>\n",
       "      <td>NaN</td>\n",
       "      <td>NaN</td>\n",
       "      <td>NaN</td>\n",
       "      <td>NaN</td>\n",
       "      <td>NaN</td>\n",
       "      <td>NaN</td>\n",
       "      <td>NaN</td>\n",
       "      <td>NaN</td>\n",
       "      <td>NaN</td>\n",
       "    </tr>\n",
       "    <tr>\n",
       "      <th>50%</th>\n",
       "      <td>NaN</td>\n",
       "      <td>NaN</td>\n",
       "      <td>NaN</td>\n",
       "      <td>NaN</td>\n",
       "      <td>NaN</td>\n",
       "      <td>NaN</td>\n",
       "      <td>NaN</td>\n",
       "      <td>NaN</td>\n",
       "      <td>NaN</td>\n",
       "      <td>NaN</td>\n",
       "      <td>NaN</td>\n",
       "    </tr>\n",
       "    <tr>\n",
       "      <th>75%</th>\n",
       "      <td>NaN</td>\n",
       "      <td>NaN</td>\n",
       "      <td>NaN</td>\n",
       "      <td>NaN</td>\n",
       "      <td>NaN</td>\n",
       "      <td>NaN</td>\n",
       "      <td>NaN</td>\n",
       "      <td>NaN</td>\n",
       "      <td>NaN</td>\n",
       "      <td>NaN</td>\n",
       "      <td>NaN</td>\n",
       "    </tr>\n",
       "    <tr>\n",
       "      <th>max</th>\n",
       "      <td>NaN</td>\n",
       "      <td>NaN</td>\n",
       "      <td>NaN</td>\n",
       "      <td>NaN</td>\n",
       "      <td>NaN</td>\n",
       "      <td>NaN</td>\n",
       "      <td>NaN</td>\n",
       "      <td>NaN</td>\n",
       "      <td>NaN</td>\n",
       "      <td>NaN</td>\n",
       "      <td>NaN</td>\n",
       "    </tr>\n",
       "  </tbody>\n",
       "</table>\n",
       "</div>"
      ],
      "text/plain": [
       "       index  fare_amount  pickup_longitude  pickup_latitude  \\\n",
       "count    0.0          0.0               0.0              0.0   \n",
       "mean     NaN          NaN               NaN              NaN   \n",
       "std      NaN          NaN               NaN              NaN   \n",
       "min      NaN          NaN               NaN              NaN   \n",
       "25%      NaN          NaN               NaN              NaN   \n",
       "50%      NaN          NaN               NaN              NaN   \n",
       "75%      NaN          NaN               NaN              NaN   \n",
       "max      NaN          NaN               NaN              NaN   \n",
       "\n",
       "       dropoff_longitude  dropoff_latitude  passenger_count  year  weekday  \\\n",
       "count                0.0               0.0              0.0   0.0      0.0   \n",
       "mean                 NaN               NaN              NaN   NaN      NaN   \n",
       "std                  NaN               NaN              NaN   NaN      NaN   \n",
       "min                  NaN               NaN              NaN   NaN      NaN   \n",
       "25%                  NaN               NaN              NaN   NaN      NaN   \n",
       "50%                  NaN               NaN              NaN   NaN      NaN   \n",
       "75%                  NaN               NaN              NaN   NaN      NaN   \n",
       "max                  NaN               NaN              NaN   NaN      NaN   \n",
       "\n",
       "       hour  dist  \n",
       "count   0.0   0.0  \n",
       "mean    NaN   NaN  \n",
       "std     NaN   NaN  \n",
       "min     NaN   NaN  \n",
       "25%     NaN   NaN  \n",
       "50%     NaN   NaN  \n",
       "75%     NaN   NaN  \n",
       "max     NaN   NaN  "
      ]
     },
     "execution_count": 26,
     "metadata": {},
     "output_type": "execute_result"
    }
   ],
   "source": [
    "basic_filter_df.loc[basic_filter_df.fare_amount > 300].describe()"
   ]
  },
  {
   "cell_type": "code",
   "execution_count": null,
   "metadata": {},
   "outputs": [],
   "source": [
    "\n"
   ]
  },
  {
   "cell_type": "markdown",
   "metadata": {},
   "source": [
    "# Data Cleaning and Visualization\n",
    "---"
   ]
  },
  {
   "cell_type": "markdown",
   "metadata": {},
   "source": [
    "## Pearson Correlation Coefficients, \n",
    "## and Visualization of the Relation between the Variables"
   ]
  },
  {
   "cell_type": "code",
   "execution_count": 27,
   "metadata": {},
   "outputs": [
    {
     "data": {
      "image/png": "[encoded data removed]",
      "text/plain": [
       "<Figure size 432x288 with 1 Axes>"
      ]
     },
     "metadata": {
      "needs_background": "light"
     },
     "output_type": "display_data"
    }
   ],
   "source": [
    "fig, ax = plt.subplots()\n",
    "basic_filter_df.fare_amount.hist(ax = ax, bottom=0.01)\n",
    "ax.set_yscale('log')"
   ]
  },
  {
   "cell_type": "code",
   "execution_count": 28,
   "metadata": {},
   "outputs": [
    {
     "name": "stdout",
     "output_type": "stream",
     "text": [
      "Size of data (with basic filtering rules):             97155\n",
      "Size of data (with advanced filtering rules):          92888\n",
      "Size of data (with fare-upperbound filtering rules):   92888\n",
      "Size of data (with tighter shape filtering rules):     92786\n"
     ]
    },
    {
     "data": {
      "image/png": "[encoded data removed]",
      "text/plain": [
       "<Figure size 432x288 with 1 Axes>"
      ]
     },
     "metadata": {
      "needs_background": "light"
     },
     "output_type": "display_data"
    }
   ],
   "source": [
    "fig, ax = plt.subplots()\n",
    "w_shape_df.fare_amount.hist(ax = ax, bottom=0.01)\n",
    "ax.set_yscale('log')\n",
    "format_rule = '{0:54}'\n",
    "print(format_rule.format('Size of data (with basic filtering rules):'), basic_filter_df.shape[0])\n",
    "print(format_rule.format('Size of data (with advanced filtering rules):'), advanced_df.shape[0])\n",
    "print(format_rule.format('Size of data (with fare-upperbound filtering rules):'),w_upperbound_df.shape[0])\n",
    "print(format_rule.format('Size of data (with tighter shape filtering rules):'),w_shape_df.shape[0])\n",
    "\n",
    "train_df = w_shape_df[:]"
   ]
  },
  {
   "cell_type": "code",
   "execution_count": 29,
   "metadata": {},
   "outputs": [
    {
     "data": {
      "text/html": [
       "<div>\n",
       "<style scoped>\n",
       "    .dataframe tbody tr th:only-of-type {\n",
       "        vertical-align: middle;\n",
       "    }\n",
       "\n",
       "    .dataframe tbody tr th {\n",
       "        vertical-align: top;\n",
       "    }\n",
       "\n",
       "    .dataframe thead th {\n",
       "        text-align: right;\n",
       "    }\n",
       "</style>\n",
       "<table border=\"1\" class=\"dataframe\">\n",
       "  <thead>\n",
       "    <tr style=\"text-align: right;\">\n",
       "      <th></th>\n",
       "      <th>index</th>\n",
       "      <th>key</th>\n",
       "      <th>fare_amount</th>\n",
       "      <th>pickup_datetime</th>\n",
       "      <th>pickup_longitude</th>\n",
       "      <th>pickup_latitude</th>\n",
       "      <th>dropoff_longitude</th>\n",
       "      <th>dropoff_latitude</th>\n",
       "      <th>passenger_count</th>\n",
       "      <th>new_york_time</th>\n",
       "      <th>year</th>\n",
       "      <th>weekday</th>\n",
       "      <th>hour</th>\n",
       "      <th>dist</th>\n",
       "    </tr>\n",
       "  </thead>\n",
       "  <tbody>\n",
       "    <tr>\n",
       "      <th>0</th>\n",
       "      <td>0</td>\n",
       "      <td>2009-06-15 17:26:21.0000001</td>\n",
       "      <td>4.5</td>\n",
       "      <td>2009-06-15 17:26:21</td>\n",
       "      <td>-73.844311</td>\n",
       "      <td>40.721319</td>\n",
       "      <td>-73.841610</td>\n",
       "      <td>40.712278</td>\n",
       "      <td>1</td>\n",
       "      <td>2009-06-15 13:26:21-04:00</td>\n",
       "      <td>2009</td>\n",
       "      <td>0</td>\n",
       "      <td>13.433333</td>\n",
       "      <td>0.640688</td>\n",
       "    </tr>\n",
       "    <tr>\n",
       "      <th>1</th>\n",
       "      <td>1</td>\n",
       "      <td>2010-01-05 16:52:16.0000002</td>\n",
       "      <td>16.9</td>\n",
       "      <td>2010-01-05 16:52:16</td>\n",
       "      <td>-74.016048</td>\n",
       "      <td>40.711303</td>\n",
       "      <td>-73.979268</td>\n",
       "      <td>40.782004</td>\n",
       "      <td>1</td>\n",
       "      <td>2010-01-05 11:52:16-05:00</td>\n",
       "      <td>2010</td>\n",
       "      <td>1</td>\n",
       "      <td>11.866667</td>\n",
       "      <td>5.252316</td>\n",
       "    </tr>\n",
       "    <tr>\n",
       "      <th>2</th>\n",
       "      <td>2</td>\n",
       "      <td>2011-08-18 00:35:00.00000049</td>\n",
       "      <td>5.7</td>\n",
       "      <td>2011-08-18 00:35:00</td>\n",
       "      <td>-73.982738</td>\n",
       "      <td>40.761270</td>\n",
       "      <td>-73.991242</td>\n",
       "      <td>40.750562</td>\n",
       "      <td>2</td>\n",
       "      <td>2011-08-17 20:35:00-04:00</td>\n",
       "      <td>2011</td>\n",
       "      <td>2</td>\n",
       "      <td>20.583333</td>\n",
       "      <td>0.863682</td>\n",
       "    </tr>\n",
       "    <tr>\n",
       "      <th>3</th>\n",
       "      <td>3</td>\n",
       "      <td>2012-04-21 04:30:42.0000001</td>\n",
       "      <td>7.7</td>\n",
       "      <td>2012-04-21 04:30:42</td>\n",
       "      <td>-73.987130</td>\n",
       "      <td>40.733143</td>\n",
       "      <td>-73.991567</td>\n",
       "      <td>40.758092</td>\n",
       "      <td>1</td>\n",
       "      <td>2012-04-21 00:30:42-04:00</td>\n",
       "      <td>2012</td>\n",
       "      <td>5</td>\n",
       "      <td>0.500000</td>\n",
       "      <td>1.739931</td>\n",
       "    </tr>\n",
       "    <tr>\n",
       "      <th>4</th>\n",
       "      <td>4</td>\n",
       "      <td>2010-03-09 07:51:00.000000135</td>\n",
       "      <td>5.3</td>\n",
       "      <td>2010-03-09 07:51:00</td>\n",
       "      <td>-73.968095</td>\n",
       "      <td>40.768008</td>\n",
       "      <td>-73.956655</td>\n",
       "      <td>40.783762</td>\n",
       "      <td>1</td>\n",
       "      <td>2010-03-09 02:51:00-05:00</td>\n",
       "      <td>2010</td>\n",
       "      <td>1</td>\n",
       "      <td>2.850000</td>\n",
       "      <td>1.242608</td>\n",
       "    </tr>\n",
       "  </tbody>\n",
       "</table>\n",
       "</div>"
      ],
      "text/plain": [
       "   index                            key  fare_amount     pickup_datetime  \\\n",
       "0      0    2009-06-15 17:26:21.0000001          4.5 2009-06-15 17:26:21   \n",
       "1      1    2010-01-05 16:52:16.0000002         16.9 2010-01-05 16:52:16   \n",
       "2      2   2011-08-18 00:35:00.00000049          5.7 2011-08-18 00:35:00   \n",
       "3      3    2012-04-21 04:30:42.0000001          7.7 2012-04-21 04:30:42   \n",
       "4      4  2010-03-09 07:51:00.000000135          5.3 2010-03-09 07:51:00   \n",
       "\n",
       "   pickup_longitude  pickup_latitude  dropoff_longitude  dropoff_latitude  \\\n",
       "0        -73.844311        40.721319         -73.841610         40.712278   \n",
       "1        -74.016048        40.711303         -73.979268         40.782004   \n",
       "2        -73.982738        40.761270         -73.991242         40.750562   \n",
       "3        -73.987130        40.733143         -73.991567         40.758092   \n",
       "4        -73.968095        40.768008         -73.956655         40.783762   \n",
       "\n",
       "   passenger_count             new_york_time  year  weekday       hour  \\\n",
       "0                1 2009-06-15 13:26:21-04:00  2009        0  13.433333   \n",
       "1                1 2010-01-05 11:52:16-05:00  2010        1  11.866667   \n",
       "2                2 2011-08-17 20:35:00-04:00  2011        2  20.583333   \n",
       "3                1 2012-04-21 00:30:42-04:00  2012        5   0.500000   \n",
       "4                1 2010-03-09 02:51:00-05:00  2010        1   2.850000   \n",
       "\n",
       "       dist  \n",
       "0  0.640688  \n",
       "1  5.252316  \n",
       "2  0.863682  \n",
       "3  1.739931  \n",
       "4  1.242608  "
      ]
     },
     "execution_count": 29,
     "metadata": {},
     "output_type": "execute_result"
    }
   ],
   "source": [
    "train_df.head()"
   ]
  },
  {
   "cell_type": "markdown",
   "metadata": {},
   "source": [
    "# Histogram\n",
    "\n",
    "---"
   ]
  },
  {
   "cell_type": "markdown",
   "metadata": {},
   "source": [
    "## Weekday\n",
    "\n",
    "---"
   ]
  },
  {
   "cell_type": "markdown",
   "metadata": {},
   "source": [
    "## Weekend"
   ]
  },
  {
   "cell_type": "code",
   "execution_count": 30,
   "metadata": {},
   "outputs": [],
   "source": [
    "# weekends_df = basic_filter_df.loc[]\n",
    "# weekends_df.hist()\n",
    "# simple_linear_regression(advanced_w_upperbound)"
   ]
  },
  {
   "cell_type": "code",
   "execution_count": null,
   "metadata": {},
   "outputs": [],
   "source": []
  },
  {
   "cell_type": "code",
   "execution_count": null,
   "metadata": {},
   "outputs": [],
   "source": []
  },
  {
   "cell_type": "markdown",
   "metadata": {},
   "source": [
    "# Create New Features\n",
    "---"
   ]
  },
  {
   "cell_type": "code",
   "execution_count": 31,
   "metadata": {},
   "outputs": [
    {
     "data": {
      "text/html": [
       "<div>\n",
       "<style scoped>\n",
       "    .dataframe tbody tr th:only-of-type {\n",
       "        vertical-align: middle;\n",
       "    }\n",
       "\n",
       "    .dataframe tbody tr th {\n",
       "        vertical-align: top;\n",
       "    }\n",
       "\n",
       "    .dataframe thead th {\n",
       "        text-align: right;\n",
       "    }\n",
       "</style>\n",
       "<table border=\"1\" class=\"dataframe\">\n",
       "  <thead>\n",
       "    <tr style=\"text-align: right;\">\n",
       "      <th></th>\n",
       "      <th>index</th>\n",
       "      <th>fare_amount</th>\n",
       "      <th>pickup_longitude</th>\n",
       "      <th>pickup_latitude</th>\n",
       "      <th>dropoff_longitude</th>\n",
       "      <th>dropoff_latitude</th>\n",
       "      <th>passenger_count</th>\n",
       "      <th>year</th>\n",
       "      <th>weekday</th>\n",
       "      <th>hour</th>\n",
       "      <th>dist</th>\n",
       "      <th>orig_loc</th>\n",
       "      <th>dest_loc</th>\n",
       "      <th>jfk</th>\n",
       "      <th>newark</th>\n",
       "      <th>weekend</th>\n",
       "      <th>night_time</th>\n",
       "      <th>weekday_rush_hour</th>\n",
       "      <th>adjusted_fare_amount</th>\n",
       "      <th>inversed_adjusted_fare</th>\n",
       "    </tr>\n",
       "  </thead>\n",
       "  <tbody>\n",
       "    <tr>\n",
       "      <th>count</th>\n",
       "      <td>92786.000000</td>\n",
       "      <td>92786.000000</td>\n",
       "      <td>92786.000000</td>\n",
       "      <td>92786.000000</td>\n",
       "      <td>92786.000000</td>\n",
       "      <td>92786.000000</td>\n",
       "      <td>92786.000000</td>\n",
       "      <td>92786.000000</td>\n",
       "      <td>92786.000000</td>\n",
       "      <td>92786.000000</td>\n",
       "      <td>92786.000000</td>\n",
       "      <td>92786.000000</td>\n",
       "      <td>92786.000000</td>\n",
       "      <td>92786.00000</td>\n",
       "      <td>92786.000000</td>\n",
       "      <td>92786.000000</td>\n",
       "      <td>92786.000000</td>\n",
       "      <td>92786.000000</td>\n",
       "      <td>92786.000000</td>\n",
       "      <td>92786.000000</td>\n",
       "    </tr>\n",
       "    <tr>\n",
       "      <th>mean</th>\n",
       "      <td>49958.739476</td>\n",
       "      <td>11.522644</td>\n",
       "      <td>-73.975540</td>\n",
       "      <td>40.750829</td>\n",
       "      <td>-73.974348</td>\n",
       "      <td>40.751228</td>\n",
       "      <td>1.684780</td>\n",
       "      <td>2011.785356</td>\n",
       "      <td>2.977669</td>\n",
       "      <td>12.276738</td>\n",
       "      <td>2.115990</td>\n",
       "      <td>-0.054911</td>\n",
       "      <td>-0.105576</td>\n",
       "      <td>0.01386</td>\n",
       "      <td>0.001239</td>\n",
       "      <td>0.262022</td>\n",
       "      <td>0.278932</td>\n",
       "      <td>0.157244</td>\n",
       "      <td>7.678359</td>\n",
       "      <td>11.522644</td>\n",
       "    </tr>\n",
       "    <tr>\n",
       "      <th>std</th>\n",
       "      <td>28877.939209</td>\n",
       "      <td>9.399189</td>\n",
       "      <td>0.034033</td>\n",
       "      <td>0.026616</td>\n",
       "      <td>0.034061</td>\n",
       "      <td>0.030810</td>\n",
       "      <td>1.302252</td>\n",
       "      <td>1.873453</td>\n",
       "      <td>1.903661</td>\n",
       "      <td>5.823179</td>\n",
       "      <td>2.240544</td>\n",
       "      <td>0.283916</td>\n",
       "      <td>0.339331</td>\n",
       "      <td>0.11691</td>\n",
       "      <td>0.035184</td>\n",
       "      <td>0.439737</td>\n",
       "      <td>0.448477</td>\n",
       "      <td>0.364032</td>\n",
       "      <td>7.928778</td>\n",
       "      <td>9.399189</td>\n",
       "    </tr>\n",
       "    <tr>\n",
       "      <th>min</th>\n",
       "      <td>0.000000</td>\n",
       "      <td>2.900000</td>\n",
       "      <td>-74.122359</td>\n",
       "      <td>40.557018</td>\n",
       "      <td>-74.474595</td>\n",
       "      <td>40.518067</td>\n",
       "      <td>1.000000</td>\n",
       "      <td>2008.000000</td>\n",
       "      <td>0.000000</td>\n",
       "      <td>0.000000</td>\n",
       "      <td>0.000000</td>\n",
       "      <td>-1.000000</td>\n",
       "      <td>-1.000000</td>\n",
       "      <td>0.00000</td>\n",
       "      <td>0.000000</td>\n",
       "      <td>0.000000</td>\n",
       "      <td>0.000000</td>\n",
       "      <td>0.000000</td>\n",
       "      <td>-15.500000</td>\n",
       "      <td>2.900000</td>\n",
       "    </tr>\n",
       "    <tr>\n",
       "      <th>25%</th>\n",
       "      <td>24929.250000</td>\n",
       "      <td>6.100000</td>\n",
       "      <td>-73.992320</td>\n",
       "      <td>40.736548</td>\n",
       "      <td>-73.991418</td>\n",
       "      <td>40.735536</td>\n",
       "      <td>1.000000</td>\n",
       "      <td>2010.000000</td>\n",
       "      <td>1.000000</td>\n",
       "      <td>7.433333</td>\n",
       "      <td>0.815812</td>\n",
       "      <td>0.000000</td>\n",
       "      <td>0.000000</td>\n",
       "      <td>0.00000</td>\n",
       "      <td>0.000000</td>\n",
       "      <td>0.000000</td>\n",
       "      <td>0.000000</td>\n",
       "      <td>0.000000</td>\n",
       "      <td>2.900000</td>\n",
       "      <td>6.100000</td>\n",
       "    </tr>\n",
       "    <tr>\n",
       "      <th>50%</th>\n",
       "      <td>49943.500000</td>\n",
       "      <td>8.500000</td>\n",
       "      <td>-73.982147</td>\n",
       "      <td>40.753405</td>\n",
       "      <td>-73.980521</td>\n",
       "      <td>40.753833</td>\n",
       "      <td>1.000000</td>\n",
       "      <td>2012.000000</td>\n",
       "      <td>3.000000</td>\n",
       "      <td>12.650000</td>\n",
       "      <td>1.382091</td>\n",
       "      <td>0.000000</td>\n",
       "      <td>0.000000</td>\n",
       "      <td>0.00000</td>\n",
       "      <td>0.000000</td>\n",
       "      <td>0.000000</td>\n",
       "      <td>0.000000</td>\n",
       "      <td>0.000000</td>\n",
       "      <td>5.300000</td>\n",
       "      <td>8.500000</td>\n",
       "    </tr>\n",
       "    <tr>\n",
       "      <th>75%</th>\n",
       "      <td>74958.750000</td>\n",
       "      <td>12.900000</td>\n",
       "      <td>-73.968577</td>\n",
       "      <td>40.767481</td>\n",
       "      <td>-73.965486</td>\n",
       "      <td>40.768250</td>\n",
       "      <td>2.000000</td>\n",
       "      <td>2013.000000</td>\n",
       "      <td>5.000000</td>\n",
       "      <td>17.000000</td>\n",
       "      <td>2.497675</td>\n",
       "      <td>0.000000</td>\n",
       "      <td>0.000000</td>\n",
       "      <td>0.00000</td>\n",
       "      <td>0.000000</td>\n",
       "      <td>1.000000</td>\n",
       "      <td>1.000000</td>\n",
       "      <td>0.000000</td>\n",
       "      <td>9.300000</td>\n",
       "      <td>12.900000</td>\n",
       "    </tr>\n",
       "    <tr>\n",
       "      <th>max</th>\n",
       "      <td>99999.000000</td>\n",
       "      <td>165.000000</td>\n",
       "      <td>-73.683717</td>\n",
       "      <td>40.918290</td>\n",
       "      <td>-73.499451</td>\n",
       "      <td>41.147487</td>\n",
       "      <td>6.000000</td>\n",
       "      <td>2015.000000</td>\n",
       "      <td>6.000000</td>\n",
       "      <td>23.983333</td>\n",
       "      <td>28.370615</td>\n",
       "      <td>1.000000</td>\n",
       "      <td>2.000000</td>\n",
       "      <td>1.00000</td>\n",
       "      <td>1.000000</td>\n",
       "      <td>1.000000</td>\n",
       "      <td>1.000000</td>\n",
       "      <td>1.000000</td>\n",
       "      <td>161.700000</td>\n",
       "      <td>165.000000</td>\n",
       "    </tr>\n",
       "  </tbody>\n",
       "</table>\n",
       "</div>"
      ],
      "text/plain": [
       "              index   fare_amount  pickup_longitude  pickup_latitude  \\\n",
       "count  92786.000000  92786.000000      92786.000000     92786.000000   \n",
       "mean   49958.739476     11.522644        -73.975540        40.750829   \n",
       "std    28877.939209      9.399189          0.034033         0.026616   \n",
       "min        0.000000      2.900000        -74.122359        40.557018   \n",
       "25%    24929.250000      6.100000        -73.992320        40.736548   \n",
       "50%    49943.500000      8.500000        -73.982147        40.753405   \n",
       "75%    74958.750000     12.900000        -73.968577        40.767481   \n",
       "max    99999.000000    165.000000        -73.683717        40.918290   \n",
       "\n",
       "       dropoff_longitude  dropoff_latitude  passenger_count          year  \\\n",
       "count       92786.000000      92786.000000     92786.000000  92786.000000   \n",
       "mean          -73.974348         40.751228         1.684780   2011.785356   \n",
       "std             0.034061          0.030810         1.302252      1.873453   \n",
       "min           -74.474595         40.518067         1.000000   2008.000000   \n",
       "25%           -73.991418         40.735536         1.000000   2010.000000   \n",
       "50%           -73.980521         40.753833         1.000000   2012.000000   \n",
       "75%           -73.965486         40.768250         2.000000   2013.000000   \n",
       "max           -73.499451         41.147487         6.000000   2015.000000   \n",
       "\n",
       "            weekday          hour          dist      orig_loc      dest_loc  \\\n",
       "count  92786.000000  92786.000000  92786.000000  92786.000000  92786.000000   \n",
       "mean       2.977669     12.276738      2.115990     -0.054911     -0.105576   \n",
       "std        1.903661      5.823179      2.240544      0.283916      0.339331   \n",
       "min        0.000000      0.000000      0.000000     -1.000000     -1.000000   \n",
       "25%        1.000000      7.433333      0.815812      0.000000      0.000000   \n",
       "50%        3.000000     12.650000      1.382091      0.000000      0.000000   \n",
       "75%        5.000000     17.000000      2.497675      0.000000      0.000000   \n",
       "max        6.000000     23.983333     28.370615      1.000000      2.000000   \n",
       "\n",
       "               jfk        newark       weekend    night_time  \\\n",
       "count  92786.00000  92786.000000  92786.000000  92786.000000   \n",
       "mean       0.01386      0.001239      0.262022      0.278932   \n",
       "std        0.11691      0.035184      0.439737      0.448477   \n",
       "min        0.00000      0.000000      0.000000      0.000000   \n",
       "25%        0.00000      0.000000      0.000000      0.000000   \n",
       "50%        0.00000      0.000000      0.000000      0.000000   \n",
       "75%        0.00000      0.000000      1.000000      1.000000   \n",
       "max        1.00000      1.000000      1.000000      1.000000   \n",
       "\n",
       "       weekday_rush_hour  adjusted_fare_amount  inversed_adjusted_fare  \n",
       "count       92786.000000          92786.000000            92786.000000  \n",
       "mean            0.157244              7.678359               11.522644  \n",
       "std             0.364032              7.928778                9.399189  \n",
       "min             0.000000            -15.500000                2.900000  \n",
       "25%             0.000000              2.900000                6.100000  \n",
       "50%             0.000000              5.300000                8.500000  \n",
       "75%             0.000000              9.300000               12.900000  \n",
       "max             1.000000            161.700000              165.000000  "
      ]
     },
     "execution_count": 31,
     "metadata": {},
     "output_type": "execute_result"
    }
   ],
   "source": [
    "insert_feature(train_df, feature_name='orig_loc', func=from_location)\n",
    "insert_feature(train_df, feature_name='dest_loc', func=to_location)\n",
    "\n",
    "insert_feature(train_df, feature_name='jfk', func=airport_jfk_rule)\n",
    "insert_feature(train_df, feature_name='newark', func=airport_newark_rule)\n",
    "# insert_feature(train_df, feature_name='metered', func=metered_rule)\n",
    "insert_feature(train_df, feature_name='weekend', func=is_weekend)\n",
    "insert_feature(train_df, feature_name='night_time', func=is_night_time)\n",
    "insert_feature(train_df, feature_name='weekday_rush_hour', func=weekday_rush_hour)\n",
    "insert_feature(train_df, feature_name='adjusted_fare_amount', func=normalize_fare)\n",
    "insert_feature(train_df, feature_name='inversed_adjusted_fare', func=inverse_normalize_fare)\n",
    "\n",
    "# print(train_df.loc[train_df.jfk == 1].shape[0] + \\\n",
    "#       train_df.loc[train_df.newark == 1].shape[0] + \\\n",
    "#       train_df.loc[train_df.metered == 1].shape[0])\n",
    "# print(train_df.shape[0])\n",
    "\n",
    "train_df.describe()"
   ]
  },
  {
   "cell_type": "code",
   "execution_count": null,
   "metadata": {},
   "outputs": [],
   "source": []
  },
  {
   "cell_type": "code",
   "execution_count": null,
   "metadata": {},
   "outputs": [],
   "source": [
    "# simple_linear_regression(train_df_wo_jfk, x_feature='dist', y_feature='fare_amount')"
   ]
  },
  {
   "cell_type": "code",
   "execution_count": null,
   "metadata": {
    "scrolled": true
   },
   "outputs": [],
   "source": [
    "# train_df_wo_jfk = train_df.loc[train_df['jfk'] == 0]\n",
    "\n",
    "# regr = simple_linear_regression(train_df_wo_jfk, x_feature='dist', y_feature='adjusted_fare_amount')"
   ]
  },
  {
   "cell_type": "code",
   "execution_count": null,
   "metadata": {},
   "outputs": [],
   "source": [
    "# fare_predict = regr.predict(test_X).round(decimals = 2)\n",
    "\n",
    "# submission = pd.DataFrame({'key': test_df.key,\\\n",
    "#                            'adjuted_fare_amount': fare_predict.ravel()},\\\n",
    "#                           columns = ['key', 'fare_amount'])"
   ]
  },
  {
   "cell_type": "code",
   "execution_count": null,
   "metadata": {},
   "outputs": [],
   "source": [
    "# fig, ax = plt.subplots()\n",
    "# weekdays_df.fare_amount.hist(ax = ax, bottom=0.01)\n",
    "# ax.set_yscale('log')\n",
    "# weekdays_df.weekday.hist(bins=5, grid = False)"
   ]
  },
  {
   "cell_type": "code",
   "execution_count": null,
   "metadata": {},
   "outputs": [],
   "source": [
    "# fig = plt.figure()\n",
    "# plt.hist(weekdays_df.weekday, bins=5)\n",
    "# plt.xticks(range(5))\n",
    "# plt.yscale('log')\n",
    "# plt.show()"
   ]
  },
  {
   "cell_type": "code",
   "execution_count": null,
   "metadata": {},
   "outputs": [],
   "source": []
  },
  {
   "cell_type": "markdown",
   "metadata": {},
   "source": [
    "# Reference\n",
    "\n",
    "other datasets: \n",
    "* Borough Boundaries - https://data.cityofnewyork.us/City-Government/Borough-Boundaries/tqmj-j8zm\n",
    "* Airport Polygons - https://data.cityofnewyork.us/City-Government/Airport-Polygon/xfhz-rhsk\n",
    "* New York City Hourly Traffic Estimates (2010-2013) -\n",
    "https://databank.illinois.edu/datasets/IDB-4900670"
   ]
  },
  {
   "cell_type": "markdown",
   "metadata": {},
   "source": [
    "# JFK \n",
    "\n",
    "---"
   ]
  },
  {
   "cell_type": "markdown",
   "metadata": {},
   "source": [
    "* Travel in JFK (weird case)"
   ]
  },
  {
   "cell_type": "markdown",
   "metadata": {},
   "source": [
    "* TO JFK"
   ]
  },
  {
   "cell_type": "markdown",
   "metadata": {},
   "source": [
    "* FROM JFK"
   ]
  },
  {
   "cell_type": "markdown",
   "metadata": {},
   "source": [
    "* OTHER"
   ]
  },
  {
   "cell_type": "markdown",
   "metadata": {},
   "source": [
    "# From Anywhere to JFK\n",
    "* assume anywhere $\\in$ Manhattan\n",
    "\n",
    "---"
   ]
  },
  {
   "cell_type": "code",
   "execution_count": null,
   "metadata": {},
   "outputs": [],
   "source": [
    "# simple_linear_regression(other_df)\n",
    "# simple_linear_regression(to_jfk_df)\n",
    "# simple_linear_regression(from_jfk_df)\n",
    "# simple_linear_regression(travel_in_jfk_df)"
   ]
  },
  {
   "cell_type": "markdown",
   "metadata": {},
   "source": [
    "# From JFK to Anywhere\n",
    "\n",
    "* assume anywhere $\\in$ Manhattan\n",
    "\n",
    "---"
   ]
  },
  {
   "cell_type": "markdown",
   "metadata": {},
   "source": [
    "# Simple Linear Regression Model"
   ]
  },
  {
   "cell_type": "code",
   "execution_count": null,
   "metadata": {},
   "outputs": [],
   "source": []
  },
  {
   "cell_type": "code",
   "execution_count": null,
   "metadata": {},
   "outputs": [],
   "source": []
  },
  {
   "cell_type": "code",
   "execution_count": null,
   "metadata": {},
   "outputs": [],
   "source": []
  },
  {
   "cell_type": "markdown",
   "metadata": {},
   "source": [
    "# Prediction Baseline"
   ]
  },
  {
   "cell_type": "code",
   "execution_count": 33,
   "metadata": {},
   "outputs": [],
   "source": [
    "TEST_FILE = 'test.csv'\n",
    "test_df = pd.read_csv('./all/test.csv')\n",
    "\n",
    "test_df['pickup_datetime'] = pd.to_datetime(test_df.pickup_datetime, infer_datetime_format = True)\n",
    "\n",
    "\n",
    "insert_est_or_edt_time(test_df)\n",
    "insert_year(test_df)\n",
    "insert_weekday(test_df)\n",
    "insert_time_of_day(test_df)\n",
    "insert_feature(test_df, feature_name = 'dist', func = dist)\n",
    "\n",
    "insert_feature(test_df, feature_name='orig_loc', func=from_location)\n",
    "insert_feature(test_df, feature_name='dest_loc', func=to_location)\n",
    "\n",
    "insert_feature(test_df, feature_name='jfk', func=airport_jfk_rule)\n",
    "insert_feature(test_df, feature_name='newark', func=airport_newark_rule)\n",
    "# insert_feature(train_df, feature_name='metered', func=metered_rule)\n",
    "insert_feature(test_df, feature_name='weekend', func=is_weekend)\n",
    "insert_feature(test_df, feature_name='night_time', func=is_night_time)\n",
    "insert_feature(test_df, feature_name='weekday_rush_hour', func=weekday_rush_hour)\n",
    "# insert_feature(test_df, feature_name='adjusted_fare_amount', func=adjust_fare)\n",
    "# insert_feature(test_df, feature_name='inversed_adjusted_fare', func=inverse_adjusted_fare)"
   ]
  },
  {
   "cell_type": "markdown",
   "metadata": {},
   "source": [
    "# Create Subgroup for Decision Tree\n",
    "\n",
    "* From Manhattan to JFK or From JFK to Manhattan\n",
    "* To Newark\n",
    "* Others"
   ]
  },
  {
   "cell_type": "code",
   "execution_count": 34,
   "metadata": {},
   "outputs": [],
   "source": [
    "train_df_jfk = train_df.loc[train_df['jfk'] == 1]\n",
    "train_df_newark = train_df.loc[train_df['newark'] == 1]\n",
    "train_df_others = train_df.loc[(train_df['jfk'] == 0) & (train_df['newark'] == 0)]\n"
   ]
  },
  {
   "cell_type": "code",
   "execution_count": 35,
   "metadata": {
    "collapsed": true
   },
   "outputs": [
    {
     "name": "stdout",
     "output_type": "stream",
     "text": [
      "size of jfk: 1286\n",
      "Coefficients: \n",
      " [[ 0.20406756]]\n",
      "Mean squared error: 9.17\n",
      "Variance score: 0.03\n"
     ]
    },
    {
     "data": {
      "image/png": "[encoded data removed]",
      "text/plain": [
       "<Figure size 432x288 with 1 Axes>"
      ]
     },
     "metadata": {},
     "output_type": "display_data"
    }
   ],
   "source": [
    "print('size of jfk:', train_df_jfk.shape[0])\n",
    "jfk_regr = simple_linear_regression(train_df_jfk, x_feature='year', y_feature='adjusted_fare_amount')\n",
    "\n",
    "# test_X = list(map(lambda x: [x], list(test_df.dist)))\n",
    "# adjusted_fare_predict = regr.predict(test_X).round(decimals = 2)"
   ]
  },
  {
   "cell_type": "code",
   "execution_count": 40,
   "metadata": {
    "collapsed": true
   },
   "outputs": [
    {
     "name": "stdout",
     "output_type": "stream",
     "text": [
      "size of newark: 115\n",
      "Coefficients: \n",
      " [[ 5.59609945]]\n",
      "Mean squared error: 304.19\n",
      "Variance score: -1.52\n"
     ]
    },
    {
     "data": {
      "image/png": "[encoded data removed]",
      "text/plain": [
       "<Figure size 432x288 with 1 Axes>"
      ]
     },
     "metadata": {},
     "output_type": "display_data"
    },
    {
     "data": {
      "text/html": [
       "<div>\n",
       "<style scoped>\n",
       "    .dataframe tbody tr th:only-of-type {\n",
       "        vertical-align: middle;\n",
       "    }\n",
       "\n",
       "    .dataframe tbody tr th {\n",
       "        vertical-align: top;\n",
       "    }\n",
       "\n",
       "    .dataframe thead th {\n",
       "        text-align: right;\n",
       "    }\n",
       "</style>\n",
       "<table border=\"1\" class=\"dataframe\">\n",
       "  <thead>\n",
       "    <tr style=\"text-align: right;\">\n",
       "      <th></th>\n",
       "      <th>index</th>\n",
       "      <th>fare_amount</th>\n",
       "      <th>pickup_longitude</th>\n",
       "      <th>pickup_latitude</th>\n",
       "      <th>dropoff_longitude</th>\n",
       "      <th>dropoff_latitude</th>\n",
       "      <th>passenger_count</th>\n",
       "      <th>year</th>\n",
       "      <th>weekday</th>\n",
       "      <th>hour</th>\n",
       "      <th>dist</th>\n",
       "      <th>orig_loc</th>\n",
       "      <th>dest_loc</th>\n",
       "      <th>jfk</th>\n",
       "      <th>newark</th>\n",
       "      <th>weekend</th>\n",
       "      <th>night_time</th>\n",
       "      <th>weekday_rush_hour</th>\n",
       "      <th>adjusted_fare_amount</th>\n",
       "      <th>inversed_adjusted_fare</th>\n",
       "    </tr>\n",
       "  </thead>\n",
       "  <tbody>\n",
       "    <tr>\n",
       "      <th>count</th>\n",
       "      <td>115.000000</td>\n",
       "      <td>115.000000</td>\n",
       "      <td>115.000000</td>\n",
       "      <td>115.000000</td>\n",
       "      <td>115.000000</td>\n",
       "      <td>115.000000</td>\n",
       "      <td>115.000000</td>\n",
       "      <td>115.000000</td>\n",
       "      <td>115.000000</td>\n",
       "      <td>115.000000</td>\n",
       "      <td>115.000000</td>\n",
       "      <td>115.000000</td>\n",
       "      <td>115.0</td>\n",
       "      <td>115.0</td>\n",
       "      <td>115.0</td>\n",
       "      <td>115.000000</td>\n",
       "      <td>115.000000</td>\n",
       "      <td>115.000000</td>\n",
       "      <td>115.000000</td>\n",
       "      <td>115.000000</td>\n",
       "    </tr>\n",
       "    <tr>\n",
       "      <th>mean</th>\n",
       "      <td>49579.808696</td>\n",
       "      <td>70.717217</td>\n",
       "      <td>-73.983286</td>\n",
       "      <td>40.749943</td>\n",
       "      <td>-74.178837</td>\n",
       "      <td>40.691762</td>\n",
       "      <td>1.843478</td>\n",
       "      <td>2011.626087</td>\n",
       "      <td>3.182609</td>\n",
       "      <td>8.019275</td>\n",
       "      <td>11.109386</td>\n",
       "      <td>-0.008696</td>\n",
       "      <td>2.0</td>\n",
       "      <td>0.0</td>\n",
       "      <td>1.0</td>\n",
       "      <td>0.313043</td>\n",
       "      <td>0.365217</td>\n",
       "      <td>0.008696</td>\n",
       "      <td>39.078087</td>\n",
       "      <td>70.717217</td>\n",
       "    </tr>\n",
       "    <tr>\n",
       "      <th>std</th>\n",
       "      <td>30491.063184</td>\n",
       "      <td>13.315813</td>\n",
       "      <td>0.029703</td>\n",
       "      <td>0.023847</td>\n",
       "      <td>0.002410</td>\n",
       "      <td>0.002964</td>\n",
       "      <td>1.373887</td>\n",
       "      <td>1.789153</td>\n",
       "      <td>2.032985</td>\n",
       "      <td>4.524955</td>\n",
       "      <td>1.705685</td>\n",
       "      <td>0.209245</td>\n",
       "      <td>0.0</td>\n",
       "      <td>0.0</td>\n",
       "      <td>0.0</td>\n",
       "      <td>0.465761</td>\n",
       "      <td>0.483598</td>\n",
       "      <td>0.093250</td>\n",
       "      <td>12.731894</td>\n",
       "      <td>13.315813</td>\n",
       "    </tr>\n",
       "    <tr>\n",
       "      <th>min</th>\n",
       "      <td>1709.000000</td>\n",
       "      <td>37.700000</td>\n",
       "      <td>-74.016890</td>\n",
       "      <td>40.643833</td>\n",
       "      <td>-74.184050</td>\n",
       "      <td>40.687672</td>\n",
       "      <td>1.000000</td>\n",
       "      <td>2009.000000</td>\n",
       "      <td>0.000000</td>\n",
       "      <td>0.166667</td>\n",
       "      <td>8.598626</td>\n",
       "      <td>-1.000000</td>\n",
       "      <td>2.0</td>\n",
       "      <td>0.0</td>\n",
       "      <td>1.0</td>\n",
       "      <td>0.000000</td>\n",
       "      <td>0.000000</td>\n",
       "      <td>0.000000</td>\n",
       "      <td>7.100000</td>\n",
       "      <td>37.700000</td>\n",
       "    </tr>\n",
       "    <tr>\n",
       "      <th>25%</th>\n",
       "      <td>20456.500000</td>\n",
       "      <td>60.700000</td>\n",
       "      <td>-73.994909</td>\n",
       "      <td>40.738767</td>\n",
       "      <td>-74.181432</td>\n",
       "      <td>40.688793</td>\n",
       "      <td>1.000000</td>\n",
       "      <td>2010.000000</td>\n",
       "      <td>1.500000</td>\n",
       "      <td>4.466667</td>\n",
       "      <td>10.205810</td>\n",
       "      <td>0.000000</td>\n",
       "      <td>2.0</td>\n",
       "      <td>0.0</td>\n",
       "      <td>1.0</td>\n",
       "      <td>0.000000</td>\n",
       "      <td>0.000000</td>\n",
       "      <td>0.000000</td>\n",
       "      <td>29.600000</td>\n",
       "      <td>60.700000</td>\n",
       "    </tr>\n",
       "    <tr>\n",
       "      <th>50%</th>\n",
       "      <td>47221.000000</td>\n",
       "      <td>68.800000</td>\n",
       "      <td>-73.985228</td>\n",
       "      <td>40.753523</td>\n",
       "      <td>-74.177521</td>\n",
       "      <td>40.691075</td>\n",
       "      <td>1.000000</td>\n",
       "      <td>2012.000000</td>\n",
       "      <td>3.000000</td>\n",
       "      <td>9.300000</td>\n",
       "      <td>10.984890</td>\n",
       "      <td>0.000000</td>\n",
       "      <td>2.0</td>\n",
       "      <td>0.0</td>\n",
       "      <td>1.0</td>\n",
       "      <td>0.000000</td>\n",
       "      <td>0.000000</td>\n",
       "      <td>0.000000</td>\n",
       "      <td>38.200000</td>\n",
       "      <td>68.800000</td>\n",
       "    </tr>\n",
       "    <tr>\n",
       "      <th>75%</th>\n",
       "      <td>74696.000000</td>\n",
       "      <td>79.000000</td>\n",
       "      <td>-73.978472</td>\n",
       "      <td>40.763261</td>\n",
       "      <td>-74.177259</td>\n",
       "      <td>40.695069</td>\n",
       "      <td>2.000000</td>\n",
       "      <td>2013.000000</td>\n",
       "      <td>5.000000</td>\n",
       "      <td>11.033333</td>\n",
       "      <td>11.643698</td>\n",
       "      <td>0.000000</td>\n",
       "      <td>2.0</td>\n",
       "      <td>0.0</td>\n",
       "      <td>1.0</td>\n",
       "      <td>1.000000</td>\n",
       "      <td>1.000000</td>\n",
       "      <td>0.000000</td>\n",
       "      <td>46.600000</td>\n",
       "      <td>79.000000</td>\n",
       "    </tr>\n",
       "    <tr>\n",
       "      <th>max</th>\n",
       "      <td>99669.000000</td>\n",
       "      <td>145.830000</td>\n",
       "      <td>-73.781842</td>\n",
       "      <td>40.805994</td>\n",
       "      <td>-74.176633</td>\n",
       "      <td>40.695660</td>\n",
       "      <td>6.000000</td>\n",
       "      <td>2015.000000</td>\n",
       "      <td>6.000000</td>\n",
       "      <td>23.983333</td>\n",
       "      <td>21.036558</td>\n",
       "      <td>1.000000</td>\n",
       "      <td>2.0</td>\n",
       "      <td>0.0</td>\n",
       "      <td>1.0</td>\n",
       "      <td>1.000000</td>\n",
       "      <td>1.000000</td>\n",
       "      <td>1.000000</td>\n",
       "      <td>112.730000</td>\n",
       "      <td>145.830000</td>\n",
       "    </tr>\n",
       "  </tbody>\n",
       "</table>\n",
       "</div>"
      ],
      "text/plain": [
       "              index  fare_amount  pickup_longitude  pickup_latitude  \\\n",
       "count    115.000000   115.000000        115.000000       115.000000   \n",
       "mean   49579.808696    70.717217        -73.983286        40.749943   \n",
       "std    30491.063184    13.315813          0.029703         0.023847   \n",
       "min     1709.000000    37.700000        -74.016890        40.643833   \n",
       "25%    20456.500000    60.700000        -73.994909        40.738767   \n",
       "50%    47221.000000    68.800000        -73.985228        40.753523   \n",
       "75%    74696.000000    79.000000        -73.978472        40.763261   \n",
       "max    99669.000000   145.830000        -73.781842        40.805994   \n",
       "\n",
       "       dropoff_longitude  dropoff_latitude  passenger_count         year  \\\n",
       "count         115.000000        115.000000       115.000000   115.000000   \n",
       "mean          -74.178837         40.691762         1.843478  2011.626087   \n",
       "std             0.002410          0.002964         1.373887     1.789153   \n",
       "min           -74.184050         40.687672         1.000000  2009.000000   \n",
       "25%           -74.181432         40.688793         1.000000  2010.000000   \n",
       "50%           -74.177521         40.691075         1.000000  2012.000000   \n",
       "75%           -74.177259         40.695069         2.000000  2013.000000   \n",
       "max           -74.176633         40.695660         6.000000  2015.000000   \n",
       "\n",
       "          weekday        hour        dist    orig_loc  dest_loc    jfk  \\\n",
       "count  115.000000  115.000000  115.000000  115.000000     115.0  115.0   \n",
       "mean     3.182609    8.019275   11.109386   -0.008696       2.0    0.0   \n",
       "std      2.032985    4.524955    1.705685    0.209245       0.0    0.0   \n",
       "min      0.000000    0.166667    8.598626   -1.000000       2.0    0.0   \n",
       "25%      1.500000    4.466667   10.205810    0.000000       2.0    0.0   \n",
       "50%      3.000000    9.300000   10.984890    0.000000       2.0    0.0   \n",
       "75%      5.000000   11.033333   11.643698    0.000000       2.0    0.0   \n",
       "max      6.000000   23.983333   21.036558    1.000000       2.0    0.0   \n",
       "\n",
       "       newark     weekend  night_time  weekday_rush_hour  \\\n",
       "count   115.0  115.000000  115.000000         115.000000   \n",
       "mean      1.0    0.313043    0.365217           0.008696   \n",
       "std       0.0    0.465761    0.483598           0.093250   \n",
       "min       1.0    0.000000    0.000000           0.000000   \n",
       "25%       1.0    0.000000    0.000000           0.000000   \n",
       "50%       1.0    0.000000    0.000000           0.000000   \n",
       "75%       1.0    1.000000    1.000000           0.000000   \n",
       "max       1.0    1.000000    1.000000           1.000000   \n",
       "\n",
       "       adjusted_fare_amount  inversed_adjusted_fare  \n",
       "count            115.000000              115.000000  \n",
       "mean              39.078087               70.717217  \n",
       "std               12.731894               13.315813  \n",
       "min                7.100000               37.700000  \n",
       "25%               29.600000               60.700000  \n",
       "50%               38.200000               68.800000  \n",
       "75%               46.600000               79.000000  \n",
       "max              112.730000              145.830000  "
      ]
     },
     "execution_count": 40,
     "metadata": {},
     "output_type": "execute_result"
    }
   ],
   "source": [
    "print('size of newark:', train_df_newark.shape[0])\n",
    "newark_regr = simple_linear_regression(train_df_newark, x_feature='dist', y_feature='adjusted_fare_amount')\n",
    "train_df_newark.describe()"
   ]
  },
  {
   "cell_type": "code",
   "execution_count": 42,
   "metadata": {
    "collapsed": true
   },
   "outputs": [
    {
     "name": "stdout",
     "output_type": "stream",
     "text": [
      "Coefficients: \n",
      " [[ 4.92255237]]\n",
      "Mean squared error: 687.65\n",
      "Variance score: -5.02\n"
     ]
    },
    {
     "data": {
      "image/png": "[encoded data removed]",
      "text/plain": [
       "<Figure size 432x288 with 1 Axes>"
      ]
     },
     "metadata": {},
     "output_type": "display_data"
    },
    {
     "name": "stdout",
     "output_type": "stream",
     "text": [
      "Coefficients: \n",
      " [[-3.84207534]]\n",
      "Mean squared error: 101.09\n",
      "Variance score: -1.45\n"
     ]
    },
    {
     "data": {
      "image/png": "[encoded data removed]",
      "text/plain": [
       "<Figure size 432x288 with 1 Axes>"
      ]
     },
     "metadata": {},
     "output_type": "display_data"
    },
    {
     "name": "stdout",
     "output_type": "stream",
     "text": [
      "Coefficients: \n",
      " [[-0.31313786]]\n",
      "Mean squared error: 97.30\n",
      "Variance score: -1.02\n"
     ]
    },
    {
     "data": {
      "image/png": "[encoded data removed]",
      "text/plain": [
       "<Figure size 432x288 with 1 Axes>"
      ]
     },
     "metadata": {},
     "output_type": "display_data"
    },
    {
     "name": "stdout",
     "output_type": "stream",
     "text": [
      "Coefficients: \n",
      " [[ 5.54543082]]\n",
      "Mean squared error: 118.92\n",
      "Variance score: 0.17\n"
     ]
    },
    {
     "data": {
      "image/png": "[encoded data removed]",
      "text/plain": [
       "<Figure size 432x288 with 1 Axes>"
      ]
     },
     "metadata": {},
     "output_type": "display_data"
    },
    {
     "name": "stdout",
     "output_type": "stream",
     "text": [
      "Coefficients: \n",
      " [[ 5.60721123]]\n",
      "Mean squared error: 29.01\n",
      "Variance score: -0.09\n"
     ]
    },
    {
     "data": {
      "image/png": "[encoded data removed]",
      "text/plain": [
       "<Figure size 432x288 with 1 Axes>"
      ]
     },
     "metadata": {},
     "output_type": "display_data"
    },
    {
     "name": "stdout",
     "output_type": "stream",
     "text": [
      "Coefficients: \n",
      " [[ 5.18613337]]\n",
      "Mean squared error: 32.56\n",
      "Variance score: -1.66\n"
     ]
    },
    {
     "data": {
      "image/png": "[encoded data removed]",
      "text/plain": [
       "<Figure size 432x288 with 1 Axes>"
      ]
     },
     "metadata": {},
     "output_type": "display_data"
    },
    {
     "name": "stdout",
     "output_type": "stream",
     "text": [
      "Coefficients: \n",
      " [[-2.90009416]]\n",
      "Mean squared error: 4059.68\n",
      "Variance score: -2.40\n"
     ]
    },
    {
     "data": {
      "image/png": "[encoded data removed]",
      "text/plain": [
       "<Figure size 432x288 with 1 Axes>"
      ]
     },
     "metadata": {},
     "output_type": "display_data"
    }
   ],
   "source": [
    "years = [year for year in range(2009, 2016)]\n",
    "newark_regr = {}\n",
    "\n",
    "for year in years:\n",
    "    newark_regr[year] = simple_linear_regression(train_df_newark.loc[train_df_newark.year == year], x_feature='dist', y_feature='fare_amount')"
   ]
  },
  {
   "cell_type": "code",
   "execution_count": 41,
   "metadata": {
    "collapsed": true
   },
   "outputs": [
    {
     "name": "stdout",
     "output_type": "stream",
     "text": [
      "Coefficients: \n",
      " [[-0.78727597]]\n",
      "Mean squared error: 124.04\n",
      "Variance score: -0.54\n"
     ]
    },
    {
     "data": {
      "image/png": "[encoded data removed]",
      "text/plain": [
       "<Figure size 432x288 with 1 Axes>"
      ]
     },
     "metadata": {},
     "output_type": "display_data"
    },
    {
     "ename": "TypeError",
     "evalue": "'LinearRegression' object does not support item assignment",
     "output_type": "error",
     "traceback": [
      "\u001b[0;31m---------------------------------------------------------------------------\u001b[0m",
      "\u001b[0;31mTypeError\u001b[0m                                 Traceback (most recent call last)",
      "\u001b[0;32m<ipython-input-41-939de31dce3e>\u001b[0m in \u001b[0;36m<module>\u001b[0;34m()\u001b[0m\n\u001b[1;32m      1\u001b[0m \u001b[0;32mfor\u001b[0m \u001b[0myear\u001b[0m \u001b[0;32min\u001b[0m \u001b[0myears\u001b[0m\u001b[0;34m:\u001b[0m\u001b[0;34m\u001b[0m\u001b[0m\n\u001b[0;32m----> 2\u001b[0;31m     \u001b[0mnewark_regr\u001b[0m\u001b[0;34m[\u001b[0m\u001b[0myear\u001b[0m\u001b[0;34m]\u001b[0m \u001b[0;34m=\u001b[0m \u001b[0msimple_linear_regression\u001b[0m\u001b[0;34m(\u001b[0m\u001b[0mtrain_df_newark\u001b[0m\u001b[0;34m.\u001b[0m\u001b[0mloc\u001b[0m\u001b[0;34m[\u001b[0m\u001b[0mtrain_df_newark\u001b[0m\u001b[0;34m.\u001b[0m\u001b[0myear\u001b[0m \u001b[0;34m==\u001b[0m \u001b[0myear\u001b[0m\u001b[0;34m]\u001b[0m\u001b[0;34m,\u001b[0m \u001b[0mx_feature\u001b[0m\u001b[0;34m=\u001b[0m\u001b[0;34m'dist'\u001b[0m\u001b[0;34m,\u001b[0m \u001b[0my_feature\u001b[0m\u001b[0;34m=\u001b[0m\u001b[0;34m'adjusted_fare_amount'\u001b[0m\u001b[0;34m)\u001b[0m\u001b[0;34m\u001b[0m\u001b[0m\n\u001b[0m",
      "\u001b[0;31mTypeError\u001b[0m: 'LinearRegression' object does not support item assignment"
     ]
    }
   ],
   "source": [
    "for year in years:\n",
    "    newark_regr[year] = simple_linear_regression(train_df_newark.loc[train_df_newark.year == year], x_feature='dist', y_feature='adjusted_fare_amount')\n"
   ]
  },
  {
   "cell_type": "code",
   "execution_count": null,
   "metadata": {},
   "outputs": [],
   "source": [
    "# other_regr = simple_linear_regression(train_df_others.loc[train_df_others.year == 2009], x_feature='dist', y_feature='adjusted_fare_amount')\n",
    "# other_regr = simple_linear_regression(train_df_others.loc[train_df_others.year == 2010], x_feature='dist', y_feature='adjusted_fare_amount')\n",
    "# other_regr = simple_linear_regression(train_df_others.loc[train_df_others.year == 2011], x_feature='dist', y_feature='adjusted_fare_amount')\n",
    "# other_regr = simple_linear_regression(train_df_others.loc[train_df_others.year == 2012], x_feature='dist', y_feature='adjusted_fare_amount')\n",
    "# other_regr = simple_linear_regression(train_df_others.loc[train_df_others.year == 2013], x_feature='dist', y_feature='adjusted_fare_amount')\n",
    "# other_regr = simple_linear_regression(train_df_others.loc[train_df_others.year == 2014], x_feature='dist', y_feature='adjusted_fare_amount')\n",
    "# other_regr = simple_linear_regression(train_df_others.loc[train_df_others.year == 2015], x_feature='dist', y_feature='adjusted_fare_amount')"
   ]
  },
  {
   "cell_type": "code",
   "execution_count": 39,
   "metadata": {
    "collapsed": true
   },
   "outputs": [
    {
     "name": "stdout",
     "output_type": "stream",
     "text": [
      "Coefficients: \n",
      " [[ 3.32218908]]\n",
      "Mean squared error: 7.60\n",
      "Variance score: 0.81\n"
     ]
    },
    {
     "data": {
      "image/png": "[encoded data removed]",
      "text/plain": [
       "<Figure size 432x288 with 1 Axes>"
      ]
     },
     "metadata": {},
     "output_type": "display_data"
    },
    {
     "name": "stdout",
     "output_type": "stream",
     "text": [
      "Coefficients: \n",
      " [[ 3.27199533]]\n",
      "Mean squared error: 12.09\n",
      "Variance score: 0.74\n"
     ]
    },
    {
     "data": {
      "image/png": "[encoded data removed]",
      "text/plain": [
       "<Figure size 432x288 with 1 Axes>"
      ]
     },
     "metadata": {},
     "output_type": "display_data"
    },
    {
     "name": "stdout",
     "output_type": "stream",
     "text": [
      "Coefficients: \n",
      " [[ 3.39375596]]\n",
      "Mean squared error: 8.11\n",
      "Variance score: 0.82\n"
     ]
    },
    {
     "data": {
      "image/png": "[encoded data removed]",
      "text/plain": [
       "<Figure size 432x288 with 1 Axes>"
      ]
     },
     "metadata": {},
     "output_type": "display_data"
    },
    {
     "name": "stdout",
     "output_type": "stream",
     "text": [
      "Coefficients: \n",
      " [[ 3.6240997]]\n",
      "Mean squared error: 13.60\n",
      "Variance score: 0.78\n"
     ]
    },
    {
     "data": {
      "image/png": "[encoded data removed]",
      "text/plain": [
       "<Figure size 432x288 with 1 Axes>"
      ]
     },
     "metadata": {},
     "output_type": "display_data"
    },
    {
     "name": "stdout",
     "output_type": "stream",
     "text": [
      "Coefficients: \n",
      " [[ 4.15523839]]\n",
      "Mean squared error: 14.95\n",
      "Variance score: 0.79\n"
     ]
    },
    {
     "data": {
      "image/png": "[encoded data removed]",
      "text/plain": [
       "<Figure size 432x288 with 1 Axes>"
      ]
     },
     "metadata": {},
     "output_type": "display_data"
    },
    {
     "name": "stdout",
     "output_type": "stream",
     "text": [
      "Coefficients: \n",
      " [[ 4.25064253]]\n",
      "Mean squared error: 19.98\n",
      "Variance score: 0.75\n"
     ]
    },
    {
     "data": {
      "image/png": "[encoded data removed]",
      "text/plain": [
       "<Figure size 432x288 with 1 Axes>"
      ]
     },
     "metadata": {},
     "output_type": "display_data"
    },
    {
     "name": "stdout",
     "output_type": "stream",
     "text": [
      "Coefficients: \n",
      " [[ 4.372365]]\n",
      "Mean squared error: 13.38\n",
      "Variance score: 0.84\n"
     ]
    },
    {
     "data": {
      "image/png": "[encoded data removed]",
      "text/plain": [
       "<Figure size 432x288 with 1 Axes>"
      ]
     },
     "metadata": {},
     "output_type": "display_data"
    }
   ],
   "source": [
    "others_regr = {}\n",
    "for year in years:\n",
    "    others_regr[year] = simple_linear_regression(train_df_others.loc[train_df_others.year == year], x_feature='dist', y_feature='adjusted_fare_amount')\n"
   ]
  },
  {
   "cell_type": "code",
   "execution_count": 43,
   "metadata": {},
   "outputs": [],
   "source": [
    "def yearly_regression(row_data, newark_regr = newark_regr, others_regr = others_regr):\n",
    "#     if row_data['newark'] == 1:\n",
    "#         return newark_regr[row_data['year']].predict(row_data['dist']).round(decimals = 2)[0][0]\n",
    "#     else:\n",
    "    return others_regr[row_data['year']].predict(row_data['dist']).round(decimals = 2)[0][0]"
   ]
  },
  {
   "cell_type": "code",
   "execution_count": null,
   "metadata": {},
   "outputs": [],
   "source": [
    "type(fare_predict)"
   ]
  },
  {
   "cell_type": "code",
   "execution_count": 44,
   "metadata": {},
   "outputs": [],
   "source": [
    "adjusted_fare_predict = test_df.apply(yearly_regression, axis = 1)"
   ]
  },
  {
   "cell_type": "code",
   "execution_count": 45,
   "metadata": {},
   "outputs": [
    {
     "data": {
      "text/plain": [
       "numpy.ndarray"
      ]
     },
     "execution_count": 45,
     "metadata": {},
     "output_type": "execute_result"
    }
   ],
   "source": [
    "type(adjusted_fare_predict.values)"
   ]
  },
  {
   "cell_type": "code",
   "execution_count": null,
   "metadata": {
    "scrolled": true
   },
   "outputs": [],
   "source": [
    "newark_regr"
   ]
  },
  {
   "cell_type": "code",
   "execution_count": null,
   "metadata": {},
   "outputs": [],
   "source": [
    "test1_df = test_df[:]"
   ]
  },
  {
   "cell_type": "code",
   "execution_count": 46,
   "metadata": {},
   "outputs": [],
   "source": [
    "test_df.insert(test_df.shape[1], 'adjusted_fare_amount', adjusted_fare_predict.values)"
   ]
  },
  {
   "cell_type": "code",
   "execution_count": 47,
   "metadata": {},
   "outputs": [],
   "source": [
    "insert_feature(test_df, feature_name='fare_amount', func=inverse_normalize_fare)"
   ]
  },
  {
   "cell_type": "code",
   "execution_count": 48,
   "metadata": {},
   "outputs": [
    {
     "data": {
      "text/html": [
       "<div>\n",
       "<style scoped>\n",
       "    .dataframe tbody tr th:only-of-type {\n",
       "        vertical-align: middle;\n",
       "    }\n",
       "\n",
       "    .dataframe tbody tr th {\n",
       "        vertical-align: top;\n",
       "    }\n",
       "\n",
       "    .dataframe thead th {\n",
       "        text-align: right;\n",
       "    }\n",
       "</style>\n",
       "<table border=\"1\" class=\"dataframe\">\n",
       "  <thead>\n",
       "    <tr style=\"text-align: right;\">\n",
       "      <th></th>\n",
       "      <th>key</th>\n",
       "      <th>pickup_datetime</th>\n",
       "      <th>pickup_longitude</th>\n",
       "      <th>pickup_latitude</th>\n",
       "      <th>dropoff_longitude</th>\n",
       "      <th>dropoff_latitude</th>\n",
       "      <th>passenger_count</th>\n",
       "      <th>new_york_time</th>\n",
       "      <th>year</th>\n",
       "      <th>weekday</th>\n",
       "      <th>...</th>\n",
       "      <th>dist</th>\n",
       "      <th>orig_loc</th>\n",
       "      <th>dest_loc</th>\n",
       "      <th>jfk</th>\n",
       "      <th>newark</th>\n",
       "      <th>weekend</th>\n",
       "      <th>night_time</th>\n",
       "      <th>weekday_rush_hour</th>\n",
       "      <th>adjusted_fare_amount</th>\n",
       "      <th>fare_amount</th>\n",
       "    </tr>\n",
       "  </thead>\n",
       "  <tbody>\n",
       "    <tr>\n",
       "      <th>0</th>\n",
       "      <td>2015-01-27 13:08:24.0000002</td>\n",
       "      <td>2015-01-27 13:08:24</td>\n",
       "      <td>-73.973320</td>\n",
       "      <td>40.763805</td>\n",
       "      <td>-73.981430</td>\n",
       "      <td>40.743835</td>\n",
       "      <td>1</td>\n",
       "      <td>2015-01-27 08:08:24-05:00</td>\n",
       "      <td>2015</td>\n",
       "      <td>1</td>\n",
       "      <td>...</td>\n",
       "      <td>1.444059</td>\n",
       "      <td>0</td>\n",
       "      <td>0</td>\n",
       "      <td>0</td>\n",
       "      <td>0</td>\n",
       "      <td>0</td>\n",
       "      <td>0</td>\n",
       "      <td>0</td>\n",
       "      <td>6.90</td>\n",
       "      <td>9.70</td>\n",
       "    </tr>\n",
       "    <tr>\n",
       "      <th>1</th>\n",
       "      <td>2015-01-27 13:08:24.0000003</td>\n",
       "      <td>2015-01-27 13:08:24</td>\n",
       "      <td>-73.986862</td>\n",
       "      <td>40.719383</td>\n",
       "      <td>-73.998886</td>\n",
       "      <td>40.739201</td>\n",
       "      <td>1</td>\n",
       "      <td>2015-01-27 08:08:24-05:00</td>\n",
       "      <td>2015</td>\n",
       "      <td>1</td>\n",
       "      <td>...</td>\n",
       "      <td>1.507517</td>\n",
       "      <td>0</td>\n",
       "      <td>0</td>\n",
       "      <td>0</td>\n",
       "      <td>0</td>\n",
       "      <td>0</td>\n",
       "      <td>0</td>\n",
       "      <td>0</td>\n",
       "      <td>7.18</td>\n",
       "      <td>9.98</td>\n",
       "    </tr>\n",
       "    <tr>\n",
       "      <th>2</th>\n",
       "      <td>2011-10-08 11:53:44.0000002</td>\n",
       "      <td>2011-10-08 11:53:44</td>\n",
       "      <td>-73.982524</td>\n",
       "      <td>40.751260</td>\n",
       "      <td>-73.979654</td>\n",
       "      <td>40.746139</td>\n",
       "      <td>1</td>\n",
       "      <td>2011-10-08 07:53:44-04:00</td>\n",
       "      <td>2011</td>\n",
       "      <td>5</td>\n",
       "      <td>...</td>\n",
       "      <td>0.384518</td>\n",
       "      <td>0</td>\n",
       "      <td>0</td>\n",
       "      <td>0</td>\n",
       "      <td>0</td>\n",
       "      <td>1</td>\n",
       "      <td>0</td>\n",
       "      <td>0</td>\n",
       "      <td>1.59</td>\n",
       "      <td>4.39</td>\n",
       "    </tr>\n",
       "    <tr>\n",
       "      <th>3</th>\n",
       "      <td>2012-12-01 21:12:12.0000002</td>\n",
       "      <td>2012-12-01 21:12:12</td>\n",
       "      <td>-73.981160</td>\n",
       "      <td>40.767807</td>\n",
       "      <td>-73.990448</td>\n",
       "      <td>40.751635</td>\n",
       "      <td>1</td>\n",
       "      <td>2012-12-01 16:12:12-05:00</td>\n",
       "      <td>2012</td>\n",
       "      <td>5</td>\n",
       "      <td>...</td>\n",
       "      <td>1.218911</td>\n",
       "      <td>0</td>\n",
       "      <td>0</td>\n",
       "      <td>0</td>\n",
       "      <td>0</td>\n",
       "      <td>1</td>\n",
       "      <td>0</td>\n",
       "      <td>0</td>\n",
       "      <td>4.82</td>\n",
       "      <td>7.62</td>\n",
       "    </tr>\n",
       "    <tr>\n",
       "      <th>4</th>\n",
       "      <td>2012-12-01 21:12:12.0000003</td>\n",
       "      <td>2012-12-01 21:12:12</td>\n",
       "      <td>-73.966046</td>\n",
       "      <td>40.789775</td>\n",
       "      <td>-73.988565</td>\n",
       "      <td>40.744427</td>\n",
       "      <td>1</td>\n",
       "      <td>2012-12-01 16:12:12-05:00</td>\n",
       "      <td>2012</td>\n",
       "      <td>5</td>\n",
       "      <td>...</td>\n",
       "      <td>3.348564</td>\n",
       "      <td>0</td>\n",
       "      <td>0</td>\n",
       "      <td>0</td>\n",
       "      <td>0</td>\n",
       "      <td>1</td>\n",
       "      <td>0</td>\n",
       "      <td>0</td>\n",
       "      <td>12.54</td>\n",
       "      <td>15.34</td>\n",
       "    </tr>\n",
       "  </tbody>\n",
       "</table>\n",
       "<p>5 rows × 21 columns</p>\n",
       "</div>"
      ],
      "text/plain": [
       "                           key     pickup_datetime  pickup_longitude  \\\n",
       "0  2015-01-27 13:08:24.0000002 2015-01-27 13:08:24        -73.973320   \n",
       "1  2015-01-27 13:08:24.0000003 2015-01-27 13:08:24        -73.986862   \n",
       "2  2011-10-08 11:53:44.0000002 2011-10-08 11:53:44        -73.982524   \n",
       "3  2012-12-01 21:12:12.0000002 2012-12-01 21:12:12        -73.981160   \n",
       "4  2012-12-01 21:12:12.0000003 2012-12-01 21:12:12        -73.966046   \n",
       "\n",
       "   pickup_latitude  dropoff_longitude  dropoff_latitude  passenger_count  \\\n",
       "0        40.763805         -73.981430         40.743835                1   \n",
       "1        40.719383         -73.998886         40.739201                1   \n",
       "2        40.751260         -73.979654         40.746139                1   \n",
       "3        40.767807         -73.990448         40.751635                1   \n",
       "4        40.789775         -73.988565         40.744427                1   \n",
       "\n",
       "              new_york_time  year  weekday     ...           dist  orig_loc  \\\n",
       "0 2015-01-27 08:08:24-05:00  2015        1     ...       1.444059         0   \n",
       "1 2015-01-27 08:08:24-05:00  2015        1     ...       1.507517         0   \n",
       "2 2011-10-08 07:53:44-04:00  2011        5     ...       0.384518         0   \n",
       "3 2012-12-01 16:12:12-05:00  2012        5     ...       1.218911         0   \n",
       "4 2012-12-01 16:12:12-05:00  2012        5     ...       3.348564         0   \n",
       "\n",
       "   dest_loc  jfk  newark  weekend  night_time  weekday_rush_hour  \\\n",
       "0         0    0       0        0           0                  0   \n",
       "1         0    0       0        0           0                  0   \n",
       "2         0    0       0        1           0                  0   \n",
       "3         0    0       0        1           0                  0   \n",
       "4         0    0       0        1           0                  0   \n",
       "\n",
       "   adjusted_fare_amount  fare_amount  \n",
       "0                  6.90         9.70  \n",
       "1                  7.18         9.98  \n",
       "2                  1.59         4.39  \n",
       "3                  4.82         7.62  \n",
       "4                 12.54        15.34  \n",
       "\n",
       "[5 rows x 21 columns]"
      ]
     },
     "execution_count": 48,
     "metadata": {},
     "output_type": "execute_result"
    }
   ],
   "source": [
    "test_df.head()"
   ]
  },
  {
   "cell_type": "code",
   "execution_count": 49,
   "metadata": {},
   "outputs": [],
   "source": [
    "PATH = './all/'\n",
    "file = PATH + 'submission-' + str(ROWS) + '.csv'\n",
    "submission = pd.DataFrame({'key': test_df.key,\\\n",
    "                           'fare_amount': test_df.fare_amount},\\\n",
    "                          columns = ['key', 'fare_amount'])\n",
    "submission.to_csv(file, index = False)\n"
   ]
  },
  {
   "cell_type": "code",
   "execution_count": null,
   "metadata": {},
   "outputs": [],
   "source": [
    "submission.shape"
   ]
  },
  {
   "cell_type": "code",
   "execution_count": null,
   "metadata": {},
   "outputs": [],
   "source": [
    "file = PATH + 'submission-' + str(ROWS) + '.csv'"
   ]
  },
  {
   "cell_type": "code",
   "execution_count": null,
   "metadata": {},
   "outputs": [],
   "source": [
    "train_df.loc[(train_df.jfk == 1)].describe()"
   ]
  },
  {
   "cell_type": "code",
   "execution_count": null,
   "metadata": {},
   "outputs": [],
   "source": [
    "weekday_rush_df = train_df_wo_jfk.loc[filter_traffic_rush_hour(train_df_wo_jfk)]"
   ]
  },
  {
   "cell_type": "code",
   "execution_count": null,
   "metadata": {},
   "outputs": [],
   "source": [
    "simple_linear_regression(weekday_rush_df, 'dist', 'adjusted_fare_amount')\n",
    "# test_df_dist = test_df.apply(dist, axis=1)\n",
    "# test_df.insert(test_df.shape[1], 'dist', test_df_dist)"
   ]
  },
  {
   "cell_type": "code",
   "execution_count": null,
   "metadata": {},
   "outputs": [],
   "source": [
    "# test_X = list(map(lambda x: [x], list(test_df.dist)))"
   ]
  },
  {
   "cell_type": "code",
   "execution_count": null,
   "metadata": {},
   "outputs": [],
   "source": [
    "# fare_predict = regr.predict(test_X).round(decimals = 2)"
   ]
  },
  {
   "cell_type": "code",
   "execution_count": null,
   "metadata": {},
   "outputs": [],
   "source": [
    "test_df.head()"
   ]
  },
  {
   "cell_type": "markdown",
   "metadata": {},
   "source": [
    "# Create submission file"
   ]
  },
  {
   "cell_type": "code",
   "execution_count": null,
   "metadata": {},
   "outputs": [],
   "source": [
    "# submission = pd.DataFrame({'key': test_df.key,\\\n",
    "#                            'fare_amount': fare_predict.ravel()},\\\n",
    "#                           columns = ['key', 'fare_amount'])\n",
    "# submission.to_csv('submission.csv', index = False)\n"
   ]
  },
  {
   "cell_type": "code",
   "execution_count": null,
   "metadata": {},
   "outputs": [],
   "source": [
    "# submission.shape"
   ]
  },
  {
   "cell_type": "markdown",
   "metadata": {},
   "source": [
    "# Extra Features \n",
    "## By year\n",
    "## By weekday\n",
    "## By time_of_day (hour)"
   ]
  },
  {
   "cell_type": "markdown",
   "metadata": {},
   "source": [
    "## Extra Features - Adjusted_Fare_Amount_By_Rules"
   ]
  },
  {
   "cell_type": "code",
   "execution_count": null,
   "metadata": {},
   "outputs": [],
   "source": [
    "test_df_jfk = test_df.loc[test_df.jfk == 1]\n",
    "test_df_newark = test_df.loc[test_df.newark == 1]\n",
    "test_df_others = test_df.loc[(test_df.jfk == 0) & (test_df.newark == 0)]\n",
    "test_weird_1 = test_df.loc[(test_df.orig_loc == -1) & (test_df.dest_loc == 2)]"
   ]
  },
  {
   "cell_type": "code",
   "execution_count": null,
   "metadata": {},
   "outputs": [],
   "source": [
    "print(test_df_jfk.shape[0])\n",
    "print(test_df_newark.shape[0])\n",
    "print(test_df_others.shape[0])\n",
    "print(test_weird_1.shape[0])"
   ]
  },
  {
   "cell_type": "code",
   "execution_count": null,
   "metadata": {},
   "outputs": [],
   "source": [
    "# headers = list(advanced_filter_df.columns.values)\n",
    "\n",
    "# for header in headers:\n",
    "#     print(header)"
   ]
  },
  {
   "cell_type": "code",
   "execution_count": null,
   "metadata": {},
   "outputs": [],
   "source": [
    "# headers = zip(list(advanced_filter_df.columns.values), list(base_filter_df.columns.values))"
   ]
  },
  {
   "cell_type": "code",
   "execution_count": null,
   "metadata": {},
   "outputs": [],
   "source": [
    "# for h1, h2 in headers:\n",
    "#     print('{:30}, {:30}'.format(h1, h2))"
   ]
  },
  {
   "cell_type": "code",
   "execution_count": null,
   "metadata": {},
   "outputs": [],
   "source": [
    "# years_df = [None for _ in range(min(clean_data.year), max(clean_data.year) + 1)]\n",
    "# minimum_year = min(clean_data.year)\n",
    "\n",
    "# years = max(clean_data.year) + 1 - minimum_year\n",
    "# for year in range(years):\n",
    "#     years_df[year] = clean_data[clean_data.year == minimum_year+year]\n",
    "      \n",
    "#     train, test = train_test_split(years_df[year], test_size=0.2)\n",
    "#     train_x = list(map(lambda x: [x], list(train.dist)))\n",
    "#     train_y = list(map(lambda x: [x], list(train.fare_amount)))\n",
    "#     test_x = list(map(lambda x: [x], list(test.dist)))\n",
    "#     test_y = list(map(lambda x: [x], list(test.fare_amount)))\n",
    "#     regr.fit(train_x, train_y)\n",
    "#     fare_predict = regr.predict(test_x)\n",
    "\n",
    "#     print(years_df[year]['dist'].corr(years_df[year]['fare_amount']))\n",
    "#     # The coefficients\n",
    "#     print('Year: {}'.format(minimum_year + year), 'Coeff: ', regr.coef_, \\\n",
    "#           \"M.S.E: %.2f\" % (mean_squared_error(test_y, fare_predict)), \\\n",
    "#           'Variance score: %.2f' % r2_score(test_y, fare_predict))\n",
    "#     print('\\n')\n",
    "\n",
    "    # Plot outputs\n",
    "#     plt.scatter(test_x, test_y,  color='blue')\n",
    "#     plt.plot(test_x, fare_predict, color='red', linewidth=3)\n",
    "\n",
    "#     plt.xticks(())\n",
    "#     plt.yticks(())\n",
    "\n",
    "    \n",
    "# plt.show()"
   ]
  },
  {
   "cell_type": "markdown",
   "metadata": {},
   "source": [
    "# Night Surcharge"
   ]
  },
  {
   "cell_type": "code",
   "execution_count": null,
   "metadata": {},
   "outputs": [],
   "source": [
    "# def night_surcharge(row_data, night = True):\n",
    "#     if night:\n",
    "#         return (row_data['hour'] >= 20) | (row_data['hour'] <= 6)\n",
    "#     else:\n",
    "#         return (row_data['hour'] < 20) & (row_data['hour'] > 6)\n",
    "    \n",
    "# def weekday_filter(row_data):\n",
    "#     return row_data.weekday < 5 \n"
   ]
  },
  {
   "cell_type": "code",
   "execution_count": null,
   "metadata": {},
   "outputs": [],
   "source": [
    "# for year in range(years):\n",
    "#     night = None\n",
    "#     night = years_df[year][night_surcharge(years_df[year], True)]\n",
    "#     train, test = train_test_split(night, test_size=0.2)\n",
    "#     train_x = list(map(lambda x: [x], list(train.dist)))\n",
    "#     train_y = list(map(lambda x: [x], list(train.fare_amount)))\n",
    "#     test_x = list(map(lambda x: [x], list(test.dist)))\n",
    "#     test_y = list(map(lambda x: [x], list(test.fare_amount)))\n",
    "#     regr.fit(train_x, train_y)\n",
    "#     fare_predict = regr.predict(test_x)\n",
    "\n",
    "#     print(night['dist'].corr(night['fare_amount']))\n",
    "#     # The coefficients\n",
    "#     print('Year: {}'.format(minimum_year + year), 'Coeff: ', regr.coef_, \\\n",
    "#           \"M.S.E: %.2f\" % (mean_squared_error(test_y, fare_predict)), \\\n",
    "#           'Variance score: %.2f' % r2_score(test_y, fare_predict))\n",
    "#     print('\\n')\n",
    "\n",
    "    # Plot outputs\n",
    "#     plt.scatter(test_x, test_y,  color='blue')\n",
    "#     plt.plot(test_x, fare_predict, color='red', linewidth=3)\n",
    "\n",
    "#     plt.xticks(())\n",
    "#     plt.yticks(())\n",
    "\n",
    "    \n",
    "# plt.show()"
   ]
  },
  {
   "cell_type": "code",
   "execution_count": null,
   "metadata": {},
   "outputs": [],
   "source": [
    "# for year in range(years):\n",
    "#     flag = [True, False]\n",
    "#     weekday = None\n",
    "#     weekday = years_df[year][weekday_filter(years_df[year])]\n",
    "#     train, test = train_test_split(weekday, test_size=0.2)\n",
    "#     train_x = list(map(lambda x: [x], list(train.dist)))\n",
    "#     train_y = list(map(lambda x: [x], list(train.fare_amount)))\n",
    "#     test_x = list(map(lambda x: [x], list(test.dist)))\n",
    "#     test_y = list(map(lambda x: [x], list(test.fare_amount)))\n",
    "#     regr.fit(train_x, train_y)\n",
    "#     fare_predict = regr.predict(test_x)\n",
    "\n",
    "#     print(weekday['dist'].corr(weekday['fare_amount']))\n",
    "#     # The coefficients\n",
    "#     print('Year: {}'.format(minimum_year + year), 'Coeff: ', regr.coef_, \\\n",
    "#           \"M.S.E: %.2f\" % (mean_squared_error(test_y, fare_predict)), \\\n",
    "#           'Variance score: %.2f' % r2_score(test_y, fare_predict))\n",
    "#     print('\\n')\n",
    "\n",
    "#     # Plot outputs\n",
    "#     plt.scatter(test_x, test_y,  color='blue')\n",
    "#     plt.plot(test_x, fare_predict, color='red', linewidth=3)\n",
    "\n",
    "#     plt.xticks(())\n",
    "#     plt.yticks(())\n",
    "\n",
    "    \n",
    "#     plt.show()"
   ]
  }
 ],
 "metadata": {
  "kernelspec": {
   "display_name": "Python 3",
   "language": "python",
   "name": "python3"
  },
  "language_info": {
   "codemirror_mode": {
    "name": "ipython",
    "version": 3
   },
   "file_extension": ".py",
   "mimetype": "text/x-python",
   "name": "python",
   "nbconvert_exporter": "python",
   "pygments_lexer": "ipython3",
   "version": "3.6.6"
  }
 },
 "nbformat": 4,
 "nbformat_minor": 2
}
