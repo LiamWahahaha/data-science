{
 "cells": [
  {
   "cell_type": "code",
   "execution_count": 1,
   "metadata": {},
   "outputs": [],
   "source": [
    "# Data processing\n",
    "import pandas as pd\n",
    "import numpy as np\n",
    "import datetime as dt\n",
    "\n",
    "# Geocoding\n",
    "import geopy\n",
    "from geopy.geocoders import Nominatim\n",
    "from geopy.distance import geodesic as geodesic\n",
    "\n",
    "# Visualization\n",
    "import seaborn as sb\n",
    "import matplotlib.pyplot as plt\n",
    "\n",
    "# Machine learning\n",
    "from sklearn.model_selection import train_test_split\n",
    "from sklearn import linear_model\n",
    "from sklearn.metrics import mean_squared_error, r2_score"
   ]
  },
  {
   "cell_type": "markdown",
   "metadata": {},
   "source": [
    "# Control Variables"
   ]
  },
  {
   "cell_type": "code",
   "execution_count": 4,
   "metadata": {},
   "outputs": [
    {
     "name": "stderr",
     "output_type": "stream",
     "text": [
      "/anaconda3/lib/python3.6/site-packages/pandas/io/feather_format.py:112: FutureWarning: `nthreads` argument is deprecated, pass `use_threads` instead\n",
      "  return feather.read_dataframe(path, nthreads=nthreads)\n"
     ]
    }
   ],
   "source": [
    "PATH = \"./all/basic_filter-\"\n",
    "\n",
    "# read whole file use None\n",
    "# ROWS = None \n",
    "ROWS = 9_000_000 \n",
    "basic_filter_df = pd.read_feather(PATH+str(ROWS))\n",
    "\n",
    "LEFT_BOTTOM_CITY = 'Tennessee'\n",
    "RIGHT_TOP_CITY = 'Maine'\n",
    "\n",
    "NYC_LONGITUDE = (-74.256436, -73.699733)\n",
    "NYC_LATITUDE = (40.495029, 40.915592)\n",
    "\n",
    "JFK_LONGITUDE = (-73.789185, -73.775291)\n",
    "JFK_LATITUDE = (40.641960, 40.649562)"
   ]
  },
  {
   "cell_type": "code",
   "execution_count": 3,
   "metadata": {},
   "outputs": [],
   "source": [
    "geolocator = Nominatim(user_agent='city')\n",
    "LEFT_BOTTOM_BOUNDARY = geolocator.geocode(LEFT_BOTTOM_CITY)\n",
    "RIGHT_TOP_BOUNDARY = geolocator.geocode(RIGHT_TOP_CITY)"
   ]
  },
  {
   "cell_type": "code",
   "execution_count": 4,
   "metadata": {},
   "outputs": [],
   "source": [
    "# Taxicab Rate of Fare\n",
    "MILEAGE = 0.4 * 5"
   ]
  },
  {
   "cell_type": "markdown",
   "metadata": {},
   "source": [
    "# Auxiliary Functions"
   ]
  },
  {
   "cell_type": "code",
   "execution_count": 5,
   "metadata": {},
   "outputs": [],
   "source": [
    "def basic_pearson_corr_result(df, title):\n",
    "    print('{title}, Pearson correlation coef. of:'.format(title=title))\n",
    "    format_rule = '    {0:30}'\n",
    "    # Euclidean distance of the ride and the taxi fare\n",
    "    print(format_rule.format('dist and fare: '), \\\n",
    "          df['dist'].corr(df['fare_amount']))\n",
    "    # time of day and distance traveled\n",
    "    print(format_rule.format('time of day and dist: '), \\\n",
    "          df['hour'].corr(df['dist']))\n",
    "    # time of day and the taxi fare\n",
    "    print(format_rule.format('time of day and fare: '), \\\n",
    "          df['hour'].corr(df['fare_amount']))\n",
    "    \n",
    "def basic_visualization_result(df):\n",
    "    df.plot(kind='scatter', x='dist', y='fare_amount')\n",
    "    df.plot(kind='scatter', x='dist', y='hour')\n",
    "    df.plot(kind='scatter', x='hour', y='fare_amount')\n",
    "    \n",
    "def compare_two_df(df1, title1, df2, title2):\n",
    "    title_rule = '    {}'\n",
    "    data_rule = '        {0:30}'\n",
    "\n",
    "    # Euclidean distance of the ride and the taxi fare\n",
    "    print('Pearson correlation coef. of:')\n",
    "    print(title_rule.format('* dist and fare: '))\n",
    "    print(data_rule.format(title1), \\\n",
    "          df1['dist'].corr(df1['fare_amount']))\n",
    "    print(data_rule.format(title2), \\\n",
    "          df2['dist'].corr(df2['fare_amount']))\n",
    "\n",
    "    print(title_rule.format('* time of day and dist: '))\n",
    "    print(data_rule.format(title1), \\\n",
    "          df1['hour'].corr(df1['dist']))\n",
    "    print(data_rule.format(title2), \\\n",
    "          df2['hour'].corr(df2['dist']))\n",
    "\n",
    "    print(title_rule.format('* time of day and fare: '))\n",
    "    print(data_rule.format(title1), \\\n",
    "          df1['hour'].corr(df1['fare_amount']))\n",
    "    print(data_rule.format(title2), \\\n",
    "          df2['hour'].corr(df2['fare_amount']))\n",
    " \n",
    "    fig = plt.figure(figsize=(32,32))\n",
    "    ax1_1 = fig.add_subplot(321)\n",
    "    ax2_1 = fig.add_subplot(322)\n",
    "    ax1_2 = fig.add_subplot(323)\n",
    "    ax2_2 = fig.add_subplot(324)\n",
    "    ax1_3 = fig.add_subplot(325)\n",
    "    ax2_3 = fig.add_subplot(326)\n",
    "\n",
    "    df1.plot(ax=ax1_1, kind='scatter', x='dist', y='fare_amount', title = title1)\n",
    "    df1.plot(ax=ax1_2, kind='scatter', x='dist', y='hour', title = title1)\n",
    "    df1.plot(ax=ax1_3, kind='scatter', x='hour', y='fare_amount', title = title1)\n",
    "    df2.plot(ax=ax2_1, kind='scatter', x='dist', y='fare_amount', title = title2)\n",
    "    df2.plot(ax=ax2_2, kind='scatter', x='dist', y='hour', title = title2)\n",
    "    df2.plot(ax=ax2_3, kind='scatter', x='hour', y='fare_amount', title = title2)"
   ]
  },
  {
   "cell_type": "markdown",
   "metadata": {},
   "source": [
    "## Basic Filter"
   ]
  },
  {
   "cell_type": "code",
   "execution_count": 6,
   "metadata": {},
   "outputs": [],
   "source": [
    "def valid_fare(row_data):\n",
    "    \"\"\"\n",
    "    this is a soft cut based on initial chare $2.50 and the improvement surcharge 30-cent\n",
    "    \"\"\"\n",
    "    return row_data['fare_amount'] > 2.8\n",
    "\n",
    "def valid_transportation_region(row_data, left_bottom = LEFT_BOTTOM_BOUNDARY, right_top = RIGHT_TOP_BOUNDARY):\n",
    "    \"\"\"\n",
    "    default region based on the rectangle formed by Tennessee and Maine, \n",
    "    since it takes more than 12 hrs to drive from the boundary to NYC or\n",
    "    from NYC to the boundary\n",
    "    \"\"\"\n",
    "    return (row_data['pickup_longitude'] > left_bottom.longitude) & \\\n",
    "           (row_data['pickup_longitude'] < right_top.longitude) & \\\n",
    "           (row_data['dropoff_longitude'] > left_bottom.longitude) & \\\n",
    "           (row_data['dropoff_longitude'] < right_top.longitude) & \\\n",
    "            (row_data['pickup_latitude'] > left_bottom.latitude) & \\\n",
    "            (row_data['pickup_latitude'] < right_top.latitude) & \\\n",
    "            (row_data['dropoff_latitude'] > left_bottom.latitude) & \\\n",
    "            (row_data['dropoff_latitude'] < right_top.latitude)\n",
    "\n",
    "def valid_travel_location(row_data):\n",
    "    \"\"\"\n",
    "    pickup and dropoff should not be exactly the same or\n",
    "    both outside the NYC \n",
    "    \"\"\"\n",
    "    return (row_data['pickup_longitude'] != row_data['dropoff_longitude']) | \\\n",
    "           (row_data['pickup_latitude'] != row_data['dropoff_latitude']) | \\\n",
    "           (\\\n",
    "            (row_data['pickup_longitude'] >= NYC_LONGITUDE[0]) & \\\n",
    "            (row_data['pickup_longitude'] <= NYC_LONGITUDE[1]) & \\\n",
    "            (row_data['pickup_latitude'] >= NYC_LATITUDE[0]) & \\\n",
    "            (row_data['pickup_latitude'] <= NYC_LATITUDE[1]) \\\n",
    "           ) | (\\\n",
    "            (row_data['dropoff_longitude'] >= NYC_LONGITUDE[0]) & \\\n",
    "            (row_data['dropoff_longitude'] <= NYC_LONGITUDE[1]) & \\\n",
    "            (row_data['dropoff_latitude'] >= NYC_LATITUDE[0]) & \\\n",
    "            (row_data['dropoff_latitude'] <= NYC_LATITUDE[1]) \\\n",
    "           )\n",
    "\n",
    "def valid_passenger_count(row_data):\n",
    "    \"\"\"\n",
    "    by Taxi rule, the maximum capacity is 6\n",
    "    \"\"\"\n",
    "    return (row_data['passenger_count'] > 0) & (row_data['passenger_count'] <= 6)\n",
    "\n",
    "# def datetime_parser(x):\n",
    "#     print(x['pickup_datetime'])\n",
    "#     try:\n",
    "#         datetime_object = datetime.strptime(x['pickup_datetime'], '%Y-%m-%d %H:%M:%S')\n",
    "#         return datetime_object.hours*60 + datetime_object.minutes\n",
    "#     except:\n",
    "#         return pd.NaT"
   ]
  },
  {
   "cell_type": "markdown",
   "metadata": {},
   "source": [
    "## Advanced Filter"
   ]
  },
  {
   "cell_type": "code",
   "execution_count": 7,
   "metadata": {},
   "outputs": [],
   "source": [
    "def valid_fare_amount_judge_by_travel_distance(row_data):\n",
    "    return valid_fare_amount_with_long_distance(row_data) & \\\n",
    "           valid_fare_amount_with_short_distance(row_data)\n",
    "\n",
    "def valid_fare_amount_with_long_distance(row_data):\n",
    "    return row_data['fare_amount'] >= (row_data['dist'] * MILEAGE + 2.8)\n",
    "\n",
    "def valid_fare_amount_with_short_distance(row_data):\n",
    "    return (row_data['dist'] >= 0.2) | (row_data['fare_amount'] <= 10)\n",
    "\n",
    "def to_jfk(row_data):\n",
    "    return (row_data['dropoff_longitude'] >= JFK_LONGITUDE[0]) & \\\n",
    "           (row_data['dropoff_longitude'] <= JFK_LONGITUDE[1]) & \\\n",
    "           (row_data['dropoff_latitude'] >= JFK_LATITUDE[0]) & \\\n",
    "           (row_data['dropoff_latitude'] <= JFK_LATITUDE[1])\n",
    "\n",
    "def remove_outliers_Tukey(usefulData, attr):\n",
    "    thirdQuartile = usefulData.quantile(.75)[attr]\n",
    "    firstQuartile = usefulData.quantile(.25)[attr]\n",
    "    IQR = thirdQuartile - firstQuartile\n",
    "    return usefulData[usefulData[attr].between(firstQuartile - (IQR * 1.5), thirdQuartile + (IQR * 1.5))]"
   ]
  },
  {
   "cell_type": "markdown",
   "metadata": {},
   "source": [
    "## Adjust or Create Feature"
   ]
  },
  {
   "cell_type": "code",
   "execution_count": 8,
   "metadata": {},
   "outputs": [],
   "source": [
    "from math import sin, cos, sqrt, atan2, radians\n",
    "\n",
    "def dist(row_data):\n",
    "    R = 6373.0\n",
    "    s_lon = radians(row_data['pickup_longitude'])\n",
    "    s_lat = radians(row_data['pickup_latitude'])\n",
    "    e_lon = radians(row_data['dropoff_longitude'])\n",
    "    e_lat = radians(row_data['dropoff_latitude'])\n",
    "    diff_lon = e_lon - s_lon\n",
    "    diff_lat = e_lat - s_lat\n",
    "\n",
    "    a = sin(diff_lat / 2)**2 + cos(s_lat) * cos(e_lat) * sin(diff_lon / 2)**2\n",
    "    c = 2 * atan2(sqrt(a), sqrt(1 - a))\n",
    "\n",
    "    return R * c * 0.621371\n",
    "\n",
    "def dist_by_geopy(row_data):\n",
    "    s_lon = row_data['pickup_longitude']\n",
    "    s_lat = row_data['pickup_latitude']\n",
    "    e_lon = row_data['dropoff_longitude']\n",
    "    e_lat = row_data['dropoff_latitude']\n",
    "    return geodesic((s_lon, s_lat), (e_lon, e_lat)).miles\n",
    "\n",
    "# clean_data['dist'] = np.vectorize(dist)(clean_data['pickup_longitude'], clean_data['pickup_latitude'], clean_data['dropoff_longitude'], clean_data['dropoff_latitude'])\n",
    "# https://stackoverflow.com/questions/19412462/getting-distance-between-two-points-based-on-latitude-longitude/19412565\n",
    "\n",
    "def insert_est_or_edt_time(df):\n",
    "    df.insert(df.shape[1],'new_york_time',\n",
    "              df.pickup_datetime.dt.tz_localize('utc').\\\n",
    "              dt.tz_convert('America/New_York'))\n",
    "    \n",
    "def insert_year(df):\n",
    "    df.insert(df.shape[1], 'year', df.new_york_time.dt.year)\n",
    "\n",
    "def insert_weekday(df):\n",
    "    df.insert(df.shape[1], 'weekday', df.new_york_time.dt.weekday)\n",
    "\n",
    "def insert_time_of_day(df):\n",
    "    df.insert(df.shape[1], 'hour', df.new_york_time.dt.hour + df.new_york_time.dt.minute/60)\n",
    "\n",
    "# def insert_dist(df, func = dist):\n",
    "#     euclidean_dist = df.apply(func, axis = 1)\n",
    "#     df.insert(df.shape[1], 'dist', euclidean_dist)\n",
    "    \n",
    "def insert_feature(df, func = None, feature_name = None):\n",
    "    if not func or not feature_name:\n",
    "        raise InputError\n",
    "\n",
    "    new_data = df.apply(func, axis = 1)\n",
    "\n",
    "    df.insert(df.shape[1], feature_name, new_data)"
   ]
  },
  {
   "cell_type": "markdown",
   "metadata": {},
   "source": [
    "# LinearRegression"
   ]
  },
  {
   "cell_type": "code",
   "execution_count": null,
   "metadata": {},
   "outputs": [],
   "source": [
    "def simple_linear_regression(df):\n",
    "    train, test = train_test_split(df, test_size=0.3)\n",
    "    train_x = list(map(lambda x: [x], list(train.dist)))\n",
    "    train_y = list(map(lambda x: [x], list(train.fare_amount)))\n",
    "    test_x = list(map(lambda x: [x], list(test.dist)))\n",
    "    test_y = list(map(lambda x: [x], list(test.fare_amount)))\n",
    "\n",
    "    regr = linear_model.LinearRegression()\n",
    "    regr.fit(train_x, train_y)\n",
    "    fare_predict = regr.predict(test_x)\n",
    "\n",
    "    # The coefficients\n",
    "    print('Coefficients: \\n', regr.coef_)\n",
    "    # The mean squared error\n",
    "    print(\"Mean squared error: %.2f\"\n",
    "          % mean_squared_error(test_y, fare_predict))\n",
    "    # Explained variance score: 1 is perfect prediction\n",
    "    print('Variance score: %.2f' % r2_score(test_y, fare_predict))\n",
    "\n",
    "    # Plot outputs\n",
    "    plt.scatter(test_x, test_y,  color='blue')\n",
    "    plt.plot(test_x, fare_predict, color='red', linewidth=3)\n",
    "\n",
    "    plt.xticks(())\n",
    "    plt.yticks(())\n",
    "\n",
    "    plt.show()"
   ]
  },
  {
   "cell_type": "markdown",
   "metadata": {},
   "source": [
    "# Adjust Fare Amout By Rules (http://www.nyc.gov/html/tlc/html/passenger/taxicab_rate.shtml)\n",
    "```\n",
    "Metered Fare Information\n",
    "Onscreen rate is ‘Rate #01 – Standard City Rate.’\n",
    "The initial charge is $2.50.\n",
    "Plus 50 cents per 1/5 mile or 50 cents per 60 seconds in slow traffic or when the vehicle is stopped.\n",
    "In moving traffic on Manhattan streets, the meter should “click” approximately every four downtown blocks, or one block going cross-town (East-West).\n",
    "There is a 50-cent MTA State Surcharge for all trips that end in New York City or Nassau, Suffolk, Westchester, Rockland, Dutchess, Orange or Putnam Counties.\n",
    "There is a 30-cent Improvement Surcharge. \n",
    "There is a daily 50-cent surcharge from 8pm to 6am.\n",
    "There is a $1 surcharge from 4pm to 8pm on weekdays, excluding holidays.\n",
    "Passengers must pay all bridge and tunnel tolls.\n",
    "Your receipt will show your total fare including tolls. Please take your receipt.\n",
    "The driver is not required to accept bills over $20.\n",
    "Please tip your driver for safety and good service.\n",
    "There are no charges for extra passengers or bags.\n",
    "\n",
    "To/From JFK and any location in Manhattan:\n",
    "Onscreen rate is ‘Rate #02 – JFK Airport.’\n",
    "This is a flat fare of $52 plus tolls, the 50-cent MTA State Surcharge, the 30-cent Improvement Surcharge, and $4.50 rush hour surcharge (4 PM to 8 PM weekdays, excluding legal holidays).\n",
    "Passenger is responsible for paying all tolls.\n",
    "Please tip your driver for safety and good service.\n",
    "```"
   ]
  },
  {
   "cell_type": "code",
   "execution_count": 9,
   "metadata": {},
   "outputs": [],
   "source": [
    "def adjust_fare(row_data):\n",
    "    fare = row_data['fare_amount']\n",
    "    \n",
    "    if to_jfk(row_data): # should consider from_jfk too \n",
    "        # flat fare of $52\n",
    "        fare -= 52\n",
    "        # MTA State Surcharge\n",
    "        fare -= 0.5\n",
    "        # 30-cent Improvement Surcharge,\n",
    "        fare -= 0.3\n",
    "        \n",
    "        if is_rush(row_data):\n",
    "            fare -= 4.5\n",
    "    else:\n",
    "        pass"
   ]
  },
  {
   "cell_type": "markdown",
   "metadata": {},
   "source": [
    "# Q1 Take a look at the training data ...\n",
    "\n",
    "## There may be anomalies in the data that you may need to factor in before you start on the other tasks. Clean the data first to handle these issues. Explain what you did to clean the data (in bulleted form)."
   ]
  },
  {
   "cell_type": "markdown",
   "metadata": {},
   "source": [
    "# Data Cleaning"
   ]
  },
  {
   "cell_type": "markdown",
   "metadata": {},
   "source": [
    "# Data Cleaning and Visualization\n",
    "---"
   ]
  },
  {
   "cell_type": "markdown",
   "metadata": {},
   "source": [
    "## Remove trivial anomaly as follows:\n",
    "* data['fare_amount'] <= 2.5\n",
    "* data['longitude'] >= -69.445473 or data['longitude'] <= -86.580444\n",
    "* data['latitude'] <= 35.517490 or data['latitude'] >= 45.253784\n",
    "* pickup location == dropoff location\n",
    "* data['passenger_count'] < 0 or data['passenger_count'] > 6\n",
    "\n",
    ">[How many people can fit into a yellow taxicab?](#http://www.nyc.gov/html/tlc/html/faq/faq_pass.shtml)\n",
    "\n",
    "> From Driver Rule 54-15(g) (in PDF):\n",
    "The maximum amount of passengers allowed in a yellow taxicab by law is four (4) in a four (4) passenger taxicab or five (5) passengers in a five (5) passenger taxicab, except that an additional passenger must be accepted if such passenger is under the age of seven (7) and is held on the lap of an adult passenger seated in the rear."
   ]
  },
  {
   "cell_type": "code",
   "execution_count": null,
   "metadata": {},
   "outputs": [
    {
     "name": "stdout",
     "output_type": "stream",
     "text": [
      "Size before data cleaning:                             9000000\n",
      "Size after removing N/A row data:                      8999943\n",
      "Size after removing invalid fare:                      8962440\n",
      "Size after removing invalid longitude and latitude:    8780330\n",
      "Size after removing invalid travel location:           8777255\n",
      "Size after removing invalid passenger count:           8746356\n"
     ]
    },
    {
     "data": {
      "text/html": [
       "<div>\n",
       "<style scoped>\n",
       "    .dataframe tbody tr th:only-of-type {\n",
       "        vertical-align: middle;\n",
       "    }\n",
       "\n",
       "    .dataframe tbody tr th {\n",
       "        vertical-align: top;\n",
       "    }\n",
       "\n",
       "    .dataframe thead th {\n",
       "        text-align: right;\n",
       "    }\n",
       "</style>\n",
       "<table border=\"1\" class=\"dataframe\">\n",
       "  <thead>\n",
       "    <tr style=\"text-align: right;\">\n",
       "      <th></th>\n",
       "      <th>fare_amount</th>\n",
       "      <th>pickup_longitude</th>\n",
       "      <th>pickup_latitude</th>\n",
       "      <th>dropoff_longitude</th>\n",
       "      <th>dropoff_latitude</th>\n",
       "      <th>passenger_count</th>\n",
       "    </tr>\n",
       "  </thead>\n",
       "  <tbody>\n",
       "    <tr>\n",
       "      <th>count</th>\n",
       "      <td>8.746356e+06</td>\n",
       "      <td>8.746356e+06</td>\n",
       "      <td>8.746356e+06</td>\n",
       "      <td>8.746356e+06</td>\n",
       "      <td>8.746356e+06</td>\n",
       "      <td>8.746356e+06</td>\n",
       "    </tr>\n",
       "    <tr>\n",
       "      <th>mean</th>\n",
       "      <td>1.135814e+01</td>\n",
       "      <td>-7.397553e+01</td>\n",
       "      <td>4.075083e+01</td>\n",
       "      <td>-7.397464e+01</td>\n",
       "      <td>4.075118e+01</td>\n",
       "      <td>1.691232e+00</td>\n",
       "    </tr>\n",
       "    <tr>\n",
       "      <th>std</th>\n",
       "      <td>9.694958e+00</td>\n",
       "      <td>4.325810e-02</td>\n",
       "      <td>3.297281e-02</td>\n",
       "      <td>4.198436e-02</td>\n",
       "      <td>3.603798e-02</td>\n",
       "      <td>1.306330e+00</td>\n",
       "    </tr>\n",
       "    <tr>\n",
       "      <th>min</th>\n",
       "      <td>2.820000e+00</td>\n",
       "      <td>-8.552603e+01</td>\n",
       "      <td>3.579768e+01</td>\n",
       "      <td>-8.596667e+01</td>\n",
       "      <td>3.582801e+01</td>\n",
       "      <td>1.000000e+00</td>\n",
       "    </tr>\n",
       "    <tr>\n",
       "      <th>25%</th>\n",
       "      <td>6.000000e+00</td>\n",
       "      <td>-7.399229e+01</td>\n",
       "      <td>4.073655e+01</td>\n",
       "      <td>-7.399159e+01</td>\n",
       "      <td>4.073559e+01</td>\n",
       "      <td>1.000000e+00</td>\n",
       "    </tr>\n",
       "    <tr>\n",
       "      <th>50%</th>\n",
       "      <td>8.500000e+00</td>\n",
       "      <td>-7.398211e+01</td>\n",
       "      <td>4.075335e+01</td>\n",
       "      <td>-7.398062e+01</td>\n",
       "      <td>4.075386e+01</td>\n",
       "      <td>1.000000e+00</td>\n",
       "    </tr>\n",
       "    <tr>\n",
       "      <th>75%</th>\n",
       "      <td>1.250000e+01</td>\n",
       "      <td>-7.396838e+01</td>\n",
       "      <td>4.076753e+01</td>\n",
       "      <td>-7.396543e+01</td>\n",
       "      <td>4.076840e+01</td>\n",
       "      <td>2.000000e+00</td>\n",
       "    </tr>\n",
       "    <tr>\n",
       "      <th>max</th>\n",
       "      <td>9.520000e+02</td>\n",
       "      <td>-6.895357e+01</td>\n",
       "      <td>4.567449e+01</td>\n",
       "      <td>-6.889554e+01</td>\n",
       "      <td>4.567527e+01</td>\n",
       "      <td>6.000000e+00</td>\n",
       "    </tr>\n",
       "  </tbody>\n",
       "</table>\n",
       "</div>"
      ],
      "text/plain": [
       "        fare_amount  pickup_longitude  pickup_latitude  dropoff_longitude  \\\n",
       "count  8.746356e+06      8.746356e+06     8.746356e+06       8.746356e+06   \n",
       "mean   1.135814e+01     -7.397553e+01     4.075083e+01      -7.397464e+01   \n",
       "std    9.694958e+00      4.325810e-02     3.297281e-02       4.198436e-02   \n",
       "min    2.820000e+00     -8.552603e+01     3.579768e+01      -8.596667e+01   \n",
       "25%    6.000000e+00     -7.399229e+01     4.073655e+01      -7.399159e+01   \n",
       "50%    8.500000e+00     -7.398211e+01     4.075335e+01      -7.398062e+01   \n",
       "75%    1.250000e+01     -7.396838e+01     4.076753e+01      -7.396543e+01   \n",
       "max    9.520000e+02     -6.895357e+01     4.567449e+01      -6.889554e+01   \n",
       "\n",
       "       dropoff_latitude  passenger_count  \n",
       "count      8.746356e+06     8.746356e+06  \n",
       "mean       4.075118e+01     1.691232e+00  \n",
       "std        3.603798e-02     1.306330e+00  \n",
       "min        3.582801e+01     1.000000e+00  \n",
       "25%        4.073559e+01     1.000000e+00  \n",
       "50%        4.075386e+01     1.000000e+00  \n",
       "75%        4.076840e+01     2.000000e+00  \n",
       "max        4.567527e+01     6.000000e+00  "
      ]
     },
     "execution_count": 11,
     "metadata": {},
     "output_type": "execute_result"
    }
   ],
   "source": [
    "format_rule = '{0:54}'\n",
    "\n",
    "print(format_rule.format('Size before data cleaning:'), basic_filter_df.shape[0])\n",
    "basic_filter_df = basic_filter_df.dropna(how = 'any', axis = 'rows')\n",
    "print(format_rule.format('Size after removing N/A row data:'), basic_filter_df.shape[0])\n",
    "\n",
    "# remove invalid fare\n",
    "basic_filter_df = basic_filter_df.loc[valid_fare(basic_filter_df)]\n",
    "print(format_rule.format('Size after removing invalid fare:'), basic_filter_df.shape[0])\n",
    "\n",
    "# remove invalid transportation region\n",
    "basic_filter_df = basic_filter_df.loc[valid_transportation_region(basic_filter_df)]\n",
    "print(format_rule.format('Size after removing invalid longitude and latitude:'), basic_filter_df.shape[0])\n",
    "\n",
    "# remove invalid pickup and dropoff location\n",
    "basic_filter_df = basic_filter_df.loc[valid_travel_location(basic_filter_df)]\n",
    "print(format_rule.format('Size after removing invalid travel location:'), basic_filter_df.shape[0])\n",
    "\n",
    "# remove invalid passenger count\n",
    "basic_filter_df = basic_filter_df.loc[valid_passenger_count(basic_filter_df)]\n",
    "print(format_rule.format('Size after removing invalid passenger count:'), basic_filter_df.shape[0])\n",
    "\n",
    "basic_filter_df.describe()"
   ]
  },
  {
   "cell_type": "markdown",
   "metadata": {},
   "source": [
    "# Data Preprocessing"
   ]
  },
  {
   "cell_type": "code",
   "execution_count": null,
   "metadata": {},
   "outputs": [],
   "source": [
    "insert_year(basic_filter_df)\n",
    "insert_weekday(basic_filter_df)\n",
    "insert_time_of_day(basic_filter_df)\n",
    "insert_feature(basic_filter_df, feature_name = 'dist', func = dist)\n",
    "\n",
    "basic_filter_df.head()"
   ]
  },
  {
   "cell_type": "markdown",
   "metadata": {},
   "source": [
    "## Pearson Correlation Coefficients, \n",
    "## and Visualization of the Relation between the Variables"
   ]
  },
  {
   "cell_type": "code",
   "execution_count": null,
   "metadata": {},
   "outputs": [],
   "source": [
    "# remove anomaly by using advanced filter\n",
    "advanced_filter_df = base_filter_df[valid_fare_amount_judge_by_travel_distance(base_filter_df)]\n",
    "\n",
    "# advanced_filter_df = removeOutliersTukey(advanced_filter_df,'pickup_longitude')\n",
    "# advanced_filter_df = removeOutliersTukey(advanced_filter_df,'pickup_latitude')\n",
    "# advanced_filter_df = removeOutliersTukey(advanced_filter_df,'dropoff_longitude')\n",
    "# advanced_filter_df = removeOutliersTukey(advanced_filter_df,'dropoff_latitude')\n",
    "# print('Data after 2nd cleaning:')\n",
    "# advanced_filter_df.describe()\n",
    "\n",
    "compare_two_df(base_filter_df, 'Applied basic filter', advanced_filter_df, 'Applied advanced filter')"
   ]
  },
  {
   "cell_type": "code",
   "execution_count": null,
   "metadata": {},
   "outputs": [],
   "source": [
    "basic_pearson_corr_result(advanced_filter_df, 'Applied advanced filter')\n",
    "basic_visualization_result(advanced_filter_df)"
   ]
  },
  {
   "cell_type": "markdown",
   "metadata": {},
   "source": [
    "# Simple Linear Regression Model"
   ]
  },
  {
   "cell_type": "code",
   "execution_count": null,
   "metadata": {},
   "outputs": [],
   "source": []
  },
  {
   "cell_type": "code",
   "execution_count": null,
   "metadata": {},
   "outputs": [],
   "source": []
  },
  {
   "cell_type": "code",
   "execution_count": null,
   "metadata": {},
   "outputs": [],
   "source": []
  },
  {
   "cell_type": "markdown",
   "metadata": {},
   "source": [
    "# Prediction Baseline"
   ]
  },
  {
   "cell_type": "code",
   "execution_count": null,
   "metadata": {},
   "outputs": [],
   "source": [
    "# test_df_dist = test_df.apply(dist, axis=1)\n",
    "# test_df.insert(test_df.shape[1], 'dist', test_df_dist)"
   ]
  },
  {
   "cell_type": "code",
   "execution_count": null,
   "metadata": {},
   "outputs": [],
   "source": [
    "# test_X = list(map(lambda x: [x], list(test_df.dist)))"
   ]
  },
  {
   "cell_type": "code",
   "execution_count": null,
   "metadata": {},
   "outputs": [],
   "source": [
    "# fare_predict = regr.predict(test_X).round(decimals = 2)"
   ]
  },
  {
   "cell_type": "markdown",
   "metadata": {},
   "source": [
    "# Create submission file"
   ]
  },
  {
   "cell_type": "code",
   "execution_count": null,
   "metadata": {},
   "outputs": [],
   "source": [
    "# submission = pd.DataFrame({'key': test_df.key,\\\n",
    "#                            'fare_amount': fare_predict.ravel()},\\\n",
    "#                           columns = ['key', 'fare_amount'])\n",
    "# submission.to_csv('submission.csv', index = False)\n"
   ]
  },
  {
   "cell_type": "code",
   "execution_count": null,
   "metadata": {},
   "outputs": [],
   "source": [
    "# submission.shape"
   ]
  },
  {
   "cell_type": "markdown",
   "metadata": {},
   "source": [
    "# Extra Features \n",
    "## By year\n",
    "## By weekday\n",
    "## By time_of_day (hour)"
   ]
  },
  {
   "cell_type": "markdown",
   "metadata": {},
   "source": [
    "## Extra Features - Adjusted_Fare_Amount_By_Rules"
   ]
  },
  {
   "cell_type": "code",
   "execution_count": null,
   "metadata": {},
   "outputs": [],
   "source": [
    "base_filter_df.reset_index().to_feather('./all/basic_filter-' + str(ROWS))\n",
    "advanced_filter_df.reset_index().to_feather('./all/advanced_filter-' + str(ROWS))"
   ]
  },
  {
   "cell_type": "code",
   "execution_count": null,
   "metadata": {},
   "outputs": [],
   "source": [
    "headers = list(advanced_filter_df.columns.values)\n",
    "\n",
    "for header in headers:\n",
    "    print(header)"
   ]
  },
  {
   "cell_type": "code",
   "execution_count": null,
   "metadata": {},
   "outputs": [],
   "source": [
    "headers = zip(list(advanced_filter_df.columns.values), list(base_filter_df.columns.values))"
   ]
  },
  {
   "cell_type": "code",
   "execution_count": null,
   "metadata": {},
   "outputs": [],
   "source": [
    "for h1, h2 in headers:\n",
    "    print('{:30}, {:30}'.format(h1, h2))"
   ]
  },
  {
   "cell_type": "code",
   "execution_count": null,
   "metadata": {},
   "outputs": [],
   "source": [
    "# years_df = [None for _ in range(min(clean_data.year), max(clean_data.year) + 1)]\n",
    "# minimum_year = min(clean_data.year)\n",
    "\n",
    "# years = max(clean_data.year) + 1 - minimum_year\n",
    "# for year in range(years):\n",
    "#     years_df[year] = clean_data[clean_data.year == minimum_year+year]\n",
    "      \n",
    "#     train, test = train_test_split(years_df[year], test_size=0.2)\n",
    "#     train_x = list(map(lambda x: [x], list(train.dist)))\n",
    "#     train_y = list(map(lambda x: [x], list(train.fare_amount)))\n",
    "#     test_x = list(map(lambda x: [x], list(test.dist)))\n",
    "#     test_y = list(map(lambda x: [x], list(test.fare_amount)))\n",
    "#     regr.fit(train_x, train_y)\n",
    "#     fare_predict = regr.predict(test_x)\n",
    "\n",
    "#     print(years_df[year]['dist'].corr(years_df[year]['fare_amount']))\n",
    "#     # The coefficients\n",
    "#     print('Year: {}'.format(minimum_year + year), 'Coeff: ', regr.coef_, \\\n",
    "#           \"M.S.E: %.2f\" % (mean_squared_error(test_y, fare_predict)), \\\n",
    "#           'Variance score: %.2f' % r2_score(test_y, fare_predict))\n",
    "#     print('\\n')\n",
    "\n",
    "    # Plot outputs\n",
    "#     plt.scatter(test_x, test_y,  color='blue')\n",
    "#     plt.plot(test_x, fare_predict, color='red', linewidth=3)\n",
    "\n",
    "#     plt.xticks(())\n",
    "#     plt.yticks(())\n",
    "\n",
    "    \n",
    "# plt.show()"
   ]
  },
  {
   "cell_type": "markdown",
   "metadata": {},
   "source": [
    "# Night Surcharge"
   ]
  },
  {
   "cell_type": "code",
   "execution_count": null,
   "metadata": {},
   "outputs": [],
   "source": [
    "# def night_surcharge(row_data, night = True):\n",
    "#     if night:\n",
    "#         return (row_data['hour'] >= 20) | (row_data['hour'] <= 6)\n",
    "#     else:\n",
    "#         return (row_data['hour'] < 20) & (row_data['hour'] > 6)\n",
    "    \n",
    "# def weekday_filter(row_data):\n",
    "#     return row_data.weekday < 5 \n"
   ]
  },
  {
   "cell_type": "code",
   "execution_count": null,
   "metadata": {},
   "outputs": [],
   "source": [
    "# for year in range(years):\n",
    "#     night = None\n",
    "#     night = years_df[year][night_surcharge(years_df[year], True)]\n",
    "#     train, test = train_test_split(night, test_size=0.2)\n",
    "#     train_x = list(map(lambda x: [x], list(train.dist)))\n",
    "#     train_y = list(map(lambda x: [x], list(train.fare_amount)))\n",
    "#     test_x = list(map(lambda x: [x], list(test.dist)))\n",
    "#     test_y = list(map(lambda x: [x], list(test.fare_amount)))\n",
    "#     regr.fit(train_x, train_y)\n",
    "#     fare_predict = regr.predict(test_x)\n",
    "\n",
    "#     print(night['dist'].corr(night['fare_amount']))\n",
    "#     # The coefficients\n",
    "#     print('Year: {}'.format(minimum_year + year), 'Coeff: ', regr.coef_, \\\n",
    "#           \"M.S.E: %.2f\" % (mean_squared_error(test_y, fare_predict)), \\\n",
    "#           'Variance score: %.2f' % r2_score(test_y, fare_predict))\n",
    "#     print('\\n')\n",
    "\n",
    "    # Plot outputs\n",
    "#     plt.scatter(test_x, test_y,  color='blue')\n",
    "#     plt.plot(test_x, fare_predict, color='red', linewidth=3)\n",
    "\n",
    "#     plt.xticks(())\n",
    "#     plt.yticks(())\n",
    "\n",
    "    \n",
    "# plt.show()"
   ]
  },
  {
   "cell_type": "code",
   "execution_count": null,
   "metadata": {},
   "outputs": [],
   "source": [
    "# for year in range(years):\n",
    "#     flag = [True, False]\n",
    "#     weekday = None\n",
    "#     weekday = years_df[year][weekday_filter(years_df[year])]\n",
    "#     train, test = train_test_split(weekday, test_size=0.2)\n",
    "#     train_x = list(map(lambda x: [x], list(train.dist)))\n",
    "#     train_y = list(map(lambda x: [x], list(train.fare_amount)))\n",
    "#     test_x = list(map(lambda x: [x], list(test.dist)))\n",
    "#     test_y = list(map(lambda x: [x], list(test.fare_amount)))\n",
    "#     regr.fit(train_x, train_y)\n",
    "#     fare_predict = regr.predict(test_x)\n",
    "\n",
    "#     print(weekday['dist'].corr(weekday['fare_amount']))\n",
    "#     # The coefficients\n",
    "#     print('Year: {}'.format(minimum_year + year), 'Coeff: ', regr.coef_, \\\n",
    "#           \"M.S.E: %.2f\" % (mean_squared_error(test_y, fare_predict)), \\\n",
    "#           'Variance score: %.2f' % r2_score(test_y, fare_predict))\n",
    "#     print('\\n')\n",
    "\n",
    "#     # Plot outputs\n",
    "#     plt.scatter(test_x, test_y,  color='blue')\n",
    "#     plt.plot(test_x, fare_predict, color='red', linewidth=3)\n",
    "\n",
    "#     plt.xticks(())\n",
    "#     plt.yticks(())\n",
    "\n",
    "    \n",
    "#     plt.show()"
   ]
  }
 ],
 "metadata": {
  "kernelspec": {
   "display_name": "Python 3",
   "language": "python",
   "name": "python3"
  },
  "language_info": {
   "codemirror_mode": {
    "name": "ipython",
    "version": 3
   },
   "file_extension": ".py",
   "mimetype": "text/x-python",
   "name": "python",
   "nbconvert_exporter": "python",
   "pygments_lexer": "ipython3",
   "version": "3.6.4"
  }
 },
 "nbformat": 4,
 "nbformat_minor": 2
}
