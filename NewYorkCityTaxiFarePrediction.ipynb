{
 "cells": [
  {
   "cell_type": "markdown",
   "metadata": {},
   "source": [
    "# Tasks (100 pts)\n",
    "1  There may be anomalies in the data that you may need to factor in before you start on the other tasks. Clean the data first to handle these issues. Explain what you did to clean the data (in bulleted form). (10 pt)\n",
    "\n",
    "\n",
    "2 Compute the Pearson correlation between the following: (9 pt)\n",
    "\n",
    "> a. Euclidean distance of the ride and the taxi fare\n",
    "\n",
    "> b. time of day and distance traveled\n",
    "\n",
    "> c. time of day and the taxi fare\n",
    "\n",
    "Which has the highest correlation?\n",
    "\n",
    "3 For each subtask of (2), create a plot visualizing the relation between the variables.\n",
    "\n",
    "Comment on whether you see non-linear or any other interesting relations. (9 pt)\n",
    "\n",
    "4 Create an exciting plot of your own using the dataset that you think reveals something\n",
    "\n",
    "very interesting. Explain what it is, and anything else you learned. (15 pt)\n",
    "\n",
    "5 Generate additional features like those from (2) from the given data set. What additional\n",
    "\n",
    "features can you create? (10 pt)\n",
    "\n",
    "6 Set up a simple linear regression model to predict taxi fare. Use your generated features\n",
    "\n",
    "from the previous task if applicable. How well/badly does it work? What are the\n",
    "coefficients for your features? Which variable(s) are the most important one? (12 pt)\n",
    "\n",
    "7 Consider external datasets that may be helpful to expand your feature set. Give bullet points explaining all the datasets you could identify that would help improve your predictions. If possible, try finding such datasets online to incorporate into your training.\n",
    "\n",
    "List any that you were able to use in your analysis. (10 pt)\n",
    "\n",
    "8 Now, try to build a better prediction model that works harder to solve the task. Perhaps it\n",
    "\n",
    "will still use linear regression but with new features. Perhaps it will preprocess features better (e.g. normalize or scale the input vector, convert non-numerical value into float, or do a special treatment of missing values). Perhaps it will use a different machine learning approach (e.g. nearest neighbors, random forests, etc). Briefly explain what you did differently here versus the simple model. Which of your models minimizes the squared error? (10 pt)\n",
    "\n",
    "9 Predict all the taxi fares for instances at file “sample_submission.csv”. Write the result into a csv file and submit it to the website. You should do this for every model you develop. Report the rank, score, number of entries, for your highest rank. Include a snapshot of your best score on the leaderboard as confirmation. (15 pt)\n"
   ]
  },
  {
   "cell_type": "code",
   "execution_count": 4,
   "metadata": {},
   "outputs": [],
   "source": [
    "# Data processing\n",
    "import pandas as pd\n",
    "import numpy as np\n",
    "import datetime as dt\n",
    "\n",
    "# Geocoding\n",
    "import geopy\n",
    "from geopy.geocoders import Nominatim\n",
    "from geopy.distance import geodesic as geodesic\n",
    "\n",
    "# Visualization\n",
    "import seaborn as sb\n",
    "import matplotlib.pyplot as plt\n",
    "\n",
    "# Machine learning\n",
    "from sklearn.model_selection import train_test_split\n",
    "from sklearn import linear_model\n",
    "from sklearn.metrics import mean_squared_error, r2_score"
   ]
  },
  {
   "cell_type": "markdown",
   "metadata": {},
   "source": [
    "# Control Variables"
   ]
  },
  {
   "cell_type": "code",
   "execution_count": 2,
   "metadata": {},
   "outputs": [],
   "source": [
    "PATH = \"./all/\"\n",
    "ROWS = 600_000 # read whole file use None\n",
    "TRAIN_FILE = 'train.csv'\n",
    "TEST_FILE = 'test.csv'\n",
    "LEFT_BOTTOM_CITY = 'Tennessee'\n",
    "RIGHT_TOP_CITY = 'Maine'\n",
    "JFK_LONGITUDE = (-73.789185, -73.775291)\n",
    "JFK_LATITUDE = (40.641960, 40.649562)"
   ]
  },
  {
   "cell_type": "markdown",
   "metadata": {},
   "source": [
    "# Taxicab Rate of Fare"
   ]
  },
  {
   "cell_type": "code",
   "execution_count": 3,
   "metadata": {},
   "outputs": [],
   "source": [
    "MILEAGE = 0.4 * 5"
   ]
  },
  {
   "cell_type": "markdown",
   "metadata": {},
   "source": [
    "# Auxiliary Functions"
   ]
  },
  {
   "cell_type": "code",
   "execution_count": 50,
   "metadata": {},
   "outputs": [],
   "source": [
    "from math import sin, cos, sqrt, atan2, radians\n",
    "\n",
    "def dist(row_data):\n",
    "    R = 6373.0\n",
    "    s_lon = radians(row_data['pickup_longitude'])\n",
    "    s_lat = radians(row_data['pickup_latitude'])\n",
    "    e_lon = radians(row_data['dropoff_longitude'])\n",
    "    e_lat = radians(row_data['dropoff_latitude'])\n",
    "    diff_lon = e_lon - s_lon\n",
    "    diff_lat = e_lat - s_lat\n",
    "\n",
    "    a = sin(diff_lat / 2)**2 + cos(s_lat) * cos(e_lat) * sin(diff_lon / 2)**2\n",
    "    c = 2 * atan2(sqrt(a), sqrt(1 - a))\n",
    "\n",
    "    return R * c * 0.621371\n",
    "\n",
    "def dist_by_geopy(row_data):\n",
    "    s_lon = row_data['pickup_longitude']\n",
    "    s_lat = row_data['pickup_latitude']\n",
    "    e_lon = row_data['dropoff_longitude']\n",
    "    e_lat = row_data['dropoff_latitude']\n",
    "    return geodesic((s_lon, s_lat), (e_lon, e_lat)).miles\n",
    "\n",
    "# clean_data['dist'] = np.vectorize(dist)(clean_data['pickup_longitude'], clean_data['pickup_latitude'], clean_data['dropoff_longitude'], clean_data['dropoff_latitude'])\n",
    "# https://stackoverflow.com/questions/19412462/getting-distance-between-two-points-based-on-latitude-longitude/19412565\n",
    "\n",
    "def possible_transport_region(row_data):\n",
    "    \n",
    "    pass\n",
    "\n",
    "def least_fare_by_distance(row_data):\n",
    "    \n",
    "    fare = row_data['fare_amount']\n",
    "    least_dist = row_data['dist']\n",
    "    \n",
    "    return fare >= least_dist * MILEAGE + 2.5\n",
    "\n",
    "def to_jfk(row_data):\n",
    "    return (row_data['dropoff_longitude'] >= JFK_LONGITUDE[0]) & \\\n",
    "           (row_data['dropoff_longitude'] <= JFK_LONGITUDE[1]) & \\\n",
    "           (row_data['dropoff_latitude'] >= JFK_LATITUDE[0]) & \\\n",
    "           (row_data['dropoff_latitude'] <= JFK_LATITUDE[1])\n",
    "\n",
    "def remove_outliers_Tukey(usefulData, attr):\n",
    "    thirdQuartile = usefulData.quantile(.75)[attr]\n",
    "    firstQuartile = usefulData.quantile(.25)[attr]\n",
    "    IQR = thirdQuartile - firstQuartile\n",
    "    return usefulData[usefulData[attr].between(firstQuartile - (IQR * 1.5), thirdQuartile + (IQR * 1.5))]\n",
    "\n",
    "\n",
    "# def datetime_parser(x):\n",
    "#     print(x['pickup_datetime'])\n",
    "#     try:\n",
    "#         datetime_object = datetime.strptime(x['pickup_datetime'], '%Y-%m-%d %H:%M:%S')\n",
    "#         return datetime_object.hours*60 + datetime_object.minutes\n",
    "#     except:\n",
    "#         return pd.NaT"
   ]
  },
  {
   "cell_type": "markdown",
   "metadata": {},
   "source": [
    "# Adjust Fare Amout By Rules (http://www.nyc.gov/html/tlc/html/passenger/taxicab_rate.shtml)\n",
    "```\n",
    "Metered Fare Information\n",
    "Onscreen rate is ‘Rate #01 – Standard City Rate.’\n",
    "The initial charge is $2.50.\n",
    "Plus 50 cents per 1/5 mile or 50 cents per 60 seconds in slow traffic or when the vehicle is stopped.\n",
    "In moving traffic on Manhattan streets, the meter should “click” approximately every four downtown blocks, or one block going cross-town (East-West).\n",
    "There is a 50-cent MTA State Surcharge for all trips that end in New York City or Nassau, Suffolk, Westchester, Rockland, Dutchess, Orange or Putnam Counties.\n",
    "There is a 30-cent Improvement Surcharge. \n",
    "There is a daily 50-cent surcharge from 8pm to 6am.\n",
    "There is a $1 surcharge from 4pm to 8pm on weekdays, excluding holidays.\n",
    "Passengers must pay all bridge and tunnel tolls.\n",
    "Your receipt will show your total fare including tolls. Please take your receipt.\n",
    "The driver is not required to accept bills over $20.\n",
    "Please tip your driver for safety and good service.\n",
    "There are no charges for extra passengers or bags.\n",
    "\n",
    "To/From JFK and any location in Manhattan:\n",
    "Onscreen rate is ‘Rate #02 – JFK Airport.’\n",
    "This is a flat fare of $52 plus tolls, the 50-cent MTA State Surcharge, the 30-cent Improvement Surcharge, and $4.50 rush hour surcharge (4 PM to 8 PM weekdays, excluding legal holidays).\n",
    "Passenger is responsible for paying all tolls.\n",
    "Please tip your driver for safety and good service.\n",
    "```"
   ]
  },
  {
   "cell_type": "code",
   "execution_count": null,
   "metadata": {},
   "outputs": [],
   "source": [
    "def adjust_fare(row_data):\n",
    "    fare = row_data['fare_amount']\n",
    "    \n",
    "    if to_jfk(row_data) or from:\n",
    "        # flat fare of $52\n",
    "        fare -= 52\n",
    "        # MTA State Surcharge\n",
    "        fare -= 0.5\n",
    "        # 30-cent Improvement Surcharge,\n",
    "        fare -= 0.3\n",
    "        \n",
    "        if is_rush(row_data):\n",
    "            fare -= 4.5\n",
    "    # from_jfk to maha\n",
    "        "
   ]
  },
  {
   "cell_type": "markdown",
   "metadata": {},
   "source": [
    "# Get Data & Transform UTC to EST or EDT"
   ]
  },
  {
   "cell_type": "code",
   "execution_count": 5,
   "metadata": {},
   "outputs": [],
   "source": [
    "train_df = pd.read_csv(PATH + TRAIN_FILE, nrows = ROWS)\n",
    "test_df = pd.read_csv(PATH + TEST_FILE)"
   ]
  },
  {
   "cell_type": "code",
   "execution_count": 6,
   "metadata": {},
   "outputs": [],
   "source": [
    "train_df['pickup_datetime'] = pd.to_datetime(train_df.pickup_datetime, infer_datetime_format=True)\n",
    "train_df.insert(train_df.shape[1],\\\n",
    "                'new_york_time', \\\n",
    "                train_df.pickup_datetime.\\\n",
    "                dt.tz_localize('utc').\\\n",
    "                dt.tz_convert('America/New_York'))"
   ]
  },
  {
   "cell_type": "code",
   "execution_count": 8,
   "metadata": {},
   "outputs": [
    {
     "data": {
      "text/html": [
       "<div>\n",
       "<style scoped>\n",
       "    .dataframe tbody tr th:only-of-type {\n",
       "        vertical-align: middle;\n",
       "    }\n",
       "\n",
       "    .dataframe tbody tr th {\n",
       "        vertical-align: top;\n",
       "    }\n",
       "\n",
       "    .dataframe thead th {\n",
       "        text-align: right;\n",
       "    }\n",
       "</style>\n",
       "<table border=\"1\" class=\"dataframe\">\n",
       "  <thead>\n",
       "    <tr style=\"text-align: right;\">\n",
       "      <th></th>\n",
       "      <th>key</th>\n",
       "      <th>fare_amount</th>\n",
       "      <th>pickup_datetime</th>\n",
       "      <th>pickup_longitude</th>\n",
       "      <th>pickup_latitude</th>\n",
       "      <th>dropoff_longitude</th>\n",
       "      <th>dropoff_latitude</th>\n",
       "      <th>passenger_count</th>\n",
       "      <th>new_york_time</th>\n",
       "    </tr>\n",
       "  </thead>\n",
       "  <tbody>\n",
       "    <tr>\n",
       "      <th>0</th>\n",
       "      <td>2009-06-15 17:26:21.0000001</td>\n",
       "      <td>4.5</td>\n",
       "      <td>2009-06-15 17:26:21</td>\n",
       "      <td>-73.844311</td>\n",
       "      <td>40.721319</td>\n",
       "      <td>-73.841610</td>\n",
       "      <td>40.712278</td>\n",
       "      <td>1</td>\n",
       "      <td>2009-06-15 13:26:21-04:00</td>\n",
       "    </tr>\n",
       "    <tr>\n",
       "      <th>1</th>\n",
       "      <td>2010-01-05 16:52:16.0000002</td>\n",
       "      <td>16.9</td>\n",
       "      <td>2010-01-05 16:52:16</td>\n",
       "      <td>-74.016048</td>\n",
       "      <td>40.711303</td>\n",
       "      <td>-73.979268</td>\n",
       "      <td>40.782004</td>\n",
       "      <td>1</td>\n",
       "      <td>2010-01-05 11:52:16-05:00</td>\n",
       "    </tr>\n",
       "    <tr>\n",
       "      <th>2</th>\n",
       "      <td>2011-08-18 00:35:00.00000049</td>\n",
       "      <td>5.7</td>\n",
       "      <td>2011-08-18 00:35:00</td>\n",
       "      <td>-73.982738</td>\n",
       "      <td>40.761270</td>\n",
       "      <td>-73.991242</td>\n",
       "      <td>40.750562</td>\n",
       "      <td>2</td>\n",
       "      <td>2011-08-17 20:35:00-04:00</td>\n",
       "    </tr>\n",
       "    <tr>\n",
       "      <th>3</th>\n",
       "      <td>2012-04-21 04:30:42.0000001</td>\n",
       "      <td>7.7</td>\n",
       "      <td>2012-04-21 04:30:42</td>\n",
       "      <td>-73.987130</td>\n",
       "      <td>40.733143</td>\n",
       "      <td>-73.991567</td>\n",
       "      <td>40.758092</td>\n",
       "      <td>1</td>\n",
       "      <td>2012-04-21 00:30:42-04:00</td>\n",
       "    </tr>\n",
       "    <tr>\n",
       "      <th>4</th>\n",
       "      <td>2010-03-09 07:51:00.000000135</td>\n",
       "      <td>5.3</td>\n",
       "      <td>2010-03-09 07:51:00</td>\n",
       "      <td>-73.968095</td>\n",
       "      <td>40.768008</td>\n",
       "      <td>-73.956655</td>\n",
       "      <td>40.783762</td>\n",
       "      <td>1</td>\n",
       "      <td>2010-03-09 02:51:00-05:00</td>\n",
       "    </tr>\n",
       "  </tbody>\n",
       "</table>\n",
       "</div>"
      ],
      "text/plain": [
       "                             key  fare_amount     pickup_datetime  \\\n",
       "0    2009-06-15 17:26:21.0000001          4.5 2009-06-15 17:26:21   \n",
       "1    2010-01-05 16:52:16.0000002         16.9 2010-01-05 16:52:16   \n",
       "2   2011-08-18 00:35:00.00000049          5.7 2011-08-18 00:35:00   \n",
       "3    2012-04-21 04:30:42.0000001          7.7 2012-04-21 04:30:42   \n",
       "4  2010-03-09 07:51:00.000000135          5.3 2010-03-09 07:51:00   \n",
       "\n",
       "   pickup_longitude  pickup_latitude  dropoff_longitude  dropoff_latitude  \\\n",
       "0        -73.844311        40.721319         -73.841610         40.712278   \n",
       "1        -74.016048        40.711303         -73.979268         40.782004   \n",
       "2        -73.982738        40.761270         -73.991242         40.750562   \n",
       "3        -73.987130        40.733143         -73.991567         40.758092   \n",
       "4        -73.968095        40.768008         -73.956655         40.783762   \n",
       "\n",
       "   passenger_count             new_york_time  \n",
       "0                1 2009-06-15 13:26:21-04:00  \n",
       "1                1 2010-01-05 11:52:16-05:00  \n",
       "2                2 2011-08-17 20:35:00-04:00  \n",
       "3                1 2012-04-21 00:30:42-04:00  \n",
       "4                1 2010-03-09 02:51:00-05:00  "
      ]
     },
     "execution_count": 8,
     "metadata": {},
     "output_type": "execute_result"
    }
   ],
   "source": [
    "train_df.head()\n",
    "# print(train_df.new_york_time.loc[0].hour)"
   ]
  },
  {
   "cell_type": "markdown",
   "metadata": {},
   "source": [
    "# Q1 Take a look at the training data ...\n",
    "\n",
    "## There may be anomalies in the data that you may need to factor in before you start on the other tasks. Clean the data first to handle these issues. Explain what you did to clean the data (in bulleted form)."
   ]
  },
  {
   "cell_type": "markdown",
   "metadata": {},
   "source": [
    "# Data Cleaning"
   ]
  },
  {
   "cell_type": "markdown",
   "metadata": {},
   "source": [
    "## Remove trivial anomaly as follows:\n",
    "* data['fare_amount'] <= 2.5\n",
    "* data['longitude'] >= -69.445473 or data['longitude'] <= -86.580444\n",
    "* data['latitude'] <= 35.517490 or data['latitude'] >= 45.253784\n",
    "* pickup location == dropoff location\n",
    "* data['passenger_count'] < 0 or data['passenger_count'] > 6\n",
    "\n",
    ">[How many people can fit into a yellow taxicab?](#http://www.nyc.gov/html/tlc/html/faq/faq_pass.shtml)\n",
    "\n",
    "> From Driver Rule 54-15(g) (in PDF):\n",
    "The maximum amount of passengers allowed in a yellow taxicab by law is four (4) in a four (4) passenger taxicab or five (5) passengers in a five (5) passenger taxicab, except that an additional passenger must be accepted if such passenger is under the age of seven (7) and is held on the lap of an adult passenger seated in the rear."
   ]
  },
  {
   "cell_type": "code",
   "execution_count": 9,
   "metadata": {},
   "outputs": [
    {
     "name": "stdout",
     "output_type": "stream",
     "text": [
      "Original size: 554253\n",
      "New size: 554247\n"
     ]
    }
   ],
   "source": [
    "print('Original size:', train_df.shape[0])\n",
    "train_df = train_df.dropna(how = 'any', axis = 'rows')\n",
    "print('New size:', train_df.shape[0])"
   ]
  },
  {
   "cell_type": "code",
   "execution_count": 10,
   "metadata": {},
   "outputs": [],
   "source": [
    "test_df['pickup_datetime'] = pd.to_datetime(test_df.pickup_datetime, infer_datetime_format=True)"
   ]
  },
  {
   "cell_type": "code",
   "execution_count": 11,
   "metadata": {},
   "outputs": [
    {
     "name": "stdout",
     "output_type": "stream",
     "text": [
      "Before data cleaning:\n"
     ]
    },
    {
     "data": {
      "text/html": [
       "<div>\n",
       "<style scoped>\n",
       "    .dataframe tbody tr th:only-of-type {\n",
       "        vertical-align: middle;\n",
       "    }\n",
       "\n",
       "    .dataframe tbody tr th {\n",
       "        vertical-align: top;\n",
       "    }\n",
       "\n",
       "    .dataframe thead th {\n",
       "        text-align: right;\n",
       "    }\n",
       "</style>\n",
       "<table border=\"1\" class=\"dataframe\">\n",
       "  <thead>\n",
       "    <tr style=\"text-align: right;\">\n",
       "      <th></th>\n",
       "      <th>fare_amount</th>\n",
       "      <th>pickup_longitude</th>\n",
       "      <th>pickup_latitude</th>\n",
       "      <th>dropoff_longitude</th>\n",
       "      <th>dropoff_latitude</th>\n",
       "      <th>passenger_count</th>\n",
       "    </tr>\n",
       "  </thead>\n",
       "  <tbody>\n",
       "    <tr>\n",
       "      <th>count</th>\n",
       "      <td>554247.000000</td>\n",
       "      <td>554247.000000</td>\n",
       "      <td>554247.000000</td>\n",
       "      <td>554247.000000</td>\n",
       "      <td>554247.000000</td>\n",
       "      <td>554247.000000</td>\n",
       "    </tr>\n",
       "    <tr>\n",
       "      <th>mean</th>\n",
       "      <td>11.348476</td>\n",
       "      <td>-72.528619</td>\n",
       "      <td>39.922797</td>\n",
       "      <td>-72.525550</td>\n",
       "      <td>39.918447</td>\n",
       "      <td>1.683847</td>\n",
       "    </tr>\n",
       "    <tr>\n",
       "      <th>std</th>\n",
       "      <td>9.880137</td>\n",
       "      <td>12.528707</td>\n",
       "      <td>7.939323</td>\n",
       "      <td>11.679850</td>\n",
       "      <td>7.289806</td>\n",
       "      <td>1.307555</td>\n",
       "    </tr>\n",
       "    <tr>\n",
       "      <th>min</th>\n",
       "      <td>-44.900000</td>\n",
       "      <td>-3377.680935</td>\n",
       "      <td>-3116.285383</td>\n",
       "      <td>-3383.296608</td>\n",
       "      <td>-2559.748913</td>\n",
       "      <td>0.000000</td>\n",
       "    </tr>\n",
       "    <tr>\n",
       "      <th>25%</th>\n",
       "      <td>6.000000</td>\n",
       "      <td>-73.992045</td>\n",
       "      <td>40.734947</td>\n",
       "      <td>-73.991388</td>\n",
       "      <td>40.734062</td>\n",
       "      <td>1.000000</td>\n",
       "    </tr>\n",
       "    <tr>\n",
       "      <th>50%</th>\n",
       "      <td>8.500000</td>\n",
       "      <td>-73.981792</td>\n",
       "      <td>40.752683</td>\n",
       "      <td>-73.980141</td>\n",
       "      <td>40.753140</td>\n",
       "      <td>1.000000</td>\n",
       "    </tr>\n",
       "    <tr>\n",
       "      <th>75%</th>\n",
       "      <td>12.500000</td>\n",
       "      <td>-73.967110</td>\n",
       "      <td>40.767090</td>\n",
       "      <td>-73.963598</td>\n",
       "      <td>40.768127</td>\n",
       "      <td>2.000000</td>\n",
       "    </tr>\n",
       "    <tr>\n",
       "      <th>max</th>\n",
       "      <td>500.000000</td>\n",
       "      <td>2140.601160</td>\n",
       "      <td>1703.092772</td>\n",
       "      <td>40.851027</td>\n",
       "      <td>404.616667</td>\n",
       "      <td>6.000000</td>\n",
       "    </tr>\n",
       "  </tbody>\n",
       "</table>\n",
       "</div>"
      ],
      "text/plain": [
       "         fare_amount  pickup_longitude  pickup_latitude  dropoff_longitude  \\\n",
       "count  554247.000000     554247.000000    554247.000000      554247.000000   \n",
       "mean       11.348476        -72.528619        39.922797         -72.525550   \n",
       "std         9.880137         12.528707         7.939323          11.679850   \n",
       "min       -44.900000      -3377.680935     -3116.285383       -3383.296608   \n",
       "25%         6.000000        -73.992045        40.734947         -73.991388   \n",
       "50%         8.500000        -73.981792        40.752683         -73.980141   \n",
       "75%        12.500000        -73.967110        40.767090         -73.963598   \n",
       "max       500.000000       2140.601160      1703.092772          40.851027   \n",
       "\n",
       "       dropoff_latitude  passenger_count  \n",
       "count     554247.000000    554247.000000  \n",
       "mean          39.918447         1.683847  \n",
       "std            7.289806         1.307555  \n",
       "min        -2559.748913         0.000000  \n",
       "25%           40.734062         1.000000  \n",
       "50%           40.753140         1.000000  \n",
       "75%           40.768127         2.000000  \n",
       "max          404.616667         6.000000  "
      ]
     },
     "execution_count": 11,
     "metadata": {},
     "output_type": "execute_result"
    }
   ],
   "source": [
    "print('Before data cleaning:')\n",
    "df = train_df[:]\n",
    "df.describe()"
   ]
  },
  {
   "cell_type": "code",
   "execution_count": 12,
   "metadata": {},
   "outputs": [],
   "source": [
    "geolocator = geopy.Nominatim(user_agent='boundary')\n",
    "left_bottom_boundary = geolocator.geocode(LEFT_BOTTOM_CITY)\n",
    "right_top_boundary = geolocator.geocode(RIGHT_TOP_CITY)"
   ]
  },
  {
   "cell_type": "code",
   "execution_count": 13,
   "metadata": {},
   "outputs": [
    {
     "name": "stdout",
     "output_type": "stream",
     "text": [
      "Original size:                                         554247\n",
      "Size after removing invalid fare:                      552016\n",
      "Size after removing invalid longitude and latitude:    540924\n",
      "Size after removing same pickup and dropoff location:  535497\n",
      "Size after removing invalid passenger count:           533569\n"
     ]
    }
   ],
   "source": [
    "print('{0:54}'.format('Original size:'), df.shape[0])\n",
    "df = df.loc[(df['fare_amount'] > 2.5)]\n",
    "print('{0:54}'.format('Size after removing invalid fare:'), df.shape[0])\n",
    "\n",
    "# print('Size before removing invalid longitude and latitude:', df.shape[0])\n",
    "df = df.loc[(df['pickup_longitude'] < right_top_boundary.longitude) & \\\n",
    "            (df['pickup_longitude'] > left_bottom_boundary.longitude) & \\\n",
    "            (df['dropoff_longitude'] < right_top_boundary.longitude) & \\\n",
    "            (df['dropoff_longitude'] > left_bottom_boundary.longitude) & \\\n",
    "            (df['pickup_latitude'] < right_top_boundary.latitude) & \\\n",
    "            (df['pickup_latitude'] > left_bottom_boundary.latitude) & \\\n",
    "            (df['dropoff_latitude'] < right_top_boundary.latitude) & \\\n",
    "            (df['dropoff_latitude'] > left_bottom_boundary.latitude)]\n",
    "print('{0:54}'.format('Size after removing invalid longitude and latitude:'), df.shape[0])\n",
    "\n",
    "\n",
    "df = df.loc[(df['pickup_longitude'] != df['dropoff_longitude']) | \\\n",
    "            (df['pickup_latitude'] != df['dropoff_latitude'])]\n",
    "print('{0:54}'.format('Size after removing same pickup and dropoff location:'), df.shape[0])\n",
    "\n",
    "# print('Size before removing invalid passenger count:', df.shape[0])\n",
    "df = df.loc[(df['passenger_count'] > 0) & (df['passenger_count'] < 7)]\n",
    "print('{0:54}'.format('Size after removing invalid passenger count:'), df.shape[0])"
   ]
  },
  {
   "cell_type": "code",
   "execution_count": 14,
   "metadata": {},
   "outputs": [
    {
     "data": {
      "text/html": [
       "<div>\n",
       "<style scoped>\n",
       "    .dataframe tbody tr th:only-of-type {\n",
       "        vertical-align: middle;\n",
       "    }\n",
       "\n",
       "    .dataframe tbody tr th {\n",
       "        vertical-align: top;\n",
       "    }\n",
       "\n",
       "    .dataframe thead th {\n",
       "        text-align: right;\n",
       "    }\n",
       "</style>\n",
       "<table border=\"1\" class=\"dataframe\">\n",
       "  <thead>\n",
       "    <tr style=\"text-align: right;\">\n",
       "      <th></th>\n",
       "      <th>fare_amount</th>\n",
       "      <th>pickup_longitude</th>\n",
       "      <th>pickup_latitude</th>\n",
       "      <th>dropoff_longitude</th>\n",
       "      <th>dropoff_latitude</th>\n",
       "      <th>passenger_count</th>\n",
       "    </tr>\n",
       "  </thead>\n",
       "  <tbody>\n",
       "    <tr>\n",
       "      <th>count</th>\n",
       "      <td>533569.000000</td>\n",
       "      <td>533569.000000</td>\n",
       "      <td>533569.000000</td>\n",
       "      <td>533569.000000</td>\n",
       "      <td>533569.000000</td>\n",
       "      <td>533569.000000</td>\n",
       "    </tr>\n",
       "    <tr>\n",
       "      <th>mean</th>\n",
       "      <td>11.370156</td>\n",
       "      <td>-73.975565</td>\n",
       "      <td>40.750866</td>\n",
       "      <td>-73.974563</td>\n",
       "      <td>40.751235</td>\n",
       "      <td>1.691118</td>\n",
       "    </tr>\n",
       "    <tr>\n",
       "      <th>std</th>\n",
       "      <td>9.737077</td>\n",
       "      <td>0.043305</td>\n",
       "      <td>0.032446</td>\n",
       "      <td>0.040239</td>\n",
       "      <td>0.035624</td>\n",
       "      <td>1.306521</td>\n",
       "    </tr>\n",
       "    <tr>\n",
       "      <th>min</th>\n",
       "      <td>2.510000</td>\n",
       "      <td>-80.616665</td>\n",
       "      <td>37.419853</td>\n",
       "      <td>-78.659447</td>\n",
       "      <td>37.346533</td>\n",
       "      <td>1.000000</td>\n",
       "    </tr>\n",
       "    <tr>\n",
       "      <th>25%</th>\n",
       "      <td>6.000000</td>\n",
       "      <td>-73.992272</td>\n",
       "      <td>40.736595</td>\n",
       "      <td>-73.991580</td>\n",
       "      <td>40.735649</td>\n",
       "      <td>1.000000</td>\n",
       "    </tr>\n",
       "    <tr>\n",
       "      <th>50%</th>\n",
       "      <td>8.500000</td>\n",
       "      <td>-73.982110</td>\n",
       "      <td>40.753413</td>\n",
       "      <td>-73.980624</td>\n",
       "      <td>40.753895</td>\n",
       "      <td>1.000000</td>\n",
       "    </tr>\n",
       "    <tr>\n",
       "      <th>75%</th>\n",
       "      <td>12.500000</td>\n",
       "      <td>-73.968490</td>\n",
       "      <td>40.767515</td>\n",
       "      <td>-73.965469</td>\n",
       "      <td>40.768427</td>\n",
       "      <td>2.000000</td>\n",
       "    </tr>\n",
       "    <tr>\n",
       "      <th>max</th>\n",
       "      <td>495.000000</td>\n",
       "      <td>-69.062927</td>\n",
       "      <td>45.035255</td>\n",
       "      <td>-70.050500</td>\n",
       "      <td>45.035269</td>\n",
       "      <td>6.000000</td>\n",
       "    </tr>\n",
       "  </tbody>\n",
       "</table>\n",
       "</div>"
      ],
      "text/plain": [
       "         fare_amount  pickup_longitude  pickup_latitude  dropoff_longitude  \\\n",
       "count  533569.000000     533569.000000    533569.000000      533569.000000   \n",
       "mean       11.370156        -73.975565        40.750866         -73.974563   \n",
       "std         9.737077          0.043305         0.032446           0.040239   \n",
       "min         2.510000        -80.616665        37.419853         -78.659447   \n",
       "25%         6.000000        -73.992272        40.736595         -73.991580   \n",
       "50%         8.500000        -73.982110        40.753413         -73.980624   \n",
       "75%        12.500000        -73.968490        40.767515         -73.965469   \n",
       "max       495.000000        -69.062927        45.035255         -70.050500   \n",
       "\n",
       "       dropoff_latitude  passenger_count  \n",
       "count     533569.000000    533569.000000  \n",
       "mean          40.751235         1.691118  \n",
       "std            0.035624         1.306521  \n",
       "min           37.346533         1.000000  \n",
       "25%           40.735649         1.000000  \n",
       "50%           40.753895         1.000000  \n",
       "75%           40.768427         2.000000  \n",
       "max           45.035269         6.000000  "
      ]
     },
     "execution_count": 14,
     "metadata": {},
     "output_type": "execute_result"
    }
   ],
   "source": [
    "df.describe()\n",
    "# remove_outlier_pickup_lon = removeOutliersTukey(raw_data,'pickup_longitude')\n",
    "# remove_outlier_pickup_lat = removeOutliersTukey(remove_outlier_pickup_lon,'pickup_latitude')\n",
    "# remove_outlier_dropoff_lon = removeOutliersTukey(remove_outlier_pickup_lat,'dropoff_longitude')\n",
    "# remove_outlier_dropoff_lat = removeOutliersTukey(remove_outlier_dropoff_lon,'dropoff_latitude')\n",
    "\n",
    "# print(len(remove_outlier_pickup_lon))\n",
    "# print(len(remove_outlier_pickup_lat))\n",
    "# print(len(remove_outlier_dropoff_lon))\n",
    "# print(len(remove_outlier_dropoff_lat))\n",
    "\n",
    "# print('Data after 2nd cleaning:')\n",
    "# remove_outlier_dropoff_lat.describe()"
   ]
  },
  {
   "cell_type": "markdown",
   "metadata": {},
   "source": [
    "# Data Preprocessing"
   ]
  },
  {
   "cell_type": "code",
   "execution_count": 15,
   "metadata": {},
   "outputs": [],
   "source": [
    "clean_data = df[:]"
   ]
  },
  {
   "cell_type": "code",
   "execution_count": 16,
   "metadata": {},
   "outputs": [],
   "source": [
    "euclidean_dist = clean_data.apply(dist, axis=1)"
   ]
  },
  {
   "cell_type": "code",
   "execution_count": 17,
   "metadata": {},
   "outputs": [],
   "source": [
    "clean_data.insert(clean_data.shape[1], 'year', clean_data.new_york_time.dt.year)\n",
    "clean_data.insert(clean_data.shape[1], 'weekday', clean_data.new_york_time.dt.weekday)\n",
    "clean_data.insert(clean_data.shape[1], 'hour', clean_data.new_york_time.dt.hour + clean_data.new_york_time.dt.minute/60)\n",
    "clean_data.insert(clean_data.shape[1], 'dist', euclidean_dist)"
   ]
  },
  {
   "cell_type": "code",
   "execution_count": 18,
   "metadata": {},
   "outputs": [
    {
     "data": {
      "text/html": [
       "<div>\n",
       "<style scoped>\n",
       "    .dataframe tbody tr th:only-of-type {\n",
       "        vertical-align: middle;\n",
       "    }\n",
       "\n",
       "    .dataframe tbody tr th {\n",
       "        vertical-align: top;\n",
       "    }\n",
       "\n",
       "    .dataframe thead th {\n",
       "        text-align: right;\n",
       "    }\n",
       "</style>\n",
       "<table border=\"1\" class=\"dataframe\">\n",
       "  <thead>\n",
       "    <tr style=\"text-align: right;\">\n",
       "      <th></th>\n",
       "      <th>fare_amount</th>\n",
       "      <th>pickup_longitude</th>\n",
       "      <th>pickup_latitude</th>\n",
       "      <th>dropoff_longitude</th>\n",
       "      <th>dropoff_latitude</th>\n",
       "      <th>passenger_count</th>\n",
       "      <th>year</th>\n",
       "      <th>weekday</th>\n",
       "      <th>hour</th>\n",
       "      <th>dist</th>\n",
       "    </tr>\n",
       "  </thead>\n",
       "  <tbody>\n",
       "    <tr>\n",
       "      <th>count</th>\n",
       "      <td>533569.000000</td>\n",
       "      <td>533569.000000</td>\n",
       "      <td>533569.000000</td>\n",
       "      <td>533569.000000</td>\n",
       "      <td>533569.000000</td>\n",
       "      <td>533569.000000</td>\n",
       "      <td>533569.000000</td>\n",
       "      <td>533569.000000</td>\n",
       "      <td>533569.000000</td>\n",
       "      <td>533569.000000</td>\n",
       "    </tr>\n",
       "    <tr>\n",
       "      <th>mean</th>\n",
       "      <td>11.370156</td>\n",
       "      <td>-73.975565</td>\n",
       "      <td>40.750866</td>\n",
       "      <td>-73.974563</td>\n",
       "      <td>40.751235</td>\n",
       "      <td>1.691118</td>\n",
       "      <td>2011.742612</td>\n",
       "      <td>2.984862</td>\n",
       "      <td>12.298141</td>\n",
       "      <td>1.722759</td>\n",
       "    </tr>\n",
       "    <tr>\n",
       "      <th>std</th>\n",
       "      <td>9.737077</td>\n",
       "      <td>0.043305</td>\n",
       "      <td>0.032446</td>\n",
       "      <td>0.040239</td>\n",
       "      <td>0.035624</td>\n",
       "      <td>1.306521</td>\n",
       "      <td>1.866619</td>\n",
       "      <td>1.904931</td>\n",
       "      <td>5.828675</td>\n",
       "      <td>2.756546</td>\n",
       "    </tr>\n",
       "    <tr>\n",
       "      <th>min</th>\n",
       "      <td>2.510000</td>\n",
       "      <td>-80.616665</td>\n",
       "      <td>37.419853</td>\n",
       "      <td>-78.659447</td>\n",
       "      <td>37.346533</td>\n",
       "      <td>1.000000</td>\n",
       "      <td>2008.000000</td>\n",
       "      <td>0.000000</td>\n",
       "      <td>0.000000</td>\n",
       "      <td>0.000019</td>\n",
       "    </tr>\n",
       "    <tr>\n",
       "      <th>25%</th>\n",
       "      <td>6.000000</td>\n",
       "      <td>-73.992272</td>\n",
       "      <td>40.736595</td>\n",
       "      <td>-73.991580</td>\n",
       "      <td>40.735649</td>\n",
       "      <td>1.000000</td>\n",
       "      <td>2010.000000</td>\n",
       "      <td>1.000000</td>\n",
       "      <td>7.466667</td>\n",
       "      <td>0.548233</td>\n",
       "    </tr>\n",
       "    <tr>\n",
       "      <th>50%</th>\n",
       "      <td>8.500000</td>\n",
       "      <td>-73.982110</td>\n",
       "      <td>40.753413</td>\n",
       "      <td>-73.980624</td>\n",
       "      <td>40.753895</td>\n",
       "      <td>1.000000</td>\n",
       "      <td>2012.000000</td>\n",
       "      <td>3.000000</td>\n",
       "      <td>12.683333</td>\n",
       "      <td>0.983850</td>\n",
       "    </tr>\n",
       "    <tr>\n",
       "      <th>75%</th>\n",
       "      <td>12.500000</td>\n",
       "      <td>-73.968490</td>\n",
       "      <td>40.767515</td>\n",
       "      <td>-73.965469</td>\n",
       "      <td>40.768427</td>\n",
       "      <td>2.000000</td>\n",
       "      <td>2013.000000</td>\n",
       "      <td>5.000000</td>\n",
       "      <td>17.033333</td>\n",
       "      <td>1.784715</td>\n",
       "    </tr>\n",
       "    <tr>\n",
       "      <th>max</th>\n",
       "      <td>495.000000</td>\n",
       "      <td>-69.062927</td>\n",
       "      <td>45.035255</td>\n",
       "      <td>-70.050500</td>\n",
       "      <td>45.035269</td>\n",
       "      <td>6.000000</td>\n",
       "      <td>2015.000000</td>\n",
       "      <td>6.000000</td>\n",
       "      <td>23.983333</td>\n",
       "      <td>461.033824</td>\n",
       "    </tr>\n",
       "  </tbody>\n",
       "</table>\n",
       "</div>"
      ],
      "text/plain": [
       "         fare_amount  pickup_longitude  pickup_latitude  dropoff_longitude  \\\n",
       "count  533569.000000     533569.000000    533569.000000      533569.000000   \n",
       "mean       11.370156        -73.975565        40.750866         -73.974563   \n",
       "std         9.737077          0.043305         0.032446           0.040239   \n",
       "min         2.510000        -80.616665        37.419853         -78.659447   \n",
       "25%         6.000000        -73.992272        40.736595         -73.991580   \n",
       "50%         8.500000        -73.982110        40.753413         -73.980624   \n",
       "75%        12.500000        -73.968490        40.767515         -73.965469   \n",
       "max       495.000000        -69.062927        45.035255         -70.050500   \n",
       "\n",
       "       dropoff_latitude  passenger_count           year        weekday  \\\n",
       "count     533569.000000    533569.000000  533569.000000  533569.000000   \n",
       "mean          40.751235         1.691118    2011.742612       2.984862   \n",
       "std            0.035624         1.306521       1.866619       1.904931   \n",
       "min           37.346533         1.000000    2008.000000       0.000000   \n",
       "25%           40.735649         1.000000    2010.000000       1.000000   \n",
       "50%           40.753895         1.000000    2012.000000       3.000000   \n",
       "75%           40.768427         2.000000    2013.000000       5.000000   \n",
       "max           45.035269         6.000000    2015.000000       6.000000   \n",
       "\n",
       "                hour           dist  \n",
       "count  533569.000000  533569.000000  \n",
       "mean       12.298141       1.722759  \n",
       "std         5.828675       2.756546  \n",
       "min         0.000000       0.000019  \n",
       "25%         7.466667       0.548233  \n",
       "50%        12.683333       0.983850  \n",
       "75%        17.033333       1.784715  \n",
       "max        23.983333     461.033824  "
      ]
     },
     "execution_count": 18,
     "metadata": {},
     "output_type": "execute_result"
    }
   ],
   "source": [
    "clean_data.describe()"
   ]
  },
  {
   "cell_type": "code",
   "execution_count": 19,
   "metadata": {},
   "outputs": [
    {
     "name": "stdout",
     "output_type": "stream",
     "text": [
      "Size after removing anomaly data:                      529292\n"
     ]
    }
   ],
   "source": [
    "# remove_outlier_dists.describe()\n",
    "clean_data = clean_data[least_fare_by_distance(clean_data)]\n",
    "print('{0:54}'.format('Size after removing anomaly data:'), clean_data.shape[0])\n",
    "\n",
    "clean_data = clean_data[(clean_data.dist > 0.2) | (clean_data.fare_amount < 10)]\n"
   ]
  },
  {
   "cell_type": "markdown",
   "metadata": {},
   "source": [
    "# Compute the Pearson correlation coefficients"
   ]
  },
  {
   "cell_type": "code",
   "execution_count": 20,
   "metadata": {},
   "outputs": [
    {
     "data": {
      "text/plain": [
       "0.873756765316089"
      ]
     },
     "execution_count": 20,
     "metadata": {},
     "output_type": "execute_result"
    }
   ],
   "source": [
    "# clean_data = remove_outlier_dists[:]\n",
    "\n",
    "# Euclidean distance of the ride and the taxi fare\n",
    "clean_data['dist'].corr(clean_data['fare_amount'])"
   ]
  },
  {
   "cell_type": "code",
   "execution_count": 21,
   "metadata": {},
   "outputs": [
    {
     "data": {
      "text/plain": [
       "-0.004211997378685756"
      ]
     },
     "execution_count": 21,
     "metadata": {},
     "output_type": "execute_result"
    }
   ],
   "source": [
    "# time of day and distance traveled\n",
    "clean_data['hour'].corr(clean_data['dist'])"
   ]
  },
  {
   "cell_type": "code",
   "execution_count": 22,
   "metadata": {},
   "outputs": [
    {
     "data": {
      "text/plain": [
       "-0.00474650964333065"
      ]
     },
     "execution_count": 22,
     "metadata": {},
     "output_type": "execute_result"
    }
   ],
   "source": [
    "# time of day and the taxi fare\n",
    "clean_data['hour'].corr(clean_data['fare_amount'])"
   ]
  },
  {
   "cell_type": "markdown",
   "metadata": {},
   "source": [
    "# Plot visualizing the relation between the variables"
   ]
  },
  {
   "cell_type": "code",
   "execution_count": 23,
   "metadata": {},
   "outputs": [
    {
     "data": {
      "text/plain": [
       "<matplotlib.axes._subplots.AxesSubplot at 0x1a207b5eb8>"
      ]
     },
     "execution_count": 23,
     "metadata": {},
     "output_type": "execute_result"
    },
    {
     "data": {
      "image/png": "[encoded data removed]",
      "text/plain": [
       "<Figure size 432x288 with 1 Axes>"
      ]
     },
     "metadata": {},
     "output_type": "display_data"
    }
   ],
   "source": [
    "clean_data.plot(kind='scatter', x='dist', y='fare_amount')"
   ]
  },
  {
   "cell_type": "code",
   "execution_count": 24,
   "metadata": {},
   "outputs": [
    {
     "data": {
      "text/plain": [
       "<matplotlib.axes._subplots.AxesSubplot at 0x1a22b467f0>"
      ]
     },
     "execution_count": 24,
     "metadata": {},
     "output_type": "execute_result"
    },
    {
     "data": {
      "image/png": "[encoded data removed]",
      "text/plain": [
       "<Figure size 432x288 with 1 Axes>"
      ]
     },
     "metadata": {},
     "output_type": "display_data"
    }
   ],
   "source": [
    "clean_data.plot(kind='scatter', x='dist', y='hour')"
   ]
  },
  {
   "cell_type": "code",
   "execution_count": 25,
   "metadata": {},
   "outputs": [
    {
     "data": {
      "text/plain": [
       "<matplotlib.axes._subplots.AxesSubplot at 0x1a26a768d0>"
      ]
     },
     "execution_count": 25,
     "metadata": {},
     "output_type": "execute_result"
    },
    {
     "data": {
      "image/png": "[encoded data removed]",
      "text/plain": [
       "<Figure size 432x288 with 1 Axes>"
      ]
     },
     "metadata": {},
     "output_type": "display_data"
    }
   ],
   "source": [
    "clean_data.plot(kind='scatter', x='hour', y='fare_amount')"
   ]
  },
  {
   "cell_type": "markdown",
   "metadata": {},
   "source": [
    "# Simple Linear Regression Model"
   ]
  },
  {
   "cell_type": "code",
   "execution_count": 26,
   "metadata": {},
   "outputs": [],
   "source": [
    "train, test = train_test_split(clean_data, test_size=0.3)"
   ]
  },
  {
   "cell_type": "code",
   "execution_count": 27,
   "metadata": {},
   "outputs": [],
   "source": [
    "train_x = list(map(lambda x: [x], list(train.dist)))\n",
    "train_y = list(map(lambda x: [x], list(train.fare_amount)))\n",
    "test_x = list(map(lambda x: [x], list(test.dist)))\n",
    "test_y = list(map(lambda x: [x], list(test.fare_amount)))"
   ]
  },
  {
   "cell_type": "code",
   "execution_count": 28,
   "metadata": {},
   "outputs": [
    {
     "name": "stdout",
     "output_type": "stream",
     "text": [
      "Coefficients: \n",
      " [[3.52019501]]\n",
      "Mean squared error: 21.50\n",
      "Variance score: 0.76\n"
     ]
    },
    {
     "data": {
      "image/png": "[encoded data removed]",
      "text/plain": [
       "<Figure size 432x288 with 1 Axes>"
      ]
     },
     "metadata": {},
     "output_type": "display_data"
    }
   ],
   "source": [
    "regr = linear_model.LinearRegression()\n",
    "regr.fit(train_x, train_y)\n",
    "fare_predict = regr.predict(test_x)\n",
    "\n",
    "# The coefficients\n",
    "print('Coefficients: \\n', regr.coef_)\n",
    "# The mean squared error\n",
    "print(\"Mean squared error: %.2f\"\n",
    "      % mean_squared_error(test_y, fare_predict))\n",
    "# Explained variance score: 1 is perfect prediction\n",
    "print('Variance score: %.2f' % r2_score(test_y, fare_predict))\n",
    "\n",
    "# Plot outputs\n",
    "plt.scatter(test_x, test_y,  color='blue')\n",
    "plt.plot(test_x, fare_predict, color='red', linewidth=3)\n",
    "\n",
    "plt.xticks(())\n",
    "plt.yticks(())\n",
    "\n",
    "plt.show()"
   ]
  },
  {
   "cell_type": "markdown",
   "metadata": {},
   "source": [
    "# Prediction Baseline"
   ]
  },
  {
   "cell_type": "code",
   "execution_count": 29,
   "metadata": {},
   "outputs": [],
   "source": [
    "test_df_dist = test_df.apply(dist, axis=1)\n",
    "test_df.insert(test_df.shape[1], 'dist', test_df_dist)"
   ]
  },
  {
   "cell_type": "code",
   "execution_count": 30,
   "metadata": {},
   "outputs": [],
   "source": [
    "test_X = list(map(lambda x: [x], list(test_df.dist)))"
   ]
  },
  {
   "cell_type": "code",
   "execution_count": 31,
   "metadata": {},
   "outputs": [],
   "source": [
    "fare_predict = regr.predict(test_X).round(decimals = 2)"
   ]
  },
  {
   "cell_type": "code",
   "execution_count": 32,
   "metadata": {},
   "outputs": [],
   "source": [
    "submission = pd.DataFrame({'key': test_df.key,\\\n",
    "                           'fare_amount': fare_predict.ravel()},\\\n",
    "                          columns = ['key', 'fare_amount'])\n",
    "submission.to_csv('submission.csv', index = False)\n"
   ]
  },
  {
   "cell_type": "code",
   "execution_count": 33,
   "metadata": {},
   "outputs": [
    {
     "data": {
      "text/plain": [
       "(9914, 2)"
      ]
     },
     "execution_count": 33,
     "metadata": {},
     "output_type": "execute_result"
    }
   ],
   "source": [
    "submission.shape"
   ]
  },
  {
   "cell_type": "markdown",
   "metadata": {},
   "source": [
    "# Extra Features \n",
    "## By year\n",
    "## By weekday\n",
    "## By time_of_day (hour)"
   ]
  },
  {
   "cell_type": "markdown",
   "metadata": {},
   "source": [
    "## Extra Features - Adjusted_Fare_Amount_By_Rules"
   ]
  },
  {
   "cell_type": "code",
   "execution_count": 34,
   "metadata": {},
   "outputs": [
    {
     "name": "stdout",
     "output_type": "stream",
     "text": [
      "2008 2015\n"
     ]
    }
   ],
   "source": [
    "print(min(clean_data.year), max(clean_data.year))"
   ]
  },
  {
   "cell_type": "code",
   "execution_count": 35,
   "metadata": {},
   "outputs": [
    {
     "name": "stdout",
     "output_type": "stream",
     "text": [
      "0.5440175917125062\n",
      "Year: 2008 Coeff:  [[5.3698988]] M.S.E: 64.69 Variance score: -2.07\n",
      "\n",
      "\n",
      "0.8918896761199503\n",
      "Year: 2009 Coeff:  [[3.18882783]] M.S.E: 11.45 Variance score: 0.80\n",
      "\n",
      "\n",
      "0.8601782011038539\n",
      "Year: 2010 Coeff:  [[3.15564428]] M.S.E: 17.38 Variance score: 0.74\n",
      "\n",
      "\n",
      "0.8884541194156172\n",
      "Year: 2011 Coeff:  [[3.20860252]] M.S.E: 15.66 Variance score: 0.79\n",
      "\n",
      "\n",
      "0.8595236315309722\n",
      "Year: 2012 Coeff:  [[3.44157278]] M.S.E: 20.68 Variance score: 0.76\n",
      "\n",
      "\n",
      "0.8895262686213044\n",
      "Year: 2013 Coeff:  [[3.83650571]] M.S.E: 23.11 Variance score: 0.79\n",
      "\n",
      "\n",
      "0.884422692672872\n",
      "Year: 2014 Coeff:  [[3.85648295]] M.S.E: 24.76 Variance score: 0.79\n",
      "\n",
      "\n",
      "0.8944291254568368\n",
      "Year: 2015 Coeff:  [[3.93921538]] M.S.E: 28.83 Variance score: 0.76\n",
      "\n",
      "\n"
     ]
    }
   ],
   "source": [
    "years_df = [None for _ in range(min(clean_data.year), max(clean_data.year) + 1)]\n",
    "minimum_year = min(clean_data.year)\n",
    "\n",
    "years = max(clean_data.year) + 1 - minimum_year\n",
    "for year in range(years):\n",
    "    years_df[year] = clean_data[clean_data.year == minimum_year+year]\n",
    "      \n",
    "    train, test = train_test_split(years_df[year], test_size=0.2)\n",
    "    train_x = list(map(lambda x: [x], list(train.dist)))\n",
    "    train_y = list(map(lambda x: [x], list(train.fare_amount)))\n",
    "    test_x = list(map(lambda x: [x], list(test.dist)))\n",
    "    test_y = list(map(lambda x: [x], list(test.fare_amount)))\n",
    "    regr.fit(train_x, train_y)\n",
    "    fare_predict = regr.predict(test_x)\n",
    "\n",
    "    print(years_df[year]['dist'].corr(years_df[year]['fare_amount']))\n",
    "    # The coefficients\n",
    "    print('Year: {}'.format(minimum_year + year), 'Coeff: ', regr.coef_, \\\n",
    "          \"M.S.E: %.2f\" % (mean_squared_error(test_y, fare_predict)), \\\n",
    "          'Variance score: %.2f' % r2_score(test_y, fare_predict))\n",
    "    print('\\n')\n",
    "\n",
    "    # Plot outputs\n",
    "#     plt.scatter(test_x, test_y,  color='blue')\n",
    "#     plt.plot(test_x, fare_predict, color='red', linewidth=3)\n",
    "\n",
    "#     plt.xticks(())\n",
    "#     plt.yticks(())\n",
    "\n",
    "    \n",
    "# plt.show()"
   ]
  },
  {
   "cell_type": "markdown",
   "metadata": {},
   "source": [
    "# Night Surcharge"
   ]
  },
  {
   "cell_type": "code",
   "execution_count": 36,
   "metadata": {},
   "outputs": [],
   "source": [
    "def night_surcharge(row_data, night = True):\n",
    "    if night:\n",
    "        return (row_data['hour'] >= 20) | (row_data['hour'] <= 6)\n",
    "    else:\n",
    "        return (row_data['hour'] < 20) & (row_data['hour'] > 6)\n",
    "    \n",
    "def weekday_filter(row_data):\n",
    "    return row_data.weekday < 5 \n"
   ]
  },
  {
   "cell_type": "code",
   "execution_count": 37,
   "metadata": {},
   "outputs": [
    {
     "name": "stdout",
     "output_type": "stream",
     "text": [
      "0.542135913467596\n",
      "Year: 2008 Coeff:  [[2.86729547]] M.S.E: 10.95 Variance score: 0.44\n",
      "\n",
      "\n",
      "0.8872102464924284\n",
      "Year: 2009 Coeff:  [[3.11149594]] M.S.E: 11.71 Variance score: 0.80\n",
      "\n",
      "\n",
      "0.8524869753433372\n",
      "Year: 2010 Coeff:  [[3.15196572]] M.S.E: 18.45 Variance score: 0.73\n",
      "\n",
      "\n",
      "0.8843341121672379\n",
      "Year: 2011 Coeff:  [[3.15580758]] M.S.E: 16.12 Variance score: 0.78\n",
      "\n",
      "\n",
      "0.8703604999801482\n",
      "Year: 2012 Coeff:  [[3.33692831]] M.S.E: 25.48 Variance score: 0.74\n",
      "\n",
      "\n",
      "0.8811627248581781\n",
      "Year: 2013 Coeff:  [[3.78986074]] M.S.E: 26.36 Variance score: 0.75\n",
      "\n",
      "\n",
      "0.8788998975630329\n",
      "Year: 2014 Coeff:  [[3.80991107]] M.S.E: 24.99 Variance score: 0.79\n",
      "\n",
      "\n",
      "0.8848932434862314\n",
      "Year: 2015 Coeff:  [[3.85896129]] M.S.E: 35.56 Variance score: 0.76\n",
      "\n",
      "\n"
     ]
    }
   ],
   "source": [
    "for year in range(years):\n",
    "    night = None\n",
    "    night = years_df[year][night_surcharge(years_df[year], True)]\n",
    "    train, test = train_test_split(night, test_size=0.2)\n",
    "    train_x = list(map(lambda x: [x], list(train.dist)))\n",
    "    train_y = list(map(lambda x: [x], list(train.fare_amount)))\n",
    "    test_x = list(map(lambda x: [x], list(test.dist)))\n",
    "    test_y = list(map(lambda x: [x], list(test.fare_amount)))\n",
    "    regr.fit(train_x, train_y)\n",
    "    fare_predict = regr.predict(test_x)\n",
    "\n",
    "    print(night['dist'].corr(night['fare_amount']))\n",
    "    # The coefficients\n",
    "    print('Year: {}'.format(minimum_year + year), 'Coeff: ', regr.coef_, \\\n",
    "          \"M.S.E: %.2f\" % (mean_squared_error(test_y, fare_predict)), \\\n",
    "          'Variance score: %.2f' % r2_score(test_y, fare_predict))\n",
    "    print('\\n')\n",
    "\n",
    "    # Plot outputs\n",
    "#     plt.scatter(test_x, test_y,  color='blue')\n",
    "#     plt.plot(test_x, fare_predict, color='red', linewidth=3)\n",
    "\n",
    "#     plt.xticks(())\n",
    "#     plt.yticks(())\n",
    "\n",
    "    \n",
    "# plt.show()"
   ]
  },
  {
   "cell_type": "code",
   "execution_count": 38,
   "metadata": {},
   "outputs": [
    {
     "name": "stdout",
     "output_type": "stream",
     "text": [
      "0.5440175917125062\n",
      "Year: 2008 Coeff:  [[2.75883281]] M.S.E: 7.13 Variance score: 0.52\n",
      "\n",
      "\n"
     ]
    },
    {
     "data": {
      "image/png": "[encoded data removed]",
      "text/plain": [
       "<Figure size 432x288 with 1 Axes>"
      ]
     },
     "metadata": {},
     "output_type": "display_data"
    },
    {
     "name": "stdout",
     "output_type": "stream",
     "text": [
      "0.8938275457340299\n",
      "Year: 2009 Coeff:  [[3.21543785]] M.S.E: 12.37 Variance score: 0.80\n",
      "\n",
      "\n"
     ]
    },
    {
     "data": {
      "image/png": "[encoded data removed]",
      "text/plain": [
       "<Figure size 432x288 with 1 Axes>"
      ]
     },
     "metadata": {},
     "output_type": "display_data"
    },
    {
     "name": "stdout",
     "output_type": "stream",
     "text": [
      "0.8616660993987024\n",
      "Year: 2010 Coeff:  [[3.19551558]] M.S.E: 16.49 Variance score: 0.75\n",
      "\n",
      "\n"
     ]
    },
    {
     "data": {
      "image/png": "[encoded data removed]",
      "text/plain": [
       "<Figure size 432x288 with 1 Axes>"
      ]
     },
     "metadata": {},
     "output_type": "display_data"
    },
    {
     "name": "stdout",
     "output_type": "stream",
     "text": [
      "0.8892611710700099\n",
      "Year: 2011 Coeff:  [[3.23602683]] M.S.E: 14.16 Variance score: 0.79\n",
      "\n",
      "\n"
     ]
    },
    {
     "data": {
      "image/png": "[encoded data removed]",
      "text/plain": [
       "<Figure size 432x288 with 1 Axes>"
      ]
     },
     "metadata": {},
     "output_type": "display_data"
    },
    {
     "name": "stdout",
     "output_type": "stream",
     "text": [
      "0.8720894709803355\n",
      "Year: 2012 Coeff:  [[3.44845788]] M.S.E: 17.24 Variance score: 0.78\n",
      "\n",
      "\n"
     ]
    },
    {
     "data": {
      "image/png": "[encoded data removed]",
      "text/plain": [
       "<Figure size 432x288 with 1 Axes>"
      ]
     },
     "metadata": {},
     "output_type": "display_data"
    },
    {
     "name": "stdout",
     "output_type": "stream",
     "text": [
      "0.8913785020081447\n",
      "Year: 2013 Coeff:  [[3.8492427]] M.S.E: 22.38 Variance score: 0.81\n",
      "\n",
      "\n"
     ]
    },
    {
     "data": {
      "image/png": "[encoded data removed]",
      "text/plain": [
       "<Figure size 432x288 with 1 Axes>"
      ]
     },
     "metadata": {},
     "output_type": "display_data"
    },
    {
     "name": "stdout",
     "output_type": "stream",
     "text": [
      "0.8837445219064569\n",
      "Year: 2014 Coeff:  [[3.88371708]] M.S.E: 24.06 Variance score: 0.79\n",
      "\n",
      "\n"
     ]
    },
    {
     "data": {
      "image/png": "[encoded data removed]",
      "text/plain": [
       "<Figure size 432x288 with 1 Axes>"
      ]
     },
     "metadata": {},
     "output_type": "display_data"
    },
    {
     "name": "stdout",
     "output_type": "stream",
     "text": [
      "0.895719601736597\n",
      "Year: 2015 Coeff:  [[3.97407629]] M.S.E: 25.55 Variance score: 0.80\n",
      "\n",
      "\n"
     ]
    },
    {
     "data": {
      "image/png": "[encoded data removed]",
      "text/plain": [
       "<Figure size 432x288 with 1 Axes>"
      ]
     },
     "metadata": {},
     "output_type": "display_data"
    }
   ],
   "source": [
    "for year in range(years):\n",
    "    flag = [True, False]\n",
    "    weekday = None\n",
    "    weekday = years_df[year][weekday_filter(years_df[year])]\n",
    "    train, test = train_test_split(weekday, test_size=0.2)\n",
    "    train_x = list(map(lambda x: [x], list(train.dist)))\n",
    "    train_y = list(map(lambda x: [x], list(train.fare_amount)))\n",
    "    test_x = list(map(lambda x: [x], list(test.dist)))\n",
    "    test_y = list(map(lambda x: [x], list(test.fare_amount)))\n",
    "    regr.fit(train_x, train_y)\n",
    "    fare_predict = regr.predict(test_x)\n",
    "\n",
    "    print(weekday['dist'].corr(weekday['fare_amount']))\n",
    "    # The coefficients\n",
    "    print('Year: {}'.format(minimum_year + year), 'Coeff: ', regr.coef_, \\\n",
    "          \"M.S.E: %.2f\" % (mean_squared_error(test_y, fare_predict)), \\\n",
    "          'Variance score: %.2f' % r2_score(test_y, fare_predict))\n",
    "    print('\\n')\n",
    "\n",
    "    # Plot outputs\n",
    "    plt.scatter(test_x, test_y,  color='blue')\n",
    "    plt.plot(test_x, fare_predict, color='red', linewidth=3)\n",
    "\n",
    "    plt.xticks(())\n",
    "    plt.yticks(())\n",
    "\n",
    "    \n",
    "    plt.show()"
   ]
  },
  {
   "cell_type": "markdown",
   "metadata": {},
   "source": [
    "# Taxicab Rate of Fare\n",
    "## Airport Trips\n",
    "```\n",
    "* To & From LaGuardia Airport:\n",
    "\n",
    "This is a metered fare. See Metered Fare information above.\n",
    "* To/From JFK and any location in Manhattan:\n",
    "\n",
    "Onscreen rate is ‘Rate 02 – JFK Airport.’\n",
    "This is a flat fare of $52 plus tolls, the 50-cent MTA State Surcharge, the 30-cent Improvement Surcharge, and $4.50 rush hour surcharge (4 PM to 8 PM weekdays, excluding legal holidays).\n",
    "Passenger is responsible for paying all tolls.\n",
    "Please tip your driver for safety and good service.\n",
    "* From JFK to other New York City destinations:\n",
    "\n",
    "This is a metered fare. See Metered Fare information above.\n",
    "* To Newark Airport:\n",
    "\n",
    "Onscreen rate is ‘Rate 03 – Newark Airport.’\n",
    "This is a metered fare. See Metered Fare information above.\n",
    "There is a $17.50 Newark Surcharge.\n",
    "Passenger is responsible for paying all roundtrip tolls.\n",
    "There is a 30-cent Improvement Surcharge. \n",
    "Please tip your driver for safety and good service.\n",
    "```"
   ]
  },
  {
   "cell_type": "markdown",
   "metadata": {},
   "source": [
    "# Reference\n",
    "[1] https://www1.nyc.gov/nyc-resources/service/1271/yellow-taxi-fares\n",
    "\n",
    "You can get information about rates and fares for yellow cabs.\n",
    "\n",
    "Upon entering the taxi, you will be charged the standard City fare rate of $3.30, which includes a 50-cent State surcharge and a 30-cent Improvement surcharge.\n",
    "\n",
    "Additional charges also apply:\n",
    "\n",
    "50 cents for every fifth of a mile\n",
    "50 cents for every minute the taxi traveled less than 12 miles per hour\n",
    "50 cents night surcharge for travel from 8 PM to 6 AM\n",
    "$1 for travel from 4 PM to 8 PM on weekdays only\n",
    "Travel to local airports and trips outside the City are charged different rates.\n",
    "\n",
    "You can pay by credit or debit cards in yellow taxis with no extra charge.\n",
    "\n",
    "[2] https://www.codevscolor.com/date-valid-check-python/\n",
    "\n",
    "[3] https://pandas.pydata.org/pandas-docs/stable/generated/pandas.DatetimeIndex.html\n",
    "\n",
    "[4] http://stamfordresearch.com/linear-regression-using-pandas-python/"
   ]
  },
  {
   "cell_type": "markdown",
   "metadata": {},
   "source": [
    "# Experiments"
   ]
  },
  {
   "cell_type": "code",
   "execution_count": 39,
   "metadata": {},
   "outputs": [],
   "source": [
    "# default_df = pd.read_csv(path, \\\n",
    "#                          names = ['key', 'fare_amount', 'pickup_datetime', \\\n",
    "#                                   'pickup_longitude', 'pickup_latitude', \\\n",
    "#                                   'dropoff_longitude', 'dropoff_latitude', \\\n",
    "#                                   'passenger_count'], \\\n",
    "#                          skiprows = 1, \\\n",
    "#                          nrows = 100)"
   ]
  },
  {
   "cell_type": "code",
   "execution_count": 40,
   "metadata": {},
   "outputs": [],
   "source": [
    "# parsed_date_df = pd.read_csv(path, \\\n",
    "#                              names = ['key', 'fare_amount', 'pickup_datetime', \\\n",
    "#                                       'pickup_longitude', 'pickup_latitude', \\\n",
    "#                                       'dropoff_longitude', 'dropoff_latitude', \\\n",
    "#                                       'passenger_count'], \\\n",
    "#                              parse_dates = ['pickup_datetime'], \\\n",
    "#                              #converters={'pickup_datetime':datetime_parser},\\\n",
    "#                              skiprows = 1, \\\n",
    "#                              nrows = 100)"
   ]
  },
  {
   "cell_type": "code",
   "execution_count": 41,
   "metadata": {},
   "outputs": [],
   "source": [
    "# print(type(default_df['pickup_datetime'][0]))\n",
    "# print(type(parsed_date_df['pickup_datetime'][0]))"
   ]
  },
  {
   "cell_type": "code",
   "execution_count": 42,
   "metadata": {},
   "outputs": [],
   "source": [
    "# test1 = pd.read_csv(path)"
   ]
  },
  {
   "cell_type": "code",
   "execution_count": 43,
   "metadata": {},
   "outputs": [],
   "source": [
    "# test1.shape[0]\n",
    "# 55423856"
   ]
  },
  {
   "cell_type": "code",
   "execution_count": 44,
   "metadata": {},
   "outputs": [],
   "source": [
    "# test2 = pd.read_csv(path, parse_dates = ['pickup_datetime'])"
   ]
  },
  {
   "cell_type": "code",
   "execution_count": 45,
   "metadata": {},
   "outputs": [],
   "source": [
    "# test2.shape[0]"
   ]
  },
  {
   "cell_type": "code",
   "execution_count": 46,
   "metadata": {},
   "outputs": [],
   "source": [
    "# test2.to_csv('./all/train_data_with_parsed_time.csv')"
   ]
  },
  {
   "cell_type": "code",
   "execution_count": 47,
   "metadata": {},
   "outputs": [],
   "source": [
    "# raw_data = pd.read_csv(path, parse_dates = ['pickup_datetime'], converters = {'pickup_datetime': datetime_parser})"
   ]
  },
  {
   "cell_type": "code",
   "execution_count": 48,
   "metadata": {},
   "outputs": [],
   "source": [
    "# data['year'] = pd.DatetimeIndex(data['pickup_datetime']).year\n",
    "# data['month'] = pd.DatetimeIndex(data['pickup_datetime']).month\n",
    "# data['day'] = pd.DatetimeIndex(data['pickup_datetime']).day\n",
    "# data['hour'] = pd.DatetimeIndex(data['pickup_datetime']).hour\n",
    "# data['minute'] = pd.DatetimeIndex(data['pickup_datetime']).minute\n",
    "# data['second'] = pd.DatetimeIndex(data['pickup_datetime']).second"
   ]
  },
  {
   "cell_type": "code",
   "execution_count": 49,
   "metadata": {},
   "outputs": [],
   "source": [
    "# remove invalid pickup_datetime data\n",
    "# data_t = raw_data[raw_data['pickup_datetime'] != pd.NaT]"
   ]
  },
  {
   "cell_type": "code",
   "execution_count": 50,
   "metadata": {},
   "outputs": [],
   "source": [
    "# remove invalid fare_amount (soft rule: fare_amount should greater than 0)\n",
    "# data_fare = data_t[data_t['fare_amount'] > 0]"
   ]
  },
  {
   "cell_type": "code",
   "execution_count": 51,
   "metadata": {},
   "outputs": [],
   "source": [
    "# remove invalid longitude(longitude range from 0 ~ -180)\n",
    "# data_longitude = data_fare[(data_fare['pickup_longitude'] < 0) & \\\n",
    "#                            (data_fare['pickup_longitude'] > -180) & \\\n",
    "#                            (data_fare['dropoff_longitude'] < 0) & \\\n",
    "#                            (data_fare['dropoff_longitude'] > -180)]"
   ]
  },
  {
   "cell_type": "code",
   "execution_count": 52,
   "metadata": {},
   "outputs": [],
   "source": [
    "# remove invalid latitude (latitude range from 0 ~ 90)\n",
    "# data_latitude = data_longitude[(data_longitude['pickup_latitude'] > 0) & \\\n",
    "#                                (data_longitude['pickup_latitude'] < 90) & \\\n",
    "#                                (data_longitude['dropoff_latitude'] > 0) & \\\n",
    "#                                (data_longitude['dropoff_latitude'] < 90)]"
   ]
  },
  {
   "cell_type": "code",
   "execution_count": 53,
   "metadata": {},
   "outputs": [],
   "source": [
    "# print('raw data:', raw_data.shape[0])\n",
    "# print('remove invalid pickup_datetime data:', data_t.shape[0])\n",
    "# print('remove fare_amount <= 0 data:', data_fare.shape[0])\n",
    "# print('remove invalid longitude data:', data_longitude.shape[0])\n",
    "# print('remove invalid latitude data:', data_latitude.shape[0])"
   ]
  },
  {
   "cell_type": "code",
   "execution_count": null,
   "metadata": {},
   "outputs": [],
   "source": []
  },
  {
   "cell_type": "code",
   "execution_count": null,
   "metadata": {},
   "outputs": [],
   "source": []
  },
  {
   "cell_type": "code",
   "execution_count": null,
   "metadata": {},
   "outputs": [],
   "source": []
  }
 ],
 "metadata": {
  "kernelspec": {
   "display_name": "Python 3",
   "language": "python",
   "name": "python3"
  },
  "language_info": {
   "codemirror_mode": {
    "name": "ipython",
    "version": 3
   },
   "file_extension": ".py",
   "mimetype": "text/x-python",
   "name": "python",
   "nbconvert_exporter": "python",
   "pygments_lexer": "ipython3",
   "version": "3.6.4"
  }
 },
 "nbformat": 4,
 "nbformat_minor": 2
}
